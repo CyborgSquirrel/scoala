{
 "cells": [
  {
   "cell_type": "code",
   "execution_count": 2,
   "id": "9173563c",
   "metadata": {},
   "outputs": [
    {
     "data": {
      "text/html": [
       "<html>\\[\\newcommand{\\Bold}[1]{\\mathbf{#1}}\\left[y\\left(x\\right) = x \\arcsin\\left(C x\\right)\\right]\\]</html>"
      ],
      "text/latex": [
       "$$\\newcommand{\\Bold}[1]{\\mathbf{#1}}\\left[y\\left(x\\right) = x \\arcsin\\left(C x\\right)\\right]$$"
      ],
      "text/plain": [
       "[y(x) == x*arcsin(_C*x)]"
      ]
     },
     "metadata": {},
     "output_type": "display_data"
    }
   ],
   "source": [
    "x = var('x')\n",
    "y = function('y')(x)\n",
    "eqd = diff(y) == y/x + tan(y/x)\n",
    "sol = desolve(eqd, y)\n",
    "sol = solve(sol, y)\n",
    "show(sol)"
   ]
  },
  {
   "cell_type": "code",
   "execution_count": 4,
   "id": "6bbe72f6",
   "metadata": {},
   "outputs": [
    {
     "data": {
      "text/html": [
       "<html>\\[\\newcommand{\\Bold}[1]{\\mathbf{#1}}\\left[y\\left(x\\right) = -x \\arcsin\\left(-C + \\log\\left(x\\right)\\right)\\right]\\]</html>"
      ],
      "text/latex": [
       "$$\\newcommand{\\Bold}[1]{\\mathbf{#1}}\\left[y\\left(x\\right) = -x \\arcsin\\left(-C + \\log\\left(x\\right)\\right)\\right]$$"
      ],
      "text/plain": [
       "[y(x) == -x*arcsin(-_C + log(x))]"
      ]
     },
     "metadata": {},
     "output_type": "display_data"
    }
   ],
   "source": [
    "x = var('x')\n",
    "y = function('y')(x)\n",
    "eqd = x-y*cos(y/x) + x*cos(y/x)*diff(y) == 0\n",
    "sol = desolve(eqd, y)\n",
    "sol = solve(sol, y)\n",
    "show(sol)"
   ]
  },
  {
   "cell_type": "code",
   "execution_count": 6,
   "id": "01360b13",
   "metadata": {},
   "outputs": [
    {
     "data": {
      "text/html": [
       "<html>\\[\\newcommand{\\Bold}[1]{\\mathbf{#1}}{\\left(C - e^{\\left(-2 \\, x^{3}\\right)}\\right)} e^{\\left(2 \\, x^{3}\\right)}\\]</html>"
      ],
      "text/latex": [
       "$$\\newcommand{\\Bold}[1]{\\mathbf{#1}}{\\left(C - e^{\\left(-2 \\, x^{3}\\right)}\\right)} e^{\\left(2 \\, x^{3}\\right)}$$"
      ],
      "text/plain": [
       "(_C - e^(-2*x^3))*e^(2*x^3)"
      ]
     },
     "metadata": {},
     "output_type": "display_data"
    }
   ],
   "source": [
    "x = var('x')\n",
    "y = function('y')(x)\n",
    "eqd = diff(y) - 6*x^2*y == 6*x^2\n",
    "sol = desolve(eqd, y, ics=[0,1])\n",
    "show(sol)"
   ]
  },
  {
   "cell_type": "code",
   "execution_count": null,
   "id": "85847bb3",
   "metadata": {},
   "outputs": [],
   "source": []
  }
 ],
 "metadata": {
  "kernelspec": {
   "display_name": "SageMath 9.5",
   "language": "sage",
   "name": "sagemath"
  },
  "language_info": {
   "codemirror_mode": {
    "name": "ipython",
    "version": 3
   },
   "file_extension": ".py",
   "mimetype": "text/x-python",
   "name": "python",
   "nbconvert_exporter": "python",
   "pygments_lexer": "ipython3",
   "version": "3.10.4"
  }
 },
 "nbformat": 4,
 "nbformat_minor": 5
}
