{
 "cells": [
  {
   "cell_type": "markdown",
   "id": "44d43858",
   "metadata": {},
   "source": [
    "# 1"
   ]
  },
  {
   "cell_type": "markdown",
   "id": "ec3fe18a",
   "metadata": {},
   "source": [
    "(a)"
   ]
  },
  {
   "cell_type": "code",
   "execution_count": 12,
   "id": "61187dfb",
   "metadata": {},
   "outputs": [
    {
     "data": {
      "text/html": [
       "<html>\\[\\newcommand{\\Bold}[1]{\\mathbf{#1}}K_{2} \\cos\\left(\\omega_{0} t\\right) + K_{1} \\sin\\left(\\omega_{0} t\\right)\\]</html>"
      ],
      "text/latex": [
       "$$\\newcommand{\\Bold}[1]{\\mathbf{#1}}K_{2} \\cos\\left(\\omega_{0} t\\right) + K_{1} \\sin\\left(\\omega_{0} t\\right)$$"
      ],
      "text/plain": [
       "_K2*cos(omega_0*t) + _K1*sin(omega_0*t)"
      ]
     },
     "metadata": {},
     "output_type": "display_data"
    },
    {
     "data": {
      "text/html": [
       "<html>\\[\\newcommand{\\Bold}[1]{\\mathbf{#1}}K_{2} \\cos\\left(\\omega_{0} t\\right) + K_{1} \\sin\\left(\\omega_{0} t\\right)\\]</html>"
      ],
      "text/latex": [
       "$$\\newcommand{\\Bold}[1]{\\mathbf{#1}}K_{2} \\cos\\left(\\omega_{0} t\\right) + K_{1} \\sin\\left(\\omega_{0} t\\right)$$"
      ],
      "text/plain": [
       "_K2*cos(omega_0*t) + _K1*sin(omega_0*t)"
      ]
     },
     "metadata": {},
     "output_type": "display_data"
    },
    {
     "data": {
      "text/html": [
       "<html>\\[\\newcommand{\\Bold}[1]{\\mathbf{#1}}K_{2} t + K_{1}\\]</html>"
      ],
      "text/latex": [
       "$$\\newcommand{\\Bold}[1]{\\mathbf{#1}}K_{2} t + K_{1}$$"
      ],
      "text/plain": [
       "_K2*t + _K1"
      ]
     },
     "metadata": {},
     "output_type": "display_data"
    }
   ],
   "source": [
    "t = var('t')\n",
    "omega_0 = var('omega_0')\n",
    "x = function('x')(t)\n",
    "\n",
    "with assuming(omega_0 > 0):\n",
    "    eqd = diff(x,t,2) + omega_0^2*x == 0\n",
    "    sol = desolve(eqd, x, ivar=t)\n",
    "    show(sol)\n",
    "\n",
    "with assuming(omega_0 < 0):\n",
    "    eqd = diff(x,t,2) + omega_0^2*x == 0\n",
    "    sol = desolve(eqd, x, ivar=t)\n",
    "    show(sol)\n",
    "\n",
    "with assuming(omega_0 == 0):\n",
    "    eqd = diff(x,t,2) + omega_0^2*x == 0\n",
    "    sol = desolve(eqd, x, ivar=t)\n",
    "    show(sol)"
   ]
  },
  {
   "cell_type": "markdown",
   "id": "d14048a1",
   "metadata": {},
   "source": [
    "(b)"
   ]
  },
  {
   "cell_type": "code",
   "execution_count": 16,
   "id": "635309ef",
   "metadata": {},
   "outputs": [
    {
     "data": {
      "text/html": [
       "<html>\\[\\newcommand{\\Bold}[1]{\\mathbf{#1}}x_{0} \\cos\\left(\\omega_{0} t\\right) + \\frac{v_{0} \\sin\\left(\\omega_{0} t\\right)}{\\omega_{0}}\\]</html>"
      ],
      "text/latex": [
       "$$\\newcommand{\\Bold}[1]{\\mathbf{#1}}x_{0} \\cos\\left(\\omega_{0} t\\right) + \\frac{v_{0} \\sin\\left(\\omega_{0} t\\right)}{\\omega_{0}}$$"
      ],
      "text/plain": [
       "x_0*cos(omega_0*t) + v_0*sin(omega_0*t)/omega_0"
      ]
     },
     "metadata": {},
     "output_type": "display_data"
    },
    {
     "data": {
      "text/html": [
       "<html>\\[\\newcommand{\\Bold}[1]{\\mathbf{#1}}x_{0} \\cos\\left(\\omega_{0} t\\right) + \\frac{v_{0} \\sin\\left(\\omega_{0} t\\right)}{\\omega_{0}}\\]</html>"
      ],
      "text/latex": [
       "$$\\newcommand{\\Bold}[1]{\\mathbf{#1}}x_{0} \\cos\\left(\\omega_{0} t\\right) + \\frac{v_{0} \\sin\\left(\\omega_{0} t\\right)}{\\omega_{0}}$$"
      ],
      "text/plain": [
       "x_0*cos(omega_0*t) + v_0*sin(omega_0*t)/omega_0"
      ]
     },
     "metadata": {},
     "output_type": "display_data"
    },
    {
     "data": {
      "text/html": [
       "<html>\\[\\newcommand{\\Bold}[1]{\\mathbf{#1}}t v_{0} + x_{0}\\]</html>"
      ],
      "text/latex": [
       "$$\\newcommand{\\Bold}[1]{\\mathbf{#1}}t v_{0} + x_{0}$$"
      ],
      "text/plain": [
       "t*v_0 + x_0"
      ]
     },
     "metadata": {},
     "output_type": "display_data"
    }
   ],
   "source": [
    "x_0,v_0 = var('x_0,v_0')\n",
    "\n",
    "with assuming(omega_0 > 0):\n",
    "    eqd = diff(x,t,2) + omega_0^2*x == 0\n",
    "    sol = desolve(eqd, x, ivar=t, ics=[0,x_0,v_0])\n",
    "    show(sol)\n",
    "\n",
    "with assuming(omega_0 < 0):\n",
    "    eqd = diff(x,t,2) + omega_0^2*x == 0\n",
    "    sol = desolve(eqd, x, ivar=t, ics=[0,x_0,v_0])\n",
    "    show(sol)\n",
    "\n",
    "with assuming(omega_0 == 0):\n",
    "    eqd = diff(x,t,2) + omega_0^2*x == 0\n",
    "    sol = desolve(eqd, x, ivar=t, ics=[0,x_0,v_0])\n",
    "    show(sol)"
   ]
  },
  {
   "cell_type": "markdown",
   "id": "898a366a",
   "metadata": {},
   "source": [
    "(c)"
   ]
  },
  {
   "cell_type": "code",
   "execution_count": 17,
   "id": "31f141cf",
   "metadata": {},
   "outputs": [
    {
     "ename": "TypeError",
     "evalue": "Computation failed since Maxima requested additional constraints; using the 'assume' command before evaluation *may* help (example of legal syntax is 'assume(omega_0>0)', see `assume?` for more details)\nIs omega_0 zero or nonzero?",
     "output_type": "error",
     "traceback": [
      "\u001b[0;31m---------------------------------------------------------------------------\u001b[0m",
      "\u001b[0;31mRuntimeError\u001b[0m                              Traceback (most recent call last)",
      "File \u001b[0;32m/usr/lib/python3.10/site-packages/sage/interfaces/maxima_lib.py:608\u001b[0m, in \u001b[0;36mMaximaLib._create\u001b[0;34m(self, value, name)\u001b[0m\n\u001b[1;32m    607\u001b[0m     \u001b[38;5;28;01melse\u001b[39;00m:\n\u001b[0;32m--> 608\u001b[0m         \u001b[38;5;28;43mself\u001b[39;49m\u001b[38;5;241;43m.\u001b[39;49m\u001b[43mset\u001b[49m\u001b[43m(\u001b[49m\u001b[43mname\u001b[49m\u001b[43m,\u001b[49m\u001b[43m \u001b[49m\u001b[43mvalue\u001b[49m\u001b[43m)\u001b[49m\n\u001b[1;32m    609\u001b[0m \u001b[38;5;28;01mexcept\u001b[39;00m \u001b[38;5;167;01mRuntimeError\u001b[39;00m \u001b[38;5;28;01mas\u001b[39;00m error:\n",
      "File \u001b[0;32m/usr/lib/python3.10/site-packages/sage/interfaces/maxima_lib.py:516\u001b[0m, in \u001b[0;36mMaximaLib.set\u001b[0;34m(self, var, value)\u001b[0m\n\u001b[1;32m    515\u001b[0m cmd \u001b[38;5;241m=\u001b[39m \u001b[38;5;124m'\u001b[39m\u001b[38;5;132;01m%s\u001b[39;00m\u001b[38;5;124m : \u001b[39m\u001b[38;5;132;01m%s\u001b[39;00m\u001b[38;5;124m$\u001b[39m\u001b[38;5;124m'\u001b[39m\u001b[38;5;241m%\u001b[39m(var, value\u001b[38;5;241m.\u001b[39mrstrip(\u001b[38;5;124m'\u001b[39m\u001b[38;5;124m;\u001b[39m\u001b[38;5;124m'\u001b[39m))\n\u001b[0;32m--> 516\u001b[0m \u001b[38;5;28;43mself\u001b[39;49m\u001b[38;5;241;43m.\u001b[39;49m\u001b[43meval\u001b[49m\u001b[43m(\u001b[49m\u001b[43mcmd\u001b[49m\u001b[43m)\u001b[49m\n",
      "File \u001b[0;32m/usr/lib/python3.10/site-packages/sage/interfaces/maxima_lib.py:462\u001b[0m, in \u001b[0;36mMaximaLib._eval_line\u001b[0;34m(self, line, locals, reformat, **kwds)\u001b[0m\n\u001b[1;32m    461\u001b[0m         \u001b[38;5;28;01mif\u001b[39;00m statement:\n\u001b[0;32m--> 462\u001b[0m             \u001b[43mmaxima_eval\u001b[49m\u001b[43m(\u001b[49m\u001b[38;5;124;43m\"\u001b[39;49m\u001b[38;5;124;43m#$\u001b[39;49m\u001b[38;5;132;43;01m%s\u001b[39;49;00m\u001b[38;5;124;43m$\u001b[39;49m\u001b[38;5;124;43m\"\u001b[39;49m\u001b[43m \u001b[49m\u001b[38;5;241;43m%\u001b[39;49m\u001b[43m \u001b[49m\u001b[43mstatement\u001b[49m\u001b[43m)\u001b[49m\n\u001b[1;32m    463\u001b[0m \u001b[38;5;28;01mif\u001b[39;00m \u001b[38;5;129;01mnot\u001b[39;00m reformat:\n",
      "File \u001b[0;32m/usr/lib/python3.10/site-packages/sage/libs/ecl.pyx:838\u001b[0m, in \u001b[0;36msage.libs.ecl.EclObject.__call__ (build/cythonized/sage/libs/ecl.c:8507)\u001b[0;34m()\u001b[0m\n\u001b[1;32m    837\u001b[0m lispargs = EclObject(list(args))\n\u001b[0;32m--> 838\u001b[0m return ecl_wrap(ecl_safe_apply(self.obj,(<EclObject>lispargs).obj))\n\u001b[1;32m    839\u001b[0m \n",
      "File \u001b[0;32m/usr/lib/python3.10/site-packages/sage/libs/ecl.pyx:359\u001b[0m, in \u001b[0;36msage.libs.ecl.ecl_safe_apply (build/cythonized/sage/libs/ecl.c:6049)\u001b[0;34m()\u001b[0m\n\u001b[1;32m    358\u001b[0m     else:\n\u001b[0;32m--> 359\u001b[0m         raise RuntimeError(\"ECL says: {}\".format(message))\n\u001b[1;32m    360\u001b[0m else:\n",
      "\u001b[0;31mRuntimeError\u001b[0m: ECL says: Maxima asks: Is _SAGE_VAR_omega_0 zero or nonzero?",
      "\nDuring handling of the above exception, another exception occurred:\n",
      "\u001b[0;31mValueError\u001b[0m                                Traceback (most recent call last)",
      "File \u001b[0;32m/usr/lib/python3.10/site-packages/sage/interfaces/interface.py:732\u001b[0m, in \u001b[0;36mInterfaceElement.__init__\u001b[0;34m(self, parent, value, is_name, name)\u001b[0m\n\u001b[1;32m    731\u001b[0m \u001b[38;5;28;01mtry\u001b[39;00m:\n\u001b[0;32m--> 732\u001b[0m     \u001b[38;5;28mself\u001b[39m\u001b[38;5;241m.\u001b[39m_name \u001b[38;5;241m=\u001b[39m \u001b[43mparent\u001b[49m\u001b[38;5;241;43m.\u001b[39;49m\u001b[43m_create\u001b[49m\u001b[43m(\u001b[49m\u001b[43mvalue\u001b[49m\u001b[43m,\u001b[49m\u001b[43m \u001b[49m\u001b[43mname\u001b[49m\u001b[38;5;241;43m=\u001b[39;49m\u001b[43mname\u001b[49m\u001b[43m)\u001b[49m\n\u001b[1;32m    733\u001b[0m \u001b[38;5;28;01mexcept\u001b[39;00m (\u001b[38;5;167;01mTypeError\u001b[39;00m, \u001b[38;5;167;01mRuntimeError\u001b[39;00m, \u001b[38;5;167;01mValueError\u001b[39;00m) \u001b[38;5;28;01mas\u001b[39;00m x:\n",
      "File \u001b[0;32m/usr/lib/python3.10/site-packages/sage/interfaces/maxima_lib.py:612\u001b[0m, in \u001b[0;36mMaximaLib._create\u001b[0;34m(self, value, name)\u001b[0m\n\u001b[1;32m    611\u001b[0m \u001b[38;5;28;01mif\u001b[39;00m \u001b[38;5;124m\"\u001b[39m\u001b[38;5;124mIs\u001b[39m\u001b[38;5;124m\"\u001b[39m \u001b[38;5;129;01min\u001b[39;00m s: \u001b[38;5;66;03m# Maxima asked for a condition\u001b[39;00m\n\u001b[0;32m--> 612\u001b[0m     \u001b[38;5;28;43mself\u001b[39;49m\u001b[38;5;241;43m.\u001b[39;49m\u001b[43m_missing_assumption\u001b[49m\u001b[43m(\u001b[49m\u001b[43ms\u001b[49m\u001b[43m)\u001b[49m\n\u001b[1;32m    613\u001b[0m \u001b[38;5;28;01melse\u001b[39;00m:\n",
      "File \u001b[0;32m/usr/lib/python3.10/site-packages/sage/interfaces/maxima_lib.py:1036\u001b[0m, in \u001b[0;36mMaximaLib._missing_assumption\u001b[0;34m(self, errstr)\u001b[0m\n\u001b[1;32m   1035\u001b[0m outstr \u001b[38;5;241m=\u001b[39m outstr\u001b[38;5;241m.\u001b[39mreplace(\u001b[38;5;124m'\u001b[39m\u001b[38;5;124m_SAGE_VAR_\u001b[39m\u001b[38;5;124m'\u001b[39m,\u001b[38;5;124m'\u001b[39m\u001b[38;5;124m'\u001b[39m)\n\u001b[0;32m-> 1036\u001b[0m \u001b[38;5;28;01mraise\u001b[39;00m \u001b[38;5;167;01mValueError\u001b[39;00m(outstr)\n",
      "\u001b[0;31mValueError\u001b[0m: Computation failed since Maxima requested additional constraints; using the 'assume' command before evaluation *may* help (example of legal syntax is 'assume(omega_0>0)', see `assume?` for more details)\nIs omega_0 zero or nonzero?",
      "\nDuring handling of the above exception, another exception occurred:\n",
      "\u001b[0;31mTypeError\u001b[0m                                 Traceback (most recent call last)",
      "Input \u001b[0;32mIn [17]\u001b[0m, in \u001b[0;36m<cell line: 2>\u001b[0;34m()\u001b[0m\n\u001b[1;32m      1\u001b[0m eqd \u001b[38;5;241m=\u001b[39m diff(x,t,Integer(\u001b[38;5;241m2\u001b[39m)) \u001b[38;5;241m+\u001b[39m omega_0\u001b[38;5;241m*\u001b[39m\u001b[38;5;241m*\u001b[39mInteger(\u001b[38;5;241m2\u001b[39m)\u001b[38;5;241m*\u001b[39mx \u001b[38;5;241m==\u001b[39m Integer(\u001b[38;5;241m0\u001b[39m)\n\u001b[0;32m----> 2\u001b[0m sol \u001b[38;5;241m=\u001b[39m \u001b[43mdesolve\u001b[49m\u001b[43m(\u001b[49m\u001b[43meqd\u001b[49m\u001b[43m,\u001b[49m\u001b[43m \u001b[49m\u001b[43mx\u001b[49m\u001b[43m,\u001b[49m\u001b[43m \u001b[49m\u001b[43mivar\u001b[49m\u001b[38;5;241;43m=\u001b[39;49m\u001b[43mt\u001b[49m\u001b[43m,\u001b[49m\u001b[43m \u001b[49m\u001b[43mics\u001b[49m\u001b[38;5;241;43m=\u001b[39;49m\u001b[43m[\u001b[49m\u001b[43mInteger\u001b[49m\u001b[43m(\u001b[49m\u001b[38;5;241;43m0\u001b[39;49m\u001b[43m)\u001b[49m\u001b[43m,\u001b[49m\u001b[43mRealNumber\u001b[49m\u001b[43m(\u001b[49m\u001b[38;5;124;43m'\u001b[39;49m\u001b[38;5;124;43m39.24\u001b[39;49m\u001b[38;5;124;43m'\u001b[39;49m\u001b[43m)\u001b[49m\u001b[43m,\u001b[49m\u001b[43mv_0\u001b[49m\u001b[43m]\u001b[49m\u001b[43m)\u001b[49m\n\u001b[1;32m      3\u001b[0m show(sol)\n",
      "File \u001b[0;32m/usr/lib/python3.10/site-packages/sage/calculus/desolvers.py:583\u001b[0m, in \u001b[0;36mdesolve\u001b[0;34m(de, dvar, ics, ivar, show_method, contrib_ode, algorithm)\u001b[0m\n\u001b[1;32m    580\u001b[0m cmd\u001b[38;5;241m=\u001b[39m\u001b[38;5;124m\"\u001b[39m\u001b[38;5;124m(TEMP:\u001b[39m\u001b[38;5;132;01m%s\u001b[39;00m\u001b[38;5;124m(\u001b[39m\u001b[38;5;132;01m%s\u001b[39;00m\u001b[38;5;124m,\u001b[39m\u001b[38;5;132;01m%s\u001b[39;00m\u001b[38;5;124m,\u001b[39m\u001b[38;5;132;01m%s\u001b[39;00m\u001b[38;5;124m), if TEMP=false then TEMP else substitute(\u001b[39m\u001b[38;5;132;01m%s\u001b[39;00m\u001b[38;5;124m=\u001b[39m\u001b[38;5;132;01m%s\u001b[39;00m\u001b[38;5;124m(\u001b[39m\u001b[38;5;132;01m%s\u001b[39;00m\u001b[38;5;124m),TEMP))\u001b[39m\u001b[38;5;124m\"\u001b[39m\u001b[38;5;241m%\u001b[39m(ode_solver,de0,dvar_str,ivar_str,dvar_str,dvar_str,ivar_str)\n\u001b[1;32m    581\u001b[0m \u001b[38;5;66;03m# we produce string like this\u001b[39;00m\n\u001b[1;32m    582\u001b[0m \u001b[38;5;66;03m# ode2('diff(y,x,2)+2*'diff(y,x,1)+y-cos(x),y(x),x)\u001b[39;00m\n\u001b[0;32m--> 583\u001b[0m soln \u001b[38;5;241m=\u001b[39m \u001b[43mP\u001b[49m\u001b[43m(\u001b[49m\u001b[43mcmd\u001b[49m\u001b[43m)\u001b[49m\n\u001b[1;32m    585\u001b[0m \u001b[38;5;28;01mif\u001b[39;00m \u001b[38;5;28mstr\u001b[39m(soln)\u001b[38;5;241m.\u001b[39mstrip() \u001b[38;5;241m==\u001b[39m \u001b[38;5;124m'\u001b[39m\u001b[38;5;124mfalse\u001b[39m\u001b[38;5;124m'\u001b[39m:\n\u001b[1;32m    586\u001b[0m     \u001b[38;5;28;01mif\u001b[39;00m contrib_ode:\n",
      "File \u001b[0;32m/usr/lib/python3.10/site-packages/sage/interfaces/interface.py:295\u001b[0m, in \u001b[0;36mInterface.__call__\u001b[0;34m(self, x, name)\u001b[0m\n\u001b[1;32m    292\u001b[0m         \u001b[38;5;28;01mpass\u001b[39;00m\n\u001b[1;32m    294\u001b[0m \u001b[38;5;28;01mif\u001b[39;00m \u001b[38;5;28misinstance\u001b[39m(x, \u001b[38;5;28mstr\u001b[39m):\n\u001b[0;32m--> 295\u001b[0m     \u001b[38;5;28;01mreturn\u001b[39;00m \u001b[38;5;28;43mcls\u001b[39;49m\u001b[43m(\u001b[49m\u001b[38;5;28;43mself\u001b[39;49m\u001b[43m,\u001b[49m\u001b[43m \u001b[49m\u001b[43mx\u001b[49m\u001b[43m,\u001b[49m\u001b[43m \u001b[49m\u001b[43mname\u001b[49m\u001b[38;5;241;43m=\u001b[39;49m\u001b[43mname\u001b[49m\u001b[43m)\u001b[49m\n\u001b[1;32m    296\u001b[0m \u001b[38;5;28;01mtry\u001b[39;00m:\n\u001b[1;32m    297\u001b[0m     \u001b[38;5;66;03m# Special methods do not and should not have an option to\u001b[39;00m\n\u001b[1;32m    298\u001b[0m     \u001b[38;5;66;03m# set the name directly, as the identifier assigned by the\u001b[39;00m\n\u001b[1;32m    299\u001b[0m     \u001b[38;5;66;03m# interface should stay consistent. An identifier with a\u001b[39;00m\n\u001b[1;32m    300\u001b[0m     \u001b[38;5;66;03m# user-assigned name might change its value, so we return a\u001b[39;00m\n\u001b[1;32m    301\u001b[0m     \u001b[38;5;66;03m# new element.\u001b[39;00m\n\u001b[1;32m    302\u001b[0m     result \u001b[38;5;241m=\u001b[39m \u001b[38;5;28mself\u001b[39m\u001b[38;5;241m.\u001b[39m_coerce_from_special_method(x)\n",
      "File \u001b[0;32m/usr/lib/python3.10/site-packages/sage/interfaces/interface.py:734\u001b[0m, in \u001b[0;36mInterfaceElement.__init__\u001b[0;34m(self, parent, value, is_name, name)\u001b[0m\n\u001b[1;32m    732\u001b[0m     \u001b[38;5;28mself\u001b[39m\u001b[38;5;241m.\u001b[39m_name \u001b[38;5;241m=\u001b[39m parent\u001b[38;5;241m.\u001b[39m_create(value, name\u001b[38;5;241m=\u001b[39mname)\n\u001b[1;32m    733\u001b[0m \u001b[38;5;28;01mexcept\u001b[39;00m (\u001b[38;5;167;01mTypeError\u001b[39;00m, \u001b[38;5;167;01mRuntimeError\u001b[39;00m, \u001b[38;5;167;01mValueError\u001b[39;00m) \u001b[38;5;28;01mas\u001b[39;00m x:\n\u001b[0;32m--> 734\u001b[0m     \u001b[38;5;28;01mraise\u001b[39;00m \u001b[38;5;167;01mTypeError\u001b[39;00m(x)\n",
      "\u001b[0;31mTypeError\u001b[0m: Computation failed since Maxima requested additional constraints; using the 'assume' command before evaluation *may* help (example of legal syntax is 'assume(omega_0>0)', see `assume?` for more details)\nIs omega_0 zero or nonzero?"
     ]
    }
   ],
   "source": [
    "eqd = diff(x,t,2) + omega_0^2*x == 0\n",
    "sol = desolve(eqd, x, ivar=t, ics=[0,39.24,v_0])\n",
    "show(sol)"
   ]
  },
  {
   "cell_type": "markdown",
   "id": "08bb45fa",
   "metadata": {},
   "source": [
    "# 2"
   ]
  },
  {
   "cell_type": "markdown",
   "id": "067f8262",
   "metadata": {},
   "source": [
    "(a)"
   ]
  },
  {
   "cell_type": "code",
   "execution_count": 20,
   "id": "33a35320",
   "metadata": {},
   "outputs": [
    {
     "data": {
      "text/html": [
       "<html>\\[\\newcommand{\\Bold}[1]{\\mathbf{#1}}K_{2} e^{\\left(-\\frac{1}{2} \\, {\\left({\\lambda} + \\sqrt{{\\lambda}^{2} - 4 \\, {\\omega_0}^{2}}\\right)} t\\right)} + K_{1} e^{\\left(-\\frac{1}{2} \\, {\\left({\\lambda} - \\sqrt{{\\lambda}^{2} - 4 \\, {\\omega_0}^{2}}\\right)} t\\right)}\\]</html>"
      ],
      "text/latex": [
       "$$\\newcommand{\\Bold}[1]{\\mathbf{#1}}K_{2} e^{\\left(-\\frac{1}{2} \\, {\\left({\\lambda} + \\sqrt{{\\lambda}^{2} - 4 \\, {\\omega_0}^{2}}\\right)} t\\right)} + K_{1} e^{\\left(-\\frac{1}{2} \\, {\\left({\\lambda} - \\sqrt{{\\lambda}^{2} - 4 \\, {\\omega_0}^{2}}\\right)} t\\right)}$$"
      ],
      "text/plain": [
       "_K2*e^(-1/2*(l + sqrt(l^2 - 4*o^2))*t) + _K1*e^(-1/2*(l - sqrt(l^2 - 4*o^2))*t)"
      ]
     },
     "metadata": {},
     "output_type": "display_data"
    }
   ],
   "source": [
    "l = var(\"l\", latex_name=\"\\\\lambda\")\n",
    "o = var(\"o\", latex_name=\"\\\\omega_0\")\n",
    "t = var(\"t\")\n",
    "x = function(\"x\")(t)\n",
    "\n",
    "eqd = diff(x,t,2) + l*diff(x,t) + o^2*x == 0\n",
    "with assuming(l^2 > 4*o^2):\n",
    "    sol = desolve(eqd, x, ivar=t)\n",
    "    show(sol)"
   ]
  },
  {
   "cell_type": "markdown",
   "id": "1d4d5ec4",
   "metadata": {},
   "source": [
    "(b)"
   ]
  },
  {
   "cell_type": "code",
   "execution_count": 47,
   "id": "d81b5245",
   "metadata": {},
   "outputs": [
    {
     "data": {
      "text/html": [
       "<html>\\[\\newcommand{\\Bold}[1]{\\mathbf{#1}}\\frac{5}{3} \\, e^{\\left(-5 \\, t\\right)} - \\frac{2}{3} \\, e^{\\left(-20 \\, t\\right)}\\]</html>"
      ],
      "text/latex": [
       "$$\\newcommand{\\Bold}[1]{\\mathbf{#1}}\\frac{5}{3} \\, e^{\\left(-5 \\, t\\right)} - \\frac{2}{3} \\, e^{\\left(-20 \\, t\\right)}$$"
      ],
      "text/plain": [
       "5/3*e^(-5*t) - 2/3*e^(-20*t)"
      ]
     },
     "metadata": {},
     "output_type": "display_data"
    },
    {
     "data": {
      "image/png": "[encoded data removed]",
      "text/plain": [
       "Graphics object consisting of 1 graphics primitive"
      ]
     },
     "execution_count": 47,
     "metadata": {},
     "output_type": "execute_result"
    }
   ],
   "source": [
    "eqd = diff(x,t,2) + l*diff(x,t) + o^2*x == 0\n",
    "eqd = eqd.substitute(l=25, o=10)\n",
    "sol = desolve(eqd, x, ivar=t, ics=[0,1,5])\n",
    "show(sol)\n",
    "plot(sol, 0, 2)"
   ]
  },
  {
   "cell_type": "markdown",
   "id": "f61307a2",
   "metadata": {},
   "source": [
    "(c)"
   ]
  },
  {
   "cell_type": "code",
   "execution_count": 44,
   "id": "41e3bcde",
   "metadata": {},
   "outputs": [
    {
     "data": {
      "text/html": [
       "<html>\\[\\newcommand{\\Bold}[1]{\\mathbf{#1}}{\\left(K_{2} t + K_{1}\\right)} e^{\\left(-\\frac{1}{2} \\, {\\lambda} t\\right)}\\]</html>"
      ],
      "text/latex": [
       "$$\\newcommand{\\Bold}[1]{\\mathbf{#1}}{\\left(K_{2} t + K_{1}\\right)} e^{\\left(-\\frac{1}{2} \\, {\\lambda} t\\right)}$$"
      ],
      "text/plain": [
       "(_K2*t + _K1)*e^(-1/2*l*t)"
      ]
     },
     "metadata": {},
     "output_type": "display_data"
    },
    {
     "data": {
      "text/html": [
       "<html>\\[\\newcommand{\\Bold}[1]{\\mathbf{#1}}{\\left(K_{2} t + K_{1}\\right)} e^{\\left(-\\frac{1}{2} \\, {\\lambda} t\\right)}\\]</html>"
      ],
      "text/latex": [
       "$$\\newcommand{\\Bold}[1]{\\mathbf{#1}}{\\left(K_{2} t + K_{1}\\right)} e^{\\left(-\\frac{1}{2} \\, {\\lambda} t\\right)}$$"
      ],
      "text/plain": [
       "(_K2*t + _K1)*e^(-1/2*l*t)"
      ]
     },
     "metadata": {},
     "output_type": "display_data"
    },
    {
     "data": {
      "text/html": [
       "<html>\\[\\newcommand{\\Bold}[1]{\\mathbf{#1}}K_{2} t + K_{1}\\]</html>"
      ],
      "text/latex": [
       "$$\\newcommand{\\Bold}[1]{\\mathbf{#1}}K_{2} t + K_{1}$$"
      ],
      "text/plain": [
       "_K2*t + _K1"
      ]
     },
     "metadata": {},
     "output_type": "display_data"
    }
   ],
   "source": [
    "eqd = diff(x,t,2) + l*diff(x,t) + o^2*x == 0\n",
    "with assuming(l^2 == 4*o^2):\n",
    "    with assuming(l > 0):\n",
    "        sol = desolve(eqd, x, ivar=t)\n",
    "        show(sol)\n",
    "    with assuming(l < 0):\n",
    "        sol = desolve(eqd, x, ivar=t)\n",
    "        show(sol)\n",
    "    with assuming(l == 0):\n",
    "        sol = desolve(eqd, x, ivar=t)\n",
    "        show(sol)"
   ]
  },
  {
   "cell_type": "markdown",
   "id": "4b81b6eb",
   "metadata": {},
   "source": [
    "(d)"
   ]
  },
  {
   "cell_type": "code",
   "execution_count": 48,
   "id": "0a8df5ae",
   "metadata": {},
   "outputs": [
    {
     "data": {
      "text/html": [
       "<html>\\[\\newcommand{\\Bold}[1]{\\mathbf{#1}}{\\left(15 \\, t + 1\\right)} e^{\\left(-10 \\, t\\right)}\\]</html>"
      ],
      "text/latex": [
       "$$\\newcommand{\\Bold}[1]{\\mathbf{#1}}{\\left(15 \\, t + 1\\right)} e^{\\left(-10 \\, t\\right)}$$"
      ],
      "text/plain": [
       "(15*t + 1)*e^(-10*t)"
      ]
     },
     "metadata": {},
     "output_type": "display_data"
    },
    {
     "data": {
      "image/png": "[encoded data removed]",
      "text/plain": [
       "Graphics object consisting of 1 graphics primitive"
      ]
     },
     "execution_count": 48,
     "metadata": {},
     "output_type": "execute_result"
    }
   ],
   "source": [
    "eqd = diff(x,t,2) + l*diff(x,t) + o^2*x == 0\n",
    "eqd = eqd.substitute(l=20, o=10)\n",
    "sol = desolve(eqd, x, ivar=t, ics=[0,1,5])\n",
    "show(sol)\n",
    "plot(sol, 0, 2)"
   ]
  },
  {
   "cell_type": "markdown",
   "id": "8424d081",
   "metadata": {},
   "source": [
    "(e)"
   ]
  },
  {
   "cell_type": "code",
   "execution_count": 49,
   "id": "88b02b80",
   "metadata": {},
   "outputs": [
    {
     "data": {
      "text/html": [
       "<html>\\[\\newcommand{\\Bold}[1]{\\mathbf{#1}}{\\left(K_{2} \\cos\\left(\\frac{1}{2} \\, \\sqrt{-{\\lambda}^{2} + 4 \\, {\\omega_0}^{2}} t\\right) + K_{1} \\sin\\left(\\frac{1}{2} \\, \\sqrt{-{\\lambda}^{2} + 4 \\, {\\omega_0}^{2}} t\\right)\\right)} e^{\\left(-\\frac{1}{2} \\, {\\lambda} t\\right)}\\]</html>"
      ],
      "text/latex": [
       "$$\\newcommand{\\Bold}[1]{\\mathbf{#1}}{\\left(K_{2} \\cos\\left(\\frac{1}{2} \\, \\sqrt{-{\\lambda}^{2} + 4 \\, {\\omega_0}^{2}} t\\right) + K_{1} \\sin\\left(\\frac{1}{2} \\, \\sqrt{-{\\lambda}^{2} + 4 \\, {\\omega_0}^{2}} t\\right)\\right)} e^{\\left(-\\frac{1}{2} \\, {\\lambda} t\\right)}$$"
      ],
      "text/plain": [
       "(_K2*cos(1/2*sqrt(-l^2 + 4*o^2)*t) + _K1*sin(1/2*sqrt(-l^2 + 4*o^2)*t))*e^(-1/2*l*t)"
      ]
     },
     "metadata": {},
     "output_type": "display_data"
    }
   ],
   "source": [
    "eqd = diff(x,t,2) + l*diff(x,t) + o^2*x == 0\n",
    "with assuming(l^2 < 4*o^2):\n",
    "    sol = desolve(eqd, x, ivar=t)\n",
    "    show(sol)"
   ]
  },
  {
   "cell_type": "markdown",
   "id": "9f948afa",
   "metadata": {},
   "source": [
    "(f)"
   ]
  },
  {
   "cell_type": "code",
   "execution_count": 50,
   "id": "4bc0954f",
   "metadata": {},
   "outputs": [
    {
     "data": {
      "text/html": [
       "<html>\\[\\newcommand{\\Bold}[1]{\\mathbf{#1}}\\frac{1}{5} \\, {\\left(\\sqrt{15} \\sin\\left(\\frac{5}{2} \\, \\sqrt{15} t\\right) + 5 \\, \\cos\\left(\\frac{5}{2} \\, \\sqrt{15} t\\right)\\right)} e^{\\left(-\\frac{5}{2} \\, t\\right)}\\]</html>"
      ],
      "text/latex": [
       "$$\\newcommand{\\Bold}[1]{\\mathbf{#1}}\\frac{1}{5} \\, {\\left(\\sqrt{15} \\sin\\left(\\frac{5}{2} \\, \\sqrt{15} t\\right) + 5 \\, \\cos\\left(\\frac{5}{2} \\, \\sqrt{15} t\\right)\\right)} e^{\\left(-\\frac{5}{2} \\, t\\right)}$$"
      ],
      "text/plain": [
       "1/5*(sqrt(15)*sin(5/2*sqrt(15)*t) + 5*cos(5/2*sqrt(15)*t))*e^(-5/2*t)"
      ]
     },
     "metadata": {},
     "output_type": "display_data"
    },
    {
     "data": {
      "image/png": "[encoded data removed]",
      "text/plain": [
       "Graphics object consisting of 1 graphics primitive"
      ]
     },
     "execution_count": 50,
     "metadata": {},
     "output_type": "execute_result"
    }
   ],
   "source": [
    "eqd = diff(x,t,2) + l*diff(x,t) + o^2*x == 0\n",
    "eqd = eqd.substitute(l=5, o=10)\n",
    "sol = desolve(eqd, x, ivar=t, ics=[0,1,5])\n",
    "show(sol)\n",
    "plot(sol, 0, 2)"
   ]
  },
  {
   "cell_type": "markdown",
   "id": "fa7fc21a",
   "metadata": {},
   "source": [
    "# 3"
   ]
  },
  {
   "cell_type": "markdown",
   "id": "b35cc0d3",
   "metadata": {},
   "source": [
    "(a)"
   ]
  },
  {
   "cell_type": "code",
   "execution_count": 80,
   "id": "903759e9",
   "metadata": {},
   "outputs": [
    {
     "data": {
      "text/html": [
       "<html>\\[\\newcommand{\\Bold}[1]{\\mathbf{#1}}K_{2} \\cos\\left(\\omega_{0} t\\right) + K_{1} \\sin\\left(\\omega_{0} t\\right) - \\frac{F_{0} \\cos\\left(\\omega t\\right)}{\\omega^{2} - \\omega_{0}^{2}}\\]</html>"
      ],
      "text/latex": [
       "$$\\newcommand{\\Bold}[1]{\\mathbf{#1}}K_{2} \\cos\\left(\\omega_{0} t\\right) + K_{1} \\sin\\left(\\omega_{0} t\\right) - \\frac{F_{0} \\cos\\left(\\omega t\\right)}{\\omega^{2} - \\omega_{0}^{2}}$$"
      ],
      "text/plain": [
       "_K2*cos(omega_0*t) + _K1*sin(omega_0*t) - F_0*cos(omega*t)/(omega^2 - omega_0^2)"
      ]
     },
     "metadata": {},
     "output_type": "display_data"
    },
    {
     "data": {
      "text/html": [
       "<html>\\[\\newcommand{\\Bold}[1]{\\mathbf{#1}}K_{2} t + K_{1} - \\frac{F_{0} \\cos\\left(\\omega t\\right)}{\\omega^{2}}\\]</html>"
      ],
      "text/latex": [
       "$$\\newcommand{\\Bold}[1]{\\mathbf{#1}}K_{2} t + K_{1} - \\frac{F_{0} \\cos\\left(\\omega t\\right)}{\\omega^{2}}$$"
      ],
      "text/plain": [
       "_K2*t + _K1 - F_0*cos(omega*t)/omega^2"
      ]
     },
     "metadata": {},
     "output_type": "display_data"
    }
   ],
   "source": [
    "F_0,omega,omega_0 = var(\"F_0,omega,omega_0\")\n",
    "t = var(\"t\")\n",
    "x = function(\"x\")(t)\n",
    "\n",
    "eqd = diff(x,t,2) + omega_0^2*x == F_0*cos(omega*t)\n",
    "with assuming(omega_0 != omega):\n",
    "    with assuming(omega_0 != 0):\n",
    "        sol = desolve(eqd, x, ivar=t)\n",
    "        show(sol)\n",
    "    with assuming(omega_0 == 0):\n",
    "        sol = desolve(eqd, x, ivar=t)\n",
    "        show(sol)"
   ]
  },
  {
   "cell_type": "markdown",
   "id": "56c2808e",
   "metadata": {},
   "source": [
    "(b)"
   ]
  },
  {
   "cell_type": "code",
   "execution_count": 81,
   "id": "6099998b",
   "metadata": {},
   "outputs": [
    {
     "data": {
      "text/html": [
       "<html>\\[\\newcommand{\\Bold}[1]{\\mathbf{#1}}-\\frac{8}{21} \\, \\cos\\left(\\frac{11}{2} \\, t\\right) + \\frac{8}{21} \\, \\cos\\left(5 \\, t\\right)\\]</html>"
      ],
      "text/latex": [
       "$$\\newcommand{\\Bold}[1]{\\mathbf{#1}}-\\frac{8}{21} \\, \\cos\\left(\\frac{11}{2} \\, t\\right) + \\frac{8}{21} \\, \\cos\\left(5 \\, t\\right)$$"
      ],
      "text/plain": [
       "-8/21*cos(11/2*t) + 8/21*cos(5*t)"
      ]
     },
     "metadata": {},
     "output_type": "display_data"
    },
    {
     "data": {
      "image/png": "[encoded data removed]",
      "text/plain": [
       "Graphics object consisting of 1 graphics primitive"
      ]
     },
     "execution_count": 81,
     "metadata": {},
     "output_type": "execute_result"
    }
   ],
   "source": [
    "eqd = diff(x,t,2) + omega_0^2*x == F_0*cos(omega*t)\n",
    "eqd = eqd.substitute(omega_0=5, omega=5.5, F_0=2)\n",
    "sol = desolve(eqd, x, ivar=t, ics=[0,0,0])\n",
    "show(sol)\n",
    "plot(sol, 0, 5)"
   ]
  },
  {
   "cell_type": "markdown",
   "id": "efc6d6ff",
   "metadata": {},
   "source": [
    "(c)"
   ]
  },
  {
   "cell_type": "code",
   "execution_count": 82,
   "id": "32cfa772",
   "metadata": {},
   "outputs": [
    {
     "data": {
      "text/html": [
       "<html>\\[\\newcommand{\\Bold}[1]{\\mathbf{#1}}K_{2} \\cos\\left(\\omega_{0} t\\right) + K_{1} \\sin\\left(\\omega_{0} t\\right) + \\frac{F_{0} \\omega_{0} t \\sin\\left(\\omega_{0} t\\right) + F_{0} \\cos\\left(\\omega_{0} t\\right)}{2 \\, \\omega_{0}^{2}}\\]</html>"
      ],
      "text/latex": [
       "$$\\newcommand{\\Bold}[1]{\\mathbf{#1}}K_{2} \\cos\\left(\\omega_{0} t\\right) + K_{1} \\sin\\left(\\omega_{0} t\\right) + \\frac{F_{0} \\omega_{0} t \\sin\\left(\\omega_{0} t\\right) + F_{0} \\cos\\left(\\omega_{0} t\\right)}{2 \\, \\omega_{0}^{2}}$$"
      ],
      "text/plain": [
       "_K2*cos(omega_0*t) + _K1*sin(omega_0*t) + 1/2*(F_0*omega_0*t*sin(omega_0*t) + F_0*cos(omega_0*t))/omega_0^2"
      ]
     },
     "metadata": {},
     "output_type": "display_data"
    },
    {
     "data": {
      "text/html": [
       "<html>\\[\\newcommand{\\Bold}[1]{\\mathbf{#1}}K_{2} t + K_{1} - \\frac{F_{0} \\cos\\left(\\omega_{0} t\\right)}{\\omega_{0}^{2}}\\]</html>"
      ],
      "text/latex": [
       "$$\\newcommand{\\Bold}[1]{\\mathbf{#1}}K_{2} t + K_{1} - \\frac{F_{0} \\cos\\left(\\omega_{0} t\\right)}{\\omega_{0}^{2}}$$"
      ],
      "text/plain": [
       "_K2*t + _K1 - F_0*cos(omega_0*t)/omega_0^2"
      ]
     },
     "metadata": {},
     "output_type": "display_data"
    }
   ],
   "source": [
    "eqd = diff(x,t,2) + o_0^2*x == F_0*cos(o*t)\n",
    "eqd = eqd.substitute(omega = omega_0)\n",
    "with assuming(omega_0 != 0):\n",
    "    sol = desolve(eqd, x, ivar=t)\n",
    "    show(sol)\n",
    "with assuming(omega_0 == 0):\n",
    "    sol = desolve(eqd, x, ivar=t)\n",
    "    show(sol)"
   ]
  },
  {
   "cell_type": "markdown",
   "id": "d6d6988b",
   "metadata": {},
   "source": [
    "(d)"
   ]
  },
  {
   "cell_type": "code",
   "execution_count": 83,
   "id": "6a8b7c3b",
   "metadata": {},
   "outputs": [
    {
     "data": {
      "text/html": [
       "<html>\\[\\newcommand{\\Bold}[1]{\\mathbf{#1}}\\frac{1}{5} \\, t \\sin\\left(5 \\, t\\right)\\]</html>"
      ],
      "text/latex": [
       "$$\\newcommand{\\Bold}[1]{\\mathbf{#1}}\\frac{1}{5} \\, t \\sin\\left(5 \\, t\\right)$$"
      ],
      "text/plain": [
       "1/5*t*sin(5*t)"
      ]
     },
     "metadata": {},
     "output_type": "display_data"
    },
    {
     "data": {
      "image/png": "[encoded data removed]",
      "text/plain": [
       "Graphics object consisting of 1 graphics primitive"
      ]
     },
     "execution_count": 83,
     "metadata": {},
     "output_type": "execute_result"
    }
   ],
   "source": [
    "eqd = diff(x,t,2) + omega_0^2*x == F_0*cos(omega*t)\n",
    "eqd = eqd.substitute(omega_0=5, omega=5, F_0=2)\n",
    "sol = desolve(eqd, x, ivar=t, ics=[0,0,0])\n",
    "show(sol)\n",
    "plot(sol, 0, 5)"
   ]
  },
  {
   "cell_type": "markdown",
   "id": "74bb6dec",
   "metadata": {},
   "source": [
    "(e)"
   ]
  },
  {
   "cell_type": "code",
   "execution_count": 95,
   "id": "e2cdb259",
   "metadata": {},
   "outputs": [
    {
     "data": {
      "text/html": [
       "<html>\\[\\newcommand{\\Bold}[1]{\\mathbf{#1}}\\left( t, \\omega \\right) \\ {\\mapsto} \\ -\\frac{F_{0} \\cos\\left(\\omega t\\right)}{\\omega^{2}} + \\frac{F_{0}}{\\omega^{2}}\\]</html>"
      ],
      "text/latex": [
       "$$\\newcommand{\\Bold}[1]{\\mathbf{#1}}\\left( t, \\omega \\right) \\ {\\mapsto} \\ -\\frac{F_{0} \\cos\\left(\\omega t\\right)}{\\omega^{2}} + \\frac{F_{0}}{\\omega^{2}}$$"
      ],
      "text/plain": [
       "(t, omega) |--> -F_0*cos(omega*t)/omega^2 + F_0/omega^2"
      ]
     },
     "metadata": {},
     "output_type": "display_data"
    },
    {
     "data": {
      "text/html": [
       "<html>\\[\\newcommand{\\Bold}[1]{\\mathbf{#1}}-\\frac{F_{0} \\cos\\left(\\omega_{0} t\\right)}{\\omega_{0}^{2}} + \\frac{F_{0}}{\\omega_{0}^{2}}\\]</html>"
      ],
      "text/latex": [
       "$$\\newcommand{\\Bold}[1]{\\mathbf{#1}}-\\frac{F_{0} \\cos\\left(\\omega_{0} t\\right)}{\\omega_{0}^{2}} + \\frac{F_{0}}{\\omega_{0}^{2}}$$"
      ],
      "text/plain": [
       "-F_0*cos(omega_0*t)/omega_0^2 + F_0/omega_0^2"
      ]
     },
     "metadata": {},
     "output_type": "display_data"
    },
    {
     "data": {
      "text/html": [
       "<html>\\[\\newcommand{\\Bold}[1]{\\mathbf{#1}}-\\frac{F_{0} \\cos\\left(\\omega_{0} t\\right)}{\\omega_{0}^{2}} + \\frac{F_{0}}{\\omega_{0}^{2}}\\]</html>"
      ],
      "text/latex": [
       "$$\\newcommand{\\Bold}[1]{\\mathbf{#1}}-\\frac{F_{0} \\cos\\left(\\omega_{0} t\\right)}{\\omega_{0}^{2}} + \\frac{F_{0}}{\\omega_{0}^{2}}$$"
      ],
      "text/plain": [
       "-F_0*cos(omega_0*t)/omega_0^2 + F_0/omega_0^2"
      ]
     },
     "metadata": {},
     "output_type": "display_data"
    }
   ],
   "source": [
    "eqd = diff(x,t,2) + omega_0^2*x == F_0*cos(omega*t)\n",
    "# with assuming(omega_0 != 0):\n",
    "#     sol(t,omega) = desolve(eqd, x, ivar=t, ics=[0,0,0])\n",
    "#     show(sol)\n",
    "#     sol_2 = limit(sol(t,omega), omega=omega_0)\n",
    "#     show(sol(t,omega_0))\n",
    "#     show(sol_2)\n",
    "with assuming(omega_0 == 0):\n",
    "    sol(t,omega) = desolve(eqd, x, ivar=t, ics=[0,0,0])\n",
    "    show(sol)\n",
    "    sol_2 = limit(sol(t,omega), omega=omega_0)\n",
    "    show(sol(t,omega_0))\n",
    "    show(sol_2)"
   ]
  },
  {
   "cell_type": "code",
   "execution_count": null,
   "id": "e16820ef",
   "metadata": {},
   "outputs": [],
   "source": []
  }
 ],
 "metadata": {
  "kernelspec": {
   "display_name": "SageMath 9.5",
   "language": "sage",
   "name": "sagemath"
  },
  "language_info": {
   "codemirror_mode": {
    "name": "ipython",
    "version": 3
   },
   "file_extension": ".py",
   "mimetype": "text/x-python",
   "name": "python",
   "nbconvert_exporter": "python",
   "pygments_lexer": "ipython3",
   "version": "3.10.4"
  }
 },
 "nbformat": 4,
 "nbformat_minor": 5
}
