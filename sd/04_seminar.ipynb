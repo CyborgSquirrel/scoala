{
 "cells": [
  {
   "cell_type": "markdown",
   "id": "bf4bbfd0",
   "metadata": {},
   "source": [
    "# 4.1.1"
   ]
  },
  {
   "cell_type": "markdown",
   "id": "70d0e9d6",
   "metadata": {},
   "source": [
    "(a)"
   ]
  },
  {
   "cell_type": "code",
   "execution_count": 8,
   "id": "fcdcec04",
   "metadata": {},
   "outputs": [
    {
     "data": {
      "text/html": [
       "<html>\\[\\newcommand{\\Bold}[1]{\\mathbf{#1}}\\left[y\\left(x\\right) = -\\sqrt{-2 \\, \\log\\left(2\\right) + 2 \\, \\log\\left(e^{x} + 1\\right) + 1}, y\\left(x\\right) = \\sqrt{-2 \\, \\log\\left(2\\right) + 2 \\, \\log\\left(e^{x} + 1\\right) + 1}\\right]\\]</html>"
      ],
      "text/latex": [
       "$$\\newcommand{\\Bold}[1]{\\mathbf{#1}}\\left[y\\left(x\\right) = -\\sqrt{-2 \\, \\log\\left(2\\right) + 2 \\, \\log\\left(e^{x} + 1\\right) + 1}, y\\left(x\\right) = \\sqrt{-2 \\, \\log\\left(2\\right) + 2 \\, \\log\\left(e^{x} + 1\\right) + 1}\\right]$$"
      ],
      "text/plain": [
       "[y(x) == -sqrt(-2*log(2) + 2*log(e^x + 1) + 1), y(x) == sqrt(-2*log(2) + 2*log(e^x + 1) + 1)]"
      ]
     },
     "metadata": {},
     "output_type": "display_data"
    }
   ],
   "source": [
    "x = var('x')\n",
    "y = function('y')(x)\n",
    "eqd = (1+e^x)*y*diff(y) - e^x == 0\n",
    "sol = desolve(eqd, y, ics=[0,1])\n",
    "sol = solve(sol, y)\n",
    "show(sol)"
   ]
  },
  {
   "cell_type": "markdown",
   "id": "2d8f769e",
   "metadata": {},
   "source": [
    "(b)"
   ]
  },
  {
   "cell_type": "code",
   "execution_count": 1,
   "id": "b12d6837",
   "metadata": {},
   "outputs": [
    {
     "data": {
      "text/html": [
       "<html>\\[\\newcommand{\\Bold}[1]{\\mathbf{#1}}\\frac{a b - e^{a} + e^{x}}{x}\\]</html>"
      ],
      "text/latex": [
       "$$\\newcommand{\\Bold}[1]{\\mathbf{#1}}\\frac{a b - e^{a} + e^{x}}{x}$$"
      ],
      "text/plain": [
       "(a*b - e^a + e^x)/x"
      ]
     },
     "metadata": {},
     "output_type": "display_data"
    }
   ],
   "source": [
    "x = var('x')\n",
    "y = function('y')(x)\n",
    "a,b = var('a,b')\n",
    "eqd = x*diff(y) + y == e^x\n",
    "sol = desolve(eqd, y, ics=[a,b])\n",
    "show(sol)"
   ]
  },
  {
   "cell_type": "markdown",
   "id": "7894b78d",
   "metadata": {},
   "source": [
    "(c)"
   ]
  },
  {
   "cell_type": "code",
   "execution_count": 11,
   "id": "e3609024",
   "metadata": {},
   "outputs": [
    {
     "data": {
      "text/html": [
       "<html>\\[\\newcommand{\\Bold}[1]{\\mathbf{#1}}\\left[y_{1}\\left(x\\right) = -e^{\\left(3 \\, x\\right)} + e^{\\left(2 \\, x\\right)}, y_{2}\\left(x\\right) = -2 \\, e^{\\left(3 \\, x\\right)} + e^{\\left(2 \\, x\\right)}\\right]\\]</html>"
      ],
      "text/latex": [
       "$$\\newcommand{\\Bold}[1]{\\mathbf{#1}}\\left[y_{1}\\left(x\\right) = -e^{\\left(3 \\, x\\right)} + e^{\\left(2 \\, x\\right)}, y_{2}\\left(x\\right) = -2 \\, e^{\\left(3 \\, x\\right)} + e^{\\left(2 \\, x\\right)}\\right]$$"
      ],
      "text/plain": [
       "[y_1(x) == -e^(3*x) + e^(2*x), y_2(x) == -2*e^(3*x) + e^(2*x)]"
      ]
     },
     "metadata": {},
     "output_type": "display_data"
    }
   ],
   "source": [
    "x = var('x')\n",
    "y_1 = function('y_1')(x)\n",
    "y_2 = function('y_2')(x)\n",
    "eqd = [diff(y_1) == y_1+y_2, diff(y_2) == (-2)*y_1+4*y_2]\n",
    "sol = desolve_system(eqd, [y_1,y_2], ics=[0,0,-1])\n",
    "show(sol)"
   ]
  },
  {
   "cell_type": "markdown",
   "id": "7b807828",
   "metadata": {},
   "source": [
    "(d)"
   ]
  },
  {
   "cell_type": "code",
   "execution_count": 13,
   "id": "bd7b8b51",
   "metadata": {},
   "outputs": [
    {
     "data": {
      "text/html": [
       "<html>\\[\\newcommand{\\Bold}[1]{\\mathbf{#1}}\\left[y_{1}\\left(x\\right) = e^{\\left(-2 \\, x\\right)}, y_{2}\\left(x\\right) = 5 \\, e^{\\left(-2 \\, x\\right)}\\right]\\]</html>"
      ],
      "text/latex": [
       "$$\\newcommand{\\Bold}[1]{\\mathbf{#1}}\\left[y_{1}\\left(x\\right) = e^{\\left(-2 \\, x\\right)}, y_{2}\\left(x\\right) = 5 \\, e^{\\left(-2 \\, x\\right)}\\right]$$"
      ],
      "text/plain": [
       "[y_1(x) == e^(-2*x), y_2(x) == 5*e^(-2*x)]"
      ]
     },
     "metadata": {},
     "output_type": "display_data"
    }
   ],
   "source": [
    "x = var('x')\n",
    "y_1 = function('y_1')(x)\n",
    "y_2 = function('y_2')(x)\n",
    "eqd = [diff(y_1) == 3*y_1-y_2, diff(y_2) == 10*y_1-4*y_2]\n",
    "sol = desolve_system(eqd, [y_1,y_2], ics=[0,1,5])\n",
    "show(sol)"
   ]
  },
  {
   "cell_type": "markdown",
   "id": "b62c3fd3",
   "metadata": {},
   "source": [
    "# 4.1.2"
   ]
  },
  {
   "cell_type": "markdown",
   "id": "047fa9df",
   "metadata": {},
   "source": [
    "(a)"
   ]
  },
  {
   "cell_type": "code",
   "execution_count": 18,
   "id": "6aa00ffc",
   "metadata": {},
   "outputs": [
    {
     "data": {
      "text/html": [
       "<html>\\[\\newcommand{\\Bold}[1]{\\mathbf{#1}}e^{\\left(4 \\, x\\right)} + 4 \\, e^{x}\\]</html>"
      ],
      "text/latex": [
       "$$\\newcommand{\\Bold}[1]{\\mathbf{#1}}e^{\\left(4 \\, x\\right)} + 4 \\, e^{x}$$"
      ],
      "text/plain": [
       "e^(4*x) + 4*e^x"
      ]
     },
     "metadata": {},
     "output_type": "display_data"
    }
   ],
   "source": [
    "x = var('x')\n",
    "y = function('y')(x)\n",
    "eqd = diff(y,x,2) - 5*diff(y,x) + 4*y == 0\n",
    "sol = desolve(eqd, y, ics=[0,5,8])\n",
    "show(sol)"
   ]
  },
  {
   "cell_type": "markdown",
   "id": "a7977e17",
   "metadata": {},
   "source": [
    "(b)"
   ]
  },
  {
   "cell_type": "code",
   "execution_count": 19,
   "id": "82fd0449",
   "metadata": {},
   "outputs": [
    {
     "data": {
      "text/html": [
       "<html>\\[\\newcommand{\\Bold}[1]{\\mathbf{#1}}{\\left(\\cos\\left(x\\right) - 2 \\, \\sin\\left(x\\right)\\right)} e^{\\left(2 \\, x\\right)} + {\\left(x^{2} + 2 \\, x + 1\\right)} e^{x}\\]</html>"
      ],
      "text/latex": [
       "$$\\newcommand{\\Bold}[1]{\\mathbf{#1}}{\\left(\\cos\\left(x\\right) - 2 \\, \\sin\\left(x\\right)\\right)} e^{\\left(2 \\, x\\right)} + {\\left(x^{2} + 2 \\, x + 1\\right)} e^{x}$$"
      ],
      "text/plain": [
       "(cos(x) - 2*sin(x))*e^(2*x) + (x^2 + 2*x + 1)*e^x"
      ]
     },
     "metadata": {},
     "output_type": "display_data"
    }
   ],
   "source": [
    "x = var('x')\n",
    "y = function('y')(x)\n",
    "eqd = diff(y,x,2) - 4*diff(y,x) + 5*y == 2*x^2*e^x\n",
    "sol = desolve(eqd, y, ics=[0,2,3])\n",
    "show(sol)"
   ]
  },
  {
   "cell_type": "markdown",
   "id": "8a743e96",
   "metadata": {},
   "source": [
    "(c)"
   ]
  },
  {
   "cell_type": "code",
   "execution_count": 3,
   "id": "6c24a270",
   "metadata": {},
   "outputs": [
    {
     "data": {
      "text/html": [
       "<html>\\[\\newcommand{\\Bold}[1]{\\mathbf{#1}}-\\pi \\cos\\left(2 \\, x\\right) + x\\]</html>"
      ],
      "text/latex": [
       "$$\\newcommand{\\Bold}[1]{\\mathbf{#1}}-\\pi \\cos\\left(2 \\, x\\right) + x$$"
      ],
      "text/plain": [
       "-pi*cos(2*x) + x"
      ]
     },
     "metadata": {},
     "output_type": "display_data"
    }
   ],
   "source": [
    "x = var('x')\n",
    "y = function('y')(x)\n",
    "eqd = diff(y,x,2) + 4*y == 4*x\n",
    "sol = desolve(eqd, y, ics=[pi,0,1])\n",
    "show(sol)"
   ]
  },
  {
   "cell_type": "markdown",
   "id": "eb81115c",
   "metadata": {},
   "source": [
    "(d)"
   ]
  },
  {
   "cell_type": "code",
   "execution_count": 2,
   "id": "1d45ab65",
   "metadata": {},
   "outputs": [
    {
     "data": {
      "text/html": [
       "<html>\\[\\newcommand{\\Bold}[1]{\\mathbf{#1}}{\\left(3 \\, x + 1\\right)} e^{\\left(-3 \\, x\\right)} + \\sin\\left(x\\right)\\]</html>"
      ],
      "text/latex": [
       "$$\\newcommand{\\Bold}[1]{\\mathbf{#1}}{\\left(3 \\, x + 1\\right)} e^{\\left(-3 \\, x\\right)} + \\sin\\left(x\\right)$$"
      ],
      "text/plain": [
       "(3*x + 1)*e^(-3*x) + sin(x)"
      ]
     },
     "metadata": {},
     "output_type": "display_data"
    }
   ],
   "source": [
    "x = var('x')\n",
    "y = function('y')(x)\n",
    "eqd = diff(y,x,2) + 6*diff(y,x) + 9*y == 6*cos(x)+8*sin(x)\n",
    "sol = desolve(eqd, y, ics=[0,1,1])\n",
    "show(sol)"
   ]
  },
  {
   "cell_type": "markdown",
   "id": "2d8d2bcf",
   "metadata": {},
   "source": [
    "# 4.2.1"
   ]
  },
  {
   "cell_type": "markdown",
   "id": "13c91e21",
   "metadata": {},
   "source": [
    "(a)"
   ]
  },
  {
   "cell_type": "code",
   "execution_count": 23,
   "id": "92eab522",
   "metadata": {},
   "outputs": [
    {
     "data": {
      "text/html": [
       "<html>\\[\\newcommand{\\Bold}[1]{\\mathbf{#1}}x \\ {\\mapsto}\\ -\\frac{1}{3} \\, K_{2} e^{\\left(-3 \\, x\\right)} + K_{1} + \\frac{1}{3} \\, K_{2}\\]</html>"
      ],
      "text/latex": [
       "$$\\newcommand{\\Bold}[1]{\\mathbf{#1}}x \\ {\\mapsto}\\ -\\frac{1}{3} \\, K_{2} e^{\\left(-3 \\, x\\right)} + K_{1} + \\frac{1}{3} \\, K_{2}$$"
      ],
      "text/plain": [
       "x |--> -1/3*K_2*e^(-3*x) + K_1 + 1/3*K_2"
      ]
     },
     "metadata": {},
     "output_type": "display_data"
    },
    {
     "data": {
      "text/plain": [
       "[[K_1 == 0, K_2 == 0]]"
      ]
     },
     "execution_count": 23,
     "metadata": {},
     "output_type": "execute_result"
    }
   ],
   "source": [
    "x = var('x')\n",
    "y = function('y')(x)\n",
    "K_1,K_2 = var('K_1,K_2')\n",
    "eqd = diff(y,x,2) + 3*diff(y,x) == 0\n",
    "sol(x) = desolve(eqd, y, ics=[0,K_1,K_2])\n",
    "show(sol)\n",
    "solve([sol(0) == 0, sol(3) == 0], K_1, K_2)"
   ]
  },
  {
   "cell_type": "markdown",
   "id": "ebda3530",
   "metadata": {},
   "source": [
    "(b)"
   ]
  },
  {
   "cell_type": "code",
   "execution_count": 26,
   "id": "05fab117",
   "metadata": {},
   "outputs": [
    {
     "data": {
      "text/html": [
       "<html>\\[\\newcommand{\\Bold}[1]{\\mathbf{#1}}x \\ {\\mapsto}\\ K_{1} \\cos\\left(\\pi x\\right) + \\frac{K_{2} \\sin\\left(\\pi x\\right)}{\\pi}\\]</html>"
      ],
      "text/latex": [
       "$$\\newcommand{\\Bold}[1]{\\mathbf{#1}}x \\ {\\mapsto}\\ K_{1} \\cos\\left(\\pi x\\right) + \\frac{K_{2} \\sin\\left(\\pi x\\right)}{\\pi}$$"
      ],
      "text/plain": [
       "x |--> K_1*cos(pi*x) + K_2*sin(pi*x)/pi"
      ]
     },
     "metadata": {},
     "output_type": "display_data"
    },
    {
     "data": {
      "text/plain": [
       "[[K_1 == 0, K_2 == r2]]"
      ]
     },
     "execution_count": 26,
     "metadata": {},
     "output_type": "execute_result"
    }
   ],
   "source": [
    "x = var('x')\n",
    "y = function('y')(x)\n",
    "K_1,K_2 = var('K_1,K_2')\n",
    "eqd = diff(y,x,2) + pi^2*y == 0\n",
    "sol(x) = desolve(eqd, y, ics=[0,K_1,K_2])\n",
    "show(sol)\n",
    "solve([sol(0) == 0, sol(1) == 0], K_1, K_2)"
   ]
  },
  {
   "cell_type": "markdown",
   "id": "f36474b7",
   "metadata": {},
   "source": [
    "(c)"
   ]
  },
  {
   "cell_type": "code",
   "execution_count": 38,
   "id": "5656a45b",
   "metadata": {},
   "outputs": [
    {
     "data": {
      "text/html": [
       "<html>\\[\\newcommand{\\Bold}[1]{\\mathbf{#1}}x \\ {\\mapsto}\\ C_{1} \\cos\\left(x\\right) + {\\left(C_{2} - 1\\right)} \\sin\\left(x\\right) + x\\]</html>"
      ],
      "text/latex": [
       "$$\\newcommand{\\Bold}[1]{\\mathbf{#1}}x \\ {\\mapsto}\\ C_{1} \\cos\\left(x\\right) + {\\left(C_{2} - 1\\right)} \\sin\\left(x\\right) + x$$"
      ],
      "text/plain": [
       "x |--> C_1*cos(x) + (C_2 - 1)*sin(x) + x"
      ]
     },
     "metadata": {},
     "output_type": "display_data"
    },
    {
     "data": {
      "text/html": [
       "<html>\\[\\newcommand{\\Bold}[1]{\\mathbf{#1}}\\left[\\left[C_{1} = 1, C_{2} = 1\\right]\\right]\\]</html>"
      ],
      "text/latex": [
       "$$\\newcommand{\\Bold}[1]{\\mathbf{#1}}\\left[\\left[C_{1} = 1, C_{2} = 1\\right]\\right]$$"
      ],
      "text/plain": [
       "[[C_1 == 1, C_2 == 1]]"
      ]
     },
     "metadata": {},
     "output_type": "display_data"
    },
    {
     "data": {
      "text/html": [
       "<html>\\[\\newcommand{\\Bold}[1]{\\mathbf{#1}}x \\ {\\mapsto}\\ x + \\cos\\left(x\\right)\\]</html>"
      ],
      "text/latex": [
       "$$\\newcommand{\\Bold}[1]{\\mathbf{#1}}x \\ {\\mapsto}\\ x + \\cos\\left(x\\right)$$"
      ],
      "text/plain": [
       "x |--> x + cos(x)"
      ]
     },
     "metadata": {},
     "output_type": "display_data"
    }
   ],
   "source": [
    "x = var('x')\n",
    "y = function('y')(x)\n",
    "C_1,C_2 = var('C_1,C_2')\n",
    "eqd = diff(y,x,2) + y == x\n",
    "sol(x) = desolve(eqd, y, ics=[0,C_1,C_2])\n",
    "show(sol)\n",
    "idk = solve([sol(0) == 1, sol(pi/2) == pi/2], C_1, C_2)\n",
    "show(idk)\n",
    "sol = sol.substitute(idk[0])\n",
    "show(sol)"
   ]
  },
  {
   "cell_type": "markdown",
   "id": "ed89b3fb",
   "metadata": {},
   "source": [
    "(d)"
   ]
  },
  {
   "cell_type": "code",
   "execution_count": 41,
   "id": "50e41310",
   "metadata": {},
   "outputs": [
    {
     "data": {
      "text/html": [
       "<html>\\[\\newcommand{\\Bold}[1]{\\mathbf{#1}}x \\ {\\mapsto}\\ {\\left({\\left(2 \\, C_{1} + C_{2} - 1\\right)} x + C_{1} - 1\\right)} e^{\\left(-2 \\, x\\right)} + e^{\\left(-x\\right)}\\]</html>"
      ],
      "text/latex": [
       "$$\\newcommand{\\Bold}[1]{\\mathbf{#1}}x \\ {\\mapsto}\\ {\\left({\\left(2 \\, C_{1} + C_{2} - 1\\right)} x + C_{1} - 1\\right)} e^{\\left(-2 \\, x\\right)} + e^{\\left(-x\\right)}$$"
      ],
      "text/plain": [
       "x |--> ((2*C_1 + C_2 - 1)*x + C_1 - 1)*e^(-2*x) + e^(-x)"
      ]
     },
     "metadata": {},
     "output_type": "display_data"
    },
    {
     "data": {
      "text/html": [
       "<html>\\[\\newcommand{\\Bold}[1]{\\mathbf{#1}}\\left[\\left[C_{1} = 1, C_{2} = 0\\right]\\right]\\]</html>"
      ],
      "text/latex": [
       "$$\\newcommand{\\Bold}[1]{\\mathbf{#1}}\\left[\\left[C_{1} = 1, C_{2} = 0\\right]\\right]$$"
      ],
      "text/plain": [
       "[[C_1 == 1, C_2 == 0]]"
      ]
     },
     "metadata": {},
     "output_type": "display_data"
    },
    {
     "data": {
      "text/html": [
       "<html>\\[\\newcommand{\\Bold}[1]{\\mathbf{#1}}x \\ {\\mapsto}\\ x e^{\\left(-2 \\, x\\right)} + e^{\\left(-x\\right)}\\]</html>"
      ],
      "text/latex": [
       "$$\\newcommand{\\Bold}[1]{\\mathbf{#1}}x \\ {\\mapsto}\\ x e^{\\left(-2 \\, x\\right)} + e^{\\left(-x\\right)}$$"
      ],
      "text/plain": [
       "x |--> x*e^(-2*x) + e^(-x)"
      ]
     },
     "metadata": {},
     "output_type": "display_data"
    }
   ],
   "source": [
    "x = var('x')\n",
    "y = function('y')(x)\n",
    "eqd = diff(y,x,2) + 4*diff(y,x) + 4*y == e^(-x)\n",
    "C_1,C_2 = var('C_1,C_2')\n",
    "sol(x) = desolve(eqd, y, ics=[0,C_1,C_2])\n",
    "show(sol)\n",
    "idk = solve([sol(0) == 1, sol(ln(2)) == 1/2+1/4*ln(2)], C_1, C_2)\n",
    "show(idk)\n",
    "sol = sol.substitute(idk[0])\n",
    "show(sol)"
   ]
  },
  {
   "cell_type": "code",
   "execution_count": null,
   "id": "d886a30d",
   "metadata": {},
   "outputs": [],
   "source": []
  }
 ],
 "metadata": {
  "kernelspec": {
   "display_name": "SageMath 9.5",
   "language": "sage",
   "name": "sagemath"
  },
  "language_info": {
   "codemirror_mode": {
    "name": "ipython",
    "version": 3
   },
   "file_extension": ".py",
   "mimetype": "text/x-python",
   "name": "python",
   "nbconvert_exporter": "python",
   "pygments_lexer": "ipython3",
   "version": "3.10.4"
  }
 },
 "nbformat": 4,
 "nbformat_minor": 5
}
