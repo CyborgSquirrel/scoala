{
 "cells": [
  {
   "cell_type": "code",
   "execution_count": 1,
   "id": "c1c213bf",
   "metadata": {},
   "outputs": [],
   "source": [
    "%display latex"
   ]
  },
  {
   "cell_type": "code",
   "execution_count": 2,
   "id": "feb0fada",
   "metadata": {},
   "outputs": [],
   "source": [
    "import itertools\n",
    "import functools\n",
    "import numpy as np"
   ]
  },
  {
   "cell_type": "code",
   "execution_count": 3,
   "id": "b834a2be",
   "metadata": {},
   "outputs": [],
   "source": [
    "def same(*args):\n",
    "    for arg in args:\n",
    "        assert args[0] == arg\n",
    "    return args[0]"
   ]
  },
  {
   "cell_type": "markdown",
   "id": "db941083-8404-41ba-adef-cf1b9806675d",
   "metadata": {},
   "source": [
    "# 1"
   ]
  },
  {
   "cell_type": "code",
   "execution_count": 4,
   "id": "06189864",
   "metadata": {},
   "outputs": [],
   "source": [
    "class GaussQuad:\n",
    "    def __init__(self, alphas, betas, wf):\n",
    "        self.n = same(len(alphas), len(betas))\n",
    "        \n",
    "        self.wf = wf\n",
    "    \n",
    "        J = np.zeros((self.n, self.n))\n",
    "        for k, alpha, beta in zip(range(self.n), alphas, betas):\n",
    "            J[k, k] = alpha\n",
    "            if k-1 >= 0:\n",
    "                J[k-1, k] = sqrt(beta)\n",
    "                J[k, k-1] = sqrt(beta)\n",
    "\n",
    "        x = var(\"x\")\n",
    "        polys = [0, 1]\n",
    "        for k, alpha, beta in zip(itertools.count(2), alphas, betas):\n",
    "            poly = (x - alpha)*polys[k-1] - beta*polys[k-2]\n",
    "            polys.append(poly)\n",
    "        self.poly = polys[-1]\n",
    "        self.poly = self.poly.full_simplify()\n",
    "        \n",
    "        # Eigenvectors are returned in normalized form.\n",
    "        # eig.eigenvectors[vector_dimension,vector]\n",
    "        eig = np.linalg.eig(J)\n",
    "        eig_val = eig.eigenvalues\n",
    "        eig_vec = eig.eigenvectors.T\n",
    "\n",
    "        self.x = eig_val.tolist()\n",
    "        v = eig_vec.tolist()\n",
    "\n",
    "        self.w = []\n",
    "        for k in range(self.n):\n",
    "            self.w.append(betas[0]*v[k][0]**2)\n",
    "    \n",
    "    @property\n",
    "    def sx(self):\n",
    "        return var(\"x\")\n",
    "    \n",
    "    @property\n",
    "    def sf(self):\n",
    "        return function(\"f\")\n",
    "    \n",
    "    @functools.cached_property\n",
    "    def quad(self):\n",
    "        quad = 0\n",
    "        for xv, wv in zip(self.x, self.w):\n",
    "            quad += wv*(self.sf)(xv)\n",
    "        return quad\n",
    "    \n",
    "    @functools.cached_property\n",
    "    def poly_norm(self):\n",
    "        coef = max(self.poly.coefficients(), key=lambda a: a[1])[0]\n",
    "        poly = self.poly / coef\n",
    "        return poly\n",
    "        \n",
    "    @property\n",
    "    def rest(self):\n",
    "        a = var(\"a\")\n",
    "        b = var(\"b\")\n",
    "        \n",
    "        with assuming(a < b):\n",
    "            rest = (\n",
    "                diff((self.sf)(self.sx), self.sx, 2*self.n)\n",
    "                / factorial(2*self.n)\n",
    "                * integral(self.wf(self.sx)*self.poly_norm**2, self.sx, a, b)\n",
    "            )\n",
    "        return rest"
   ]
  },
  {
   "cell_type": "code",
   "execution_count": 5,
   "id": "993d18d3",
   "metadata": {},
   "outputs": [],
   "source": [
    "def jacobi_values(n, lambda_):\n",
    "    alphas = []\n",
    "    betas = []\n",
    "    \n",
    "    for k in range(n):\n",
    "        alphas.append(0)\n",
    "        \n",
    "        if k == 0:\n",
    "            betas.append(\n",
    "                2**(2*lambda_) * (gamma(lambda_ + 1/2))**2 / gamma(2*lambda_ + 1)\n",
    "            )\n",
    "        elif k == 1:\n",
    "            betas.append(\n",
    "                4 * (lambda_ + 1/2)**2 / ((2*lambda_ + 1)**2 * (2*lambda_ + 2))\n",
    "            )\n",
    "        else:\n",
    "            betas.append(\n",
    "                4*k*(k + lambda_ - 1/2)*(k + 2*lambda_ - 1)*(k + lambda_ - 1/2)\n",
    "                /\n",
    "                (\n",
    "                    (2*k - 2 + 2*lambda_)*(2*k + 2*lambda_ - 1)**2*(2*k + 2*lambda_)\n",
    "                )\n",
    "            )\n",
    "    \n",
    "    w = function(\"w\")\n",
    "    x = var(\"x\")\n",
    "    w(x) = (1-x**2)**(lambda_ - 1/2)\n",
    "    \n",
    "    return alphas, betas, w"
   ]
  },
  {
   "cell_type": "code",
   "execution_count": 6,
   "id": "a88e3c77",
   "metadata": {},
   "outputs": [
    {
     "data": {
      "text/html": [
       "<html>\\(\\displaystyle \\left(\\left[0, 0, 0, 0, 0\\right], \\left[\\frac{2^{2 \\, l} \\Gamma\\left(l + \\frac{1}{2}\\right)^{2}}{\\Gamma\\left(2 \\, l + 1\\right)}, \\frac{1}{2 \\, {\\left(l + 1\\right)}}, \\frac{2 \\, l + 1}{2 \\, {\\left(l + 2\\right)} {\\left(l + 1\\right)}}, \\frac{3 \\, {\\left(l + 1\\right)}}{2 \\, {\\left(l + 3\\right)} {\\left(l + 2\\right)}}, \\frac{2 \\, l + 3}{{\\left(l + 4\\right)} {\\left(l + 3\\right)}}\\right], x \\ {\\mapsto}\\ {\\left(-x^{2} + 1\\right)}^{l - \\frac{1}{2}}\\right)\\)</html>"
      ],
      "text/latex": [
       "$\\displaystyle \\left(\\left[0, 0, 0, 0, 0\\right], \\left[\\frac{2^{2 \\, l} \\Gamma\\left(l + \\frac{1}{2}\\right)^{2}}{\\Gamma\\left(2 \\, l + 1\\right)}, \\frac{1}{2 \\, {\\left(l + 1\\right)}}, \\frac{2 \\, l + 1}{2 \\, {\\left(l + 2\\right)} {\\left(l + 1\\right)}}, \\frac{3 \\, {\\left(l + 1\\right)}}{2 \\, {\\left(l + 3\\right)} {\\left(l + 2\\right)}}, \\frac{2 \\, l + 3}{{\\left(l + 4\\right)} {\\left(l + 3\\right)}}\\right], x \\ {\\mapsto}\\ {\\left(-x^{2} + 1\\right)}^{l - \\frac{1}{2}}\\right)$"
      ],
      "text/plain": [
       "([0, 0, 0, 0, 0],\n",
       " [2^(2*l)*gamma(l + 1/2)^2/gamma(2*l + 1),\n",
       "  1/2/(l + 1),\n",
       "  1/2*(2*l + 1)/((l + 2)*(l + 1)),\n",
       "  3/2*(l + 1)/((l + 3)*(l + 2)),\n",
       "  (2*l + 3)/((l + 4)*(l + 3))],\n",
       " x |--> (-x^2 + 1)^(l - 1/2))"
      ]
     },
     "execution_count": 6,
     "metadata": {},
     "output_type": "execute_result"
    }
   ],
   "source": [
    "lambda_ = var(\"l\")\n",
    "jacobi_values(5, lambda_)"
   ]
  },
  {
   "cell_type": "markdown",
   "id": "dc3c2f5e-21e7-4f07-98e7-24189c76d9bc",
   "metadata": {},
   "source": [
    "## d"
   ]
  },
  {
   "cell_type": "code",
   "execution_count": 13,
   "id": "fe188eac",
   "metadata": {},
   "outputs": [
    {
     "data": {
      "text/html": [
       "<html>\\(\\displaystyle x \\ {\\mapsto}\\ \\cos\\left(x\\right)\\)</html>"
      ],
      "text/latex": [
       "$\\displaystyle x \\ {\\mapsto}\\ \\cos\\left(x\\right)$"
      ],
      "text/plain": [
       "x |--> cos(x)"
      ]
     },
     "metadata": {},
     "output_type": "display_data"
    },
    {
     "data": {
      "text/html": [
       "<html>\\(\\displaystyle 1.46307601360770\\)</html>"
      ],
      "text/latex": [
       "$\\displaystyle 1.46307601360770$"
      ],
      "text/plain": [
       "1.46307601360770"
      ]
     },
     "execution_count": 13,
     "metadata": {},
     "output_type": "execute_result"
    }
   ],
   "source": [
    "n = 5\n",
    "lambda_ = 5/6\n",
    "gq = GaussQuad(*jacobi_values(n, lambda_))\n",
    "\n",
    "fv = function(\"f\")\n",
    "x = var(\"x\")\n",
    "fv(x) = cos(x)\n",
    "display(fv)\n",
    "\n",
    "gq.quad.substitute_function(gq.sf, fv).n()\n",
    "# gq.quad"
   ]
  },
  {
   "cell_type": "code",
   "execution_count": 8,
   "id": "417414c2",
   "metadata": {},
   "outputs": [
    {
     "data": {
      "text/html": [
       "<html>\\(\\displaystyle 1.4630760178083206\\)</html>"
      ],
      "text/latex": [
       "$\\displaystyle 1.4630760178083206$"
      ],
      "text/plain": [
       "1.4630760178083206"
      ]
     },
     "execution_count": 8,
     "metadata": {},
     "output_type": "execute_result"
    }
   ],
   "source": [
    "fv = function(\"f\")\n",
    "x = var(\"x\")\n",
    "fv(x) = (1-x**2)**(1/3) * cos(x)\n",
    "\n",
    "integral(fv, x, -1, 1).n()"
   ]
  },
  {
   "cell_type": "markdown",
   "id": "efecd21c-bb0c-4ace-919a-40aa2977ac0d",
   "metadata": {},
   "source": [
    "## e"
   ]
  },
  {
   "cell_type": "code",
   "execution_count": 33,
   "id": "b7e0198d",
   "metadata": {},
   "outputs": [
    {
     "data": {
      "text/html": [
       "<html>\\(\\displaystyle 5.20076053048014 \\times 10^{-10}\\)</html>"
      ],
      "text/latex": [
       "$\\displaystyle 5.20076053048014 \\times 10^{-10}$"
      ],
      "text/plain": [
       "5.20076053048014e-10"
      ]
     },
     "execution_count": 33,
     "metadata": {},
     "output_type": "execute_result"
    }
   ],
   "source": [
    "rest = (\n",
    "    1\n",
    "    / factorial(2*gq.n)\n",
    "    * integral(gq.wf(gq.sx)*gq.poly_norm**2, gq.sx, -1, 1)\n",
    ")\n",
    "rest.n()"
   ]
  },
  {
   "cell_type": "markdown",
   "id": "f3e19477-412a-485f-9c78-977acf5a0173",
   "metadata": {},
   "source": [
    "## 2"
   ]
  },
  {
   "cell_type": "code",
   "execution_count": null,
   "id": "5dab7a64-0fb0-46fb-92fb-7771f7e4e531",
   "metadata": {},
   "outputs": [],
   "source": []
  }
 ],
 "metadata": {
  "kernelspec": {
   "display_name": "SageMath 10.0",
   "language": "sagemath",
   "name": "sagemath"
  },
  "language_info": {
   "codemirror_mode": {
    "name": "ipython",
    "version": 3
   },
   "file_extension": ".py",
   "mimetype": "text/x-python",
   "name": "python",
   "nbconvert_exporter": "python",
   "pygments_lexer": "ipython3",
   "version": "3.11.6"
  }
 },
 "nbformat": 4,
 "nbformat_minor": 5
}
