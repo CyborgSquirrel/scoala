{
 "cells": [
  {
   "cell_type": "code",
   "execution_count": 6,
   "id": "ad97b4fe",
   "metadata": {},
   "outputs": [],
   "source": [
    "import itertools\n",
    "import numpy as np\n",
    "import functools"
   ]
  },
  {
   "cell_type": "code",
   "execution_count": 7,
   "id": "fad84a8e",
   "metadata": {},
   "outputs": [],
   "source": [
    "%display latex"
   ]
  },
  {
   "cell_type": "code",
   "execution_count": 8,
   "id": "a7fc009e",
   "metadata": {},
   "outputs": [],
   "source": [
    "def same(*args):\n",
    "    for arg in args:\n",
    "        assert args[0] == arg\n",
    "    return args[0]"
   ]
  },
  {
   "cell_type": "code",
   "execution_count": 4,
   "id": "819e5a93",
   "metadata": {},
   "outputs": [],
   "source": [
    "class GaussQuad:\n",
    "    def __init__(self, alphas, betas, wf):\n",
    "        self.n = same(len(alphas), len(betas))\n",
    "        \n",
    "        self.wf = wf\n",
    "    \n",
    "        J = np.zeros((self.n, self.n))\n",
    "        for k, alpha, beta in zip(range(self.n), alphas, betas):\n",
    "            J[k, k] = alpha\n",
    "            if k-1 >= 0:\n",
    "                J[k-1, k] = sqrt(beta)\n",
    "                J[k, k-1] = sqrt(beta)\n",
    "\n",
    "        x = var(\"x\")\n",
    "        polys = [0, 1]\n",
    "        for k, alpha, beta in zip(itertools.count(2), alphas, betas):\n",
    "            poly = (x - alpha)*polys[k-1] - beta*polys[k-2]\n",
    "            polys.append(poly)\n",
    "        self.poly = polys[-1]\n",
    "        self.poly = self.poly.full_simplify()\n",
    "        \n",
    "        # Eigenvectors are returned in normalized form.\n",
    "        # eig.eigenvectors[vector_dimension,vector]\n",
    "        eig = np.linalg.eig(J)\n",
    "        eig_val = eig.eigenvalues\n",
    "        eig_vec = eig.eigenvectors.T\n",
    "\n",
    "        self.x = eig_val.tolist()\n",
    "        v = eig_vec.tolist()\n",
    "\n",
    "        self.w = []\n",
    "        for k in range(self.n):\n",
    "            self.w.append(betas[0]*v[k][0]**2)\n",
    "    \n",
    "    @property\n",
    "    def sx(self):\n",
    "        return var(\"x\")\n",
    "    \n",
    "    @property\n",
    "    def sf(self):\n",
    "        return function(\"f\")\n",
    "    \n",
    "    @functools.cached_property\n",
    "    def quad(self):\n",
    "        quad = 0\n",
    "        for xv, wv in zip(self.x, self.w):\n",
    "            quad += wv*(self.sf)(xv)\n",
    "        return quad\n",
    "    \n",
    "    @functools.cached_property\n",
    "    def poly_norm(self):\n",
    "        coef = max(self.poly.coefficients(), key=lambda a: a[1])[0]\n",
    "        poly = self.poly / coef\n",
    "        return poly\n",
    "        \n",
    "    @property\n",
    "    def rest(self):\n",
    "        a = var(\"a\")\n",
    "        b = var(\"b\")\n",
    "        \n",
    "        with assuming(a < b):\n",
    "            rest = (\n",
    "                diff((self.sf)(self.sx), self.sx, 2*self.n)\n",
    "                / factorial(2*self.n)\n",
    "                * integral(self.wf(self.sx)*self.poly_norm**2, self.sx, a, b)\n",
    "            )\n",
    "        return rest"
   ]
  },
  {
   "cell_type": "code",
   "execution_count": 5,
   "id": "0728d229",
   "metadata": {},
   "outputs": [],
   "source": [
    "def laguerre_values(n, alpha):\n",
    "    alphas = []\n",
    "    betas = []\n",
    "    \n",
    "    for k in range(n):\n",
    "        alphas.append(2*k+alpha+1)\n",
    "        if k == 0:\n",
    "            betas.append(gamma(1+alpha))\n",
    "        else:\n",
    "            betas.append(k*(k+alpha))\n",
    "    \n",
    "    w = function(\"w\")\n",
    "    x = var(\"x\")\n",
    "    w(x) = x**alpha * e**(-x)\n",
    "    \n",
    "    return alphas, betas, w"
   ]
  },
  {
   "cell_type": "code",
   "execution_count": 8,
   "id": "a3c48517",
   "metadata": {},
   "outputs": [
    {
     "data": {
      "text/html": [
       "<html>\\(\\displaystyle 0.0005392947055613282 \\, f\\left(9.395070912301133\\right) + 0.038887908515005364 \\, f\\left(4.53662029692113\\right) + 0.35741869243779917 \\, f\\left(1.7457611011583472\\right) + 0.6031541043416337 \\, f\\left(0.3225476896193926\\right)\\)</html>"
      ],
      "text/latex": [
       "$\\displaystyle 0.0005392947055613282 \\, f\\left(9.395070912301133\\right) + 0.038887908515005364 \\, f\\left(4.53662029692113\\right) + 0.35741869243779917 \\, f\\left(1.7457611011583472\\right) + 0.6031541043416337 \\, f\\left(0.3225476896193926\\right)$"
      ],
      "text/plain": [
       "0.0005392947055613282*f(9.395070912301133) + 0.038887908515005364*f(4.53662029692113) + 0.35741869243779917*f(1.7457611011583472) + 0.6031541043416337*f(0.3225476896193926)"
      ]
     },
     "execution_count": 8,
     "metadata": {},
     "output_type": "execute_result"
    }
   ],
   "source": [
    "gq = GaussQuad(*laguerre_values(4, 0))\n",
    "gq.quad"
   ]
  },
  {
   "cell_type": "markdown",
   "id": "85929438",
   "metadata": {},
   "source": [
    "# Incercare"
   ]
  },
  {
   "cell_type": "code",
   "execution_count": 10,
   "id": "5dbdb968",
   "metadata": {},
   "outputs": [
    {
     "data": {
      "text/html": [
       "<html>\\(\\displaystyle -{\\left(b - x\\right)} \\frac{\\partial}{\\partial a}f\\left(a\\right) + f\\left(b\\right)\\)</html>"
      ],
      "text/latex": [
       "$\\displaystyle -{\\left(b - x\\right)} \\frac{\\partial}{\\partial a}f\\left(a\\right) + f\\left(b\\right)$"
      ],
      "text/plain": [
       "-(b - x)*diff(f(a), a) + f(b)"
      ]
     },
     "metadata": {},
     "output_type": "display_data"
    },
    {
     "data": {
      "text/html": [
       "<html>\\(\\displaystyle -\\frac{1}{2} \\, a^{2} \\frac{\\partial}{\\partial a}f\\left(a\\right) + a b \\frac{\\partial}{\\partial a}f\\left(a\\right) - \\frac{1}{2} \\, b^{2} \\frac{\\partial}{\\partial a}f\\left(a\\right) - a f\\left(b\\right) + b f\\left(b\\right)\\)</html>"
      ],
      "text/latex": [
       "$\\displaystyle -\\frac{1}{2} \\, a^{2} \\frac{\\partial}{\\partial a}f\\left(a\\right) + a b \\frac{\\partial}{\\partial a}f\\left(a\\right) - \\frac{1}{2} \\, b^{2} \\frac{\\partial}{\\partial a}f\\left(a\\right) - a f\\left(b\\right) + b f\\left(b\\right)$"
      ],
      "text/plain": [
       "-1/2*a^2*diff(f(a), a) + a*b*diff(f(a), a) - 1/2*b^2*diff(f(a), a) - a*f(b) + b*f(b)"
      ]
     },
     "metadata": {},
     "output_type": "display_data"
    }
   ],
   "source": [
    "a, b = var(\"a b\")\n",
    "x = var(\"x\")\n",
    "f = function(\"f\")\n",
    "\n",
    "birk = (x-b) * diff(f(x), x)(x=a) + f(b)\n",
    "display(birk)\n",
    "\n",
    "birki = integral(birk, x, a, b)\n",
    "display(birki)"
   ]
  },
  {
   "cell_type": "markdown",
   "id": "eedd8998",
   "metadata": {},
   "source": [
    "# 1"
   ]
  },
  {
   "cell_type": "code",
   "execution_count": 9,
   "id": "b81fbf0c",
   "metadata": {},
   "outputs": [
    {
     "data": {
      "text/html": [
       "<html>\\(\\displaystyle a_{0} f\\left(0\\right) + a_{2} f\\left(t_{3}\\right) + a_{3} f\\left(t_{4}\\right) + a_{1} \\mathrm{D}_{0}\\left(f\\right)\\left(0\\right)\\)</html>"
      ],
      "text/latex": [
       "$\\displaystyle a_{0} f\\left(0\\right) + a_{2} f\\left(t_{3}\\right) + a_{3} f\\left(t_{4}\\right) + a_{1} \\mathrm{D}_{0}\\left(f\\right)\\left(0\\right)$"
      ],
      "text/plain": [
       "a_0*f(0) + a_2*f(t_3) + a_3*f(t_4) + a_1*D[0](f)(0)"
      ]
     },
     "metadata": {},
     "output_type": "display_data"
    },
    {
     "data": {
      "text/html": [
       "<html>\\(\\displaystyle t \\ {\\mapsto}\\ \\frac{1}{72} \\, f\\left(6\\right) + \\frac{3}{8} \\, f\\left(2\\right) + \\frac{11}{18} \\, f\\left(0\\right) + \\frac{1}{6} \\, \\mathrm{D}_{0}\\left(f\\right)\\left(0\\right)\\)</html>"
      ],
      "text/latex": [
       "$\\displaystyle t \\ {\\mapsto}\\ \\frac{1}{72} \\, f\\left(6\\right) + \\frac{3}{8} \\, f\\left(2\\right) + \\frac{11}{18} \\, f\\left(0\\right) + \\frac{1}{6} \\, \\mathrm{D}_{0}\\left(f\\right)\\left(0\\right)$"
      ],
      "text/plain": [
       "t |--> 1/72*f(6) + 3/8*f(2) + 11/18*f(0) + 1/6*D[0](f)(0)"
      ]
     },
     "metadata": {},
     "output_type": "display_data"
    }
   ],
   "source": [
    "f = function(\"f\")\n",
    "t = var(\"t\")\n",
    "t3, t4 = var(\"t_3 t_4\")\n",
    "a0, a1, a2, a3 = var(\"a_0 a_1 a_2 a_3\")\n",
    "\n",
    "poly = a0*f(0) + a1*diff(f(t), t)(t=0) + a2*f(t3) + a3*f(t4)\n",
    "\n",
    "display(poly)\n",
    "\n",
    "sol = solve([\n",
    "    integral(e**-t*t**0, t, 0, oo) == poly.substitute_function(f, (t**0).function(t)),\n",
    "    integral(e**-t*t**1, t, 0, oo) == poly.substitute_function(f, (t**1).function(t)),\n",
    "    integral(e**-t*t**2, t, 0, oo) == poly.substitute_function(f, (t**2).function(t)),\n",
    "    integral(e**-t*t**3, t, 0, oo) == poly.substitute_function(f, (t**3).function(t)),\n",
    "    integral(e**-t*t**4, t, 0, oo) == poly.substitute_function(f, (t**4).function(t)),\n",
    "    integral(e**-t*t**5, t, 0, oo) == poly.substitute_function(f, (t**5).function(t)),\n",
    "], [a0, a1, a2, a3, t3, t4])\n",
    "# display(sol)\n",
    "\n",
    "polys = poly.substitute(sol[0]).function(t)\n",
    "display(polys)"
   ]
  },
  {
   "cell_type": "code",
   "execution_count": 10,
   "id": "6c5117f4",
   "metadata": {},
   "outputs": [],
   "source": [
    "R = (f(t) - polys(t)).function(t)"
   ]
  },
  {
   "cell_type": "code",
   "execution_count": 11,
   "id": "90452a50",
   "metadata": {},
   "outputs": [
    {
     "data": {
      "text/html": [
       "<html>\\(\\displaystyle t \\ {\\mapsto}\\ -\\frac{1}{72} \\, f\\left(6\\right) - \\frac{3}{8} \\, f\\left(2\\right) - \\frac{11}{18} \\, f\\left(0\\right) + f\\left(t\\right) - \\frac{1}{6} \\, \\mathrm{D}_{0}\\left(f\\right)\\left(0\\right)\\)</html>"
      ],
      "text/latex": [
       "$\\displaystyle t \\ {\\mapsto}\\ -\\frac{1}{72} \\, f\\left(6\\right) - \\frac{3}{8} \\, f\\left(2\\right) - \\frac{11}{18} \\, f\\left(0\\right) + f\\left(t\\right) - \\frac{1}{6} \\, \\mathrm{D}_{0}\\left(f\\right)\\left(0\\right)$"
      ],
      "text/plain": [
       "t |--> -1/72*f(6) - 3/8*f(2) - 11/18*f(0) + f(t) - 1/6*D[0](f)(0)"
      ]
     },
     "execution_count": 11,
     "metadata": {},
     "output_type": "execute_result"
    }
   ],
   "source": [
    "R"
   ]
  },
  {
   "cell_type": "code",
   "execution_count": 4,
   "id": "afdb9c06",
   "metadata": {},
   "outputs": [
    {
     "data": {
      "text/plain": [
       "t - 1"
      ]
     },
     "metadata": {},
     "output_type": "display_data"
    }
   ],
   "source": [
    "display(R.substitute_function(f, (t).function(t)))"
   ]
  },
  {
   "cell_type": "code",
   "execution_count": 15,
   "id": "0ac65aaf",
   "metadata": {},
   "outputs": [
    {
     "data": {
      "text/html": [
       "<html>\\(\\displaystyle 0\\)</html>"
      ],
      "text/latex": [
       "$\\displaystyle 0$"
      ],
      "text/plain": [
       "0"
      ]
     },
     "metadata": {},
     "output_type": "display_data"
    },
    {
     "data": {
      "text/html": [
       "<html>\\(\\displaystyle t - 1\\)</html>"
      ],
      "text/latex": [
       "$\\displaystyle t - 1$"
      ],
      "text/plain": [
       "t - 1"
      ]
     },
     "metadata": {},
     "output_type": "display_data"
    }
   ],
   "source": [
    "pf = (t**0).function(t)\n",
    "display(R.substitute_function(f, pf))\n",
    "\n",
    "pf = (t**1).function(t)\n",
    "display(R.substitute_function(f, pf))\n",
    "\n",
    "# pf = (t**2).function(t)\n",
    "# display(R.substitute_function(f, pf))"
   ]
  },
  {
   "cell_type": "code",
   "execution_count": 21,
   "id": "3d8f26cd",
   "metadata": {},
   "outputs": [
    {
     "data": {
      "text/html": [
       "<html>\\(\\displaystyle \\int_{-1}^{1} f\\left(t\\right)\\,{d t}\\)</html>"
      ],
      "text/latex": [
       "$\\displaystyle \\int_{-1}^{1} f\\left(t\\right)\\,{d t}$"
      ],
      "text/plain": [
       "integrate(f(t), t, -1, 1)"
      ]
     },
     "metadata": {},
     "output_type": "display_data"
    },
    {
     "data": {
      "text/html": [
       "<html>\\(\\displaystyle \\left( t, t_{3}, t_{4} \\right) \\ {\\mapsto} \\ A_{1} f\\left(-1\\right) + A_{3} f\\left(t_{3}\\right) + A_{4} f\\left(t_{4}\\right) + A_{2} \\mathrm{D}_{0}\\left(f\\right)\\left(-1\\right)\\)</html>"
      ],
      "text/latex": [
       "$\\displaystyle \\left( t, t_{3}, t_{4} \\right) \\ {\\mapsto} \\ A_{1} f\\left(-1\\right) + A_{3} f\\left(t_{3}\\right) + A_{4} f\\left(t_{4}\\right) + A_{2} \\mathrm{D}_{0}\\left(f\\right)\\left(-1\\right)$"
      ],
      "text/plain": [
       "(t, t_3, t_4) |--> A_1*f(-1) + A_3*f(t_3) + A_4*f(t_4) + A_2*D[0](f)(-1)"
      ]
     },
     "metadata": {},
     "output_type": "display_data"
    },
    {
     "data": {
      "text/html": [
       "<html>\\(\\displaystyle \\left[\\right]\\)</html>"
      ],
      "text/latex": [
       "$\\displaystyle \\left[\\right]$"
      ],
      "text/plain": [
       "[]"
      ]
     },
     "metadata": {},
     "output_type": "display_data"
    }
   ],
   "source": [
    "f = function(\"f\")\n",
    "t = var(\"t\")\n",
    "t3, t4 = var(\"t_3 t_4\")\n",
    "A1, A2, A3, A4 = var(\"A_1 A_2 A_3 A_4\")\n",
    "\n",
    "int_ = integral(f(t), t, -1, 1)\n",
    "poly = (A1*f(-1) + A2*diff(f(t), t)(t=-1) + A3*f(t3) + A4*f(t4)).function(t, t3, t4)\n",
    "\n",
    "display(int_)\n",
    "display(poly)\n",
    "\n",
    "sol = solve([\n",
    "    integral(1, t, -1, 1) == f(t, 1, 1),\n",
    "    integral(t, t, -1, 1) == f(t, t3, t4),\n",
    "    integral(t**2, t, -1, 1) == f(t, t3**2, t4**2),\n",
    "    integral(t**3, t, -1, 1) == f(t, t3**3, t4**3),\n",
    "], [A1, A2, A3, A4])\n",
    "\n",
    "# sol = solve(int_ == poly, [A1, A2, A3, A4])\n",
    "display(sol)"
   ]
  },
  {
   "cell_type": "markdown",
   "id": "078bf787",
   "metadata": {},
   "source": [
    "# 2"
   ]
  },
  {
   "cell_type": "markdown",
   "id": "7473d2d5",
   "metadata": {},
   "source": [
    "## (a)"
   ]
  },
  {
   "cell_type": "markdown",
   "id": "4e1982e0",
   "metadata": {},
   "source": [
    "$$\n",
    "f(\\alpha)=0\n",
    "$$"
   ]
  },
  {
   "cell_type": "code",
   "execution_count": 142,
   "id": "cb6a2609",
   "metadata": {},
   "outputs": [
    {
     "data": {
      "text/html": [
       "<html>\\(\\displaystyle x \\ {\\mapsto}\\ x - \\frac{f\\left(x\\right)}{\\sqrt{\\frac{\\partial}{\\partial x}f\\left(x\\right)^{2} - f\\left(x\\right) \\frac{\\partial^{2}}{(\\partial x)^{2}}f\\left(x\\right)}}\\)</html>"
      ],
      "text/latex": [
       "$\\displaystyle x \\ {\\mapsto}\\ x - \\frac{f\\left(x\\right)}{\\sqrt{\\frac{\\partial}{\\partial x}f\\left(x\\right)^{2} - f\\left(x\\right) \\frac{\\partial^{2}}{(\\partial x)^{2}}f\\left(x\\right)}}$"
      ],
      "text/plain": [
       "x |--> x - f(x)/sqrt(diff(f(x), x)^2 - f(x)*diff(f(x), x, x))"
      ]
     },
     "metadata": {},
     "output_type": "display_data"
    },
    {
     "data": {
      "text/html": [
       "<html>\\(\\displaystyle \\alpha\\)</html>"
      ],
      "text/latex": [
       "$\\displaystyle \\alpha$"
      ],
      "text/plain": [
       "alpha"
      ]
     },
     "metadata": {},
     "output_type": "display_data"
    }
   ],
   "source": [
    "f = function(\"f\")\n",
    "g = function(\"g\")\n",
    "x = var(\"x\")\n",
    "alpha = var(\"alpha\")\n",
    "\n",
    "g(x) = x - f(x) / sqrt(diff(f(x), x)(x=x)**2 - f(x)*diff(f(x), x, 2)(x=x))\n",
    "display(g)\n",
    "\n",
    "display(g(x=alpha).substitute(f(alpha) == 0))"
   ]
  },
  {
   "cell_type": "code",
   "execution_count": 143,
   "id": "5e12ef33",
   "metadata": {},
   "outputs": [
    {
     "data": {
      "text/html": [
       "<html>\\(\\displaystyle \\frac{\\sqrt{\\frac{\\partial}{\\partial \\alpha}f\\left(\\alpha\\right)^{2}} - \\frac{\\partial}{\\partial \\alpha}f\\left(\\alpha\\right)}{\\sqrt{\\frac{\\partial}{\\partial \\alpha}f\\left(\\alpha\\right)^{2}}}\\)</html>"
      ],
      "text/latex": [
       "$\\displaystyle \\frac{\\sqrt{\\frac{\\partial}{\\partial \\alpha}f\\left(\\alpha\\right)^{2}} - \\frac{\\partial}{\\partial \\alpha}f\\left(\\alpha\\right)}{\\sqrt{\\frac{\\partial}{\\partial \\alpha}f\\left(\\alpha\\right)^{2}}}$"
      ],
      "text/plain": [
       "(sqrt(diff(f(alpha), alpha)^2) - diff(f(alpha), alpha))/sqrt(diff(f(alpha), alpha)^2)"
      ]
     },
     "metadata": {},
     "output_type": "display_data"
    }
   ],
   "source": [
    "gd = diff(g(x), x)\n",
    "display(gd(x=alpha).substitute(f(alpha) == 0).full_simplify())"
   ]
  },
  {
   "cell_type": "markdown",
   "id": "9e32c55e",
   "metadata": {},
   "source": [
    "Daca ca $f'(\\alpha)\\gt0$, atunci vom avea $g'(\\alpha)=0$. Altfel, $g'(\\alpha)=2$."
   ]
  },
  {
   "cell_type": "code",
   "execution_count": 144,
   "id": "6c00eedb",
   "metadata": {},
   "outputs": [
    {
     "data": {
      "text/html": [
       "<html>\\(\\displaystyle 0\\)</html>"
      ],
      "text/latex": [
       "$\\displaystyle 0$"
      ],
      "text/plain": [
       "0"
      ]
     },
     "execution_count": 144,
     "metadata": {},
     "output_type": "execute_result"
    }
   ],
   "source": [
    "gdd = diff(gd, x)\n",
    "gdd(x=alpha).substitute(f(alpha) == 0).full_simplify()"
   ]
  },
  {
   "cell_type": "markdown",
   "id": "912e0062",
   "metadata": {},
   "source": [
    "Asadar $g''(\\alpha)=0$."
   ]
  },
  {
   "cell_type": "code",
   "execution_count": 145,
   "id": "797c6529",
   "metadata": {},
   "outputs": [
    {
     "data": {
      "text/html": [
       "<html>\\(\\displaystyle \\frac{3 \\, \\frac{\\partial^{2}}{(\\partial \\alpha)^{2}}f\\left(\\alpha\\right)^{2} - 4 \\, \\frac{\\partial}{\\partial \\alpha}f\\left(\\alpha\\right) \\frac{\\partial^{3}}{(\\partial \\alpha)^{3}}f\\left(\\alpha\\right)}{4 \\, \\sqrt{\\frac{\\partial}{\\partial \\alpha}f\\left(\\alpha\\right)^{2}} \\frac{\\partial}{\\partial \\alpha}f\\left(\\alpha\\right)}\\)</html>"
      ],
      "text/latex": [
       "$\\displaystyle \\frac{3 \\, \\frac{\\partial^{2}}{(\\partial \\alpha)^{2}}f\\left(\\alpha\\right)^{2} - 4 \\, \\frac{\\partial}{\\partial \\alpha}f\\left(\\alpha\\right) \\frac{\\partial^{3}}{(\\partial \\alpha)^{3}}f\\left(\\alpha\\right)}{4 \\, \\sqrt{\\frac{\\partial}{\\partial \\alpha}f\\left(\\alpha\\right)^{2}} \\frac{\\partial}{\\partial \\alpha}f\\left(\\alpha\\right)}$"
      ],
      "text/plain": [
       "1/4*(3*diff(f(alpha), alpha, alpha)^2 - 4*diff(f(alpha), alpha)*diff(f(alpha), alpha, alpha, alpha))/(sqrt(diff(f(alpha), alpha)^2)*diff(f(alpha), alpha))"
      ]
     },
     "execution_count": 145,
     "metadata": {},
     "output_type": "execute_result"
    }
   ],
   "source": [
    "gddd = diff(gdd, x)\n",
    "gddd(x=alpha).substitute(f(alpha) == 0).full_simplify()\n",
    "# solve(gddd(x=alpha).substitute(f(alpha) == 0) == 0, [f(alpha)])"
   ]
  },
  {
   "cell_type": "markdown",
   "id": "fc1baacf",
   "metadata": {},
   "source": [
    "Deoarece $g'(\\alpha)=g''(\\alpha)=0$, inseamna ca gradul de convergenta al sirului este cel putin $p=3$, pentru $f'(\\alpha)\\gt0$ (teorema). Asadar, sirul generat converge cubic."
   ]
  },
  {
   "cell_type": "markdown",
   "id": "7ebb06ce",
   "metadata": {},
   "source": [
    "# 4"
   ]
  },
  {
   "cell_type": "markdown",
   "id": "84d5de89",
   "metadata": {},
   "source": [
    "## (a)"
   ]
  },
  {
   "cell_type": "code",
   "execution_count": 211,
   "id": "51cc5c5a",
   "metadata": {},
   "outputs": [
    {
     "data": {
      "text/html": [
       "<html>\\(\\displaystyle x \\ {\\mapsto}\\ x - \\frac{2 \\, f\\left(x\\right)}{{\\left(\\sqrt{-\\frac{2 \\, f\\left(x\\right) \\frac{\\partial^{2}}{(\\partial x)^{2}}f\\left(x\\right)}{\\frac{\\partial}{\\partial x}f\\left(x\\right)^{2}} + 1} + 1\\right)} \\frac{\\partial}{\\partial x}f\\left(x\\right)}\\)</html>"
      ],
      "text/latex": [
       "$\\displaystyle x \\ {\\mapsto}\\ x - \\frac{2 \\, f\\left(x\\right)}{{\\left(\\sqrt{-\\frac{2 \\, f\\left(x\\right) \\frac{\\partial^{2}}{(\\partial x)^{2}}f\\left(x\\right)}{\\frac{\\partial}{\\partial x}f\\left(x\\right)^{2}} + 1} + 1\\right)} \\frac{\\partial}{\\partial x}f\\left(x\\right)}$"
      ],
      "text/plain": [
       "x |--> x - 2*f(x)/((sqrt(-2*f(x)*diff(f(x), x, x)/diff(f(x), x)^2 + 1) + 1)*diff(f(x), x))"
      ]
     },
     "metadata": {},
     "output_type": "display_data"
    }
   ],
   "source": [
    "f = function(\"f\")\n",
    "x = var(\"x\")\n",
    "alpha = var(\"alpha\")\n",
    "\n",
    "g = (\n",
    "    x - 2*f(x)\n",
    "    / (\n",
    "        diff(f(x), x)(x=x)\n",
    "        * (1 + sqrt(1 - 2*f(x)*diff(f(x), x, 2)(x=x)/diff(f(x), x)(x=x)**2))\n",
    "    )\n",
    ").function(x)\n",
    "display(g)"
   ]
  },
  {
   "cell_type": "code",
   "execution_count": 212,
   "id": "b63d8503",
   "metadata": {},
   "outputs": [
    {
     "data": {
      "text/html": [
       "<html>\\(\\displaystyle \\alpha\\)</html>"
      ],
      "text/latex": [
       "$\\displaystyle \\alpha$"
      ],
      "text/plain": [
       "alpha"
      ]
     },
     "metadata": {},
     "output_type": "display_data"
    }
   ],
   "source": [
    "display(g(alpha).substitute(f(alpha) == 0))"
   ]
  },
  {
   "cell_type": "code",
   "execution_count": 213,
   "id": "4ac83f01",
   "metadata": {},
   "outputs": [
    {
     "data": {
      "text/html": [
       "<html>\\(\\displaystyle 0\\)</html>"
      ],
      "text/latex": [
       "$\\displaystyle 0$"
      ],
      "text/plain": [
       "0"
      ]
     },
     "execution_count": 213,
     "metadata": {},
     "output_type": "execute_result"
    }
   ],
   "source": [
    "gd = diff(g(x), x)\n",
    "gd(x=alpha).substitute(f(alpha) == 0)"
   ]
  },
  {
   "cell_type": "markdown",
   "id": "df7687c0",
   "metadata": {},
   "source": [
    "Asadar $g'(\\alpha)=0$."
   ]
  },
  {
   "cell_type": "code",
   "execution_count": 214,
   "id": "b71f4ffa",
   "metadata": {},
   "outputs": [
    {
     "data": {
      "text/html": [
       "<html>\\(\\displaystyle 0\\)</html>"
      ],
      "text/latex": [
       "$\\displaystyle 0$"
      ],
      "text/plain": [
       "0"
      ]
     },
     "execution_count": 214,
     "metadata": {},
     "output_type": "execute_result"
    }
   ],
   "source": [
    "gdd = diff(gd, x)\n",
    "gdd(x=alpha).substitute(f(alpha) == 0)"
   ]
  },
  {
   "cell_type": "markdown",
   "id": "79168313",
   "metadata": {},
   "source": [
    "Asadar $g''(\\alpha)=0$."
   ]
  },
  {
   "cell_type": "code",
   "execution_count": 215,
   "id": "e273614c",
   "metadata": {},
   "outputs": [
    {
     "data": {
      "text/html": [
       "<html>\\(\\displaystyle -\\frac{\\frac{\\partial^{3}}{(\\partial \\alpha)^{3}}f\\left(\\alpha\\right)}{\\frac{\\partial}{\\partial \\alpha}f\\left(\\alpha\\right)}\\)</html>"
      ],
      "text/latex": [
       "$\\displaystyle -\\frac{\\frac{\\partial^{3}}{(\\partial \\alpha)^{3}}f\\left(\\alpha\\right)}{\\frac{\\partial}{\\partial \\alpha}f\\left(\\alpha\\right)}$"
      ],
      "text/plain": [
       "-diff(f(alpha), alpha, alpha, alpha)/diff(f(alpha), alpha)"
      ]
     },
     "execution_count": 215,
     "metadata": {},
     "output_type": "execute_result"
    }
   ],
   "source": [
    "gddd = diff(gdd, x)\n",
    "gddd(x=alpha).substitute(f(alpha) == 0).full_simplify()"
   ]
  },
  {
   "cell_type": "markdown",
   "id": "cf59076e",
   "metadata": {},
   "source": [
    "Deoarece $g'(\\alpha)=g''(\\alpha)=0$, inseama ca gradul de convergenta al sirului este cel putin $p=3$ (teorema). Asadar, sirul generat converge cubic."
   ]
  },
  {
   "cell_type": "markdown",
   "id": "d2df0696",
   "metadata": {},
   "source": [
    "# 3"
   ]
  },
  {
   "cell_type": "code",
   "execution_count": 183,
   "id": "d69e3ebb",
   "metadata": {},
   "outputs": [
    {
     "data": {
      "text/html": [
       "<html>\\(\\displaystyle A_{2} t_{3}^{2} + A_{3} t_{4}^{2} + A_{0} - 2 \\, A_{1}\\)</html>"
      ],
      "text/latex": [
       "$\\displaystyle A_{2} t_{3}^{2} + A_{3} t_{4}^{2} + A_{0} - 2 \\, A_{1}$"
      ],
      "text/plain": [
       "A_2*t_3^2 + A_3*t_4^2 + A_0 - 2*A_1"
      ]
     },
     "execution_count": 183,
     "metadata": {},
     "output_type": "execute_result"
    }
   ],
   "source": [
    "poly.substitute_function(f, (t**2).function(t))"
   ]
  },
  {
   "cell_type": "code",
   "execution_count": 219,
   "id": "7469d067",
   "metadata": {},
   "outputs": [
    {
     "data": {
      "text/html": [
       "<html>\\(\\displaystyle A_{0} f\\left(-1\\right) + A_{1} \\mathrm{D}_{0}\\left(f\\right)\\left(-1\\right)\\)</html>"
      ],
      "text/latex": [
       "$\\displaystyle A_{0} f\\left(-1\\right) + A_{1} \\mathrm{D}_{0}\\left(f\\right)\\left(-1\\right)$"
      ],
      "text/plain": [
       "A_0*f(-1) + A_1*D[0](f)(-1)"
      ]
     },
     "execution_count": 219,
     "metadata": {},
     "output_type": "execute_result"
    }
   ],
   "source": [
    "poly"
   ]
  },
  {
   "cell_type": "code",
   "execution_count": 237,
   "id": "d2047c12",
   "metadata": {},
   "outputs": [
    {
     "data": {
      "text/html": [
       "<html>\\(\\displaystyle A_{0} + A_{1}\\)</html>"
      ],
      "text/latex": [
       "$\\displaystyle A_{0} + A_{1}$"
      ],
      "text/plain": [
       "A_0 + A_1"
      ]
     },
     "execution_count": 237,
     "metadata": {},
     "output_type": "execute_result"
    }
   ],
   "source": [
    "poly.substitute_function(f, (t**1).function(t))"
   ]
  },
  {
   "cell_type": "code",
   "execution_count": 238,
   "id": "56c6d3da",
   "metadata": {},
   "outputs": [
    {
     "data": {
      "text/html": [
       "<html>\\(\\displaystyle A_{0}\\)</html>"
      ],
      "text/latex": [
       "$\\displaystyle A_{0}$"
      ],
      "text/plain": [
       "A_0"
      ]
     },
     "execution_count": 238,
     "metadata": {},
     "output_type": "execute_result"
    }
   ],
   "source": [
    "poly.substitute_function(f, (t**0).function(t))"
   ]
  },
  {
   "cell_type": "code",
   "execution_count": 1,
   "id": "df2740f8",
   "metadata": {},
   "outputs": [
    {
     "data": {
      "text/plain": [
       "A_0*f(1) + A_1*D[0](f)(-1)"
      ]
     },
     "metadata": {},
     "output_type": "display_data"
    },
    {
     "data": {
      "text/plain": [
       "t |--> -A_0*f(1) - A_1*D[0](f)(-1) + f(t)"
      ]
     },
     "metadata": {},
     "output_type": "display_data"
    },
    {
     "data": {
      "text/plain": [
       "[[A_0 == 2, A_1 == -2]]"
      ]
     },
     "metadata": {},
     "output_type": "display_data"
    }
   ],
   "source": [
    "f = function(\"f\")\n",
    "t = var(\"t\")\n",
    "t3, t4 = var(\"t_3 t_4\")\n",
    "A0, A1, A2, A3 = var(\"A_0 A_1 A_2 A_3\")\n",
    "\n",
    "# poly = A0*f(-1) + A1*diff(f(t), t)(t=-1) + A2*f(t3) + A3*f(t4)\n",
    "poly = A0*f(1) + A1*diff(f(t), t)(t=-1)\n",
    "display(poly)\n",
    "\n",
    "# poly = A2*f(t3) + A3*f(t4)\n",
    "R = (f(t) - poly).function(t)\n",
    "display(R)\n",
    "\n",
    "sol = solve([\n",
    "    integral(t**0, t, -1, 1) - poly.substitute_function(f, (t**0).function(t)) == 0,\n",
    "    integral(t**1, t, -1, 1) - poly.substitute_function(f, (t**1).function(t)) == 0,\n",
    "#     integral(t**2, t, -1, 1) == poly.substitute_function(f, (t**2).function(t)),\n",
    "#     integral(t**3, t, -1, 1) == poly.substitute_function(f, (t**3).function(t)),\n",
    "#     integral(t**4, t, -1, 1) == poly.substitute_function(f, (t**4).function(t)),\n",
    "#     integral(t**5, t, -1, 1) == poly.substitute_function(f, (t**5).function(t)),\n",
    "#     R.substitute_function(f, (t**0).function(t)) == 0,\n",
    "#     R.substitute_function(f, (t**1).function(t)) == 0,\n",
    "#     A2==0,\n",
    "#     A3==0,\n",
    "#     R.substitute_function(f, (t**2).function(t)) == 0,\n",
    "#     R.substitute_function(f, (t**3).function(t)) == 0,\n",
    "#     R.substitute_function(f, (t**4).function(t)) == 0,\n",
    "#     R.substitute_function(f, (t**5).function(t)) == 0,\n",
    "# ], [A0, A1, A2, A3, t3, t4])\n",
    "], [A0, A1])\n",
    "display(sol)\n",
    "\n",
    "# polys = poly.substitute(sol[0]).function(t)\n",
    "# display(polys)"
   ]
  },
  {
   "cell_type": "code",
   "execution_count": 2,
   "id": "a6ba9e3f",
   "metadata": {},
   "outputs": [
    {
     "data": {
      "text/plain": [
       "2*f(1) - 2*D[0](f)(-1)"
      ]
     },
     "execution_count": 2,
     "metadata": {},
     "output_type": "execute_result"
    }
   ],
   "source": [
    "poly.substitute(sol[0])"
   ]
  },
  {
   "cell_type": "code",
   "execution_count": 3,
   "id": "0b81f831",
   "metadata": {},
   "outputs": [
    {
     "data": {
      "text/plain": [
       "t |--> -2*f(1) + f(t) + 2*D[0](f)(-1)"
      ]
     },
     "metadata": {},
     "output_type": "display_data"
    },
    {
     "data": {
      "text/plain": [
       "-1"
      ]
     },
     "metadata": {},
     "output_type": "display_data"
    },
    {
     "data": {
      "text/plain": [
       "t"
      ]
     },
     "metadata": {},
     "output_type": "display_data"
    },
    {
     "data": {
      "text/plain": [
       "t^2 - 6"
      ]
     },
     "metadata": {},
     "output_type": "display_data"
    },
    {
     "data": {
      "text/plain": [
       "t^3 + 4"
      ]
     },
     "metadata": {},
     "output_type": "display_data"
    },
    {
     "data": {
      "text/plain": [
       "t^4 - 10"
      ]
     },
     "metadata": {},
     "output_type": "display_data"
    },
    {
     "data": {
      "text/plain": [
       "t^5 + 8"
      ]
     },
     "metadata": {},
     "output_type": "display_data"
    },
    {
     "data": {
      "text/plain": [
       "t^6 - 14"
      ]
     },
     "metadata": {},
     "output_type": "display_data"
    }
   ],
   "source": [
    "Rs = R.substitute(sol[0])\n",
    "display(Rs)\n",
    "\n",
    "for p in range(7):\n",
    "    pf = (t**p).function(t)\n",
    "    display(Rs.substitute_function(f, pf))"
   ]
  },
  {
   "cell_type": "markdown",
   "id": "ff44cdaf",
   "metadata": {},
   "source": [
    "# Incercare"
   ]
  },
  {
   "cell_type": "markdown",
   "id": "b9cdf93b",
   "metadata": {},
   "source": [
    "Cautam polinomul Birkhoff care interpoleaza x0=-1 cu f(x0) si f'(x0), x1=t3 cu f(x1), x2=t4 cu f(x2)\n",
    "\n",
    "n = 2 + 1 + 1 - 1 = 4"
   ]
  },
  {
   "cell_type": "code",
   "execution_count": 63,
   "id": "b25270f0",
   "metadata": {},
   "outputs": [
    {
     "data": {
      "text/html": [
       "<html>\\(\\displaystyle x \\ {\\mapsto}\\ a_{3} x^{3} + a_{2} x^{2} + a_{1} x + a_{0}\\)</html>"
      ],
      "text/latex": [
       "$\\displaystyle x \\ {\\mapsto}\\ a_{3} x^{3} + a_{2} x^{2} + a_{1} x + a_{0}$"
      ],
      "text/plain": [
       "x |--> a_3*x^3 + a_2*x^2 + a_1*x + a_0"
      ]
     },
     "metadata": {},
     "output_type": "display_data"
    },
    {
     "data": {
      "text/html": [
       "<html>\\(\\displaystyle x \\ {\\mapsto}\\ -\\frac{{\\left(x_{1}^{2} f\\left(x_{2}\\right) - {\\left(x_{1}^{2} - x_{2}^{2} + 2 \\, x_{1} - 2 \\, x_{2}\\right)} f\\left(-1\\right) - {\\left(x_{2}^{2} + 2 \\, x_{2} + 1\\right)} f\\left(x_{1}\\right) + 2 \\, x_{1} f\\left(x_{2}\\right) - {\\left(x_{1}^{2} {\\left(x_{2} + 1\\right)} - {\\left(x_{2}^{2} - 1\\right)} x_{1} - x_{2}^{2} - x_{2}\\right)} \\mathrm{D}_{0}\\left(f\\right)\\left(-1\\right) + f\\left(x_{2}\\right)\\right)} x^{3}}{{\\left(x_{2}^{2} + 2 \\, x_{2} + 1\\right)} x_{1}^{3} - {\\left(x_{2}^{3} - 3 \\, x_{2} - 2\\right)} x_{1}^{2} - x_{2}^{3} - {\\left(2 \\, x_{2}^{3} + 3 \\, x_{2}^{2} - 1\\right)} x_{1} - 2 \\, x_{2}^{2} - x_{2}} + \\frac{{\\left(x_{1}^{3} f\\left(x_{2}\\right) - {\\left(x_{1}^{3} - x_{2}^{3} - 3 \\, x_{1} + 3 \\, x_{2}\\right)} f\\left(-1\\right) - {\\left(x_{2}^{3} - 3 \\, x_{2} - 2\\right)} f\\left(x_{1}\\right) - 3 \\, x_{1} f\\left(x_{2}\\right) - {\\left(x_{1}^{3} {\\left(x_{2} + 1\\right)} - x_{2}^{3} - {\\left(x_{2}^{3} + 1\\right)} x_{1} + x_{2}\\right)} \\mathrm{D}_{0}\\left(f\\right)\\left(-1\\right) - 2 \\, f\\left(x_{2}\\right)\\right)} x^{2}}{{\\left(x_{2}^{2} + 2 \\, x_{2} + 1\\right)} x_{1}^{3} - {\\left(x_{2}^{3} - 3 \\, x_{2} - 2\\right)} x_{1}^{2} - x_{2}^{3} - {\\left(2 \\, x_{2}^{3} + 3 \\, x_{2}^{2} - 1\\right)} x_{1} - 2 \\, x_{2}^{2} - x_{2}} + \\frac{{\\left(2 \\, x_{1}^{3} f\\left(x_{2}\\right) + 3 \\, x_{1}^{2} f\\left(x_{2}\\right) - {\\left(2 \\, x_{1}^{3} - 2 \\, x_{2}^{3} + 3 \\, x_{1}^{2} - 3 \\, x_{2}^{2}\\right)} f\\left(-1\\right) - {\\left(2 \\, x_{2}^{3} + 3 \\, x_{2}^{2} - 1\\right)} f\\left(x_{1}\\right) + {\\left({\\left(x_{2}^{2} - 1\\right)} x_{1}^{3} - {\\left(x_{2}^{3} + 1\\right)} x_{1}^{2} + x_{2}^{3} + x_{2}^{2}\\right)} \\mathrm{D}_{0}\\left(f\\right)\\left(-1\\right) - f\\left(x_{2}\\right)\\right)} x}{{\\left(x_{2}^{2} + 2 \\, x_{2} + 1\\right)} x_{1}^{3} - {\\left(x_{2}^{3} - 3 \\, x_{2} - 2\\right)} x_{1}^{2} - x_{2}^{3} - {\\left(2 \\, x_{2}^{3} + 3 \\, x_{2}^{2} - 1\\right)} x_{1} - 2 \\, x_{2}^{2} - x_{2}} + \\frac{x_{1}^{3} f\\left(x_{2}\\right) + 2 \\, x_{1}^{2} f\\left(x_{2}\\right) + {\\left({\\left(x_{2}^{2} + 2 \\, x_{2}\\right)} x_{1}^{3} - {\\left(x_{2}^{3} - 3 \\, x_{2}\\right)} x_{1}^{2} - {\\left(2 \\, x_{2}^{3} + 3 \\, x_{2}^{2}\\right)} x_{1}\\right)} f\\left(-1\\right) - {\\left(x_{2}^{3} + 2 \\, x_{2}^{2} + x_{2}\\right)} f\\left(x_{1}\\right) + x_{1} f\\left(x_{2}\\right) + {\\left({\\left(x_{2}^{2} + x_{2}\\right)} x_{1}^{3} - {\\left(x_{2}^{3} - x_{2}\\right)} x_{1}^{2} - {\\left(x_{2}^{3} + x_{2}^{2}\\right)} x_{1}\\right)} \\mathrm{D}_{0}\\left(f\\right)\\left(-1\\right)}{{\\left(x_{2}^{2} + 2 \\, x_{2} + 1\\right)} x_{1}^{3} - {\\left(x_{2}^{3} - 3 \\, x_{2} - 2\\right)} x_{1}^{2} - x_{2}^{3} - {\\left(2 \\, x_{2}^{3} + 3 \\, x_{2}^{2} - 1\\right)} x_{1} - 2 \\, x_{2}^{2} - x_{2}}\\)</html>"
      ],
      "text/latex": [
       "$\\displaystyle x \\ {\\mapsto}\\ -\\frac{{\\left(x_{1}^{2} f\\left(x_{2}\\right) - {\\left(x_{1}^{2} - x_{2}^{2} + 2 \\, x_{1} - 2 \\, x_{2}\\right)} f\\left(-1\\right) - {\\left(x_{2}^{2} + 2 \\, x_{2} + 1\\right)} f\\left(x_{1}\\right) + 2 \\, x_{1} f\\left(x_{2}\\right) - {\\left(x_{1}^{2} {\\left(x_{2} + 1\\right)} - {\\left(x_{2}^{2} - 1\\right)} x_{1} - x_{2}^{2} - x_{2}\\right)} \\mathrm{D}_{0}\\left(f\\right)\\left(-1\\right) + f\\left(x_{2}\\right)\\right)} x^{3}}{{\\left(x_{2}^{2} + 2 \\, x_{2} + 1\\right)} x_{1}^{3} - {\\left(x_{2}^{3} - 3 \\, x_{2} - 2\\right)} x_{1}^{2} - x_{2}^{3} - {\\left(2 \\, x_{2}^{3} + 3 \\, x_{2}^{2} - 1\\right)} x_{1} - 2 \\, x_{2}^{2} - x_{2}} + \\frac{{\\left(x_{1}^{3} f\\left(x_{2}\\right) - {\\left(x_{1}^{3} - x_{2}^{3} - 3 \\, x_{1} + 3 \\, x_{2}\\right)} f\\left(-1\\right) - {\\left(x_{2}^{3} - 3 \\, x_{2} - 2\\right)} f\\left(x_{1}\\right) - 3 \\, x_{1} f\\left(x_{2}\\right) - {\\left(x_{1}^{3} {\\left(x_{2} + 1\\right)} - x_{2}^{3} - {\\left(x_{2}^{3} + 1\\right)} x_{1} + x_{2}\\right)} \\mathrm{D}_{0}\\left(f\\right)\\left(-1\\right) - 2 \\, f\\left(x_{2}\\right)\\right)} x^{2}}{{\\left(x_{2}^{2} + 2 \\, x_{2} + 1\\right)} x_{1}^{3} - {\\left(x_{2}^{3} - 3 \\, x_{2} - 2\\right)} x_{1}^{2} - x_{2}^{3} - {\\left(2 \\, x_{2}^{3} + 3 \\, x_{2}^{2} - 1\\right)} x_{1} - 2 \\, x_{2}^{2} - x_{2}} + \\frac{{\\left(2 \\, x_{1}^{3} f\\left(x_{2}\\right) + 3 \\, x_{1}^{2} f\\left(x_{2}\\right) - {\\left(2 \\, x_{1}^{3} - 2 \\, x_{2}^{3} + 3 \\, x_{1}^{2} - 3 \\, x_{2}^{2}\\right)} f\\left(-1\\right) - {\\left(2 \\, x_{2}^{3} + 3 \\, x_{2}^{2} - 1\\right)} f\\left(x_{1}\\right) + {\\left({\\left(x_{2}^{2} - 1\\right)} x_{1}^{3} - {\\left(x_{2}^{3} + 1\\right)} x_{1}^{2} + x_{2}^{3} + x_{2}^{2}\\right)} \\mathrm{D}_{0}\\left(f\\right)\\left(-1\\right) - f\\left(x_{2}\\right)\\right)} x}{{\\left(x_{2}^{2} + 2 \\, x_{2} + 1\\right)} x_{1}^{3} - {\\left(x_{2}^{3} - 3 \\, x_{2} - 2\\right)} x_{1}^{2} - x_{2}^{3} - {\\left(2 \\, x_{2}^{3} + 3 \\, x_{2}^{2} - 1\\right)} x_{1} - 2 \\, x_{2}^{2} - x_{2}} + \\frac{x_{1}^{3} f\\left(x_{2}\\right) + 2 \\, x_{1}^{2} f\\left(x_{2}\\right) + {\\left({\\left(x_{2}^{2} + 2 \\, x_{2}\\right)} x_{1}^{3} - {\\left(x_{2}^{3} - 3 \\, x_{2}\\right)} x_{1}^{2} - {\\left(2 \\, x_{2}^{3} + 3 \\, x_{2}^{2}\\right)} x_{1}\\right)} f\\left(-1\\right) - {\\left(x_{2}^{3} + 2 \\, x_{2}^{2} + x_{2}\\right)} f\\left(x_{1}\\right) + x_{1} f\\left(x_{2}\\right) + {\\left({\\left(x_{2}^{2} + x_{2}\\right)} x_{1}^{3} - {\\left(x_{2}^{3} - x_{2}\\right)} x_{1}^{2} - {\\left(x_{2}^{3} + x_{2}^{2}\\right)} x_{1}\\right)} \\mathrm{D}_{0}\\left(f\\right)\\left(-1\\right)}{{\\left(x_{2}^{2} + 2 \\, x_{2} + 1\\right)} x_{1}^{3} - {\\left(x_{2}^{3} - 3 \\, x_{2} - 2\\right)} x_{1}^{2} - x_{2}^{3} - {\\left(2 \\, x_{2}^{3} + 3 \\, x_{2}^{2} - 1\\right)} x_{1} - 2 \\, x_{2}^{2} - x_{2}}$"
      ],
      "text/plain": [
       "x |--> -(x_1^2*f(x_2) - (x_1^2 - x_2^2 + 2*x_1 - 2*x_2)*f(-1) - (x_2^2 + 2*x_2 + 1)*f(x_1) + 2*x_1*f(x_2) - (x_1^2*(x_2 + 1) - (x_2^2 - 1)*x_1 - x_2^2 - x_2)*D[0](f)(-1) + f(x_2))*x^3/((x_2^2 + 2*x_2 + 1)*x_1^3 - (x_2^3 - 3*x_2 - 2)*x_1^2 - x_2^3 - (2*x_2^3 + 3*x_2^2 - 1)*x_1 - 2*x_2^2 - x_2) + (x_1^3*f(x_2) - (x_1^3 - x_2^3 - 3*x_1 + 3*x_2)*f(-1) - (x_2^3 - 3*x_2 - 2)*f(x_1) - 3*x_1*f(x_2) - (x_1^3*(x_2 + 1) - x_2^3 - (x_2^3 + 1)*x_1 + x_2)*D[0](f)(-1) - 2*f(x_2))*x^2/((x_2^2 + 2*x_2 + 1)*x_1^3 - (x_2^3 - 3*x_2 - 2)*x_1^2 - x_2^3 - (2*x_2^3 + 3*x_2^2 - 1)*x_1 - 2*x_2^2 - x_2) + (2*x_1^3*f(x_2) + 3*x_1^2*f(x_2) - (2*x_1^3 - 2*x_2^3 + 3*x_1^2 - 3*x_2^2)*f(-1) - (2*x_2^3 + 3*x_2^2 - 1)*f(x_1) + ((x_2^2 - 1)*x_1^3 - (x_2^3 + 1)*x_1^2 + x_2^3 + x_2^2)*D[0](f)(-1) - f(x_2))*x/((x_2^2 + 2*x_2 + 1)*x_1^3 - (x_2^3 - 3*x_2 - 2)*x_1^2 - x_2^3 - (2*x_2^3 + 3*x_2^2 - 1)*x_1 - 2*x_2^2 - x_2) + (x_1^3*f(x_2) + 2*x_1^2*f(x_2) + ((x_2^2 + 2*x_2)*x_1^3 - (x_2^3 - 3*x_2)*x_1^2 - (2*x_2^3 + 3*x_2^2)*x_1)*f(-1) - (x_2^3 + 2*x_2^2 + x_2)*f(x_1) + x_1*f(x_2) + ((x_2^2 + x_2)*x_1^3 - (x_2^3 - x_2)*x_1^2 - (x_2^3 + x_2^2)*x_1)*D[0](f)(-1))/((x_2^2 + 2*x_2 + 1)*x_1^3 - (x_2^3 - 3*x_2 - 2)*x_1^2 - x_2^3 - (2*x_2^3 + 3*x_2^2 - 1)*x_1 - 2*x_2^2 - x_2)"
      ]
     },
     "metadata": {},
     "output_type": "display_data"
    }
   ],
   "source": [
    "f = function(\"f\")\n",
    "x = var(\"x\")\n",
    "x1, x2 = var(\"x_1 x_2\")\n",
    "a0, a1, a2, a3 = var(\"a_0 a_1 a_2 a_3\")\n",
    "\n",
    "poly = (a0 + a1*x + a2*x**2 + a3*x**3).function(x)\n",
    "display(poly)\n",
    "\n",
    "sol = solve([\n",
    "    poly(-1) == f(-1),\n",
    "    diff(poly, x)(-1) == diff(f(x), x)(x=-1),\n",
    "    poly(x1) == f(x1),\n",
    "    poly(x2) == f(x2),\n",
    "#     poly.substitute_function(f, (x**0).function(x)) == 1,\n",
    "#     poly.substitute_function(f, (x**1).function(x)) == x,\n",
    "], [a0, a1, a2, a3])\n",
    "# display(sol)\n",
    "\n",
    "polys = poly.substitute(sol[0])\n",
    "display(polys)"
   ]
  },
  {
   "cell_type": "code",
   "execution_count": 59,
   "id": "17a43d8d",
   "metadata": {},
   "outputs": [
    {
     "data": {
      "text/html": [
       "<html>\\(\\displaystyle x \\ {\\mapsto}\\ \\frac{2 \\, {\\left(3 \\, x_{1}^{2} {\\left(2 \\, f\\left(-1\\right) + 3 \\, \\mathrm{D}_{0}\\left(f\\right)\\left(-1\\right)\\right)} + 4 \\, x_{1} {\\left(3 \\, f\\left(-1\\right) + \\mathrm{D}_{0}\\left(f\\right)\\left(-1\\right)\\right)} - 8 \\, f\\left(-1\\right) + 14 \\, f\\left(x_{1}\\right) - 5 \\, \\mathrm{D}_{0}\\left(f\\right)\\left(-1\\right)\\right)} x_{2}^{3} + 2 \\, x_{1}^{3} {\\left(8 \\, f\\left(-1\\right) + 5 \\, \\mathrm{D}_{0}\\left(f\\right)\\left(-1\\right)\\right)} - 3 \\, {\\left(2 \\, x_{1}^{3} {\\left(2 \\, f\\left(-1\\right) + 3 \\, \\mathrm{D}_{0}\\left(f\\right)\\left(-1\\right)\\right)} - x_{1} {\\left(12 \\, f\\left(-1\\right) + 5 \\, \\mathrm{D}_{0}\\left(f\\right)\\left(-1\\right)\\right)} + 5 \\, f\\left(-1\\right) - 13 \\, f\\left(x_{1}\\right) + \\mathrm{D}_{0}\\left(f\\right)\\left(-1\\right)\\right)} x_{2}^{2} + 3 \\, x_{1}^{2} {\\left(5 \\, f\\left(-1\\right) + \\mathrm{D}_{0}\\left(f\\right)\\left(-1\\right)\\right)} - {\\left(8 \\, x_{1}^{3} {\\left(3 \\, f\\left(-1\\right) + \\mathrm{D}_{0}\\left(f\\right)\\left(-1\\right)\\right)} + 3 \\, x_{1}^{2} {\\left(12 \\, f\\left(-1\\right) + 5 \\, \\mathrm{D}_{0}\\left(f\\right)\\left(-1\\right)\\right)} - 18 \\, f\\left(-1\\right) + 6 \\, f\\left(x_{1}\\right) - 7 \\, \\mathrm{D}_{0}\\left(f\\right)\\left(-1\\right)\\right)} x_{2} - x_{1} {\\left(18 \\, f\\left(-1\\right) + 7 \\, \\mathrm{D}_{0}\\left(f\\right)\\left(-1\\right)\\right)} - {\\left(28 \\, x_{1}^{3} + 39 \\, x_{1}^{2} - 6 \\, x_{1} - 17\\right)} f\\left(x_{2}\\right) - 17 \\, f\\left(x_{1}\\right)}{12 \\, {\\left({\\left(x_{1}^{2} + 2 \\, x_{1} + 1\\right)} x_{2}^{3} - x_{1}^{3} - {\\left(x_{1}^{3} - 3 \\, x_{1} - 2\\right)} x_{2}^{2} - 2 \\, x_{1}^{2} - {\\left(2 \\, x_{1}^{3} + 3 \\, x_{1}^{2} - 1\\right)} x_{2} - x_{1}\\right)}} + \\frac{2 \\, {\\left(3 \\, x_{1}^{2} {\\left(2 \\, f\\left(-1\\right) + \\mathrm{D}_{0}\\left(f\\right)\\left(-1\\right)\\right)} + 4 \\, x_{1} {\\left(3 \\, f\\left(-1\\right) + \\mathrm{D}_{0}\\left(f\\right)\\left(-1\\right)\\right)} + 4 \\, f\\left(-1\\right) + 2 \\, f\\left(x_{1}\\right) + \\mathrm{D}_{0}\\left(f\\right)\\left(-1\\right)\\right)} x_{2}^{3} - 2 \\, x_{1}^{3} {\\left(4 \\, f\\left(-1\\right) + \\mathrm{D}_{0}\\left(f\\right)\\left(-1\\right)\\right)} - 3 \\, {\\left(2 \\, x_{1}^{3} {\\left(2 \\, f\\left(-1\\right) + \\mathrm{D}_{0}\\left(f\\right)\\left(-1\\right)\\right)} - 3 \\, x_{1} {\\left(4 \\, f\\left(-1\\right) + \\mathrm{D}_{0}\\left(f\\right)\\left(-1\\right)\\right)} - 5 \\, f\\left(-1\\right) - 3 \\, f\\left(x_{1}\\right) - \\mathrm{D}_{0}\\left(f\\right)\\left(-1\\right)\\right)} x_{2}^{2} - 3 \\, x_{1}^{2} {\\left(5 \\, f\\left(-1\\right) + \\mathrm{D}_{0}\\left(f\\right)\\left(-1\\right)\\right)} - {\\left(8 \\, x_{1}^{3} {\\left(3 \\, f\\left(-1\\right) + \\mathrm{D}_{0}\\left(f\\right)\\left(-1\\right)\\right)} + 9 \\, x_{1}^{2} {\\left(4 \\, f\\left(-1\\right) + \\mathrm{D}_{0}\\left(f\\right)\\left(-1\\right)\\right)} - 6 \\, f\\left(-1\\right) - 6 \\, f\\left(x_{1}\\right) - \\mathrm{D}_{0}\\left(f\\right)\\left(-1\\right)\\right)} x_{2} - x_{1} {\\left(6 \\, f\\left(-1\\right) + \\mathrm{D}_{0}\\left(f\\right)\\left(-1\\right)\\right)} - {\\left(4 \\, x_{1}^{3} + 9 \\, x_{1}^{2} + 6 \\, x_{1} + 1\\right)} f\\left(x_{2}\\right) + f\\left(x_{1}\\right)}{12 \\, {\\left({\\left(x_{1}^{2} + 2 \\, x_{1} + 1\\right)} x_{2}^{3} - x_{1}^{3} - {\\left(x_{1}^{3} - 3 \\, x_{1} - 2\\right)} x_{2}^{2} - 2 \\, x_{1}^{2} - {\\left(2 \\, x_{1}^{3} + 3 \\, x_{1}^{2} - 1\\right)} x_{2} - x_{1}\\right)}}\\)</html>"
      ],
      "text/latex": [
       "$\\displaystyle x \\ {\\mapsto}\\ \\frac{2 \\, {\\left(3 \\, x_{1}^{2} {\\left(2 \\, f\\left(-1\\right) + 3 \\, \\mathrm{D}_{0}\\left(f\\right)\\left(-1\\right)\\right)} + 4 \\, x_{1} {\\left(3 \\, f\\left(-1\\right) + \\mathrm{D}_{0}\\left(f\\right)\\left(-1\\right)\\right)} - 8 \\, f\\left(-1\\right) + 14 \\, f\\left(x_{1}\\right) - 5 \\, \\mathrm{D}_{0}\\left(f\\right)\\left(-1\\right)\\right)} x_{2}^{3} + 2 \\, x_{1}^{3} {\\left(8 \\, f\\left(-1\\right) + 5 \\, \\mathrm{D}_{0}\\left(f\\right)\\left(-1\\right)\\right)} - 3 \\, {\\left(2 \\, x_{1}^{3} {\\left(2 \\, f\\left(-1\\right) + 3 \\, \\mathrm{D}_{0}\\left(f\\right)\\left(-1\\right)\\right)} - x_{1} {\\left(12 \\, f\\left(-1\\right) + 5 \\, \\mathrm{D}_{0}\\left(f\\right)\\left(-1\\right)\\right)} + 5 \\, f\\left(-1\\right) - 13 \\, f\\left(x_{1}\\right) + \\mathrm{D}_{0}\\left(f\\right)\\left(-1\\right)\\right)} x_{2}^{2} + 3 \\, x_{1}^{2} {\\left(5 \\, f\\left(-1\\right) + \\mathrm{D}_{0}\\left(f\\right)\\left(-1\\right)\\right)} - {\\left(8 \\, x_{1}^{3} {\\left(3 \\, f\\left(-1\\right) + \\mathrm{D}_{0}\\left(f\\right)\\left(-1\\right)\\right)} + 3 \\, x_{1}^{2} {\\left(12 \\, f\\left(-1\\right) + 5 \\, \\mathrm{D}_{0}\\left(f\\right)\\left(-1\\right)\\right)} - 18 \\, f\\left(-1\\right) + 6 \\, f\\left(x_{1}\\right) - 7 \\, \\mathrm{D}_{0}\\left(f\\right)\\left(-1\\right)\\right)} x_{2} - x_{1} {\\left(18 \\, f\\left(-1\\right) + 7 \\, \\mathrm{D}_{0}\\left(f\\right)\\left(-1\\right)\\right)} - {\\left(28 \\, x_{1}^{3} + 39 \\, x_{1}^{2} - 6 \\, x_{1} - 17\\right)} f\\left(x_{2}\\right) - 17 \\, f\\left(x_{1}\\right)}{12 \\, {\\left({\\left(x_{1}^{2} + 2 \\, x_{1} + 1\\right)} x_{2}^{3} - x_{1}^{3} - {\\left(x_{1}^{3} - 3 \\, x_{1} - 2\\right)} x_{2}^{2} - 2 \\, x_{1}^{2} - {\\left(2 \\, x_{1}^{3} + 3 \\, x_{1}^{2} - 1\\right)} x_{2} - x_{1}\\right)}} + \\frac{2 \\, {\\left(3 \\, x_{1}^{2} {\\left(2 \\, f\\left(-1\\right) + \\mathrm{D}_{0}\\left(f\\right)\\left(-1\\right)\\right)} + 4 \\, x_{1} {\\left(3 \\, f\\left(-1\\right) + \\mathrm{D}_{0}\\left(f\\right)\\left(-1\\right)\\right)} + 4 \\, f\\left(-1\\right) + 2 \\, f\\left(x_{1}\\right) + \\mathrm{D}_{0}\\left(f\\right)\\left(-1\\right)\\right)} x_{2}^{3} - 2 \\, x_{1}^{3} {\\left(4 \\, f\\left(-1\\right) + \\mathrm{D}_{0}\\left(f\\right)\\left(-1\\right)\\right)} - 3 \\, {\\left(2 \\, x_{1}^{3} {\\left(2 \\, f\\left(-1\\right) + \\mathrm{D}_{0}\\left(f\\right)\\left(-1\\right)\\right)} - 3 \\, x_{1} {\\left(4 \\, f\\left(-1\\right) + \\mathrm{D}_{0}\\left(f\\right)\\left(-1\\right)\\right)} - 5 \\, f\\left(-1\\right) - 3 \\, f\\left(x_{1}\\right) - \\mathrm{D}_{0}\\left(f\\right)\\left(-1\\right)\\right)} x_{2}^{2} - 3 \\, x_{1}^{2} {\\left(5 \\, f\\left(-1\\right) + \\mathrm{D}_{0}\\left(f\\right)\\left(-1\\right)\\right)} - {\\left(8 \\, x_{1}^{3} {\\left(3 \\, f\\left(-1\\right) + \\mathrm{D}_{0}\\left(f\\right)\\left(-1\\right)\\right)} + 9 \\, x_{1}^{2} {\\left(4 \\, f\\left(-1\\right) + \\mathrm{D}_{0}\\left(f\\right)\\left(-1\\right)\\right)} - 6 \\, f\\left(-1\\right) - 6 \\, f\\left(x_{1}\\right) - \\mathrm{D}_{0}\\left(f\\right)\\left(-1\\right)\\right)} x_{2} - x_{1} {\\left(6 \\, f\\left(-1\\right) + \\mathrm{D}_{0}\\left(f\\right)\\left(-1\\right)\\right)} - {\\left(4 \\, x_{1}^{3} + 9 \\, x_{1}^{2} + 6 \\, x_{1} + 1\\right)} f\\left(x_{2}\\right) + f\\left(x_{1}\\right)}{12 \\, {\\left({\\left(x_{1}^{2} + 2 \\, x_{1} + 1\\right)} x_{2}^{3} - x_{1}^{3} - {\\left(x_{1}^{3} - 3 \\, x_{1} - 2\\right)} x_{2}^{2} - 2 \\, x_{1}^{2} - {\\left(2 \\, x_{1}^{3} + 3 \\, x_{1}^{2} - 1\\right)} x_{2} - x_{1}\\right)}}$"
      ],
      "text/plain": [
       "x |--> 1/12*(2*(3*x_1^2*(2*f(-1) + 3*D[0](f)(-1)) + 4*x_1*(3*f(-1) + D[0](f)(-1)) - 8*f(-1) + 14*f(x_1) - 5*D[0](f)(-1))*x_2^3 + 2*x_1^3*(8*f(-1) + 5*D[0](f)(-1)) - 3*(2*x_1^3*(2*f(-1) + 3*D[0](f)(-1)) - x_1*(12*f(-1) + 5*D[0](f)(-1)) + 5*f(-1) - 13*f(x_1) + D[0](f)(-1))*x_2^2 + 3*x_1^2*(5*f(-1) + D[0](f)(-1)) - (8*x_1^3*(3*f(-1) + D[0](f)(-1)) + 3*x_1^2*(12*f(-1) + 5*D[0](f)(-1)) - 18*f(-1) + 6*f(x_1) - 7*D[0](f)(-1))*x_2 - x_1*(18*f(-1) + 7*D[0](f)(-1)) - (28*x_1^3 + 39*x_1^2 - 6*x_1 - 17)*f(x_2) - 17*f(x_1))/((x_1^2 + 2*x_1 + 1)*x_2^3 - x_1^3 - (x_1^3 - 3*x_1 - 2)*x_2^2 - 2*x_1^2 - (2*x_1^3 + 3*x_1^2 - 1)*x_2 - x_1) + 1/12*(2*(3*x_1^2*(2*f(-1) + D[0](f)(-1)) + 4*x_1*(3*f(-1) + D[0](f)(-1)) + 4*f(-1) + 2*f(x_1) + D[0](f)(-1))*x_2^3 - 2*x_1^3*(4*f(-1) + D[0](f)(-1)) - 3*(2*x_1^3*(2*f(-1) + D[0](f)(-1)) - 3*x_1*(4*f(-1) + D[0](f)(-1)) - 5*f(-1) - 3*f(x_1) - D[0](f)(-1))*x_2^2 - 3*x_1^2*(5*f(-1) + D[0](f)(-1)) - (8*x_1^3*(3*f(-1) + D[0](f)(-1)) + 9*x_1^2*(4*f(-1) + D[0](f)(-1)) - 6*f(-1) - 6*f(x_1) - D[0](f)(-1))*x_2 - x_1*(6*f(-1) + D[0](f)(-1)) - (4*x_1^3 + 9*x_1^2 + 6*x_1 + 1)*f(x_2) + f(x_1))/((x_1^2 + 2*x_1 + 1)*x_2^3 - x_1^3 - (x_1^3 - 3*x_1 - 2)*x_2^2 - 2*x_1^2 - (2*x_1^3 + 3*x_1^2 - 1)*x_2 - x_1)"
      ]
     },
     "metadata": {},
     "output_type": "display_data"
    }
   ],
   "source": [
    "quad = integral(polys, x, -1, 1).function(x)\n",
    "display(quad)"
   ]
  },
  {
   "cell_type": "code",
   "execution_count": 60,
   "id": "b66029f5",
   "metadata": {},
   "outputs": [],
   "source": [
    "R = (f(x) - quad).function(x)"
   ]
  },
  {
   "cell_type": "code",
   "execution_count": 61,
   "id": "97330aec",
   "metadata": {},
   "outputs": [
    {
     "data": {
      "text/html": [
       "<html>\\(\\displaystyle -1\\)</html>"
      ],
      "text/latex": [
       "$\\displaystyle -1$"
      ],
      "text/plain": [
       "-1"
      ]
     },
     "metadata": {},
     "output_type": "display_data"
    },
    {
     "data": {
      "text/html": [
       "<html>\\(\\displaystyle x - \\frac{6 \\, {\\left(x_{1}^{2} + 2 \\, x_{1} + 1\\right)} x_{2}^{3} - 6 \\, x_{1}^{3} - 6 \\, {\\left(x_{1}^{3} - 3 \\, x_{1} - 2\\right)} x_{2}^{2} - 12 \\, x_{1}^{2} - {\\left(28 \\, x_{1}^{3} + 39 \\, x_{1}^{2} - 6 \\, x_{1} - 17\\right)} x_{2} + {\\left(16 \\, x_{1}^{3} + 21 \\, x_{1}^{2} - 6 \\, x_{1} - 11\\right)} x_{2} - 6 \\, x_{1}}{12 \\, {\\left({\\left(x_{1}^{2} + 2 \\, x_{1} + 1\\right)} x_{2}^{3} - x_{1}^{3} - {\\left(x_{1}^{3} - 3 \\, x_{1} - 2\\right)} x_{2}^{2} - 2 \\, x_{1}^{2} - {\\left(2 \\, x_{1}^{3} + 3 \\, x_{1}^{2} - 1\\right)} x_{2} - x_{1}\\right)}} + \\frac{6 \\, {\\left(x_{1}^{2} + 2 \\, x_{1} + 1\\right)} x_{2}^{3} - 6 \\, x_{1}^{3} - 6 \\, {\\left(x_{1}^{3} - 3 \\, x_{1} - 2\\right)} x_{2}^{2} - 12 \\, x_{1}^{2} - {\\left(16 \\, x_{1}^{3} + 27 \\, x_{1}^{2} + 6 \\, x_{1} - 5\\right)} x_{2} + {\\left(4 \\, x_{1}^{3} + 9 \\, x_{1}^{2} + 6 \\, x_{1} + 1\\right)} x_{2} - 6 \\, x_{1}}{12 \\, {\\left({\\left(x_{1}^{2} + 2 \\, x_{1} + 1\\right)} x_{2}^{3} - x_{1}^{3} - {\\left(x_{1}^{3} - 3 \\, x_{1} - 2\\right)} x_{2}^{2} - 2 \\, x_{1}^{2} - {\\left(2 \\, x_{1}^{3} + 3 \\, x_{1}^{2} - 1\\right)} x_{2} - x_{1}\\right)}}\\)</html>"
      ],
      "text/latex": [
       "$\\displaystyle x - \\frac{6 \\, {\\left(x_{1}^{2} + 2 \\, x_{1} + 1\\right)} x_{2}^{3} - 6 \\, x_{1}^{3} - 6 \\, {\\left(x_{1}^{3} - 3 \\, x_{1} - 2\\right)} x_{2}^{2} - 12 \\, x_{1}^{2} - {\\left(28 \\, x_{1}^{3} + 39 \\, x_{1}^{2} - 6 \\, x_{1} - 17\\right)} x_{2} + {\\left(16 \\, x_{1}^{3} + 21 \\, x_{1}^{2} - 6 \\, x_{1} - 11\\right)} x_{2} - 6 \\, x_{1}}{12 \\, {\\left({\\left(x_{1}^{2} + 2 \\, x_{1} + 1\\right)} x_{2}^{3} - x_{1}^{3} - {\\left(x_{1}^{3} - 3 \\, x_{1} - 2\\right)} x_{2}^{2} - 2 \\, x_{1}^{2} - {\\left(2 \\, x_{1}^{3} + 3 \\, x_{1}^{2} - 1\\right)} x_{2} - x_{1}\\right)}} + \\frac{6 \\, {\\left(x_{1}^{2} + 2 \\, x_{1} + 1\\right)} x_{2}^{3} - 6 \\, x_{1}^{3} - 6 \\, {\\left(x_{1}^{3} - 3 \\, x_{1} - 2\\right)} x_{2}^{2} - 12 \\, x_{1}^{2} - {\\left(16 \\, x_{1}^{3} + 27 \\, x_{1}^{2} + 6 \\, x_{1} - 5\\right)} x_{2} + {\\left(4 \\, x_{1}^{3} + 9 \\, x_{1}^{2} + 6 \\, x_{1} + 1\\right)} x_{2} - 6 \\, x_{1}}{12 \\, {\\left({\\left(x_{1}^{2} + 2 \\, x_{1} + 1\\right)} x_{2}^{3} - x_{1}^{3} - {\\left(x_{1}^{3} - 3 \\, x_{1} - 2\\right)} x_{2}^{2} - 2 \\, x_{1}^{2} - {\\left(2 \\, x_{1}^{3} + 3 \\, x_{1}^{2} - 1\\right)} x_{2} - x_{1}\\right)}}$"
      ],
      "text/plain": [
       "x - 1/12*(6*(x_1^2 + 2*x_1 + 1)*x_2^3 - 6*x_1^3 - 6*(x_1^3 - 3*x_1 - 2)*x_2^2 - 12*x_1^2 - (28*x_1^3 + 39*x_1^2 - 6*x_1 - 17)*x_2 + (16*x_1^3 + 21*x_1^2 - 6*x_1 - 11)*x_2 - 6*x_1)/((x_1^2 + 2*x_1 + 1)*x_2^3 - x_1^3 - (x_1^3 - 3*x_1 - 2)*x_2^2 - 2*x_1^2 - (2*x_1^3 + 3*x_1^2 - 1)*x_2 - x_1) + 1/12*(6*(x_1^2 + 2*x_1 + 1)*x_2^3 - 6*x_1^3 - 6*(x_1^3 - 3*x_1 - 2)*x_2^2 - 12*x_1^2 - (16*x_1^3 + 27*x_1^2 + 6*x_1 - 5)*x_2 + (4*x_1^3 + 9*x_1^2 + 6*x_1 + 1)*x_2 - 6*x_1)/((x_1^2 + 2*x_1 + 1)*x_2^3 - x_1^3 - (x_1^3 - 3*x_1 - 2)*x_2^2 - 2*x_1^2 - (2*x_1^3 + 3*x_1^2 - 1)*x_2 - x_1)"
      ]
     },
     "metadata": {},
     "output_type": "display_data"
    },
    {
     "data": {
      "text/html": [
       "<html>\\(\\displaystyle x^{2} - \\frac{4 \\, {\\left(x_{1}^{2} + 2 \\, x_{1} + 1\\right)} x_{2}^{3} - 4 \\, x_{1}^{3} - {\\left(28 \\, x_{1}^{3} + 39 \\, x_{1}^{2} - 6 \\, x_{1} - 17\\right)} x_{2}^{2} + 3 \\, {\\left(8 \\, x_{1}^{3} + 13 \\, x_{1}^{2} + 2 \\, x_{1} - 3\\right)} x_{2}^{2} - 8 \\, x_{1}^{2} - 4 \\, {\\left(2 \\, x_{1}^{3} + 3 \\, x_{1}^{2} - 1\\right)} x_{2} - 4 \\, x_{1}}{12 \\, {\\left({\\left(x_{1}^{2} + 2 \\, x_{1} + 1\\right)} x_{2}^{3} - x_{1}^{3} - {\\left(x_{1}^{3} - 3 \\, x_{1} - 2\\right)} x_{2}^{2} - 2 \\, x_{1}^{2} - {\\left(2 \\, x_{1}^{3} + 3 \\, x_{1}^{2} - 1\\right)} x_{2} - x_{1}\\right)}} - \\frac{4 \\, {\\left(x_{1}^{2} + 2 \\, x_{1} + 1\\right)} x_{2}^{3} - 4 \\, x_{1}^{3} - {\\left(4 \\, x_{1}^{3} + 9 \\, x_{1}^{2} + 6 \\, x_{1} + 1\\right)} x_{2}^{2} + 9 \\, {\\left(x_{1}^{2} + 2 \\, x_{1} + 1\\right)} x_{2}^{2} - 8 \\, x_{1}^{2} - 4 \\, {\\left(2 \\, x_{1}^{3} + 3 \\, x_{1}^{2} - 1\\right)} x_{2} - 4 \\, x_{1}}{12 \\, {\\left({\\left(x_{1}^{2} + 2 \\, x_{1} + 1\\right)} x_{2}^{3} - x_{1}^{3} - {\\left(x_{1}^{3} - 3 \\, x_{1} - 2\\right)} x_{2}^{2} - 2 \\, x_{1}^{2} - {\\left(2 \\, x_{1}^{3} + 3 \\, x_{1}^{2} - 1\\right)} x_{2} - x_{1}\\right)}}\\)</html>"
      ],
      "text/latex": [
       "$\\displaystyle x^{2} - \\frac{4 \\, {\\left(x_{1}^{2} + 2 \\, x_{1} + 1\\right)} x_{2}^{3} - 4 \\, x_{1}^{3} - {\\left(28 \\, x_{1}^{3} + 39 \\, x_{1}^{2} - 6 \\, x_{1} - 17\\right)} x_{2}^{2} + 3 \\, {\\left(8 \\, x_{1}^{3} + 13 \\, x_{1}^{2} + 2 \\, x_{1} - 3\\right)} x_{2}^{2} - 8 \\, x_{1}^{2} - 4 \\, {\\left(2 \\, x_{1}^{3} + 3 \\, x_{1}^{2} - 1\\right)} x_{2} - 4 \\, x_{1}}{12 \\, {\\left({\\left(x_{1}^{2} + 2 \\, x_{1} + 1\\right)} x_{2}^{3} - x_{1}^{3} - {\\left(x_{1}^{3} - 3 \\, x_{1} - 2\\right)} x_{2}^{2} - 2 \\, x_{1}^{2} - {\\left(2 \\, x_{1}^{3} + 3 \\, x_{1}^{2} - 1\\right)} x_{2} - x_{1}\\right)}} - \\frac{4 \\, {\\left(x_{1}^{2} + 2 \\, x_{1} + 1\\right)} x_{2}^{3} - 4 \\, x_{1}^{3} - {\\left(4 \\, x_{1}^{3} + 9 \\, x_{1}^{2} + 6 \\, x_{1} + 1\\right)} x_{2}^{2} + 9 \\, {\\left(x_{1}^{2} + 2 \\, x_{1} + 1\\right)} x_{2}^{2} - 8 \\, x_{1}^{2} - 4 \\, {\\left(2 \\, x_{1}^{3} + 3 \\, x_{1}^{2} - 1\\right)} x_{2} - 4 \\, x_{1}}{12 \\, {\\left({\\left(x_{1}^{2} + 2 \\, x_{1} + 1\\right)} x_{2}^{3} - x_{1}^{3} - {\\left(x_{1}^{3} - 3 \\, x_{1} - 2\\right)} x_{2}^{2} - 2 \\, x_{1}^{2} - {\\left(2 \\, x_{1}^{3} + 3 \\, x_{1}^{2} - 1\\right)} x_{2} - x_{1}\\right)}}$"
      ],
      "text/plain": [
       "x^2 - 1/12*(4*(x_1^2 + 2*x_1 + 1)*x_2^3 - 4*x_1^3 - (28*x_1^3 + 39*x_1^2 - 6*x_1 - 17)*x_2^2 + 3*(8*x_1^3 + 13*x_1^2 + 2*x_1 - 3)*x_2^2 - 8*x_1^2 - 4*(2*x_1^3 + 3*x_1^2 - 1)*x_2 - 4*x_1)/((x_1^2 + 2*x_1 + 1)*x_2^3 - x_1^3 - (x_1^3 - 3*x_1 - 2)*x_2^2 - 2*x_1^2 - (2*x_1^3 + 3*x_1^2 - 1)*x_2 - x_1) - 1/12*(4*(x_1^2 + 2*x_1 + 1)*x_2^3 - 4*x_1^3 - (4*x_1^3 + 9*x_1^2 + 6*x_1 + 1)*x_2^2 + 9*(x_1^2 + 2*x_1 + 1)*x_2^2 - 8*x_1^2 - 4*(2*x_1^3 + 3*x_1^2 - 1)*x_2 - 4*x_1)/((x_1^2 + 2*x_1 + 1)*x_2^3 - x_1^3 - (x_1^3 - 3*x_1 - 2)*x_2^2 - 2*x_1^2 - (2*x_1^3 + 3*x_1^2 - 1)*x_2 - x_1)"
      ]
     },
     "metadata": {},
     "output_type": "display_data"
    }
   ],
   "source": [
    "pf = (x**0).function(x)\n",
    "display(R.substitute_function(f, pf))\n",
    "\n",
    "pf = (x**1).function(x)\n",
    "display(R.substitute_function(f, pf))\n",
    "\n",
    "pf = (x**2).function(x)\n",
    "display(R.substitute_function(f, pf))"
   ]
  },
  {
   "cell_type": "code",
   "execution_count": null,
   "id": "924c436e",
   "metadata": {},
   "outputs": [],
   "source": []
  }
 ],
 "metadata": {
  "kernelspec": {
   "display_name": "SageMath 10.0",
   "language": "sagemath",
   "name": "sagemath"
  },
  "language_info": {
   "codemirror_mode": {
    "name": "ipython",
    "version": 3
   },
   "file_extension": ".py",
   "mimetype": "text/x-python",
   "name": "python",
   "nbconvert_exporter": "python",
   "pygments_lexer": "ipython3",
   "version": "3.11.6"
  }
 },
 "nbformat": 4,
 "nbformat_minor": 5
}
