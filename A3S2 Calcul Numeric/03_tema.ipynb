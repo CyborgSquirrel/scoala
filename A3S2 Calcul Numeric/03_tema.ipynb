{
 "cells": [
  {
   "cell_type": "code",
   "execution_count": 2,
   "id": "e217381f-7184-42e7-adb3-2987865ed292",
   "metadata": {},
   "outputs": [],
   "source": [
    "import numpy as np"
   ]
  },
  {
   "cell_type": "markdown",
   "id": "04c5bd96-2f22-4e3d-929d-9c5740e7345a",
   "metadata": {},
   "source": [
    "$$\n",
    "\\text{cond}A=||A||\\cdot||A^{-1}||\n",
    "$$"
   ]
  },
  {
   "cell_type": "code",
   "execution_count": 3,
   "id": "290bda0d-a797-4885-b925-bdc3bc02f0bd",
   "metadata": {},
   "outputs": [],
   "source": [
    "def cond(A, norm):\n",
    "    return norm(A) * norm(np.linalg.inv(A))"
   ]
  },
  {
   "cell_type": "markdown",
   "id": "d00859b2-42cb-4aca-ab29-8b2a4d7f3097",
   "metadata": {},
   "source": [
    "# 1"
   ]
  },
  {
   "cell_type": "code",
   "execution_count": 11,
   "id": "2dccf15d-8a68-4d31-8382-7b83807dfa0f",
   "metadata": {},
   "outputs": [
    {
     "name": "stdout",
     "output_type": "stream",
     "text": [
      "[1. 1. 1. 1.]\n",
      "\n",
      "sol [  9.2 -12.6   4.5  -1.1]\n",
      "eroare relativa intrare A [[0. 0. 0. 0.]\n",
      " [0. 0. 0. 0.]\n",
      " [0. 0. 0. 0.]\n",
      " [0. 0. 0. 0.]]\n",
      "eroare relativa intrare B [-0.00311526  0.00436681 -0.00302115  0.00323625]\n",
      "eroare relativa iesire [  8.2 -13.6   3.5  -2.1]\n",
      "\n",
      "sol [-81. 137. -34.  22.]\n",
      "eroare relativa intrare A [[ 0.          0.         -0.0125     -0.02857143]\n",
      " [-0.01142857 -0.008       0.          0.        ]\n",
      " [ 0.          0.00333333  0.011       0.        ]\n",
      " [ 0.00142857  0.002       0.          0.002     ]]\n",
      "eroare relativa intrare B [0. 0. 0. 0.]\n",
      "eroare relativa iesire [-82. 136. -35.  21.]\n"
     ]
    }
   ],
   "source": [
    "A = np.array([\n",
    "\t[10, 7, 8, 7],\n",
    "\t[7, 5, 6, 5],\n",
    "\t[8, 6, 10, 9],\n",
    "\t[7, 5, 9, 10],\n",
    "])\n",
    "\n",
    "B = np.array([\n",
    "    32, 23, 33, 31\n",
    "])\n",
    "\n",
    "Ap = np.array([\n",
    "\t[10, 7, 8.1, 7.2],\n",
    "\t[7.08, 5.04, 6, 5],\n",
    "\t[8, 5.98, 9.89, 9],\n",
    "\t[6.99, 4.99, 9, 9.98],\n",
    "])\n",
    "\n",
    "Bp = np.array([\n",
    "    32.1, 22.9, 33.1, 30.9\n",
    "])\n",
    "\n",
    "sol = np.linalg.solve(A, B)\n",
    "print(sol)\n",
    "\n",
    "def solve(Ae, Be):\n",
    "    curr_sol = np.linalg.solve(Ae, Be)\n",
    "    print()\n",
    "    print(\"sol\", curr_sol)\n",
    "    print(\"eroare relativa intrare A\", (A-Ae)/A)\n",
    "    print(\"eroare relativa intrare B\", (B-Be)/Be)\n",
    "    print(\"eroare relativa iesire\", (curr_sol-sol)/sol)\n",
    "\n",
    "solve(A, Bp)\n",
    "solve(Ap, B)"
   ]
  },
  {
   "cell_type": "markdown",
   "id": "a665c2de-5916-47ff-a499-b45af6c66711",
   "metadata": {},
   "source": [
    "O perturbare mica in valorile membrului stang, sau ale membrului drept, cauzeaza o perturbare mare in rezultat."
   ]
  },
  {
   "cell_type": "code",
   "execution_count": 4,
   "id": "f9e99656-70e6-4ff2-aa9c-d658612eae3e",
   "metadata": {},
   "outputs": [
    {
     "name": "stdout",
     "output_type": "stream",
     "text": [
      "3009.578708058694\n"
     ]
    }
   ],
   "source": [
    "print(cond(A, lambda a: np.sqrt(np.sum(a**2))))"
   ]
  },
  {
   "cell_type": "markdown",
   "id": "876bda02-445f-41ba-b04b-9509d994c08f",
   "metadata": {},
   "source": [
    "Numarul de conditionare pentru matricea $A$ este foarte mare => matricea este prost conditionata."
   ]
  },
  {
   "cell_type": "markdown",
   "id": "56895906-7baa-49ca-bbff-e075067b2e79",
   "metadata": {},
   "source": [
    "# 2"
   ]
  },
  {
   "cell_type": "markdown",
   "id": "9537e671-b4d1-4c40-b885-1f8d540bfb70",
   "metadata": {},
   "source": [
    "$$\n",
    "\\begin{aligned}\n",
    "H_n&=h_{ij} \\\\\n",
    "h_{ij}&=\\frac{1}{i+j-1},i,j=\\overline{1,n} \\\\\n",
    "\\end{aligned}\n",
    "$$"
   ]
  },
  {
   "cell_type": "code",
   "execution_count": 5,
   "id": "0833e257-93f3-41c1-85d0-212bcbfd4b5f",
   "metadata": {},
   "outputs": [
    {
     "name": "stdout",
     "output_type": "stream",
     "text": [
      "10 243627831396782.78\n",
      "11 8065027222046120.0\n",
      "12 4.659772368801568e+17\n",
      "13 1.5361567226069654e+17\n",
      "14 2.889796530398128e+17\n",
      "15 1.8450275190664804e+18\n"
     ]
    }
   ],
   "source": [
    "def hilbert(n):\n",
    "    return np.array([\n",
    "        [\n",
    "            1 / (float(i) + float(j) + 1)\n",
    "            for j in range(1, n+1)\n",
    "        ]\n",
    "        for i in range(1, n+1)\n",
    "    ])\n",
    "\n",
    "def norm(a):\n",
    "    return np.sqrt(np.sum(a**2))\n",
    "\n",
    "for n in range(10, 15+1):\n",
    "    H = hilbert(n)\n",
    "    print(n, cond(H, norm))"
   ]
  },
  {
   "cell_type": "markdown",
   "id": "0e8e9cbe-6d7d-4f7a-9083-508d8c88d4e1",
   "metadata": {},
   "source": [
    "valori foarte mari => prost conditionat"
   ]
  },
  {
   "cell_type": "markdown",
   "id": "b63117f3-186a-4ba7-a700-ce8cb32ba5d2",
   "metadata": {},
   "source": [
    "# 3 a"
   ]
  },
  {
   "cell_type": "markdown",
   "id": "92c5792e-4471-4c97-a634-630ab070d88e",
   "metadata": {},
   "source": [
    "$$\n",
    "\\begin{aligned}\n",
    "t_k&=-1+k\\frac{2}{n} \\\\\n",
    "n&=\\overline{10,15} \\\\\n",
    "\\end{aligned}\n",
    "$$"
   ]
  },
  {
   "cell_type": "code",
   "execution_count": 12,
   "id": "827336be-2560-4cbb-a0d7-63d9c2156bf3",
   "metadata": {},
   "outputs": [],
   "source": [
    "# chebyshev norm is max()"
   ]
  },
  {
   "cell_type": "code",
   "execution_count": 6,
   "id": "f106f9ea-6c7b-48d2-994f-34efeeb989ae",
   "metadata": {},
   "outputs": [
    {
     "name": "stdout",
     "output_type": "stream",
     "text": [
      "10 813.8020833333593\n",
      "11 2543.999849106264\n",
      "12 6998.399999998299\n",
      "13 17585.26329748235\n",
      "14 49585.74008239154\n",
      "15 146213.32021828683\n"
     ]
    }
   ],
   "source": [
    "def vandermonde(t, n):\n",
    "    assert isinstance(t, np.ndarray)\n",
    "\n",
    "    return (\n",
    "        np.repeat(np.expand_dims(t, 1), n, 1)\n",
    "        **\n",
    "        np.repeat(np.expand_dims(np.arange(n), 0), len(t), 0)\n",
    "    )\n",
    "\n",
    "\n",
    "for n in range(10, 15+1):\n",
    "    Tk = np.array([-1 + k*(2/n) for k in range(1, n+1)])\n",
    "    V = vandermonde(Tk, n)\n",
    "    print(n, cond(V, np.max))"
   ]
  },
  {
   "cell_type": "markdown",
   "id": "dce67394-6da7-49d6-a2ef-0419606968ce",
   "metadata": {},
   "source": [
    "# 3 b"
   ]
  },
  {
   "cell_type": "markdown",
   "id": "a2058865-cdda-4c34-a73c-cbb5b3f37011",
   "metadata": {},
   "source": [
    "$$\n",
    "t_k=\\frac{1}{k}\n",
    "$$"
   ]
  },
  {
   "cell_type": "code",
   "execution_count": 7,
   "id": "9cecb2a0-bf0f-45d3-b15e-e80fd39601a4",
   "metadata": {},
   "outputs": [
    {
     "name": "stdout",
     "output_type": "stream",
     "text": [
      "10 16935359821.947939\n",
      "11 663042996051.1141\n",
      "12 25541459318565.074\n",
      "13 854792734346313.1\n",
      "14 2656457500257101.5\n",
      "15 4.618013664367127e+16\n"
     ]
    }
   ],
   "source": [
    "for n in range(10, 15+1):\n",
    "    Tk = np.array([1/k for k in range(1, n+1)])\n",
    "    V = vandermonde(Tk, n)\n",
    "    print(n, cond(V, np.max))"
   ]
  },
  {
   "cell_type": "markdown",
   "id": "bf5856a4-e123-442a-93b2-299988f5746d",
   "metadata": {},
   "source": [
    "# 4"
   ]
  },
  {
   "cell_type": "markdown",
   "id": "dcf8aa77-dc08-40a3-bcea-a2e34969e53e",
   "metadata": {},
   "source": [
    "$$\n",
    "(\\text{cond}f(x))=\\left|\\frac{xf'(x)}{f(x)}\\right|\n",
    "$$"
   ]
  },
  {
   "cell_type": "code",
   "execution_count": null,
   "id": "e9f4560b-500c-4c4a-9009-dbf9b1143242",
   "metadata": {},
   "outputs": [],
   "source": []
  }
 ],
 "metadata": {
  "kernelspec": {
   "display_name": "Python 3 (ipykernel)",
   "language": "python",
   "name": "python3"
  },
  "language_info": {
   "codemirror_mode": {
    "name": "ipython",
    "version": 3
   },
   "file_extension": ".py",
   "mimetype": "text/x-python",
   "name": "python",
   "nbconvert_exporter": "python",
   "pygments_lexer": "ipython3",
   "version": "3.11.6"
  }
 },
 "nbformat": 4,
 "nbformat_minor": 5
}
