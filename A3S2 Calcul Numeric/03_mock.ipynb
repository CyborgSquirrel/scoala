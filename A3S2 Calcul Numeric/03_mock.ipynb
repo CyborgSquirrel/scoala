{
 "cells": [
  {
   "cell_type": "code",
   "execution_count": 1,
   "id": "d73446c7",
   "metadata": {},
   "outputs": [],
   "source": [
    "import itertools\n",
    "import numpy as np\n",
    "import functools"
   ]
  },
  {
   "cell_type": "code",
   "execution_count": 2,
   "id": "51792d20",
   "metadata": {},
   "outputs": [],
   "source": [
    "%display latex"
   ]
  },
  {
   "cell_type": "code",
   "execution_count": 3,
   "id": "56800f09",
   "metadata": {},
   "outputs": [],
   "source": [
    "def same(*args):\n",
    "    for arg in args:\n",
    "        assert args[0] == arg\n",
    "    return args[0]"
   ]
  },
  {
   "cell_type": "code",
   "execution_count": 4,
   "id": "5eea922d",
   "metadata": {},
   "outputs": [],
   "source": [
    "class GaussQuad:\n",
    "    def __init__(self, alphas, betas, wf):\n",
    "        self.n = same(len(alphas), len(betas))\n",
    "        \n",
    "        self.wf = wf\n",
    "    \n",
    "        J = np.zeros((self.n, self.n))\n",
    "        for k, alpha, beta in zip(range(self.n), alphas, betas):\n",
    "            J[k, k] = alpha\n",
    "            if k-1 >= 0:\n",
    "                J[k-1, k] = sqrt(beta)\n",
    "                J[k, k-1] = sqrt(beta)\n",
    "\n",
    "        x = var(\"x\")\n",
    "        polys = [0, 1]\n",
    "        for k, alpha, beta in zip(itertools.count(2), alphas, betas):\n",
    "            poly = (x - alpha)*polys[k-1] - beta*polys[k-2]\n",
    "            polys.append(poly)\n",
    "        self.poly = polys[-1]\n",
    "        self.poly = self.poly.full_simplify()\n",
    "        \n",
    "        # Eigenvectors are returned in normalized form.\n",
    "        # eig.eigenvectors[vector_dimension,vector]\n",
    "        eig = np.linalg.eig(J)\n",
    "        eig_val = eig.eigenvalues\n",
    "        eig_vec = eig.eigenvectors.T\n",
    "\n",
    "        self.x = eig_val.tolist()\n",
    "        v = eig_vec.tolist()\n",
    "\n",
    "        self.w = []\n",
    "        for k in range(self.n):\n",
    "            self.w.append(betas[0]*v[k][0]**2)\n",
    "    \n",
    "    @property\n",
    "    def sx(self):\n",
    "        return var(\"x\")\n",
    "    \n",
    "    @property\n",
    "    def sf(self):\n",
    "        return function(\"f\")\n",
    "    \n",
    "    @functools.cached_property\n",
    "    def quad(self):\n",
    "        quad = 0\n",
    "        for xv, wv in zip(self.x, self.w):\n",
    "            quad += wv*(self.sf)(xv)\n",
    "        return quad\n",
    "    \n",
    "    @functools.cached_property\n",
    "    def poly_norm(self):\n",
    "        coef = max(self.poly.coefficients(), key=lambda a: a[1])[0]\n",
    "        poly = self.poly / coef\n",
    "        return poly\n",
    "        \n",
    "    @property\n",
    "    def rest(self):\n",
    "        a = var(\"a\")\n",
    "        b = var(\"b\")\n",
    "        \n",
    "        with assuming(a < b):\n",
    "            rest = (\n",
    "                diff((self.sf)(self.sx), self.sx, 2*self.n)\n",
    "                / factorial(2*self.n)\n",
    "                * integral(self.wf(self.sx)*self.poly_norm**2, self.sx, a, b)\n",
    "            )\n",
    "        return rest"
   ]
  },
  {
   "cell_type": "code",
   "execution_count": 5,
   "id": "db0600cf",
   "metadata": {},
   "outputs": [],
   "source": [
    "def chebyshev_values_2(n):\n",
    "    alphas = []\n",
    "    betas = []\n",
    "    for k in range(n):\n",
    "        alphas.append(0)\n",
    "        if k == 0:\n",
    "            betas.append(1/2 * pi)\n",
    "        else:\n",
    "            betas.append(1/4)\n",
    "    \n",
    "    w = function(\"w\")\n",
    "    x = var(\"x\")\n",
    "    w(x) = (1-x**2)**(1/2)\n",
    "    \n",
    "    return alphas, betas, w"
   ]
  },
  {
   "cell_type": "markdown",
   "id": "64673601",
   "metadata": {},
   "source": [
    "# Rezolvare"
   ]
  },
  {
   "cell_type": "markdown",
   "id": "4dabf3e1",
   "metadata": {},
   "source": [
    "## Prelucrare integrala\n",
    "\n",
    "Incepem cu:\n",
    "$$\n",
    "\\int_1^2\\sqrt{-t^2+3t-2}\\sin{t}\\text dt\n",
    "$$\n",
    "\n",
    "Substituim $t$ cu $u=2t-3$, $\\Rightarrow t=\\frac{u+3}{2}, \\text du=2dt$:\n",
    "\n",
    "$$\n",
    "\\int_{-1}^1\\sqrt{\\frac{1}{4}-\\frac{1}{4}u^2}\\frac{1}{2}\\sin\\left(\\frac{u+3}{2}\\right)\\text du\n",
    "$$\n",
    "\n",
    "Factorizam cu $\\frac{1}{4}$ in radical:\n",
    "\n",
    "$$\n",
    "\\int_{-1}^1\\sqrt{1-u^2}\\frac{1}{4}\\sin\\left(\\frac{u+3}{2}\\right)\\text du\n",
    "$$\n",
    "\n",
    "\n",
    "Am obtinut integrala intr-o forma, in care se poate calcula folosind cuadratura de tip Gauss-Cebasev #2."
   ]
  },
  {
   "cell_type": "markdown",
   "id": "900cbd4a",
   "metadata": {},
   "source": [
    "## Rest\n",
    "\n",
    "Deoarece $f(x)=\\sin{x}$, iar $\\sin^{(n)}(x)\\le1,\\forall n\\in N, x\\in R$, substituim derivata lui $f$ din formula restului cu $1$."
   ]
  },
  {
   "cell_type": "code",
   "execution_count": 6,
   "id": "65c107ce",
   "metadata": {},
   "outputs": [
    {
     "data": {
      "text/html": [
       "<html>\\(\\displaystyle 6\\)</html>"
      ],
      "text/latex": [
       "$\\displaystyle 6$"
      ],
      "text/plain": [
       "6"
      ]
     },
     "metadata": {},
     "output_type": "display_data"
    },
    {
     "data": {
      "image/png": "[encoded data removed]",
      "text/plain": [
       "Graphics object consisting of 1 graphics primitive"
      ]
     },
     "execution_count": 6,
     "metadata": {},
     "output_type": "execute_result"
    }
   ],
   "source": [
    "x = var(\"x\")\n",
    "fv = function(\"f\")\n",
    "fv(x) = (1/4) * sin((x+3)/2)\n",
    "\n",
    "n = 1\n",
    "while True:\n",
    "    gq = GaussQuad(*chebyshev_values_2(n))\n",
    "    rest = (\n",
    "        1\n",
    "        / factorial(2*n)\n",
    "        * integral(gq.wf(gq.sx)*gq.poly_norm**2, gq.sx, -1, 1)\n",
    "    )\n",
    "    if rest < 10**(-10):\n",
    "        break\n",
    "    n += 1\n",
    "display(n)\n",
    "rest = gq.rest.substitute(a=-1, b=1).substitute_function(gq.sf, fv)\n",
    "plot(rest, -1, 1)"
   ]
  },
  {
   "cell_type": "code",
   "execution_count": 7,
   "id": "21684c25",
   "metadata": {},
   "outputs": [
    {
     "name": "stdout",
     "output_type": "stream",
     "text": [
      "Valoarea integralei\n"
     ]
    },
    {
     "data": {
      "text/html": [
       "<html>\\(\\displaystyle 0.379601109535519\\)</html>"
      ],
      "text/latex": [
       "$\\displaystyle 0.379601109535519$"
      ],
      "text/plain": [
       "0.379601109535519"
      ]
     },
     "metadata": {},
     "output_type": "display_data"
    }
   ],
   "source": [
    "print(\"Valoarea integralei\")\n",
    "display((gq.quad.substitute_function(gq.sf, fv)).n())"
   ]
  },
  {
   "cell_type": "code",
   "execution_count": 8,
   "id": "e4b9904d",
   "metadata": {},
   "outputs": [
    {
     "name": "stdout",
     "output_type": "stream",
     "text": [
      "Verificare\n"
     ]
    },
    {
     "data": {
      "text/html": [
       "<html>\\(\\displaystyle 0.3796011130954259\\)</html>"
      ],
      "text/latex": [
       "$\\displaystyle 0.3796011130954259$"
      ],
      "text/plain": [
       "0.3796011130954259"
      ]
     },
     "metadata": {},
     "output_type": "display_data"
    }
   ],
   "source": [
    "print(\"Verificare\")\n",
    "display(integral(sqrt(3*x - x**2 - 2)*sin(x), x, 1, 2).n())"
   ]
  },
  {
   "cell_type": "code",
   "execution_count": null,
   "id": "4d42838f",
   "metadata": {},
   "outputs": [],
   "source": []
  }
 ],
 "metadata": {
  "kernelspec": {
   "display_name": "SageMath 10.0",
   "language": "sagemath",
   "name": "sagemath"
  },
  "language_info": {
   "codemirror_mode": {
    "name": "ipython",
    "version": 3
   },
   "file_extension": ".py",
   "mimetype": "text/x-python",
   "name": "python",
   "nbconvert_exporter": "python",
   "pygments_lexer": "ipython3",
   "version": "3.11.6"
  }
 },
 "nbformat": 4,
 "nbformat_minor": 5
}
