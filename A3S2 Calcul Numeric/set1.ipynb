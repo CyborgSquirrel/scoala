{
 "cells": [
  {
   "cell_type": "code",
   "execution_count": 4,
   "id": "114882ee",
   "metadata": {},
   "outputs": [],
   "source": [
    "%display latex"
   ]
  },
  {
   "cell_type": "code",
   "execution_count": 6,
   "id": "ae9d5560",
   "metadata": {},
   "outputs": [
    {
     "data": {
      "text/html": [
       "<html>\\(\\displaystyle \\left[\\left[a_{0} = f\\left(0\\right), a_{1} = -\\mathrm{D}_{0}\\left(f\\right)\\left(2\\right) + 2 \\, \\mathrm{D}_{0}\\left(f\\right)\\left(1\\right), a_{2} = \\frac{1}{2} \\, \\mathrm{D}_{0}\\left(f\\right)\\left(2\\right) - \\frac{1}{2} \\, \\mathrm{D}_{0}\\left(f\\right)\\left(1\\right)\\right]\\right]\\)</html>"
      ],
      "text/latex": [
       "$\\displaystyle \\left[\\left[a_{0} = f\\left(0\\right), a_{1} = -\\mathrm{D}_{0}\\left(f\\right)\\left(2\\right) + 2 \\, \\mathrm{D}_{0}\\left(f\\right)\\left(1\\right), a_{2} = \\frac{1}{2} \\, \\mathrm{D}_{0}\\left(f\\right)\\left(2\\right) - \\frac{1}{2} \\, \\mathrm{D}_{0}\\left(f\\right)\\left(1\\right)\\right]\\right]$"
      ],
      "text/plain": [
       "[[a_0 == f(0), a_1 == -D[0](f)(2) + 2*D[0](f)(1), a_2 == 1/2*D[0](f)(2) - 1/2*D[0](f)(1)]]"
      ]
     },
     "execution_count": 6,
     "metadata": {},
     "output_type": "execute_result"
    }
   ],
   "source": [
    "f = function(\"f\")\n",
    "a0, a1, a2 = var(\"a_0 a_1 a_2\")\n",
    "x0, x1, x2 = 0, 1, 2\n",
    "\n",
    "sol = solve([\n",
    "    a0 == f(0),\n",
    "    a1 + 2*a2 == diff(f(x), x)(x=1),\n",
    "    a1+ 4*a2 == diff(f(x), x)(x=2),\n",
    "], [a0, a1, a2])\n",
    "sol"
   ]
  },
  {
   "cell_type": "code",
   "execution_count": 10,
   "id": "f5e9707b",
   "metadata": {},
   "outputs": [
    {
     "data": {
      "text/html": [
       "<html>\\(\\displaystyle a_{2} x^{2} + a_{1} x + a_{0}\\)</html>"
      ],
      "text/latex": [
       "$\\displaystyle a_{2} x^{2} + a_{1} x + a_{0}$"
      ],
      "text/plain": [
       "a_2*x^2 + a_1*x + a_0"
      ]
     },
     "metadata": {},
     "output_type": "display_data"
    },
    {
     "data": {
      "text/html": [
       "<html>\\(\\displaystyle \\frac{1}{2} \\, x^{2} {\\left(\\mathrm{D}_{0}\\left(f\\right)\\left(2\\right) - \\mathrm{D}_{0}\\left(f\\right)\\left(1\\right)\\right)} - x {\\left(\\mathrm{D}_{0}\\left(f\\right)\\left(2\\right) - 2 \\, \\mathrm{D}_{0}\\left(f\\right)\\left(1\\right)\\right)} + f\\left(0\\right)\\)</html>"
      ],
      "text/latex": [
       "$\\displaystyle \\frac{1}{2} \\, x^{2} {\\left(\\mathrm{D}_{0}\\left(f\\right)\\left(2\\right) - \\mathrm{D}_{0}\\left(f\\right)\\left(1\\right)\\right)} - x {\\left(\\mathrm{D}_{0}\\left(f\\right)\\left(2\\right) - 2 \\, \\mathrm{D}_{0}\\left(f\\right)\\left(1\\right)\\right)} + f\\left(0\\right)$"
      ],
      "text/plain": [
       "1/2*x^2*(D[0](f)(2) - D[0](f)(1)) - x*(D[0](f)(2) - 2*D[0](f)(1)) + f(0)"
      ]
     },
     "metadata": {},
     "output_type": "display_data"
    }
   ],
   "source": [
    "P = a0 + a1*x + a2*x**2\n",
    "display(P)\n",
    "\n",
    "P = P.substitute(sol)\n",
    "display(P)"
   ]
  },
  {
   "cell_type": "code",
   "execution_count": 22,
   "id": "181f227b",
   "metadata": {},
   "outputs": [
    {
     "data": {
      "text/html": [
       "<html>\\(\\displaystyle x \\ {\\mapsto}\\ -\\frac{1}{2} \\, x^{2} {\\left(\\mathrm{D}_{0}\\left(f\\right)\\left(2\\right) - \\mathrm{D}_{0}\\left(f\\right)\\left(1\\right)\\right)} + x {\\left(\\mathrm{D}_{0}\\left(f\\right)\\left(2\\right) - 2 \\, \\mathrm{D}_{0}\\left(f\\right)\\left(1\\right)\\right)} - f\\left(0\\right) + f\\left(x\\right)\\)</html>"
      ],
      "text/latex": [
       "$\\displaystyle x \\ {\\mapsto}\\ -\\frac{1}{2} \\, x^{2} {\\left(\\mathrm{D}_{0}\\left(f\\right)\\left(2\\right) - \\mathrm{D}_{0}\\left(f\\right)\\left(1\\right)\\right)} + x {\\left(\\mathrm{D}_{0}\\left(f\\right)\\left(2\\right) - 2 \\, \\mathrm{D}_{0}\\left(f\\right)\\left(1\\right)\\right)} - f\\left(0\\right) + f\\left(x\\right)$"
      ],
      "text/plain": [
       "x |--> -1/2*x^2*(D[0](f)(2) - D[0](f)(1)) + x*(D[0](f)(2) - 2*D[0](f)(1)) - f(0) + f(x)"
      ]
     },
     "metadata": {},
     "output_type": "display_data"
    }
   ],
   "source": [
    "R = (f(x) - P).function(x)\n",
    "display(R)"
   ]
  },
  {
   "cell_type": "code",
   "execution_count": 80,
   "id": "1b348e13",
   "metadata": {},
   "outputs": [
    {
     "data": {
      "text/html": [
       "<html>\\(\\displaystyle \\frac{1}{2} \\, {\\left(x - 2\\right)} x \\mathrm{D}_{0}\\left(f\\right)\\left(2\\right) - \\frac{1}{2} \\, {\\left(x - 4\\right)} x \\mathrm{D}_{0}\\left(f\\right)\\left(1\\right) + f\\left(0\\right)\\)</html>"
      ],
      "text/latex": [
       "$\\displaystyle \\frac{1}{2} \\, {\\left(x - 2\\right)} x \\mathrm{D}_{0}\\left(f\\right)\\left(2\\right) - \\frac{1}{2} \\, {\\left(x - 4\\right)} x \\mathrm{D}_{0}\\left(f\\right)\\left(1\\right) + f\\left(0\\right)$"
      ],
      "text/plain": [
       "1/2*(x - 2)*x*D[0](f)(2) - 1/2*(x - 4)*x*D[0](f)(1) + f(0)"
      ]
     },
     "metadata": {},
     "output_type": "display_data"
    },
    {
     "data": {
      "text/html": [
       "<html>\\(\\displaystyle -2 \\, {\\left(x - 2\\right)} x + {\\left(x - 4\\right)} x + x^{2}\\)</html>"
      ],
      "text/latex": [
       "$\\displaystyle -2 \\, {\\left(x - 2\\right)} x + {\\left(x - 4\\right)} x + x^{2}$"
      ],
      "text/plain": [
       "-2*(x - 2)*x + (x - 4)*x + x^2"
      ]
     },
     "execution_count": 80,
     "metadata": {},
     "output_type": "execute_result"
    }
   ],
   "source": [
    "Q = (-1) * x * (x-4) * diff(f(x), x)(x=1) / 2 + x * (x - 2) * diff(f(x), x)(x=2) / 2 + f(0)\n",
    "display(Q)\n",
    "RQ = (f(x) - Q).function(x)\n",
    "RQ.substitute_function(f, (x**2).function(x))"
   ]
  },
  {
   "cell_type": "code",
   "execution_count": 65,
   "id": "b3a7c9eb",
   "metadata": {},
   "outputs": [
    {
     "data": {
      "text/html": [
       "<html>\\(\\displaystyle 0\\)</html>"
      ],
      "text/latex": [
       "$\\displaystyle 0$"
      ],
      "text/plain": [
       "0"
      ]
     },
     "metadata": {},
     "output_type": "display_data"
    },
    {
     "data": {
      "text/html": [
       "<html>\\(\\displaystyle 0\\)</html>"
      ],
      "text/latex": [
       "$\\displaystyle 0$"
      ],
      "text/plain": [
       "0"
      ]
     },
     "metadata": {},
     "output_type": "display_data"
    },
    {
     "data": {
      "text/html": [
       "<html>\\(\\displaystyle 0\\)</html>"
      ],
      "text/latex": [
       "$\\displaystyle 0$"
      ],
      "text/plain": [
       "0"
      ]
     },
     "metadata": {},
     "output_type": "display_data"
    }
   ],
   "source": [
    "ef = (x**0).function(x)\n",
    "display(R.substitute_function(f, ef))\n",
    "\n",
    "ef = (x**1).function(x)\n",
    "display(R.substitute_function(f, ef))\n",
    "\n",
    "ef = (x**2).function(x)\n",
    "display(R.substitute_function(f, ef))\n",
    "\n",
    "# ef = (x**3).function(x)\n",
    "# display(R.substitute_function(f, ef))"
   ]
  },
  {
   "cell_type": "markdown",
   "id": "8fbed9ec",
   "metadata": {},
   "source": [
    "=> polinomul de aproximare are valoare exacta atunci cand aproximeaza polinoame pana in gradul n=2\n",
    "\n",
    "=> putem aplica Peanu"
   ]
  },
  {
   "cell_type": "code",
   "execution_count": 32,
   "id": "bb61bbe5",
   "metadata": {},
   "outputs": [
    {
     "data": {
      "text/html": [
       "<html>\\(\\displaystyle x \\ {\\mapsto}\\ -\\frac{1}{2} \\, x^{2} {\\left(\\mathrm{D}_{0}\\left(f\\right)\\left(2\\right) - \\mathrm{D}_{0}\\left(f\\right)\\left(1\\right)\\right)} + x {\\left(\\mathrm{D}_{0}\\left(f\\right)\\left(2\\right) - 2 \\, \\mathrm{D}_{0}\\left(f\\right)\\left(1\\right)\\right)} - f\\left(0\\right) + f\\left(x\\right)\\)</html>"
      ],
      "text/latex": [
       "$\\displaystyle x \\ {\\mapsto}\\ -\\frac{1}{2} \\, x^{2} {\\left(\\mathrm{D}_{0}\\left(f\\right)\\left(2\\right) - \\mathrm{D}_{0}\\left(f\\right)\\left(1\\right)\\right)} + x {\\left(\\mathrm{D}_{0}\\left(f\\right)\\left(2\\right) - 2 \\, \\mathrm{D}_{0}\\left(f\\right)\\left(1\\right)\\right)} - f\\left(0\\right) + f\\left(x\\right)$"
      ],
      "text/plain": [
       "x |--> -1/2*x^2*(D[0](f)(2) - D[0](f)(1)) + x*(D[0](f)(2) - 2*D[0](f)(1)) - f(0) + f(x)"
      ]
     },
     "metadata": {},
     "output_type": "display_data"
    }
   ],
   "source": [
    "display(R)"
   ]
  },
  {
   "cell_type": "markdown",
   "id": "40576f4d",
   "metadata": {},
   "source": [
    "Nu am mai luat partea pozitiva, pentru ca oricum (x-t)^2 va fi mereu pozitiv."
   ]
  },
  {
   "cell_type": "code",
   "execution_count": 63,
   "id": "62202070",
   "metadata": {},
   "outputs": [
    {
     "data": {
      "text/html": [
       "<html>\\(\\displaystyle {\\left(t - x\\right)}^{2} - t^{2} + 2 \\, t x - x^{2}\\)</html>"
      ],
      "text/latex": [
       "$\\displaystyle {\\left(t - x\\right)}^{2} - t^{2} + 2 \\, t x - x^{2}$"
      ],
      "text/plain": [
       "(t - x)^2 - t^2 + 2*t*x - x^2"
      ]
     },
     "execution_count": 63,
     "metadata": {},
     "output_type": "execute_result"
    }
   ],
   "source": [
    "R.substitute_function(f, Rf)"
   ]
  },
  {
   "cell_type": "code",
   "execution_count": 67,
   "id": "d72e240a",
   "metadata": {},
   "outputs": [
    {
     "data": {
      "text/html": [
       "<html>\\(\\displaystyle x \\ {\\mapsto}\\ -2 \\, t + 2 \\, x\\)</html>"
      ],
      "text/latex": [
       "$\\displaystyle x \\ {\\mapsto}\\ -2 \\, t + 2 \\, x$"
      ],
      "text/plain": [
       "x |--> -2*t + 2*x"
      ]
     },
     "execution_count": 67,
     "metadata": {},
     "output_type": "execute_result"
    }
   ],
   "source": [
    "diff(Rf, x)"
   ]
  },
  {
   "cell_type": "code",
   "execution_count": 66,
   "id": "f1797ca1",
   "metadata": {},
   "outputs": [
    {
     "data": {
      "text/html": [
       "<html>\\(\\displaystyle 2\\)</html>"
      ],
      "text/latex": [
       "$\\displaystyle 2$"
      ],
      "text/plain": [
       "2"
      ]
     },
     "execution_count": 66,
     "metadata": {},
     "output_type": "execute_result"
    }
   ],
   "source": [
    "diff(Rf, x)(2) - diff(Rf, x)(1)"
   ]
  },
  {
   "cell_type": "code",
   "execution_count": 89,
   "id": "53cd2b75",
   "metadata": {},
   "outputs": [
    {
     "data": {
      "text/html": [
       "<html>\\(\\displaystyle \\left( x, t \\right) \\ {\\mapsto} \\ \\frac{1}{2} \\, {\\left(t - x\\right)}^{2} - \\frac{1}{2} \\, t^{2} + t x - \\frac{1}{2} \\, x^{2}\\)</html>"
      ],
      "text/latex": [
       "$\\displaystyle \\left( x, t \\right) \\ {\\mapsto} \\ \\frac{1}{2} \\, {\\left(t - x\\right)}^{2} - \\frac{1}{2} \\, t^{2} + t x - \\frac{1}{2} \\, x^{2}$"
      ],
      "text/plain": [
       "(x, t) |--> 1/2*(t - x)^2 - 1/2*t^2 + t*x - 1/2*x^2"
      ]
     },
     "metadata": {},
     "output_type": "display_data"
    }
   ],
   "source": [
    "n = 2\n",
    "t = var(\"t\")\n",
    "\n",
    "Rf = ((x-t)**2).function(x)\n",
    "\n",
    "K = (1/factorial(n) * R.substitute_function(f, Rf)).function(x, t)\n",
    "display(K)"
   ]
  },
  {
   "cell_type": "code",
   "execution_count": 96,
   "id": "fd503fbc",
   "metadata": {},
   "outputs": [
    {
     "data": {
      "text/html": [
       "<html>\\(\\displaystyle \\left( x, t \\right) \\ {\\mapsto} \\ 0\\)</html>"
      ],
      "text/latex": [
       "$\\displaystyle \\left( x, t \\right) \\ {\\mapsto} \\ 0$"
      ],
      "text/plain": [
       "(x, t) |--> 0"
      ]
     },
     "execution_count": 96,
     "metadata": {},
     "output_type": "execute_result"
    }
   ],
   "source": [
    "K.expand()"
   ]
  },
  {
   "cell_type": "markdown",
   "id": "8f72d72a",
   "metadata": {},
   "source": [
    "=> semn constant\n",
    "\n",
    "aplicam corolarul la teorema lui Peano"
   ]
  },
  {
   "cell_type": "code",
   "execution_count": 100,
   "id": "848ac453",
   "metadata": {},
   "outputs": [
    {
     "data": {
      "text/html": [
       "<html>\\(\\displaystyle \\frac{1}{12} \\, {\\left(2 \\, x^{3} - 9 \\, x^{2} + 12 \\, x\\right)} \\frac{\\partial^{3}}{(\\partial \\xi)^{3}}f\\left(\\xi\\right)\\)</html>"
      ],
      "text/latex": [
       "$\\displaystyle \\frac{1}{12} \\, {\\left(2 \\, x^{3} - 9 \\, x^{2} + 12 \\, x\\right)} \\frac{\\partial^{3}}{(\\partial \\xi)^{3}}f\\left(\\xi\\right)$"
      ],
      "text/plain": [
       "1/12*(2*x^3 - 9*x^2 + 12*x)*diff(f(xi), xi, xi, xi)"
      ]
     },
     "execution_count": 100,
     "metadata": {},
     "output_type": "execute_result"
    }
   ],
   "source": [
    "xi = var(\"xi\")\n",
    "Rf = 1 / factorial(n+1) * diff(f(x), n+1)(x=xi) * R.substitute_function(f, (x**(n+1)).function(x))\n",
    "Rf"
   ]
  }
 ],
 "metadata": {
  "kernelspec": {
   "display_name": "SageMath 10.0",
   "language": "sagemath",
   "name": "sagemath"
  },
  "language_info": {
   "codemirror_mode": {
    "name": "ipython",
    "version": 3
   },
   "file_extension": ".py",
   "mimetype": "text/x-python",
   "name": "python",
   "nbconvert_exporter": "python",
   "pygments_lexer": "ipython3",
   "version": "3.11.6"
  }
 },
 "nbformat": 4,
 "nbformat_minor": 5
}
