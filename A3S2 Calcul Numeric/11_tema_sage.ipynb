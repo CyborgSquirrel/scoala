{
 "cells": [
  {
   "cell_type": "code",
   "execution_count": 1,
   "id": "f1e2fc80",
   "metadata": {},
   "outputs": [],
   "source": [
    "import itertools\n",
    "import numpy as np\n",
    "import functools"
   ]
  },
  {
   "cell_type": "code",
   "execution_count": 2,
   "id": "79a87a13",
   "metadata": {},
   "outputs": [],
   "source": [
    "%display latex"
   ]
  },
  {
   "cell_type": "code",
   "execution_count": 3,
   "id": "e9363623",
   "metadata": {},
   "outputs": [],
   "source": [
    "def same(*args):\n",
    "    for arg in args:\n",
    "        assert args[0] == arg\n",
    "    return args[0]"
   ]
  },
  {
   "cell_type": "markdown",
   "id": "93017c13",
   "metadata": {},
   "source": [
    "# Probleme"
   ]
  },
  {
   "cell_type": "markdown",
   "id": "d07a9bd8",
   "metadata": {},
   "source": [
    "## 1"
   ]
  },
  {
   "cell_type": "code",
   "execution_count": 4,
   "id": "1c66f929",
   "metadata": {},
   "outputs": [],
   "source": [
    "class GaussQuad:\n",
    "    def __init__(self, alphas, betas, wf):\n",
    "        self.n = same(len(alphas), len(betas))\n",
    "        \n",
    "        self.wf = wf\n",
    "    \n",
    "        J = np.zeros((self.n, self.n))\n",
    "        for k, alpha, beta in zip(range(self.n), alphas, betas):\n",
    "            J[k, k] = alpha\n",
    "            if k-1 >= 0:\n",
    "                J[k-1, k] = sqrt(beta)\n",
    "                J[k, k-1] = sqrt(beta)\n",
    "\n",
    "        x = var(\"x\")\n",
    "        polys = [0, 1]\n",
    "        for k, alpha, beta in zip(itertools.count(2), alphas, betas):\n",
    "            poly = (x - alpha)*polys[k-1] - beta*polys[k-2]\n",
    "            polys.append(poly)\n",
    "        self.poly = polys[-1]\n",
    "        self.poly = self.poly.full_simplify()\n",
    "        \n",
    "        # Eigenvectors are returned in normalized form.\n",
    "        # eig.eigenvectors[vector_dimension,vector]\n",
    "        eig = np.linalg.eig(J)\n",
    "        eig_val = eig.eigenvalues\n",
    "        eig_vec = eig.eigenvectors.T\n",
    "\n",
    "        self.x = eig_val.tolist()\n",
    "        v = eig_vec.tolist()\n",
    "\n",
    "        self.w = []\n",
    "        for k in range(self.n):\n",
    "            self.w.append(betas[0]*v[k][0]**2)\n",
    "    \n",
    "    @property\n",
    "    def sx(self):\n",
    "        return var(\"x\")\n",
    "    \n",
    "    @property\n",
    "    def sf(self):\n",
    "        return function(\"f\")\n",
    "    \n",
    "    @functools.cached_property\n",
    "    def quad(self):\n",
    "        quad = 0\n",
    "        for xv, wv in zip(self.x, self.w):\n",
    "            quad += wv*(self.sf)(xv)\n",
    "        return quad\n",
    "    \n",
    "    @functools.cached_property\n",
    "    def poly_norm(self):\n",
    "        coef = max(self.poly.coefficients(), key=lambda a: a[1])[0]\n",
    "        poly = self.poly / coef\n",
    "        return poly\n",
    "        \n",
    "    @property\n",
    "    def rest(self):\n",
    "        a = var(\"a\")\n",
    "        b = var(\"b\")\n",
    "        \n",
    "        with assuming(a < b):\n",
    "            rest = (\n",
    "                diff((self.sf)(self.sx), self.sx, 2*self.n)\n",
    "                / factorial(2*self.n)\n",
    "                * integral(self.wf(self.sx)*self.poly_norm**2, self.sx, a, b)\n",
    "            )\n",
    "        return rest"
   ]
  },
  {
   "cell_type": "code",
   "execution_count": 5,
   "id": "d0420819",
   "metadata": {},
   "outputs": [],
   "source": [
    "def legendre_values(n):\n",
    "    alphas = []\n",
    "    betas = []\n",
    "    for k in range(n):\n",
    "        alphas.append(0)\n",
    "        if k == 0:\n",
    "            betas.append(2)\n",
    "        else:\n",
    "            betas.append((4-k**-2)**-1)\n",
    "    \n",
    "    w = function(\"w\")\n",
    "    x = var(\"x\")\n",
    "    w(x) = 1\n",
    "            \n",
    "    return alphas, betas, w"
   ]
  },
  {
   "cell_type": "code",
   "execution_count": 6,
   "id": "15081e41",
   "metadata": {},
   "outputs": [
    {
     "data": {
      "text/html": [
       "<html>\\(\\displaystyle 0.06667134430868765 \\, f\\left(0.9739065285171717\\right) + 0.14945134915058084 \\, f\\left(0.8650633666889845\\right) + 0.21908636251598165 \\, f\\left(0.6794095682990247\\right) + 0.26926671930999635 \\, f\\left(0.43339539412924705\\right) + 0.2955242247147529 \\, f\\left(0.14887433898163147\\right) + 0.2955242247147521 \\, f\\left(-0.14887433898163108\\right) + 0.2692667193099968 \\, f\\left(-0.43339539412924777\\right) + 0.2190863625159818 \\, f\\left(-0.6794095682990237\\right) + 0.1494513491505793 \\, f\\left(-0.8650633666889843\\right) + 0.06667134430868907 \\, f\\left(-0.9739065285171716\\right)\\)</html>"
      ],
      "text/latex": [
       "$\\displaystyle 0.06667134430868765 \\, f\\left(0.9739065285171717\\right) + 0.14945134915058084 \\, f\\left(0.8650633666889845\\right) + 0.21908636251598165 \\, f\\left(0.6794095682990247\\right) + 0.26926671930999635 \\, f\\left(0.43339539412924705\\right) + 0.2955242247147529 \\, f\\left(0.14887433898163147\\right) + 0.2955242247147521 \\, f\\left(-0.14887433898163108\\right) + 0.2692667193099968 \\, f\\left(-0.43339539412924777\\right) + 0.2190863625159818 \\, f\\left(-0.6794095682990237\\right) + 0.1494513491505793 \\, f\\left(-0.8650633666889843\\right) + 0.06667134430868907 \\, f\\left(-0.9739065285171716\\right)$"
      ],
      "text/plain": [
       "0.06667134430868765*f(0.9739065285171717) + 0.14945134915058084*f(0.8650633666889845) + 0.21908636251598165*f(0.6794095682990247) + 0.26926671930999635*f(0.43339539412924705) + 0.2955242247147529*f(0.14887433898163147) + 0.2955242247147521*f(-0.14887433898163108) + 0.2692667193099968*f(-0.43339539412924777) + 0.2190863625159818*f(-0.6794095682990237) + 0.1494513491505793*f(-0.8650633666889843) + 0.06667134430868907*f(-0.9739065285171716)"
      ]
     },
     "execution_count": 6,
     "metadata": {},
     "output_type": "execute_result"
    }
   ],
   "source": [
    "gq = GaussQuad(*legendre_values(10))\n",
    "gq.quad"
   ]
  },
  {
   "cell_type": "code",
   "execution_count": 7,
   "id": "980bc7e7",
   "metadata": {},
   "outputs": [],
   "source": [
    "def chebyshev_values_1(n):\n",
    "    alphas = []\n",
    "    betas = []\n",
    "    for k in range(n):\n",
    "        alphas.append(0)\n",
    "        if k == 0:\n",
    "            betas.append(pi)\n",
    "        elif k == 1:\n",
    "            betas.append(1/2)\n",
    "        else:\n",
    "            betas.append(1/4)\n",
    "            \n",
    "    w = function(\"w\")\n",
    "    x = var(\"x\")\n",
    "    w(x) = (1-x**2)**(-1/2)\n",
    "            \n",
    "    return alphas, betas, w"
   ]
  },
  {
   "cell_type": "code",
   "execution_count": 8,
   "id": "569b43f1",
   "metadata": {},
   "outputs": [],
   "source": [
    "def chebyshev_values_2(n):\n",
    "    alphas = []\n",
    "    betas = []\n",
    "    for k in range(n):\n",
    "        alphas.append(0)\n",
    "        if k == 0:\n",
    "            betas.append(1/2 * pi)\n",
    "        else:\n",
    "            betas.append(1/4)\n",
    "    \n",
    "    w = function(\"w\")\n",
    "    x = var(\"x\")\n",
    "    w(x) = (1-x**2)**(1/2)\n",
    "    \n",
    "    return alphas, betas, w"
   ]
  },
  {
   "cell_type": "code",
   "execution_count": 9,
   "id": "0cbe3a04",
   "metadata": {},
   "outputs": [],
   "source": [
    "def jacobi_values(n, alpha, beta):\n",
    "    alphas = []\n",
    "    betas = []\n",
    "    \n",
    "    for k in range(n):\n",
    "        alphas.append(\n",
    "            (beta**2 - alpha**2)\n",
    "            / ((2*k + alpha + beta) * (2*k + alpha + beta + 2))\n",
    "        )\n",
    "        \n",
    "        if k == 0:\n",
    "            betas.append(\n",
    "                2**(alpha + beta + 1)\n",
    "                * (\n",
    "                    (gamma(alpha + 1)*gamma(beta + 1))\n",
    "                    / (gamma(alpha + beta + 2))\n",
    "                )\n",
    "            )\n",
    "        elif k == 1:\n",
    "            betas.append(\n",
    "                (\n",
    "                    4\n",
    "                    * (1 + alpha)\n",
    "                    * (1 + beta)\n",
    "                )\n",
    "                / (\n",
    "                    (2 + alpha + beta)**2\n",
    "                    * (3 + alpha + beta)\n",
    "                )\n",
    "            )\n",
    "        else:\n",
    "            betas.append(\n",
    "                (\n",
    "                    4*k\n",
    "                    * (k + alpha)\n",
    "                    * (k + alpha + beta)\n",
    "                    * (k + beta)\n",
    "                )\n",
    "                / (\n",
    "                    (2*k + alpha + beta - 1)\n",
    "                    * (2*k + alpha + beta)**2\n",
    "                    * (2*k + alpha + beta + 1)\n",
    "                )\n",
    "            )\n",
    "    \n",
    "    w = function(\"w\")\n",
    "    x = var(\"x\")\n",
    "    w(x) = (1-x)**alpha * (1+x)**beta\n",
    "    \n",
    "    return alphas, betas, w"
   ]
  },
  {
   "cell_type": "code",
   "execution_count": 10,
   "id": "ee89feb3",
   "metadata": {},
   "outputs": [],
   "source": [
    "def laguerre_values(n, alpha):\n",
    "    alphas = []\n",
    "    betas = []\n",
    "    \n",
    "    for k in range(n):\n",
    "        alphas.append(2*k+alpha+1)\n",
    "        if k == 0:\n",
    "            betas.append(gamma(1+alpha))\n",
    "        else:\n",
    "            betas.append(k*(k+alpha))\n",
    "    \n",
    "    w = function(\"w\")\n",
    "    x = var(\"x\")\n",
    "    w(x) = x**alpha * e**(-x)\n",
    "    \n",
    "    return alphas, betas, w"
   ]
  },
  {
   "cell_type": "code",
   "execution_count": 11,
   "id": "5abc6902",
   "metadata": {},
   "outputs": [],
   "source": [
    "def hermite_values(n):\n",
    "    alphas = []\n",
    "    betas = []\n",
    "    \n",
    "    for k in range(n):\n",
    "        alphas.append(0)\n",
    "        if k == 0:\n",
    "            betas.append(sqrt(pi))\n",
    "        else:\n",
    "            betas.append(1/2*k)\n",
    "    \n",
    "    w = function(\"w\")\n",
    "    x = var(\"x\")\n",
    "    w(x) = e**(-x**2)\n",
    "    \n",
    "    return alphas, betas, w"
   ]
  },
  {
   "cell_type": "markdown",
   "id": "2b6e835e",
   "metadata": {},
   "source": [
    "## 2"
   ]
  },
  {
   "cell_type": "markdown",
   "id": "22cae5b9",
   "metadata": {},
   "source": [
    "8 noduri sunt necesare"
   ]
  },
  {
   "cell_type": "code",
   "execution_count": 12,
   "id": "fdbead6d",
   "metadata": {},
   "outputs": [
    {
     "data": {
      "text/html": [
       "<html>\\(\\displaystyle 0.620536602926745\\)</html>"
      ],
      "text/latex": [
       "$\\displaystyle 0.620536602926745$"
      ],
      "text/plain": [
       "0.620536602926745"
      ]
     },
     "metadata": {},
     "output_type": "display_data"
    },
    {
     "data": {
      "text/html": [
       "<html>\\(\\displaystyle \\left(2.2247658899910822 \\times 10^{-18}\\right) \\, \\frac{\\partial^{16}}{(\\partial x)^{16}}f\\left(x\\right)\\)</html>"
      ],
      "text/latex": [
       "$\\displaystyle \\left(2.2247658899910822 \\times 10^{-18}\\right) \\, \\frac{\\partial^{16}}{(\\partial x)^{16}}f\\left(x\\right)$"
      ],
      "text/plain": [
       "(2.2247658899910822e-18)*diff(f(x), x, x, x, x, x, x, x, x, x, x, x, x, x, x, x, x)"
      ]
     },
     "metadata": {},
     "output_type": "display_data"
    },
    {
     "data": {
      "image/png": "[encoded data removed]",
      "text/plain": [
       "Graphics object consisting of 1 graphics primitive"
      ]
     },
     "execution_count": 12,
     "metadata": {},
     "output_type": "execute_result"
    }
   ],
   "source": [
    "x = var(\"x\")\n",
    "fv = function(\"f\")\n",
    "fv(x) = sin(x**2)\n",
    "gq = GaussQuad(*legendre_values(8))\n",
    "quad = gq.quad.substitute_function(gq.sf, fv)\n",
    "rest = gq.rest.substitute(a=-1, b=1)\n",
    "\n",
    "pretty_print(quad)\n",
    "pretty_print(rest)\n",
    "\n",
    "rest = rest.substitute_function(gq.sf, fv)\n",
    "plot(rest, -1, 1)"
   ]
  },
  {
   "cell_type": "markdown",
   "id": "a97d6dec",
   "metadata": {},
   "source": [
    "7 noduri sunt necesare"
   ]
  },
  {
   "cell_type": "code",
   "execution_count": 13,
   "id": "b227060e",
   "metadata": {},
   "outputs": [
    {
     "data": {
      "text/html": [
       "<html>\\(\\displaystyle 1.80904845936581\\)</html>"
      ],
      "text/latex": [
       "$\\displaystyle 1.80904845936581$"
      ],
      "text/plain": [
       "1.80904845936581"
      ]
     },
     "metadata": {},
     "output_type": "display_data"
    },
    {
     "data": {
      "text/html": [
       "<html>\\(\\displaystyle \\left(2.127432382288623 \\times 10^{-15}\\right) \\, \\frac{\\partial^{14}}{(\\partial x)^{14}}f\\left(x\\right)\\)</html>"
      ],
      "text/latex": [
       "$\\displaystyle \\left(2.127432382288623 \\times 10^{-15}\\right) \\, \\frac{\\partial^{14}}{(\\partial x)^{14}}f\\left(x\\right)$"
      ],
      "text/plain": [
       "(2.127432382288623e-15)*diff(f(x), x, x, x, x, x, x, x, x, x, x, x, x, x, x)"
      ]
     },
     "metadata": {},
     "output_type": "display_data"
    },
    {
     "data": {
      "image/png": "[encoded data removed]",
      "text/plain": [
       "Graphics object consisting of 1 graphics primitive"
      ]
     },
     "execution_count": 13,
     "metadata": {},
     "output_type": "execute_result"
    }
   ],
   "source": [
    "x = var(\"x\")\n",
    "fv = function(\"f\")\n",
    "fv(x) = cos(x**2)\n",
    "gq = GaussQuad(*legendre_values(7))\n",
    "quad = gq.quad.substitute_function(gq.sf, fv)\n",
    "rest = gq.rest.substitute(a=-1, b=1)\n",
    "\n",
    "display(quad)\n",
    "display(rest)\n",
    "\n",
    "rest = rest.substitute_function(gq.sf, fv)\n",
    "plot(rest, -1, 1)"
   ]
  },
  {
   "cell_type": "markdown",
   "id": "c20bdd18",
   "metadata": {},
   "source": [
    "## 3"
   ]
  },
  {
   "cell_type": "code",
   "execution_count": 14,
   "id": "a4564c33",
   "metadata": {},
   "outputs": [
    {
     "data": {
      "text/html": [
       "<html>\\(\\displaystyle 0.10000000000000049 \\, \\pi f\\left(0.987688340595138\\right) + 0.0999999999999993 \\, \\pi f\\left(0.891006524188368\\right) + 0.10000000000000003 \\, \\pi f\\left(0.7071067811865477\\right) + 0.09999999999999996 \\, \\pi f\\left(0.4539904997395468\\right) + 0.09999999999999994 \\, \\pi f\\left(0.15643446504023098\\right) + 0.10000000000000012 \\, \\pi f\\left(-0.15643446504023079\\right) + 0.10000000000000021 \\, \\pi f\\left(-0.4539904997395472\\right) + 0.09999999999999994 \\, \\pi f\\left(-0.7071067811865471\\right) + 0.09999999999999842 \\, \\pi f\\left(-0.8910065241883673\\right) + 0.100000000000002 \\, \\pi f\\left(-0.9876883405951378\\right)\\)</html>"
      ],
      "text/latex": [
       "$\\displaystyle 0.10000000000000049 \\, \\pi f\\left(0.987688340595138\\right) + 0.0999999999999993 \\, \\pi f\\left(0.891006524188368\\right) + 0.10000000000000003 \\, \\pi f\\left(0.7071067811865477\\right) + 0.09999999999999996 \\, \\pi f\\left(0.4539904997395468\\right) + 0.09999999999999994 \\, \\pi f\\left(0.15643446504023098\\right) + 0.10000000000000012 \\, \\pi f\\left(-0.15643446504023079\\right) + 0.10000000000000021 \\, \\pi f\\left(-0.4539904997395472\\right) + 0.09999999999999994 \\, \\pi f\\left(-0.7071067811865471\\right) + 0.09999999999999842 \\, \\pi f\\left(-0.8910065241883673\\right) + 0.100000000000002 \\, \\pi f\\left(-0.9876883405951378\\right)$"
      ],
      "text/plain": [
       "0.10000000000000049*pi*f(0.987688340595138) + 0.0999999999999993*pi*f(0.891006524188368) + 0.10000000000000003*pi*f(0.7071067811865477) + 0.09999999999999996*pi*f(0.4539904997395468) + 0.09999999999999994*pi*f(0.15643446504023098) + 0.10000000000000012*pi*f(-0.15643446504023079) + 0.10000000000000021*pi*f(-0.4539904997395472) + 0.09999999999999994*pi*f(-0.7071067811865471) + 0.09999999999999842*pi*f(-0.8910065241883673) + 0.100000000000002*pi*f(-0.9876883405951378)"
      ]
     },
     "metadata": {},
     "output_type": "display_data"
    },
    {
     "data": {
      "text/html": [
       "<html>\\(\\displaystyle -9.15565480727266 \\times 10^{-16}\\)</html>"
      ],
      "text/latex": [
       "$\\displaystyle -9.15565480727266 \\times 10^{-16}$"
      ],
      "text/plain": [
       "-9.15565480727266e-16"
      ]
     },
     "metadata": {},
     "output_type": "display_data"
    },
    {
     "data": {
      "text/html": [
       "<html>\\(\\displaystyle 0\\)</html>"
      ],
      "text/latex": [
       "$\\displaystyle 0$"
      ],
      "text/plain": [
       "0"
      ]
     },
     "metadata": {},
     "output_type": "display_data"
    }
   ],
   "source": [
    "x = var(\"x\")\n",
    "f = function(\"f\")\n",
    "gq = GaussQuad(*chebyshev_values_1(10))\n",
    "\n",
    "display(gq.quad)\n",
    "\n",
    "fv = function(\"f\")\n",
    "fv(x) = x*e**(-x**2)\n",
    "quad = gq.quad.substitute_function(f, fv)\n",
    "\n",
    "display(quad.n())\n",
    "display(integral(fv(x) / sqrt(1-x**2), x, -1, 1))"
   ]
  },
  {
   "cell_type": "markdown",
   "id": "2962a813",
   "metadata": {},
   "source": [
    "## 4"
   ]
  },
  {
   "cell_type": "code",
   "execution_count": 15,
   "id": "466c3edb",
   "metadata": {},
   "outputs": [
    {
     "data": {
      "text/html": [
       "<html>\\(\\displaystyle 0.0072157485076736185 \\, \\pi f\\left(0.9594929736144974\\right) + 0.02657204486355056 \\, \\pi f\\left(0.8412535328311808\\right) + 0.0519234017396947 \\, \\pi f\\left(0.654860733945285\\right) + 0.0752209424520584 \\, \\pi f\\left(0.41541501300188644\\right) + 0.08906786243702253 \\, \\pi f\\left(0.14231483827328492\\right) + 0.08906786243702276 \\, \\pi f\\left(-0.14231483827328548\\right) + 0.07522094245205838 \\, \\pi f\\left(-0.41541501300188616\\right) + 0.05192340173969497 \\, \\pi f\\left(-0.6548607339452843\\right) + 0.026572044863550047 \\, \\pi f\\left(-0.8412535328311812\\right) + 0.007215748507673855 \\, \\pi f\\left(-0.9594929736144979\\right)\\)</html>"
      ],
      "text/latex": [
       "$\\displaystyle 0.0072157485076736185 \\, \\pi f\\left(0.9594929736144974\\right) + 0.02657204486355056 \\, \\pi f\\left(0.8412535328311808\\right) + 0.0519234017396947 \\, \\pi f\\left(0.654860733945285\\right) + 0.0752209424520584 \\, \\pi f\\left(0.41541501300188644\\right) + 0.08906786243702253 \\, \\pi f\\left(0.14231483827328492\\right) + 0.08906786243702276 \\, \\pi f\\left(-0.14231483827328548\\right) + 0.07522094245205838 \\, \\pi f\\left(-0.41541501300188616\\right) + 0.05192340173969497 \\, \\pi f\\left(-0.6548607339452843\\right) + 0.026572044863550047 \\, \\pi f\\left(-0.8412535328311812\\right) + 0.007215748507673855 \\, \\pi f\\left(-0.9594929736144979\\right)$"
      ],
      "text/plain": [
       "0.0072157485076736185*pi*f(0.9594929736144974) + 0.02657204486355056*pi*f(0.8412535328311808) + 0.0519234017396947*pi*f(0.654860733945285) + 0.0752209424520584*pi*f(0.41541501300188644) + 0.08906786243702253*pi*f(0.14231483827328492) + 0.08906786243702276*pi*f(-0.14231483827328548) + 0.07522094245205838*pi*f(-0.41541501300188616) + 0.05192340173969497*pi*f(-0.6548607339452843) + 0.026572044863550047*pi*f(-0.8412535328311812) + 0.007215748507673855*pi*f(-0.9594929736144979)"
      ]
     },
     "metadata": {},
     "output_type": "display_data"
    },
    {
     "data": {
      "text/html": [
       "<html>\\(\\displaystyle 1.25892425655152\\)</html>"
      ],
      "text/latex": [
       "$\\displaystyle 1.25892425655152$"
      ],
      "text/plain": [
       "1.25892425655152"
      ]
     },
     "metadata": {},
     "output_type": "display_data"
    },
    {
     "data": {
      "text/html": [
       "<html>\\(\\displaystyle 1.2589242626487025\\)</html>"
      ],
      "text/latex": [
       "$\\displaystyle 1.2589242626487025$"
      ],
      "text/plain": [
       "1.2589242626487025"
      ]
     },
     "metadata": {},
     "output_type": "display_data"
    },
    {
     "data": {
      "image/png": "[encoded data removed]",
      "text/plain": [
       "Graphics object consisting of 1 graphics primitive"
      ]
     },
     "execution_count": 15,
     "metadata": {},
     "output_type": "execute_result"
    }
   ],
   "source": [
    "gq = GaussQuad(*chebyshev_values_2(10))\n",
    "\n",
    "display(gq.quad)\n",
    "\n",
    "x = var(\"x\")\n",
    "fv = function(\"f\")\n",
    "fv(x) = e**(-x**2)\n",
    "quad = gq.quad.substitute_function(gq.sf, fv)\n",
    "\n",
    "display(quad.n())\n",
    "display(integral(fv(x) * sqrt(1-x**2), x, -1, 1).n())\n",
    "\n",
    "rest = gq.rest.substitute(a=-1, b=1).substitute_function(gq.sf, fv)\n",
    "plot(rest, -1, 1)"
   ]
  },
  {
   "cell_type": "markdown",
   "id": "326a4673",
   "metadata": {},
   "source": [
    "Valoarea maxima a restului depaseste 4. Asadar, nici prima cifra nu este corecta."
   ]
  },
  {
   "cell_type": "markdown",
   "id": "529f8a9b",
   "metadata": {},
   "source": [
    "## 5"
   ]
  },
  {
   "cell_type": "markdown",
   "id": "d038acf0",
   "metadata": {},
   "source": [
    "Deoarece $f(x)=\\sin{x}$, inseamna ca $f^{(n)}(x)\\le1,\\forall x\\in R, n\\in N$. Aceeasi se aplica si pentru $f(x)=\\cos{x}$."
   ]
  },
  {
   "cell_type": "code",
   "execution_count": 16,
   "id": "9476cbd9",
   "metadata": {},
   "outputs": [
    {
     "data": {
      "text/html": [
       "<html>\\(\\displaystyle x \\ {\\mapsto}\\ \\sin\\left(x\\right)\\)</html>"
      ],
      "text/latex": [
       "$\\displaystyle x \\ {\\mapsto}\\ \\sin\\left(x\\right)$"
      ],
      "text/plain": [
       "x |--> sin(x)"
      ]
     },
     "metadata": {},
     "output_type": "display_data"
    },
    {
     "data": {
      "text/html": [
       "<html>\\(\\displaystyle 15\\)</html>"
      ],
      "text/latex": [
       "$\\displaystyle 15$"
      ],
      "text/plain": [
       "15"
      ]
     },
     "metadata": {},
     "output_type": "display_data"
    },
    {
     "data": {
      "text/html": [
       "<html>\\(\\displaystyle 0.500000000204871\\)</html>"
      ],
      "text/latex": [
       "$\\displaystyle 0.500000000204871$"
      ],
      "text/plain": [
       "0.500000000204871"
      ]
     },
     "metadata": {},
     "output_type": "display_data"
    }
   ],
   "source": [
    "x = var(\"x\")\n",
    "fv = function(\"f\")\n",
    "fv(x) = sin(x)\n",
    "display(fv)\n",
    "\n",
    "n = 1\n",
    "while True:\n",
    "    gq = GaussQuad(*laguerre_values(n, 0))\n",
    "\n",
    "    rest = (\n",
    "        1\n",
    "        / factorial(2*gq.n)\n",
    "        * integral(gq.wf(gq.sx)*gq.poly_norm**2, gq.sx, 0, oo)\n",
    "    )\n",
    "    if rest < 10**-8:\n",
    "        break\n",
    "    n += 1\n",
    "\n",
    "display(n)\n",
    "display(gq.quad.substitute_function(gq.sf, fv))"
   ]
  },
  {
   "cell_type": "code",
   "execution_count": 17,
   "id": "4f002e37",
   "metadata": {},
   "outputs": [
    {
     "data": {
      "text/html": [
       "<html>\\(\\displaystyle x \\ {\\mapsto}\\ \\cos\\left(x\\right)\\)</html>"
      ],
      "text/latex": [
       "$\\displaystyle x \\ {\\mapsto}\\ \\cos\\left(x\\right)$"
      ],
      "text/plain": [
       "x |--> cos(x)"
      ]
     },
     "metadata": {},
     "output_type": "display_data"
    },
    {
     "data": {
      "text/html": [
       "<html>\\(\\displaystyle 15\\)</html>"
      ],
      "text/latex": [
       "$\\displaystyle 15$"
      ],
      "text/plain": [
       "15"
      ]
     },
     "metadata": {},
     "output_type": "display_data"
    },
    {
     "data": {
      "text/html": [
       "<html>\\(\\displaystyle 0.499999999935132\\)</html>"
      ],
      "text/latex": [
       "$\\displaystyle 0.499999999935132$"
      ],
      "text/plain": [
       "0.499999999935132"
      ]
     },
     "metadata": {},
     "output_type": "display_data"
    }
   ],
   "source": [
    "x = var(\"x\")\n",
    "fv = function(\"f\")\n",
    "fv(x) = cos(x)\n",
    "display(fv)\n",
    "\n",
    "n = 1\n",
    "while True:\n",
    "    gq = GaussQuad(*laguerre_values(n, 0))\n",
    "\n",
    "    rest = (\n",
    "        1\n",
    "        / factorial(2*gq.n)\n",
    "        * integral(gq.wf(gq.sx)*gq.poly_norm**2, gq.sx, 0, oo)\n",
    "    )\n",
    "    if rest < 10**-8:\n",
    "        break\n",
    "    n += 1\n",
    "\n",
    "display(n)\n",
    "display(gq.quad.substitute_function(gq.sf, fv))"
   ]
  },
  {
   "cell_type": "markdown",
   "id": "2c1298d9",
   "metadata": {},
   "source": [
    "## 6"
   ]
  },
  {
   "cell_type": "code",
   "execution_count": 18,
   "id": "90128841",
   "metadata": {},
   "outputs": [
    {
     "data": {
      "text/html": [
       "<html>\\(\\displaystyle x \\ {\\mapsto}\\ \\sin\\left(x\\right)\\)</html>"
      ],
      "text/latex": [
       "$\\displaystyle x \\ {\\mapsto}\\ \\sin\\left(x\\right)$"
      ],
      "text/plain": [
       "x |--> sin(x)"
      ]
     },
     "metadata": {},
     "output_type": "display_data"
    },
    {
     "data": {
      "text/html": [
       "<html>\\(\\displaystyle 8.37374035794795 \\times 10^{-16}\\)</html>"
      ],
      "text/latex": [
       "$\\displaystyle 8.37374035794795 \\times 10^{-16}$"
      ],
      "text/plain": [
       "8.37374035794795e-16"
      ]
     },
     "metadata": {},
     "output_type": "display_data"
    },
    {
     "data": {
      "text/html": [
       "<html>\\(\\displaystyle 0.000000000000000\\)</html>"
      ],
      "text/latex": [
       "$\\displaystyle 0.000000000000000$"
      ],
      "text/plain": [
       "0.000000000000000"
      ]
     },
     "metadata": {},
     "output_type": "display_data"
    }
   ],
   "source": [
    "x = var(\"x\")\n",
    "fv = function(\"f\")\n",
    "fv(x) = sin(x)\n",
    "display(fv)\n",
    "gq = GaussQuad(*hermite_values(10))\n",
    "display(gq.quad.substitute_function(gq.sf, fv).n())\n",
    "display(integral(fv(x)*e**(-x**2), x, -oo, oo).n())"
   ]
  },
  {
   "cell_type": "code",
   "execution_count": 19,
   "id": "744c61c4",
   "metadata": {},
   "outputs": [
    {
     "data": {
      "text/html": [
       "<html>\\(\\displaystyle x \\ {\\mapsto}\\ \\cos\\left(x\\right)\\)</html>"
      ],
      "text/latex": [
       "$\\displaystyle x \\ {\\mapsto}\\ \\cos\\left(x\\right)$"
      ],
      "text/plain": [
       "x |--> cos(x)"
      ]
     },
     "metadata": {},
     "output_type": "display_data"
    },
    {
     "data": {
      "text/html": [
       "<html>\\(\\displaystyle 1.38038844704314\\)</html>"
      ],
      "text/latex": [
       "$\\displaystyle 1.38038844704314$"
      ],
      "text/plain": [
       "1.38038844704314"
      ]
     },
     "metadata": {},
     "output_type": "display_data"
    },
    {
     "data": {
      "text/html": [
       "<html>\\(\\displaystyle 1.38038844704314\\)</html>"
      ],
      "text/latex": [
       "$\\displaystyle 1.38038844704314$"
      ],
      "text/plain": [
       "1.38038844704314"
      ]
     },
     "metadata": {},
     "output_type": "display_data"
    }
   ],
   "source": [
    "fv = function(\"f\")\n",
    "fv(x) = cos(x)\n",
    "display(fv)\n",
    "gq = GaussQuad(*hermite_values(10))\n",
    "display(gq.quad.substitute_function(gq.sf, fv).n())\n",
    "display(integral(fv(x)*e**(-x**2), x, -oo, oo).n())"
   ]
  },
  {
   "cell_type": "markdown",
   "id": "d93dd7eb",
   "metadata": {},
   "source": [
    "## 7"
   ]
  },
  {
   "cell_type": "markdown",
   "id": "27938786",
   "metadata": {},
   "source": [
    "Pentru ca $f(x)=\\frac{\\sqrt{2}}{\\sqrt{x+3}}$, pentru $x\\in[-1,1]$, orice functie $f^{(2k)}(x),k\\in\\mathbb{N}$ isi va atinge valoarea maxima in $x=-1$."
   ]
  },
  {
   "cell_type": "code",
   "execution_count": 20,
   "id": "6e84b090",
   "metadata": {},
   "outputs": [
    {
     "data": {
      "text/html": [
       "<html>\\(\\displaystyle x \\ {\\mapsto}\\ \\frac{\\sqrt{2}}{\\sqrt{x + 3}}\\)</html>"
      ],
      "text/latex": [
       "$\\displaystyle x \\ {\\mapsto}\\ \\frac{\\sqrt{2}}{\\sqrt{x + 3}}$"
      ],
      "text/plain": [
       "x |--> sqrt(2)/sqrt(x + 3)"
      ]
     },
     "metadata": {},
     "output_type": "display_data"
    }
   ],
   "source": [
    "fv = function(\"f\")\n",
    "fv(x) = sqrt(2) / sqrt(3 + x)\n",
    "display(fv)"
   ]
  },
  {
   "cell_type": "code",
   "execution_count": 21,
   "id": "55b38bc7",
   "metadata": {},
   "outputs": [
    {
     "data": {
      "image/png": "[encoded data removed]",
      "text/plain": [
       "Graphics object consisting of 3 graphics primitives"
      ]
     },
     "execution_count": 21,
     "metadata": {},
     "output_type": "execute_result"
    }
   ],
   "source": [
    "plot([diff(fv, x, 2*i) for i in range(3)], -1, 1)"
   ]
  },
  {
   "cell_type": "code",
   "execution_count": 22,
   "id": "a9af9ecb",
   "metadata": {},
   "outputs": [
    {
     "data": {
      "text/html": [
       "<html>\\(\\displaystyle 2.62205755429170\\)</html>"
      ],
      "text/latex": [
       "$\\displaystyle 2.62205755429170$"
      ],
      "text/plain": [
       "2.62205755429170"
      ]
     },
     "metadata": {},
     "output_type": "display_data"
    },
    {
     "data": {
      "text/html": [
       "<html>\\(\\displaystyle 2.62205755429212\\)</html>"
      ],
      "text/latex": [
       "$\\displaystyle 2.62205755429212$"
      ],
      "text/plain": [
       "2.62205755429212"
      ]
     },
     "metadata": {},
     "output_type": "display_data"
    }
   ],
   "source": [
    "n = 1\n",
    "while True:\n",
    "    gq = GaussQuad(*jacobi_values(n, -1/2, -1/2))\n",
    "    rest = (\n",
    "        diff((gq.sf)(gq.sx), gq.sx, 2*gq.n)\n",
    "        / factorial(2*gq.n)\n",
    "        * integral(gq.wf(gq.sx)*gq.poly_norm**2, gq.sx, -1, 1)\n",
    "    )\n",
    "    \n",
    "    rest = rest.substitute(x=-1).substitute_function(gq.sf, fv)\n",
    "    if rest < 10**-9:\n",
    "        break\n",
    "    n += 1\n",
    "\n",
    "display(gq.quad.substitute_function(gq.sf, fv).n())\n",
    "display(integral(1 / sqrt(sin(x)), x, 0, pi/2).n())"
   ]
  },
  {
   "cell_type": "code",
   "execution_count": null,
   "id": "04d0202e",
   "metadata": {},
   "outputs": [],
   "source": []
  },
  {
   "cell_type": "code",
   "execution_count": 23,
   "id": "7446bcd1",
   "metadata": {},
   "outputs": [
    {
     "data": {
      "text/html": [
       "<html>\\(\\displaystyle \\left(\\left[0, 0, 0, 0\\right], \\left[2, 0.3333333333333333, 0.26666666666666666, 0.2571428571428572\\right], x \\ {\\mapsto}\\ 1\\right)\\)</html>"
      ],
      "text/latex": [
       "$\\displaystyle \\left(\\left[0, 0, 0, 0\\right], \\left[2, 0.3333333333333333, 0.26666666666666666, 0.2571428571428572\\right], x \\ {\\mapsto}\\ 1\\right)$"
      ],
      "text/plain": [
       "([0, 0, 0, 0],\n",
       " [2, 0.3333333333333333, 0.26666666666666666, 0.2571428571428572],\n",
       " x |--> 1)"
      ]
     },
     "execution_count": 23,
     "metadata": {},
     "output_type": "execute_result"
    }
   ],
   "source": [
    "legendre_values(4)"
   ]
  }
 ],
 "metadata": {
  "kernelspec": {
   "display_name": "SageMath 10.0",
   "language": "sagemath",
   "name": "sagemath"
  },
  "language_info": {
   "codemirror_mode": {
    "name": "ipython",
    "version": 3
   },
   "file_extension": ".py",
   "mimetype": "text/x-python",
   "name": "python",
   "nbconvert_exporter": "python",
   "pygments_lexer": "ipython3",
   "version": "3.11.6"
  }
 },
 "nbformat": 4,
 "nbformat_minor": 5
}
