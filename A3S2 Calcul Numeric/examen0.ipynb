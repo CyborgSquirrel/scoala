{
 "cells": [
  {
   "cell_type": "markdown",
   "id": "aa6094a2",
   "metadata": {},
   "source": [
    "Setul 1\n",
    "\n",
    "Rezolvat in SageMath, versiunea 10.0"
   ]
  },
  {
   "cell_type": "code",
   "execution_count": 1,
   "id": "a58eb60d",
   "metadata": {},
   "outputs": [],
   "source": [
    "%display latex"
   ]
  },
  {
   "cell_type": "markdown",
   "id": "8891abc8",
   "metadata": {},
   "source": [
    "# 1"
   ]
  },
  {
   "cell_type": "markdown",
   "id": "57f3213f",
   "metadata": {},
   "source": [
    "- 2p coeficientii\n",
    "- 2p restul"
   ]
  },
  {
   "cell_type": "markdown",
   "id": "6ee0d0d8",
   "metadata": {},
   "source": [
    "$$\n",
    "\\int_0^{\\infty}e^{-t}f(t)dt=A_1f(0)+A_2f'(0)+A_3f(t_3)+A_4f(t_4)+R(f)\n",
    "$$\n",
    "\n",
    "Deducem pe $R(f)$:\n",
    "\n",
    "$$\n",
    "R(f)=\\int_0^{\\infty}e^{-t}f(t)dt-A_1f(0)-A_2f'(0)-A_3f(t_3)-A_4f(t_4)\n",
    "$$"
   ]
  },
  {
   "cell_type": "code",
   "execution_count": 2,
   "id": "e66e73a7",
   "metadata": {},
   "outputs": [
    {
     "data": {
      "text/html": [
       "<html>\\(\\displaystyle A_{1} f\\left(0\\right) + A_{3} f\\left(t_{3}\\right) + A_{4} f\\left(t_{4}\\right) + A_{2} \\mathrm{D}_{0}\\left(f\\right)\\left(0\\right)\\)</html>"
      ],
      "text/latex": [
       "$\\displaystyle A_{1} f\\left(0\\right) + A_{3} f\\left(t_{3}\\right) + A_{4} f\\left(t_{4}\\right) + A_{2} \\mathrm{D}_{0}\\left(f\\right)\\left(0\\right)$"
      ],
      "text/plain": [
       "A1*f(0) + A3*f(t3) + A4*f(t4) + A2*D[0](f)(0)"
      ]
     },
     "metadata": {},
     "output_type": "display_data"
    },
    {
     "data": {
      "text/html": [
       "<html>\\(\\displaystyle -A_{1} f\\left(0\\right) - A_{3} f\\left(t_{3}\\right) - A_{4} f\\left(t_{4}\\right) - A_{2} \\mathrm{D}_{0}\\left(f\\right)\\left(0\\right) + \\int_{0}^{+\\infty} e^{\\left(-t\\right)} f\\left(t\\right)\\,{d t}\\)</html>"
      ],
      "text/latex": [
       "$\\displaystyle -A_{1} f\\left(0\\right) - A_{3} f\\left(t_{3}\\right) - A_{4} f\\left(t_{4}\\right) - A_{2} \\mathrm{D}_{0}\\left(f\\right)\\left(0\\right) + \\int_{0}^{+\\infty} e^{\\left(-t\\right)} f\\left(t\\right)\\,{d t}$"
      ],
      "text/plain": [
       "-A1*f(0) - A3*f(t3) - A4*f(t4) - A2*D[0](f)(0) + integrate(e^(-t)*f(t), t, 0, +Infinity)"
      ]
     },
     "metadata": {},
     "output_type": "display_data"
    }
   ],
   "source": [
    "f = function(\"f\")\n",
    "t = var(\"t\")\n",
    "A1, A2, A3, A4 = var(\"A1 A2 A3 A4\")\n",
    "t3, t4 = var(\"t3 t4\")\n",
    "\n",
    "poly = A1*f(0) + A2*diff(f(t), t)(t=0) + A3*f(t3) + A4*f(t4)\n",
    "display(poly)\n",
    "\n",
    "R = integral(e**(-t) * f(t), t, 0, oo) - poly\n",
    "display(R)"
   ]
  },
  {
   "cell_type": "markdown",
   "id": "8de4ef3f",
   "metadata": {},
   "source": [
    "Fixăm că $R(f)=0$, pentru $f\\in\\mathbb{P}_5$ polinoame până în gradul $5$, ca să obținem o cuadratură cu grad de exactitate $d=5$. Rezolvăm sistemul care rezultă."
   ]
  },
  {
   "cell_type": "code",
   "execution_count": 3,
   "id": "e060357b",
   "metadata": {},
   "outputs": [
    {
     "data": {
      "text/html": [
       "<html>\\(\\displaystyle \\left[A_{1} = \\left(\\frac{11}{18}\\right), A_{2} = \\left(\\frac{1}{6}\\right), A_{3} = \\left(\\frac{3}{8}\\right), A_{4} = \\left(\\frac{1}{72}\\right), t_{3} = 2, t_{4} = 6\\right]\\)</html>"
      ],
      "text/latex": [
       "$\\displaystyle \\left[A_{1} = \\left(\\frac{11}{18}\\right), A_{2} = \\left(\\frac{1}{6}\\right), A_{3} = \\left(\\frac{3}{8}\\right), A_{4} = \\left(\\frac{1}{72}\\right), t_{3} = 2, t_{4} = 6\\right]$"
      ],
      "text/plain": [
       "[A1 == (11/18), A2 == (1/6), A3 == (3/8), A4 == (1/72), t3 == 2, t4 == 6]"
      ]
     },
     "metadata": {},
     "output_type": "display_data"
    },
    {
     "data": {
      "text/html": [
       "<html>\\(\\displaystyle \\frac{1}{72} \\, f\\left(6\\right) + \\frac{3}{8} \\, f\\left(2\\right) + \\frac{11}{18} \\, f\\left(0\\right) + \\frac{1}{6} \\, \\mathrm{D}_{0}\\left(f\\right)\\left(0\\right)\\)</html>"
      ],
      "text/latex": [
       "$\\displaystyle \\frac{1}{72} \\, f\\left(6\\right) + \\frac{3}{8} \\, f\\left(2\\right) + \\frac{11}{18} \\, f\\left(0\\right) + \\frac{1}{6} \\, \\mathrm{D}_{0}\\left(f\\right)\\left(0\\right)$"
      ],
      "text/plain": [
       "1/72*f(6) + 3/8*f(2) + 11/18*f(0) + 1/6*D[0](f)(0)"
      ]
     },
     "metadata": {},
     "output_type": "display_data"
    }
   ],
   "source": [
    "sol = solve([\n",
    "    R.substitute_function(f, (t**0).function(t)) == 0,\n",
    "    R.substitute_function(f, (t**1).function(t)) == 0,\n",
    "    R.substitute_function(f, (t**2).function(t)) == 0,\n",
    "    R.substitute_function(f, (t**3).function(t)) == 0,\n",
    "    R.substitute_function(f, (t**4).function(t)) == 0,\n",
    "    R.substitute_function(f, (t**5).function(t)) == 0,\n",
    "], [A1, A2, A3, A4, t3, t4])\n",
    "sol = sol[0]\n",
    "display(sol)\n",
    "\n",
    "polys = poly.substitute(sol)\n",
    "display(polys)"
   ]
  },
  {
   "cell_type": "markdown",
   "id": "a5e7d2a2",
   "metadata": {},
   "source": [
    "Am obținut o cuadratură, pentru care restul $R(f)$ mapează toate polinoamele cu grad $n\\le d=5$ în $0$. Putem aplica teorema lui Peano."
   ]
  },
  {
   "cell_type": "code",
   "execution_count": 4,
   "id": "a0793b53",
   "metadata": {},
   "outputs": [
    {
     "data": {
      "text/html": [
       "<html>\\(\\displaystyle -\\frac{1}{72} \\, f\\left(6\\right) - \\frac{3}{8} \\, f\\left(2\\right) - \\frac{11}{18} \\, f\\left(0\\right) + \\int_{0}^{+\\infty} e^{\\left(-t\\right)} f\\left(t\\right)\\,{d t} - \\frac{1}{6} \\, \\mathrm{D}_{0}\\left(f\\right)\\left(0\\right)\\)</html>"
      ],
      "text/latex": [
       "$\\displaystyle -\\frac{1}{72} \\, f\\left(6\\right) - \\frac{3}{8} \\, f\\left(2\\right) - \\frac{11}{18} \\, f\\left(0\\right) + \\int_{0}^{+\\infty} e^{\\left(-t\\right)} f\\left(t\\right)\\,{d t} - \\frac{1}{6} \\, \\mathrm{D}_{0}\\left(f\\right)\\left(0\\right)$"
      ],
      "text/plain": [
       "-1/72*f(6) - 3/8*f(2) - 11/18*f(0) + integrate(e^(-t)*f(t), t, 0, +Infinity) - 1/6*D[0](f)(0)"
      ]
     },
     "execution_count": 4,
     "metadata": {},
     "output_type": "execute_result"
    }
   ],
   "source": [
    "Rs = R.substitute(sol)\n",
    "Rs"
   ]
  },
  {
   "cell_type": "markdown",
   "id": "4794b83d",
   "metadata": {},
   "source": [
    "Calculăm nucleul lui Peano"
   ]
  },
  {
   "cell_type": "code",
   "execution_count": 5,
   "id": "02fd51db",
   "metadata": {},
   "outputs": [],
   "source": [
    "u = var(\"u\")"
   ]
  },
  {
   "cell_type": "code",
   "execution_count": 6,
   "id": "873ef239",
   "metadata": {},
   "outputs": [],
   "source": [
    "d = 5"
   ]
  },
  {
   "cell_type": "markdown",
   "id": "5f8c1124",
   "metadata": {},
   "source": [
    "Avem $x,u\\in[0,\\infty)$."
   ]
  },
  {
   "cell_type": "code",
   "execution_count": 7,
   "id": "bc382068",
   "metadata": {},
   "outputs": [
    {
     "data": {
      "text/html": [
       "<html>\\(\\displaystyle u \\ {\\mapsto}\\ -\\frac{1}{144} \\, u^{4} \\mathrm{D}_{0}\\left(\\max\\right)\\left(-u^{5}, 0\\right) + \\frac{1}{120} \\, \\int_{0}^{+\\infty} e^{\\left(-t\\right)} \\max\\left({\\left(t - u\\right)}^{5}, 0\\right)\\,{d t} - \\frac{1}{320} \\, \\max\\left(-{\\left(u - 2\\right)}^{5}, 0\\right) - \\frac{1}{8640} \\, \\max\\left(-{\\left(u - 6\\right)}^{5}, 0\\right) - \\frac{11}{2160} \\, \\max\\left(-u^{5}, 0\\right)\\)</html>"
      ],
      "text/latex": [
       "$\\displaystyle u \\ {\\mapsto}\\ -\\frac{1}{144} \\, u^{4} \\mathrm{D}_{0}\\left(\\max\\right)\\left(-u^{5}, 0\\right) + \\frac{1}{120} \\, \\int_{0}^{+\\infty} e^{\\left(-t\\right)} \\max\\left({\\left(t - u\\right)}^{5}, 0\\right)\\,{d t} - \\frac{1}{320} \\, \\max\\left(-{\\left(u - 2\\right)}^{5}, 0\\right) - \\frac{1}{8640} \\, \\max\\left(-{\\left(u - 6\\right)}^{5}, 0\\right) - \\frac{11}{2160} \\, \\max\\left(-u^{5}, 0\\right)$"
      ],
      "text/plain": [
       "u |--> -1/144*u^4*D[0](max)(-u^5, 0) + 1/120*integrate(e^(-t)*max((t - u)^5, 0), t, 0, +Infinity) - 1/320*max(-(u - 2)^5, 0) - 1/8640*max(-(u - 6)^5, 0) - 11/2160*max(-u^5, 0)"
      ]
     },
     "metadata": {},
     "output_type": "display_data"
    }
   ],
   "source": [
    "K = (\n",
    "    1 / factorial(d)\n",
    "    * Rs.substitute_function(\n",
    "        f, max_symbolic((t-u)**d, 0).function(t)\n",
    "    )\n",
    ").function(u)\n",
    "display(K)"
   ]
  },
  {
   "cell_type": "markdown",
   "id": "5b1cb7a2",
   "metadata": {},
   "source": [
    "Considerând că $x,u\\in[0,\\infty)$, atunci $(-u^5)_+\\equiv0$, și $\\frac{\\partial}{\\partial u}((-u^5)_+)\\equiv0$. Totodată, $\\int_0^u e^{-t}(t-u)^5_+dt=\\int_0^u e^{-t}\\cdot0 dt=0$, așadar putem înlocui integrala cu $\\int_u^\\infty e^{-t}(t-u)^5_+ dt=\\int_u^\\infty e^{-t}(t-u)^5 dt$."
   ]
  },
  {
   "cell_type": "markdown",
   "id": "68a56850",
   "metadata": {},
   "source": [
    "Rămânem cu:"
   ]
  },
  {
   "cell_type": "code",
   "execution_count": 8,
   "id": "357083fe",
   "metadata": {},
   "outputs": [
    {
     "data": {
      "text/html": [
       "<html>\\(\\displaystyle u \\ {\\mapsto}\\ e^{\\left(-u\\right)} - \\frac{1}{320} \\, \\max\\left(-{\\left(u - 2\\right)}^{5}, 0\\right) - \\frac{1}{8640} \\, \\max\\left(-{\\left(u - 6\\right)}^{5}, 0\\right)\\)</html>"
      ],
      "text/latex": [
       "$\\displaystyle u \\ {\\mapsto}\\ e^{\\left(-u\\right)} - \\frac{1}{320} \\, \\max\\left(-{\\left(u - 2\\right)}^{5}, 0\\right) - \\frac{1}{8640} \\, \\max\\left(-{\\left(u - 6\\right)}^{5}, 0\\right)$"
      ],
      "text/plain": [
       "u |--> e^(-u) - 1/320*max(-(u - 2)^5, 0) - 1/8640*max(-(u - 6)^5, 0)"
      ]
     },
     "execution_count": 8,
     "metadata": {},
     "output_type": "execute_result"
    }
   ],
   "source": [
    "K = (\n",
    "    1/120 * integral(e**(-t) * (t-u)**5, t, u, oo)\n",
    "    - 1/320 * max_symbolic(-(u-2)**5, 0)\n",
    "    - 1/8640 * max_symbolic(-(u-6)**5, 0)\n",
    ").function(u)\n",
    "K"
   ]
  },
  {
   "cell_type": "markdown",
   "id": "b3439255",
   "metadata": {},
   "source": [
    "Abordam determinarea semnului pe intervale:"
   ]
  },
  {
   "cell_type": "markdown",
   "id": "0ea8d911",
   "metadata": {},
   "source": [
    "Cazul $u\\in[0, 2)$:"
   ]
  },
  {
   "cell_type": "code",
   "execution_count": 9,
   "id": "1a47aab7",
   "metadata": {},
   "outputs": [
    {
     "data": {
      "text/html": [
       "<html>\\(\\displaystyle u \\ {\\mapsto}\\ \\frac{1}{320} \\, {\\left(u - 2\\right)}^{5} + \\frac{1}{8640} \\, {\\left(u - 6\\right)}^{5} + e^{\\left(-u\\right)}\\)</html>"
      ],
      "text/latex": [
       "$\\displaystyle u \\ {\\mapsto}\\ \\frac{1}{320} \\, {\\left(u - 2\\right)}^{5} + \\frac{1}{8640} \\, {\\left(u - 6\\right)}^{5} + e^{\\left(-u\\right)}$"
      ],
      "text/plain": [
       "u |--> 1/320*(u - 2)^5 + 1/8640*(u - 6)^5 + e^(-u)"
      ]
     },
     "metadata": {},
     "output_type": "display_data"
    },
    {
     "data": {
      "text/html": [
       "<html>\\(\\displaystyle 0\\)</html>"
      ],
      "text/latex": [
       "$\\displaystyle 0$"
      ],
      "text/plain": [
       "0"
      ]
     },
     "metadata": {},
     "output_type": "display_data"
    },
    {
     "data": {
      "image/png": "[encoded data removed]",
      "text/plain": [
       "Graphics object consisting of 1 graphics primitive"
      ]
     },
     "metadata": {},
     "output_type": "display_data"
    }
   ],
   "source": [
    "with assuming(-(u - 2)**5 > 0, -(u - 6)**5 > 0):\n",
    "    Ks = K.simplify()\n",
    "    display(Ks)\n",
    "    display(Ks(0))\n",
    "    plot(Ks, (0, 2)).show()"
   ]
  },
  {
   "cell_type": "markdown",
   "id": "f65cef84",
   "metadata": {},
   "source": [
    "$K$ este strict crescator pe acest interval, si $K(0)=0$, deci $K(u)\\ge0,\\forall u\\in[0,2)$"
   ]
  },
  {
   "cell_type": "markdown",
   "id": "bf61db5e",
   "metadata": {},
   "source": [
    "Cazul $u\\in[2, 6)$:"
   ]
  },
  {
   "cell_type": "code",
   "execution_count": 10,
   "id": "6037b86a",
   "metadata": {},
   "outputs": [
    {
     "data": {
      "text/html": [
       "<html>\\(\\displaystyle u \\ {\\mapsto}\\ \\frac{1}{8640} \\, {\\left(u - 6\\right)}^{5} + e^{\\left(-u\\right)}\\)</html>"
      ],
      "text/latex": [
       "$\\displaystyle u \\ {\\mapsto}\\ \\frac{1}{8640} \\, {\\left(u - 6\\right)}^{5} + e^{\\left(-u\\right)}$"
      ],
      "text/plain": [
       "u |--> 1/8640*(u - 6)^5 + e^(-u)"
      ]
     },
     "metadata": {},
     "output_type": "display_data"
    },
    {
     "data": {
      "image/png": "[encoded data removed]",
      "text/plain": [
       "Graphics object consisting of 1 graphics primitive"
      ]
     },
     "metadata": {},
     "output_type": "display_data"
    }
   ],
   "source": [
    "with assuming(-(u - 2)**5 <= 0, -(u - 6)**5 > 0):\n",
    "    Ks = K.simplify()\n",
    "    display(Ks)\n",
    "    plot(Ks, (2, 6)).show()"
   ]
  },
  {
   "cell_type": "markdown",
   "id": "fcd3c409",
   "metadata": {},
   "source": [
    "Din grafic se poate observa ca $K(u)\\ge0,\\forall u\\in[2,6)$."
   ]
  },
  {
   "cell_type": "markdown",
   "id": "e557bfaf",
   "metadata": {},
   "source": [
    "Cazul $u\\in[6,\\infty)$:"
   ]
  },
  {
   "cell_type": "code",
   "execution_count": 11,
   "id": "1db759b9",
   "metadata": {},
   "outputs": [
    {
     "data": {
      "text/html": [
       "<html>\\(\\displaystyle u \\ {\\mapsto}\\ e^{\\left(-u\\right)}\\)</html>"
      ],
      "text/latex": [
       "$\\displaystyle u \\ {\\mapsto}\\ e^{\\left(-u\\right)}$"
      ],
      "text/plain": [
       "u |--> e^(-u)"
      ]
     },
     "metadata": {},
     "output_type": "display_data"
    }
   ],
   "source": [
    "with assuming(-(u - 2)**5 <= 0, -(u - 6)**5 <= 0):\n",
    "    Ks = K.simplify()\n",
    "    display(Ks)"
   ]
  },
  {
   "cell_type": "markdown",
   "id": "3f3ad262",
   "metadata": {},
   "source": [
    "$K(u)=e^{-u}\\ge0,\\forall u\\in[6,\\infty)$."
   ]
  },
  {
   "cell_type": "markdown",
   "id": "b14fdfcd",
   "metadata": {},
   "source": [
    "Așadar nucleul lui Peano $K(u)$ are același semn, $K(u)\\ge0,\\forall u\\in[0,\\infty)$.\n",
    "\n",
    "Putem aplica corolarul teoremei lui Peano. Dacă $f^{(n+1)}$ este continuă pe $[0,\\infty)$, atunci există $\\xi\\in[0,\\infty)$ astfel încât:"
   ]
  },
  {
   "cell_type": "code",
   "execution_count": 12,
   "id": "b5f8f989",
   "metadata": {},
   "outputs": [
    {
     "data": {
      "text/html": [
       "<html>\\(\\displaystyle \\mathit{Rf} = \\frac{1}{720} \\, {\\left(\\int_{0}^{+\\infty} t^{6} e^{\\left(-t\\right)}\\,{d t} - 672\\right)} \\frac{\\partial^{6}}{(\\partial \\xi)^{6}}f\\left(\\xi\\right)\\)</html>"
      ],
      "text/latex": [
       "$\\displaystyle \\mathit{Rf} = \\frac{1}{720} \\, {\\left(\\int_{0}^{+\\infty} t^{6} e^{\\left(-t\\right)}\\,{d t} - 672\\right)} \\frac{\\partial^{6}}{(\\partial \\xi)^{6}}f\\left(\\xi\\right)$"
      ],
      "text/plain": [
       "Rf == 1/720*(integrate(t^6*e^(-t), t, 0, +Infinity) - 672)*diff(f(xi), xi, xi, xi, xi, xi, xi)"
      ]
     },
     "metadata": {},
     "output_type": "display_data"
    }
   ],
   "source": [
    "xi = var(\"xi\")\n",
    "Rf = var(\"Rf\")\n",
    "Rfv = 1 / factorial(d+1) * diff(f(t), t, d+1)(t=xi) * Rs.substitute_function(f, (t**(d+1)).function(t))\n",
    "display(Rf == Rfv)"
   ]
  },
  {
   "cell_type": "markdown",
   "id": "a69f9685",
   "metadata": {},
   "source": [
    "Simplificăm $Rf$:"
   ]
  },
  {
   "cell_type": "code",
   "execution_count": 13,
   "id": "5849836e",
   "metadata": {},
   "outputs": [
    {
     "data": {
      "text/html": [
       "<html>\\(\\displaystyle \\mathit{Rf} = \\frac{1}{15} \\, \\frac{\\partial^{6}}{(\\partial \\xi)^{6}}f\\left(\\xi\\right)\\)</html>"
      ],
      "text/latex": [
       "$\\displaystyle \\mathit{Rf} = \\frac{1}{15} \\, \\frac{\\partial^{6}}{(\\partial \\xi)^{6}}f\\left(\\xi\\right)$"
      ],
      "text/plain": [
       "Rf == 1/15*diff(f(xi), xi, xi, xi, xi, xi, xi)"
      ]
     },
     "metadata": {},
     "output_type": "display_data"
    }
   ],
   "source": [
    "display(Rf == Rfv.simplify())"
   ]
  },
  {
   "cell_type": "markdown",
   "id": "5673c46b",
   "metadata": {},
   "source": [
    "# 2"
   ]
  },
  {
   "cell_type": "markdown",
   "id": "b8722579",
   "metadata": {},
   "source": [
    "- 2p verificare convergenta\n",
    "- 1p implementarea in MATLAB\n",
    "- 1p rezolvarea ecuatiei"
   ]
  },
  {
   "cell_type": "markdown",
   "id": "f700b0cd",
   "metadata": {},
   "source": [
    "## (a)"
   ]
  },
  {
   "cell_type": "markdown",
   "id": "aa12a1de",
   "metadata": {},
   "source": [
    "Fie ecuația $f(x)=0$, $f:[a,b]\\mapsto\\mathbb{R}$, $f\\in C^3[a,b]$, și $\\alpha$ o rădăcină simplă a ei."
   ]
  },
  {
   "cell_type": "code",
   "execution_count": 14,
   "id": "a0f40435",
   "metadata": {},
   "outputs": [],
   "source": [
    "f = function(\"f\")\n",
    "x = var(\"x\")"
   ]
  },
  {
   "cell_type": "markdown",
   "id": "2b0eadc4",
   "metadata": {},
   "source": [
    "Definim pasul iterației ca fiind $g(x)$.\n",
    "\n",
    "$x_{k+1}=g(x_k)$"
   ]
  },
  {
   "cell_type": "code",
   "execution_count": 15,
   "id": "e02c28b9",
   "metadata": {},
   "outputs": [
    {
     "data": {
      "text/html": [
       "<html>\\(\\displaystyle x \\ {\\mapsto}\\ x - \\frac{f\\left(x\\right)}{\\sqrt{\\frac{\\partial}{\\partial x}f\\left(x\\right)^{2} - f\\left(x\\right) \\frac{\\partial^{2}}{(\\partial x)^{2}}f\\left(x\\right)}}\\)</html>"
      ],
      "text/latex": [
       "$\\displaystyle x \\ {\\mapsto}\\ x - \\frac{f\\left(x\\right)}{\\sqrt{\\frac{\\partial}{\\partial x}f\\left(x\\right)^{2} - f\\left(x\\right) \\frac{\\partial^{2}}{(\\partial x)^{2}}f\\left(x\\right)}}$"
      ],
      "text/plain": [
       "x |--> x - f(x)/sqrt(diff(f(x), x)^2 - f(x)*diff(f(x), x, x))"
      ]
     },
     "metadata": {},
     "output_type": "display_data"
    }
   ],
   "source": [
    "g = (\n",
    "    x - f(x) / sqrt(\n",
    "        diff(f(x), x)(x=x)**2 - f(x)*diff(f(x), x, 2)(x=x)\n",
    "    )\n",
    ").function(x)\n",
    "display(g)"
   ]
  },
  {
   "cell_type": "code",
   "execution_count": 16,
   "id": "2520eb9f",
   "metadata": {},
   "outputs": [
    {
     "data": {
      "text/html": [
       "<html>\\(\\displaystyle \\alpha\\)</html>"
      ],
      "text/latex": [
       "$\\displaystyle \\alpha$"
      ],
      "text/plain": [
       "alpha"
      ]
     },
     "execution_count": 16,
     "metadata": {},
     "output_type": "execute_result"
    }
   ],
   "source": [
    "alpha = var(\"alpha\")\n",
    "g(alpha).substitute(f(alpha) == 0)"
   ]
  },
  {
   "cell_type": "markdown",
   "id": "533aacc0",
   "metadata": {},
   "source": [
    "Avem $g(\\alpha)=\\alpha$, deci $\\alpha$ este un punct fix."
   ]
  },
  {
   "cell_type": "code",
   "execution_count": 17,
   "id": "af948379",
   "metadata": {},
   "outputs": [
    {
     "data": {
      "text/html": [
       "<html>\\(\\displaystyle \\frac{\\sqrt{\\frac{\\partial}{\\partial \\alpha}f\\left(\\alpha\\right)^{2}} - \\frac{\\partial}{\\partial \\alpha}f\\left(\\alpha\\right)}{\\sqrt{\\frac{\\partial}{\\partial \\alpha}f\\left(\\alpha\\right)^{2}}}\\)</html>"
      ],
      "text/latex": [
       "$\\displaystyle \\frac{\\sqrt{\\frac{\\partial}{\\partial \\alpha}f\\left(\\alpha\\right)^{2}} - \\frac{\\partial}{\\partial \\alpha}f\\left(\\alpha\\right)}{\\sqrt{\\frac{\\partial}{\\partial \\alpha}f\\left(\\alpha\\right)^{2}}}$"
      ],
      "text/plain": [
       "(sqrt(diff(f(alpha), alpha)^2) - diff(f(alpha), alpha))/sqrt(diff(f(alpha), alpha)^2)"
      ]
     },
     "execution_count": 17,
     "metadata": {},
     "output_type": "execute_result"
    }
   ],
   "source": [
    "gd = diff(g(x), x)\n",
    "gd(x=alpha).substitute(f(alpha) == 0).simplify_full()"
   ]
  },
  {
   "cell_type": "markdown",
   "id": "100d4042",
   "metadata": {},
   "source": [
    "Dacă presupunem că $f'(\\alpha)\\gt0$, atunci $g'(\\alpha)=0$. Altfel, $g'(\\alpha)=2$."
   ]
  },
  {
   "cell_type": "code",
   "execution_count": 18,
   "id": "c4745eda",
   "metadata": {},
   "outputs": [
    {
     "data": {
      "text/html": [
       "<html>\\(\\displaystyle 0\\)</html>"
      ],
      "text/latex": [
       "$\\displaystyle 0$"
      ],
      "text/plain": [
       "0"
      ]
     },
     "execution_count": 18,
     "metadata": {},
     "output_type": "execute_result"
    }
   ],
   "source": [
    "gdd = diff(gd, x)\n",
    "gdd(x=alpha).substitute(f(alpha) == 0).simplify_full()"
   ]
  },
  {
   "cell_type": "markdown",
   "id": "f6489c02",
   "metadata": {},
   "source": [
    "Așadar, $g''(\\alpha)=0$."
   ]
  },
  {
   "cell_type": "code",
   "execution_count": 19,
   "id": "9505dd45",
   "metadata": {},
   "outputs": [
    {
     "data": {
      "text/html": [
       "<html>\\(\\displaystyle \\frac{3 \\, \\frac{\\partial^{2}}{(\\partial \\alpha)^{2}}f\\left(\\alpha\\right)^{2} - 4 \\, \\frac{\\partial}{\\partial \\alpha}f\\left(\\alpha\\right) \\frac{\\partial^{3}}{(\\partial \\alpha)^{3}}f\\left(\\alpha\\right)}{4 \\, \\sqrt{\\frac{\\partial}{\\partial \\alpha}f\\left(\\alpha\\right)^{2}} \\frac{\\partial}{\\partial \\alpha}f\\left(\\alpha\\right)}\\)</html>"
      ],
      "text/latex": [
       "$\\displaystyle \\frac{3 \\, \\frac{\\partial^{2}}{(\\partial \\alpha)^{2}}f\\left(\\alpha\\right)^{2} - 4 \\, \\frac{\\partial}{\\partial \\alpha}f\\left(\\alpha\\right) \\frac{\\partial^{3}}{(\\partial \\alpha)^{3}}f\\left(\\alpha\\right)}{4 \\, \\sqrt{\\frac{\\partial}{\\partial \\alpha}f\\left(\\alpha\\right)^{2}} \\frac{\\partial}{\\partial \\alpha}f\\left(\\alpha\\right)}$"
      ],
      "text/plain": [
       "1/4*(3*diff(f(alpha), alpha, alpha)^2 - 4*diff(f(alpha), alpha)*diff(f(alpha), alpha, alpha, alpha))/(sqrt(diff(f(alpha), alpha)^2)*diff(f(alpha), alpha))"
      ]
     },
     "execution_count": 19,
     "metadata": {},
     "output_type": "execute_result"
    }
   ],
   "source": [
    "gddd = diff(gdd, x)\n",
    "gddd(x=alpha).substitute(f(alpha) == 0).simplify_full()"
   ]
  },
  {
   "cell_type": "markdown",
   "id": "e443431e",
   "metadata": {},
   "source": [
    "Considerăm că $g'''(\\alpha)\\ne0$."
   ]
  },
  {
   "cell_type": "markdown",
   "id": "3c3fac12",
   "metadata": {},
   "source": [
    "Presupunând că $f'(\\alpha)\\gt0$, atunci:\n",
    "\n",
    "Deoarece $g(\\alpha)=\\alpha$, $g'(\\alpha)=g''(\\alpha)=0$, inseamnă că ordinul de convergență este cel puțin $p=3$, ordin de convergență cubic. Dacă considerăm că $g'''(\\alpha)\\ne0$, atunci cunoaștem sigur că ordinul de convergență este fix $p=3$ (teoremă)."
   ]
  },
  {
   "cell_type": "markdown",
   "id": "4ee9f69a",
   "metadata": {},
   "source": [
    "## (b)"
   ]
  },
  {
   "cell_type": "markdown",
   "id": "0a2f0dc8",
   "metadata": {},
   "source": [
    "Implementarea metodei (SageMath)."
   ]
  },
  {
   "cell_type": "code",
   "execution_count": 20,
   "id": "7324763c",
   "metadata": {},
   "outputs": [],
   "source": [
    "def iterate_approx(x0, f, eps, max_iter=100):\n",
    "    x = var(\"x\")\n",
    "    g = (\n",
    "        x - f(x=x) / sqrt(\n",
    "            diff(f(x=x), x)(x=x)**2 - f(x=x)*diff(f(x=x), x, 2)(x=x)\n",
    "        )\n",
    "    ).function(x)\n",
    "    \n",
    "    for _ in range(max_iter):\n",
    "        x1 = g(x0).n()\n",
    "        if abs(x1 - x0) < eps:\n",
    "            return x1\n",
    "        x0 = x1\n",
    "    \n",
    "    raise RuntimeError(f\"couldn't reach desired accuracy in {max_iter} iterations\")"
   ]
  },
  {
   "cell_type": "markdown",
   "id": "3d617cf6",
   "metadata": {},
   "source": [
    "## (c)"
   ]
  },
  {
   "cell_type": "code",
   "execution_count": 21,
   "id": "888141ab",
   "metadata": {},
   "outputs": [
    {
     "data": {
      "text/html": [
       "<html>\\(\\displaystyle x e^{x} - 1\\)</html>"
      ],
      "text/latex": [
       "$\\displaystyle x e^{x} - 1$"
      ],
      "text/plain": [
       "x*e^x - 1"
      ]
     },
     "metadata": {},
     "output_type": "display_data"
    },
    {
     "data": {
      "text/html": [
       "<html>\\(\\displaystyle 0.567143290409784\\)</html>"
      ],
      "text/latex": [
       "$\\displaystyle 0.567143290409784$"
      ],
      "text/plain": [
       "0.567143290409784"
      ]
     },
     "execution_count": 21,
     "metadata": {},
     "output_type": "execute_result"
    }
   ],
   "source": [
    "x = var(\"x\")\n",
    "f = x * e**x - 1\n",
    "display(f)\n",
    "\n",
    "iterate_approx(\n",
    "    0,\n",
    "    f,\n",
    "    10**-10,\n",
    ")"
   ]
  },
  {
   "cell_type": "code",
   "execution_count": 22,
   "id": "d3290f02",
   "metadata": {},
   "outputs": [
    {
     "data": {
      "text/html": [
       "<html>\\(\\displaystyle x e^{x} + e^{x}\\)</html>"
      ],
      "text/latex": [
       "$\\displaystyle x e^{x} + e^{x}$"
      ],
      "text/plain": [
       "x*e^x + e^x"
      ]
     },
     "metadata": {},
     "output_type": "display_data"
    },
    {
     "data": {
      "text/html": [
       "<html>\\(\\displaystyle x e^{x} + 2 \\, e^{x}\\)</html>"
      ],
      "text/latex": [
       "$\\displaystyle x e^{x} + 2 \\, e^{x}$"
      ],
      "text/plain": [
       "x*e^x + 2*e^x"
      ]
     },
     "metadata": {},
     "output_type": "display_data"
    }
   ],
   "source": [
    "display(diff(f, x))\n",
    "display(diff(f, x, 2))"
   ]
  },
  {
   "cell_type": "code",
   "execution_count": null,
   "id": "3202bb1e",
   "metadata": {},
   "outputs": [],
   "source": []
  }
 ],
 "metadata": {
  "kernelspec": {
   "display_name": "SageMath 10.0",
   "language": "sagemath",
   "name": "sagemath"
  },
  "language_info": {
   "codemirror_mode": {
    "name": "ipython",
    "version": 3
   },
   "file_extension": ".py",
   "mimetype": "text/x-python",
   "name": "python",
   "nbconvert_exporter": "python",
   "pygments_lexer": "ipython3",
   "version": "3.11.6"
  }
 },
 "nbformat": 4,
 "nbformat_minor": 5
}
