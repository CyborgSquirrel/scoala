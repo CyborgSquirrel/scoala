{
 "cells": [
  {
   "cell_type": "code",
   "execution_count": 1,
   "id": "01762beb",
   "metadata": {},
   "outputs": [],
   "source": [
    "%display latex"
   ]
  },
  {
   "cell_type": "code",
   "execution_count": 2,
   "id": "653e8e3f",
   "metadata": {},
   "outputs": [],
   "source": [
    "import itertools"
   ]
  },
  {
   "cell_type": "code",
   "execution_count": 3,
   "id": "0068004e",
   "metadata": {},
   "outputs": [],
   "source": [
    "def newton_solve_sys(f, v, eps, x0, max_iter=100):\n",
    "    J = jacobian(f, v)\n",
    "    for _ in range(max_iter):\n",
    "        x = x0 - J(*x0) ** -1 * f(*x0)\n",
    "        x = x.n()\n",
    "        if abs(x - x0) < eps:\n",
    "            return x\n",
    "        x0 = x\n",
    "    \n",
    "    raise RuntimeError(f\"could not find value with satisfactory precision after {max_iter} iterations\")"
   ]
  },
  {
   "cell_type": "code",
   "execution_count": 8,
   "id": "cf389b4d",
   "metadata": {},
   "outputs": [
    {
     "data": {
      "text/html": [
       "<html>\\(\\displaystyle \\left[\\left( y_{0}, y_{1}, y_{2}, y_{3}, y_{4}, y_{5}, y_{6} \\right) \\ {\\mapsto} \\ \\frac{1}{576} \\, \\pi^{2} \\sin\\left(y_{1}\\right) + y_{0} - 2 \\, y_{1} + y_{2}, \\left( y_{0}, y_{1}, y_{2}, y_{3}, y_{4}, y_{5}, y_{6} \\right) \\ {\\mapsto} \\ \\frac{1}{576} \\, \\pi^{2} \\sin\\left(y_{2}\\right) + y_{1} - 2 \\, y_{2} + y_{3}, \\left( y_{0}, y_{1}, y_{2}, y_{3}, y_{4}, y_{5}, y_{6} \\right) \\ {\\mapsto} \\ \\frac{1}{576} \\, \\pi^{2} \\sin\\left(y_{3}\\right) + y_{2} - 2 \\, y_{3} + y_{4}, \\left( y_{0}, y_{1}, y_{2}, y_{3}, y_{4}, y_{5}, y_{6} \\right) \\ {\\mapsto} \\ \\frac{1}{576} \\, \\pi^{2} \\sin\\left(y_{4}\\right) + y_{3} - 2 \\, y_{4} + y_{5}, \\left( y_{0}, y_{1}, y_{2}, y_{3}, y_{4}, y_{5}, y_{6} \\right) \\ {\\mapsto} \\ \\frac{1}{576} \\, \\pi^{2} \\sin\\left(y_{5}\\right) + y_{4} - 2 \\, y_{5} + y_{6}, \\left( y_{0}, y_{1}, y_{2}, y_{3}, y_{4}, y_{5}, y_{6} \\right) \\ {\\mapsto} \\ y_{0}, \\left( y_{0}, y_{1}, y_{2}, y_{3}, y_{4}, y_{5}, y_{6} \\right) \\ {\\mapsto} \\ y_{6} - 1\\right]\\)</html>"
      ],
      "text/latex": [
       "$\\displaystyle \\left[\\left( y_{0}, y_{1}, y_{2}, y_{3}, y_{4}, y_{5}, y_{6} \\right) \\ {\\mapsto} \\ \\frac{1}{576} \\, \\pi^{2} \\sin\\left(y_{1}\\right) + y_{0} - 2 \\, y_{1} + y_{2}, \\left( y_{0}, y_{1}, y_{2}, y_{3}, y_{4}, y_{5}, y_{6} \\right) \\ {\\mapsto} \\ \\frac{1}{576} \\, \\pi^{2} \\sin\\left(y_{2}\\right) + y_{1} - 2 \\, y_{2} + y_{3}, \\left( y_{0}, y_{1}, y_{2}, y_{3}, y_{4}, y_{5}, y_{6} \\right) \\ {\\mapsto} \\ \\frac{1}{576} \\, \\pi^{2} \\sin\\left(y_{3}\\right) + y_{2} - 2 \\, y_{3} + y_{4}, \\left( y_{0}, y_{1}, y_{2}, y_{3}, y_{4}, y_{5}, y_{6} \\right) \\ {\\mapsto} \\ \\frac{1}{576} \\, \\pi^{2} \\sin\\left(y_{4}\\right) + y_{3} - 2 \\, y_{4} + y_{5}, \\left( y_{0}, y_{1}, y_{2}, y_{3}, y_{4}, y_{5}, y_{6} \\right) \\ {\\mapsto} \\ \\frac{1}{576} \\, \\pi^{2} \\sin\\left(y_{5}\\right) + y_{4} - 2 \\, y_{5} + y_{6}, \\left( y_{0}, y_{1}, y_{2}, y_{3}, y_{4}, y_{5}, y_{6} \\right) \\ {\\mapsto} \\ y_{0}, \\left( y_{0}, y_{1}, y_{2}, y_{3}, y_{4}, y_{5}, y_{6} \\right) \\ {\\mapsto} \\ y_{6} - 1\\right]$"
      ],
      "text/plain": [
       "[(y_0, y_1, y_2, y_3, y_4, y_5, y_6) |--> 1/576*pi^2*sin(y_1) + y_0 - 2*y_1 + y_2,\n",
       " (y_0, y_1, y_2, y_3, y_4, y_5, y_6) |--> 1/576*pi^2*sin(y_2) + y_1 - 2*y_2 + y_3,\n",
       " (y_0, y_1, y_2, y_3, y_4, y_5, y_6) |--> 1/576*pi^2*sin(y_3) + y_2 - 2*y_3 + y_4,\n",
       " (y_0, y_1, y_2, y_3, y_4, y_5, y_6) |--> 1/576*pi^2*sin(y_4) + y_3 - 2*y_4 + y_5,\n",
       " (y_0, y_1, y_2, y_3, y_4, y_5, y_6) |--> 1/576*pi^2*sin(y_5) + y_4 - 2*y_5 + y_6,\n",
       " (y_0, y_1, y_2, y_3, y_4, y_5, y_6) |--> y_0,\n",
       " (y_0, y_1, y_2, y_3, y_4, y_5, y_6) |--> y_6 - 1]"
      ]
     },
     "metadata": {},
     "output_type": "display_data"
    },
    {
     "data": {
      "text/html": [
       "<html>\\(\\displaystyle \\left( y_{0}, y_{1}, y_{2}, y_{3}, y_{4}, y_{5}, y_{6} \\right) \\ {\\mapsto} \\ \\left(\\frac{1}{576} \\, \\pi^{2} \\sin\\left(y_{1}\\right) + y_{0} - 2 \\, y_{1} + y_{2},\\,\\frac{1}{576} \\, \\pi^{2} \\sin\\left(y_{2}\\right) + y_{1} - 2 \\, y_{2} + y_{3},\\,\\frac{1}{576} \\, \\pi^{2} \\sin\\left(y_{3}\\right) + y_{2} - 2 \\, y_{3} + y_{4},\\,\\frac{1}{576} \\, \\pi^{2} \\sin\\left(y_{4}\\right) + y_{3} - 2 \\, y_{4} + y_{5},\\,\\frac{1}{576} \\, \\pi^{2} \\sin\\left(y_{5}\\right) + y_{4} - 2 \\, y_{5} + y_{6},\\,y_{0},\\,y_{6} - 1\\right)\\)</html>"
      ],
      "text/latex": [
       "$\\displaystyle \\left( y_{0}, y_{1}, y_{2}, y_{3}, y_{4}, y_{5}, y_{6} \\right) \\ {\\mapsto} \\ \\left(\\frac{1}{576} \\, \\pi^{2} \\sin\\left(y_{1}\\right) + y_{0} - 2 \\, y_{1} + y_{2},\\,\\frac{1}{576} \\, \\pi^{2} \\sin\\left(y_{2}\\right) + y_{1} - 2 \\, y_{2} + y_{3},\\,\\frac{1}{576} \\, \\pi^{2} \\sin\\left(y_{3}\\right) + y_{2} - 2 \\, y_{3} + y_{4},\\,\\frac{1}{576} \\, \\pi^{2} \\sin\\left(y_{4}\\right) + y_{3} - 2 \\, y_{4} + y_{5},\\,\\frac{1}{576} \\, \\pi^{2} \\sin\\left(y_{5}\\right) + y_{4} - 2 \\, y_{5} + y_{6},\\,y_{0},\\,y_{6} - 1\\right)$"
      ],
      "text/plain": [
       "(y_0, y_1, y_2, y_3, y_4, y_5, y_6) |--> (1/576*pi^2*sin(y_1) + y_0 - 2*y_1 + y_2, 1/576*pi^2*sin(y_2) + y_1 - 2*y_2 + y_3, 1/576*pi^2*sin(y_3) + y_2 - 2*y_3 + y_4, 1/576*pi^2*sin(y_4) + y_3 - 2*y_4 + y_5, 1/576*pi^2*sin(y_5) + y_4 - 2*y_5 + y_6, y_0, y_6 - 1)"
      ]
     },
     "metadata": {},
     "output_type": "display_data"
    },
    {
     "data": {
      "text/html": [
       "<html>\\(\\displaystyle \\left(\\begin{array}{rrrrrrr}\n",
       "\\left( y_{0}, y_{1}, y_{2}, y_{3}, y_{4}, y_{5}, y_{6} \\right) \\ {\\mapsto} \\ 1 & \\left( y_{0}, y_{1}, y_{2}, y_{3}, y_{4}, y_{5}, y_{6} \\right) \\ {\\mapsto} \\ \\frac{1}{576} \\, \\pi^{2} \\cos\\left(y_{1}\\right) - 2 & \\left( y_{0}, y_{1}, y_{2}, y_{3}, y_{4}, y_{5}, y_{6} \\right) \\ {\\mapsto} \\ 1 & \\left( y_{0}, y_{1}, y_{2}, y_{3}, y_{4}, y_{5}, y_{6} \\right) \\ {\\mapsto} \\ 0 & \\left( y_{0}, y_{1}, y_{2}, y_{3}, y_{4}, y_{5}, y_{6} \\right) \\ {\\mapsto} \\ 0 & \\left( y_{0}, y_{1}, y_{2}, y_{3}, y_{4}, y_{5}, y_{6} \\right) \\ {\\mapsto} \\ 0 & \\left( y_{0}, y_{1}, y_{2}, y_{3}, y_{4}, y_{5}, y_{6} \\right) \\ {\\mapsto} \\ 0 \\\\\n",
       "\\left( y_{0}, y_{1}, y_{2}, y_{3}, y_{4}, y_{5}, y_{6} \\right) \\ {\\mapsto} \\ 0 & \\left( y_{0}, y_{1}, y_{2}, y_{3}, y_{4}, y_{5}, y_{6} \\right) \\ {\\mapsto} \\ 1 & \\left( y_{0}, y_{1}, y_{2}, y_{3}, y_{4}, y_{5}, y_{6} \\right) \\ {\\mapsto} \\ \\frac{1}{576} \\, \\pi^{2} \\cos\\left(y_{2}\\right) - 2 & \\left( y_{0}, y_{1}, y_{2}, y_{3}, y_{4}, y_{5}, y_{6} \\right) \\ {\\mapsto} \\ 1 & \\left( y_{0}, y_{1}, y_{2}, y_{3}, y_{4}, y_{5}, y_{6} \\right) \\ {\\mapsto} \\ 0 & \\left( y_{0}, y_{1}, y_{2}, y_{3}, y_{4}, y_{5}, y_{6} \\right) \\ {\\mapsto} \\ 0 & \\left( y_{0}, y_{1}, y_{2}, y_{3}, y_{4}, y_{5}, y_{6} \\right) \\ {\\mapsto} \\ 0 \\\\\n",
       "\\left( y_{0}, y_{1}, y_{2}, y_{3}, y_{4}, y_{5}, y_{6} \\right) \\ {\\mapsto} \\ 0 & \\left( y_{0}, y_{1}, y_{2}, y_{3}, y_{4}, y_{5}, y_{6} \\right) \\ {\\mapsto} \\ 0 & \\left( y_{0}, y_{1}, y_{2}, y_{3}, y_{4}, y_{5}, y_{6} \\right) \\ {\\mapsto} \\ 1 & \\left( y_{0}, y_{1}, y_{2}, y_{3}, y_{4}, y_{5}, y_{6} \\right) \\ {\\mapsto} \\ \\frac{1}{576} \\, \\pi^{2} \\cos\\left(y_{3}\\right) - 2 & \\left( y_{0}, y_{1}, y_{2}, y_{3}, y_{4}, y_{5}, y_{6} \\right) \\ {\\mapsto} \\ 1 & \\left( y_{0}, y_{1}, y_{2}, y_{3}, y_{4}, y_{5}, y_{6} \\right) \\ {\\mapsto} \\ 0 & \\left( y_{0}, y_{1}, y_{2}, y_{3}, y_{4}, y_{5}, y_{6} \\right) \\ {\\mapsto} \\ 0 \\\\\n",
       "\\left( y_{0}, y_{1}, y_{2}, y_{3}, y_{4}, y_{5}, y_{6} \\right) \\ {\\mapsto} \\ 0 & \\left( y_{0}, y_{1}, y_{2}, y_{3}, y_{4}, y_{5}, y_{6} \\right) \\ {\\mapsto} \\ 0 & \\left( y_{0}, y_{1}, y_{2}, y_{3}, y_{4}, y_{5}, y_{6} \\right) \\ {\\mapsto} \\ 0 & \\left( y_{0}, y_{1}, y_{2}, y_{3}, y_{4}, y_{5}, y_{6} \\right) \\ {\\mapsto} \\ 1 & \\left( y_{0}, y_{1}, y_{2}, y_{3}, y_{4}, y_{5}, y_{6} \\right) \\ {\\mapsto} \\ \\frac{1}{576} \\, \\pi^{2} \\cos\\left(y_{4}\\right) - 2 & \\left( y_{0}, y_{1}, y_{2}, y_{3}, y_{4}, y_{5}, y_{6} \\right) \\ {\\mapsto} \\ 1 & \\left( y_{0}, y_{1}, y_{2}, y_{3}, y_{4}, y_{5}, y_{6} \\right) \\ {\\mapsto} \\ 0 \\\\\n",
       "\\left( y_{0}, y_{1}, y_{2}, y_{3}, y_{4}, y_{5}, y_{6} \\right) \\ {\\mapsto} \\ 0 & \\left( y_{0}, y_{1}, y_{2}, y_{3}, y_{4}, y_{5}, y_{6} \\right) \\ {\\mapsto} \\ 0 & \\left( y_{0}, y_{1}, y_{2}, y_{3}, y_{4}, y_{5}, y_{6} \\right) \\ {\\mapsto} \\ 0 & \\left( y_{0}, y_{1}, y_{2}, y_{3}, y_{4}, y_{5}, y_{6} \\right) \\ {\\mapsto} \\ 0 & \\left( y_{0}, y_{1}, y_{2}, y_{3}, y_{4}, y_{5}, y_{6} \\right) \\ {\\mapsto} \\ 1 & \\left( y_{0}, y_{1}, y_{2}, y_{3}, y_{4}, y_{5}, y_{6} \\right) \\ {\\mapsto} \\ \\frac{1}{576} \\, \\pi^{2} \\cos\\left(y_{5}\\right) - 2 & \\left( y_{0}, y_{1}, y_{2}, y_{3}, y_{4}, y_{5}, y_{6} \\right) \\ {\\mapsto} \\ 1 \\\\\n",
       "\\left( y_{0}, y_{1}, y_{2}, y_{3}, y_{4}, y_{5}, y_{6} \\right) \\ {\\mapsto} \\ 1 & \\left( y_{0}, y_{1}, y_{2}, y_{3}, y_{4}, y_{5}, y_{6} \\right) \\ {\\mapsto} \\ 0 & \\left( y_{0}, y_{1}, y_{2}, y_{3}, y_{4}, y_{5}, y_{6} \\right) \\ {\\mapsto} \\ 0 & \\left( y_{0}, y_{1}, y_{2}, y_{3}, y_{4}, y_{5}, y_{6} \\right) \\ {\\mapsto} \\ 0 & \\left( y_{0}, y_{1}, y_{2}, y_{3}, y_{4}, y_{5}, y_{6} \\right) \\ {\\mapsto} \\ 0 & \\left( y_{0}, y_{1}, y_{2}, y_{3}, y_{4}, y_{5}, y_{6} \\right) \\ {\\mapsto} \\ 0 & \\left( y_{0}, y_{1}, y_{2}, y_{3}, y_{4}, y_{5}, y_{6} \\right) \\ {\\mapsto} \\ 0 \\\\\n",
       "\\left( y_{0}, y_{1}, y_{2}, y_{3}, y_{4}, y_{5}, y_{6} \\right) \\ {\\mapsto} \\ 0 & \\left( y_{0}, y_{1}, y_{2}, y_{3}, y_{4}, y_{5}, y_{6} \\right) \\ {\\mapsto} \\ 0 & \\left( y_{0}, y_{1}, y_{2}, y_{3}, y_{4}, y_{5}, y_{6} \\right) \\ {\\mapsto} \\ 0 & \\left( y_{0}, y_{1}, y_{2}, y_{3}, y_{4}, y_{5}, y_{6} \\right) \\ {\\mapsto} \\ 0 & \\left( y_{0}, y_{1}, y_{2}, y_{3}, y_{4}, y_{5}, y_{6} \\right) \\ {\\mapsto} \\ 0 & \\left( y_{0}, y_{1}, y_{2}, y_{3}, y_{4}, y_{5}, y_{6} \\right) \\ {\\mapsto} \\ 0 & \\left( y_{0}, y_{1}, y_{2}, y_{3}, y_{4}, y_{5}, y_{6} \\right) \\ {\\mapsto} \\ 1\n",
       "\\end{array}\\right)\\)</html>"
      ],
      "text/latex": [
       "$\\displaystyle \\left(\\begin{array}{rrrrrrr}\n",
       "\\left( y_{0}, y_{1}, y_{2}, y_{3}, y_{4}, y_{5}, y_{6} \\right) \\ {\\mapsto} \\ 1 & \\left( y_{0}, y_{1}, y_{2}, y_{3}, y_{4}, y_{5}, y_{6} \\right) \\ {\\mapsto} \\ \\frac{1}{576} \\, \\pi^{2} \\cos\\left(y_{1}\\right) - 2 & \\left( y_{0}, y_{1}, y_{2}, y_{3}, y_{4}, y_{5}, y_{6} \\right) \\ {\\mapsto} \\ 1 & \\left( y_{0}, y_{1}, y_{2}, y_{3}, y_{4}, y_{5}, y_{6} \\right) \\ {\\mapsto} \\ 0 & \\left( y_{0}, y_{1}, y_{2}, y_{3}, y_{4}, y_{5}, y_{6} \\right) \\ {\\mapsto} \\ 0 & \\left( y_{0}, y_{1}, y_{2}, y_{3}, y_{4}, y_{5}, y_{6} \\right) \\ {\\mapsto} \\ 0 & \\left( y_{0}, y_{1}, y_{2}, y_{3}, y_{4}, y_{5}, y_{6} \\right) \\ {\\mapsto} \\ 0 \\\\\n",
       "\\left( y_{0}, y_{1}, y_{2}, y_{3}, y_{4}, y_{5}, y_{6} \\right) \\ {\\mapsto} \\ 0 & \\left( y_{0}, y_{1}, y_{2}, y_{3}, y_{4}, y_{5}, y_{6} \\right) \\ {\\mapsto} \\ 1 & \\left( y_{0}, y_{1}, y_{2}, y_{3}, y_{4}, y_{5}, y_{6} \\right) \\ {\\mapsto} \\ \\frac{1}{576} \\, \\pi^{2} \\cos\\left(y_{2}\\right) - 2 & \\left( y_{0}, y_{1}, y_{2}, y_{3}, y_{4}, y_{5}, y_{6} \\right) \\ {\\mapsto} \\ 1 & \\left( y_{0}, y_{1}, y_{2}, y_{3}, y_{4}, y_{5}, y_{6} \\right) \\ {\\mapsto} \\ 0 & \\left( y_{0}, y_{1}, y_{2}, y_{3}, y_{4}, y_{5}, y_{6} \\right) \\ {\\mapsto} \\ 0 & \\left( y_{0}, y_{1}, y_{2}, y_{3}, y_{4}, y_{5}, y_{6} \\right) \\ {\\mapsto} \\ 0 \\\\\n",
       "\\left( y_{0}, y_{1}, y_{2}, y_{3}, y_{4}, y_{5}, y_{6} \\right) \\ {\\mapsto} \\ 0 & \\left( y_{0}, y_{1}, y_{2}, y_{3}, y_{4}, y_{5}, y_{6} \\right) \\ {\\mapsto} \\ 0 & \\left( y_{0}, y_{1}, y_{2}, y_{3}, y_{4}, y_{5}, y_{6} \\right) \\ {\\mapsto} \\ 1 & \\left( y_{0}, y_{1}, y_{2}, y_{3}, y_{4}, y_{5}, y_{6} \\right) \\ {\\mapsto} \\ \\frac{1}{576} \\, \\pi^{2} \\cos\\left(y_{3}\\right) - 2 & \\left( y_{0}, y_{1}, y_{2}, y_{3}, y_{4}, y_{5}, y_{6} \\right) \\ {\\mapsto} \\ 1 & \\left( y_{0}, y_{1}, y_{2}, y_{3}, y_{4}, y_{5}, y_{6} \\right) \\ {\\mapsto} \\ 0 & \\left( y_{0}, y_{1}, y_{2}, y_{3}, y_{4}, y_{5}, y_{6} \\right) \\ {\\mapsto} \\ 0 \\\\\n",
       "\\left( y_{0}, y_{1}, y_{2}, y_{3}, y_{4}, y_{5}, y_{6} \\right) \\ {\\mapsto} \\ 0 & \\left( y_{0}, y_{1}, y_{2}, y_{3}, y_{4}, y_{5}, y_{6} \\right) \\ {\\mapsto} \\ 0 & \\left( y_{0}, y_{1}, y_{2}, y_{3}, y_{4}, y_{5}, y_{6} \\right) \\ {\\mapsto} \\ 0 & \\left( y_{0}, y_{1}, y_{2}, y_{3}, y_{4}, y_{5}, y_{6} \\right) \\ {\\mapsto} \\ 1 & \\left( y_{0}, y_{1}, y_{2}, y_{3}, y_{4}, y_{5}, y_{6} \\right) \\ {\\mapsto} \\ \\frac{1}{576} \\, \\pi^{2} \\cos\\left(y_{4}\\right) - 2 & \\left( y_{0}, y_{1}, y_{2}, y_{3}, y_{4}, y_{5}, y_{6} \\right) \\ {\\mapsto} \\ 1 & \\left( y_{0}, y_{1}, y_{2}, y_{3}, y_{4}, y_{5}, y_{6} \\right) \\ {\\mapsto} \\ 0 \\\\\n",
       "\\left( y_{0}, y_{1}, y_{2}, y_{3}, y_{4}, y_{5}, y_{6} \\right) \\ {\\mapsto} \\ 0 & \\left( y_{0}, y_{1}, y_{2}, y_{3}, y_{4}, y_{5}, y_{6} \\right) \\ {\\mapsto} \\ 0 & \\left( y_{0}, y_{1}, y_{2}, y_{3}, y_{4}, y_{5}, y_{6} \\right) \\ {\\mapsto} \\ 0 & \\left( y_{0}, y_{1}, y_{2}, y_{3}, y_{4}, y_{5}, y_{6} \\right) \\ {\\mapsto} \\ 0 & \\left( y_{0}, y_{1}, y_{2}, y_{3}, y_{4}, y_{5}, y_{6} \\right) \\ {\\mapsto} \\ 1 & \\left( y_{0}, y_{1}, y_{2}, y_{3}, y_{4}, y_{5}, y_{6} \\right) \\ {\\mapsto} \\ \\frac{1}{576} \\, \\pi^{2} \\cos\\left(y_{5}\\right) - 2 & \\left( y_{0}, y_{1}, y_{2}, y_{3}, y_{4}, y_{5}, y_{6} \\right) \\ {\\mapsto} \\ 1 \\\\\n",
       "\\left( y_{0}, y_{1}, y_{2}, y_{3}, y_{4}, y_{5}, y_{6} \\right) \\ {\\mapsto} \\ 1 & \\left( y_{0}, y_{1}, y_{2}, y_{3}, y_{4}, y_{5}, y_{6} \\right) \\ {\\mapsto} \\ 0 & \\left( y_{0}, y_{1}, y_{2}, y_{3}, y_{4}, y_{5}, y_{6} \\right) \\ {\\mapsto} \\ 0 & \\left( y_{0}, y_{1}, y_{2}, y_{3}, y_{4}, y_{5}, y_{6} \\right) \\ {\\mapsto} \\ 0 & \\left( y_{0}, y_{1}, y_{2}, y_{3}, y_{4}, y_{5}, y_{6} \\right) \\ {\\mapsto} \\ 0 & \\left( y_{0}, y_{1}, y_{2}, y_{3}, y_{4}, y_{5}, y_{6} \\right) \\ {\\mapsto} \\ 0 & \\left( y_{0}, y_{1}, y_{2}, y_{3}, y_{4}, y_{5}, y_{6} \\right) \\ {\\mapsto} \\ 0 \\\\\n",
       "\\left( y_{0}, y_{1}, y_{2}, y_{3}, y_{4}, y_{5}, y_{6} \\right) \\ {\\mapsto} \\ 0 & \\left( y_{0}, y_{1}, y_{2}, y_{3}, y_{4}, y_{5}, y_{6} \\right) \\ {\\mapsto} \\ 0 & \\left( y_{0}, y_{1}, y_{2}, y_{3}, y_{4}, y_{5}, y_{6} \\right) \\ {\\mapsto} \\ 0 & \\left( y_{0}, y_{1}, y_{2}, y_{3}, y_{4}, y_{5}, y_{6} \\right) \\ {\\mapsto} \\ 0 & \\left( y_{0}, y_{1}, y_{2}, y_{3}, y_{4}, y_{5}, y_{6} \\right) \\ {\\mapsto} \\ 0 & \\left( y_{0}, y_{1}, y_{2}, y_{3}, y_{4}, y_{5}, y_{6} \\right) \\ {\\mapsto} \\ 0 & \\left( y_{0}, y_{1}, y_{2}, y_{3}, y_{4}, y_{5}, y_{6} \\right) \\ {\\mapsto} \\ 1\n",
       "\\end{array}\\right)$"
      ],
      "text/plain": [
       "[                      (y_0, y_1, y_2, y_3, y_4, y_5, y_6) |--> 1 (y_0, y_1, y_2, y_3, y_4, y_5, y_6) |--> 1/576*pi^2*cos(y_1) - 2                       (y_0, y_1, y_2, y_3, y_4, y_5, y_6) |--> 1                       (y_0, y_1, y_2, y_3, y_4, y_5, y_6) |--> 0                       (y_0, y_1, y_2, y_3, y_4, y_5, y_6) |--> 0                       (y_0, y_1, y_2, y_3, y_4, y_5, y_6) |--> 0                       (y_0, y_1, y_2, y_3, y_4, y_5, y_6) |--> 0]\n",
       "[                      (y_0, y_1, y_2, y_3, y_4, y_5, y_6) |--> 0                       (y_0, y_1, y_2, y_3, y_4, y_5, y_6) |--> 1 (y_0, y_1, y_2, y_3, y_4, y_5, y_6) |--> 1/576*pi^2*cos(y_2) - 2                       (y_0, y_1, y_2, y_3, y_4, y_5, y_6) |--> 1                       (y_0, y_1, y_2, y_3, y_4, y_5, y_6) |--> 0                       (y_0, y_1, y_2, y_3, y_4, y_5, y_6) |--> 0                       (y_0, y_1, y_2, y_3, y_4, y_5, y_6) |--> 0]\n",
       "[                      (y_0, y_1, y_2, y_3, y_4, y_5, y_6) |--> 0                       (y_0, y_1, y_2, y_3, y_4, y_5, y_6) |--> 0                       (y_0, y_1, y_2, y_3, y_4, y_5, y_6) |--> 1 (y_0, y_1, y_2, y_3, y_4, y_5, y_6) |--> 1/576*pi^2*cos(y_3) - 2                       (y_0, y_1, y_2, y_3, y_4, y_5, y_6) |--> 1                       (y_0, y_1, y_2, y_3, y_4, y_5, y_6) |--> 0                       (y_0, y_1, y_2, y_3, y_4, y_5, y_6) |--> 0]\n",
       "[                      (y_0, y_1, y_2, y_3, y_4, y_5, y_6) |--> 0                       (y_0, y_1, y_2, y_3, y_4, y_5, y_6) |--> 0                       (y_0, y_1, y_2, y_3, y_4, y_5, y_6) |--> 0                       (y_0, y_1, y_2, y_3, y_4, y_5, y_6) |--> 1 (y_0, y_1, y_2, y_3, y_4, y_5, y_6) |--> 1/576*pi^2*cos(y_4) - 2                       (y_0, y_1, y_2, y_3, y_4, y_5, y_6) |--> 1                       (y_0, y_1, y_2, y_3, y_4, y_5, y_6) |--> 0]\n",
       "[                      (y_0, y_1, y_2, y_3, y_4, y_5, y_6) |--> 0                       (y_0, y_1, y_2, y_3, y_4, y_5, y_6) |--> 0                       (y_0, y_1, y_2, y_3, y_4, y_5, y_6) |--> 0                       (y_0, y_1, y_2, y_3, y_4, y_5, y_6) |--> 0                       (y_0, y_1, y_2, y_3, y_4, y_5, y_6) |--> 1 (y_0, y_1, y_2, y_3, y_4, y_5, y_6) |--> 1/576*pi^2*cos(y_5) - 2                       (y_0, y_1, y_2, y_3, y_4, y_5, y_6) |--> 1]\n",
       "[                      (y_0, y_1, y_2, y_3, y_4, y_5, y_6) |--> 1                       (y_0, y_1, y_2, y_3, y_4, y_5, y_6) |--> 0                       (y_0, y_1, y_2, y_3, y_4, y_5, y_6) |--> 0                       (y_0, y_1, y_2, y_3, y_4, y_5, y_6) |--> 0                       (y_0, y_1, y_2, y_3, y_4, y_5, y_6) |--> 0                       (y_0, y_1, y_2, y_3, y_4, y_5, y_6) |--> 0                       (y_0, y_1, y_2, y_3, y_4, y_5, y_6) |--> 0]\n",
       "[                      (y_0, y_1, y_2, y_3, y_4, y_5, y_6) |--> 0                       (y_0, y_1, y_2, y_3, y_4, y_5, y_6) |--> 0                       (y_0, y_1, y_2, y_3, y_4, y_5, y_6) |--> 0                       (y_0, y_1, y_2, y_3, y_4, y_5, y_6) |--> 0                       (y_0, y_1, y_2, y_3, y_4, y_5, y_6) |--> 0                       (y_0, y_1, y_2, y_3, y_4, y_5, y_6) |--> 0                       (y_0, y_1, y_2, y_3, y_4, y_5, y_6) |--> 1]"
      ]
     },
     "metadata": {},
     "output_type": "display_data"
    },
    {
     "data": {
      "text/html": [
       "<html>\\(\\displaystyle \\left(0.000000000000000,\\,0.166666666666667,\\,0.333333333333333,\\,0.500000000000000,\\,0.666666666666667,\\,0.833333333333333,\\,1.00000000000000\\right)\\)</html>"
      ],
      "text/latex": [
       "$\\displaystyle \\left(0.000000000000000,\\,0.166666666666667,\\,0.333333333333333,\\,0.500000000000000,\\,0.666666666666667,\\,0.833333333333333,\\,1.00000000000000\\right)$"
      ],
      "text/plain": [
       "(0.000000000000000, 0.166666666666667, 0.333333333333333, 0.500000000000000, 0.666666666666667, 0.833333333333333, 1.00000000000000)"
      ]
     },
     "metadata": {},
     "output_type": "display_data"
    },
    {
     "data": {
      "text/html": [
       "<html>\\(\\displaystyle \\left(4.40346523701049 \\times 10^{-27},\\,0.183592396673675,\\,0.364056629644599,\\,0.538419735145770,\\,0.703996494838074,\\,0.858482471258522,\\,1.00000000000000\\right)\\)</html>"
      ],
      "text/latex": [
       "$\\displaystyle \\left(4.40346523701049 \\times 10^{-27},\\,0.183592396673675,\\,0.364056629644599,\\,0.538419735145770,\\,0.703996494838074,\\,0.858482471258522,\\,1.00000000000000\\right)$"
      ],
      "text/plain": [
       "(4.40346523701049e-27, 0.183592396673675, 0.364056629644599, 0.538419735145770, 0.703996494838074, 0.858482471258522, 1.00000000000000)"
      ]
     },
     "metadata": {},
     "output_type": "display_data"
    }
   ],
   "source": [
    "n = 5\n",
    "h = (pi/4) * 1/(n+1)\n",
    "\n",
    "sys = []\n",
    "\n",
    "y = [var(f\"y_{i}\") for i in range(0, n+2)]\n",
    "yv = vector(y)\n",
    "\n",
    "fit = itertools.count()\n",
    "for k in range(1, n+1):\n",
    "    f = (y[k+1] - 2*y[k] + y[k-1] + h**2 * sin(y[k])).function(*yv)\n",
    "    sys.append(f)\n",
    "\n",
    "f = y[0].function(*yv)\n",
    "sys.append(f)\n",
    "\n",
    "f = (y[n+1]-1).function(*yv)\n",
    "sys.append(f)\n",
    "\n",
    "display(sys)\n",
    "fv = vector(sys)\n",
    "display(fv)\n",
    "\n",
    "J = jacobian(fv, yv)\n",
    "display(J)\n",
    "\n",
    "y0 = vector(i/(n+1) for i in range(n+2))\n",
    "\n",
    "sol = newton_solve_sys(fv, yv, 10**-10, y0)\n",
    "display(y0.n())\n",
    "display(sol)"
   ]
  },
  {
   "cell_type": "code",
   "execution_count": null,
   "id": "f960a69d",
   "metadata": {},
   "outputs": [],
   "source": []
  }
 ],
 "metadata": {
  "kernelspec": {
   "display_name": "SageMath 10.0",
   "language": "sagemath",
   "name": "sagemath"
  },
  "language_info": {
   "codemirror_mode": {
    "name": "ipython",
    "version": 3
   },
   "file_extension": ".py",
   "mimetype": "text/x-python",
   "name": "python",
   "nbconvert_exporter": "python",
   "pygments_lexer": "ipython3",
   "version": "3.11.6"
  }
 },
 "nbformat": 4,
 "nbformat_minor": 5
}
