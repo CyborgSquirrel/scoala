{
 "cells": [
  {
   "cell_type": "code",
   "execution_count": 1,
   "id": "8e959f15-6d99-415a-a4f8-2acb2b1b0c21",
   "metadata": {},
   "outputs": [],
   "source": [
    "import numpy as np\n",
    "import math"
   ]
  },
  {
   "cell_type": "code",
   "execution_count": 2,
   "id": "7ad001c6-0ad5-4a80-9ffc-eb251f1a5ec9",
   "metadata": {},
   "outputs": [],
   "source": [
    "np.set_printoptions(formatter={'float_kind':\"{:.2f}\".format})"
   ]
  },
  {
   "cell_type": "markdown",
   "id": "86fdb1ef-107e-4576-8d80-30e6e7a301f9",
   "metadata": {},
   "source": [
    "# Eliminare gaussiana"
   ]
  },
  {
   "cell_type": "code",
   "execution_count": 3,
   "id": "c0f56765-0ba6-4fcb-935c-1c37a93f51c3",
   "metadata": {},
   "outputs": [
    {
     "name": "stdout",
     "output_type": "stream",
     "text": [
      "[[0.27 0.87 -0.98 -0.76 -0.06 0.27 0.41 -0.42]\n",
      " [0.38 -0.05 -0.97 -0.84 0.52 -0.37 0.61 0.63]\n",
      " [-0.34 -0.80 0.40 0.94 0.38 0.98 -0.82 0.99]\n",
      " [0.85 0.86 -0.80 -0.95 -0.93 0.87 0.21 0.85]\n",
      " [0.53 -0.81 -0.71 -0.60 0.23 -0.55 0.50 -0.27]\n",
      " [0.49 0.60 -0.42 0.27 -0.80 -0.39 0.30 0.12]\n",
      " [0.38 0.27 0.52 0.82 -0.07 -0.07 0.70 -0.04]]\n",
      "[0.27 0.38 -0.34 0.85 0.53 0.49 0.38]\n",
      "[[0.85 0.86 -0.80 -0.95 -0.93 0.87 0.21 0.85]\n",
      " [0.00 -1.35 -0.21 0.00 0.82 -1.10 0.36 -0.80]\n",
      " [0.00 0.00 0.90 1.25 0.28 -0.36 0.58 -0.35]\n",
      " [0.00 0.00 0.00 0.80 -0.21 -0.97 0.19 -0.42]\n",
      " [0.00 0.00 0.00 0.00 1.04 0.01 0.88 -1.01]\n",
      " [0.00 0.00 0.00 0.00 0.00 2.18 -0.85 1.61]\n",
      " [0.00 0.00 0.00 0.00 0.00 0.00 -0.21 1.55]]\n",
      "[[9.35]\n",
      " [3.27]\n",
      " [1.85]\n",
      " [0.03]\n",
      " [5.31]\n",
      " [-2.13]\n",
      " [-7.40]]\n",
      "[[9.35]\n",
      " [3.27]\n",
      " [1.85]\n",
      " [0.03]\n",
      " [5.31]\n",
      " [-2.13]\n",
      " [-7.40]]\n"
     ]
    }
   ],
   "source": [
    "n = 7\n",
    "\n",
    "A = np.random.uniform(-1, 1, size=(n, n))\n",
    "b = np.random.uniform(-1, 1, size=(n, 1))\n",
    "# print(A)\n",
    "# print(b)\n",
    "\n",
    "Ae = np.concatenate([A, b], axis=1)\n",
    "print(Ae)\n",
    "print(Ae[0:, 0])\n",
    "\n",
    "for i in range(n-1):\n",
    "    p = i + np.argmax(np.abs(Ae[i:, i]))\n",
    "    if math.isclose(float(Ae[p, i]), 0):\n",
    "        assert False\n",
    "    \n",
    "    if p != i:\n",
    "        Ae[[p, i]] = Ae[[i, p]]\n",
    "\n",
    "    for j in range(i+1, n):\n",
    "        m = Ae[j, i] / Ae[i, i]\n",
    "        Ae[j] -= m * Ae[i]\n",
    "\n",
    "print(Ae)\n",
    "x = np.zeros(n)\n",
    "for i in range(n-1, -1, -1):\n",
    "    x[i] = (Ae[i, n] - np.sum(Ae[i, i+1:n] * x[i+1:n])) / Ae[i, i]\n",
    "x = x.reshape(-1, 1)\n",
    "\n",
    "print(x)\n",
    "print(np.linalg.solve(A, b))"
   ]
  },
  {
   "cell_type": "markdown",
   "id": "27d47a41-4d6d-406c-9a56-0cf0891b5ca0",
   "metadata": {},
   "source": [
    "# Descompunere LUP"
   ]
  },
  {
   "cell_type": "code",
   "execution_count": 9,
   "id": "98c334cb-a32f-46f2-8584-e483f5626007",
   "metadata": {},
   "outputs": [],
   "source": [
    "def lup_decomp(A):\n",
    "    assert len(A.shape) == 2\n",
    "    assert A.shape[0] == A.shape[1]\n",
    "    n = A.shape[0]\n",
    "    A = A.copy()\n",
    "    \n",
    "    P = np.eye(n)\n",
    "    \n",
    "    for k in range(n-1):\n",
    "        i = k + np.argmax(np.abs(A[k:, k]))\n",
    "        if i != k:\n",
    "            A[[i, k]] = A[[k, i]]\n",
    "            P[[i, k]] = P[[k, i]]\n",
    "        \n",
    "        lin = np.s_[k+1:n]\n",
    "        \n",
    "        A[lin, k] /= A[k, k]\n",
    "        A[lin, lin] -= np.matmul(A[lin, [k]], A[[k], lin])\n",
    "    \n",
    "    L = np.tril(A)\n",
    "    np.fill_diagonal(L, 1)\n",
    "    \n",
    "    U = np.triu(A)\n",
    "\n",
    "    return L, U, P\n",
    "\n",
    "\n",
    "def lup_solve(A, b):\n",
    "    assert len(A.shape) == 2\n",
    "    assert A.shape[0] == A.shape[1]\n",
    "    n = A.shape[0]\n",
    "    \n",
    "    L, U, P = lup_decomp(A)\n",
    "    \n",
    "    Pb = np.matmul(P, b)\n",
    "    \n",
    "    y = np.zeros(n)\n",
    "    for i in range(n):\n",
    "        y[i] = (Pb[i, 0] - np.sum(L[i, :i] * y[:i])) / L[i, i]\n",
    "    y = y.reshape(-1, 1)\n",
    "    \n",
    "    x = np.zeros(n)\n",
    "    for i in range(n-1, -1, -1):\n",
    "        x[i] = (y[i, 0] - np.sum(U[i, i:] * x[i:])) / U[i, i]\n",
    "    x = x.reshape(-1, 1)\n",
    "\n",
    "    return x"
   ]
  },
  {
   "cell_type": "code",
   "execution_count": 8,
   "id": "b26d46a7-9aa0-42f7-93be-428fe41fbb8c",
   "metadata": {},
   "outputs": [
    {
     "name": "stdout",
     "output_type": "stream",
     "text": [
      "[[2.23]\n",
      " [-3.87]\n",
      " [-2.75]\n",
      " [-1.23]\n",
      " [-1.55]\n",
      " [0.28]\n",
      " [-3.23]]\n",
      "[[2.23]\n",
      " [-3.87]\n",
      " [-2.75]\n",
      " [-1.23]\n",
      " [-1.55]\n",
      " [0.28]\n",
      " [-3.23]]\n"
     ]
    }
   ],
   "source": [
    "n = 7\n",
    "\n",
    "A = np.random.uniform(-1, 1, size=(n, n))\n",
    "b = np.random.uniform(-1, 1, size=(n, 1))\n",
    "\n",
    "x = lup_solve(A, b)\n",
    "\n",
    "print(x)\n",
    "print(np.linalg.solve(A, b))"
   ]
  },
  {
   "cell_type": "markdown",
   "id": "30018c5e-381f-48f6-8f5c-e5dcd99e1195",
   "metadata": {},
   "source": [
    "# Descompunere Cholesky"
   ]
  },
  {
   "cell_type": "markdown",
   "id": "6c5137da-b0f9-4233-94a9-0a2f881b88c9",
   "metadata": {},
   "source": [
    "$$\n",
    "\\begin{aligned}\n",
    "Ax&=b \\\\\n",
    "A&=LL^T \\\\\n",
    "Ly&=b \\\\\n",
    "L^Tx&=y \\\\\n",
    "\\end{aligned}\n",
    "$$"
   ]
  },
  {
   "cell_type": "code",
   "execution_count": 10,
   "id": "f233595a-e5e5-495d-9bae-962c7f253f2c",
   "metadata": {},
   "outputs": [],
   "source": [
    "def cholesky_decomp(A):\n",
    "    assert len(A.shape) == 2\n",
    "    assert A.shape[0] == A.shape[1]\n",
    "    n = A.shape[0]\n",
    "    \n",
    "    # check A is positively defined just in case\n",
    "    for i in range(n):\n",
    "        a = A[:i+1, :i+1]\n",
    "        assert np.linalg.det(a) > 0\n",
    "\n",
    "    L = np.zeros_like(A)\n",
    "    for k in range(n):\n",
    "        L[k, k] = np.sqrt(A[k, k] - np.sum(L[k, :k]**2))\n",
    "        for i in range(k+1, n):\n",
    "            L[i, k] = (A[i, k] - np.sum(L[i, :k]*L[k, :k])) / L[k, k]\n",
    "    return L\n",
    "\n",
    "\n",
    "def cholesky_solve(A, b):\n",
    "    assert len(A.shape) == 2\n",
    "    assert A.shape[0] == A.shape[1]\n",
    "    n = A.shape[0]\n",
    "    \n",
    "    L = cholesky_decomp(A)\n",
    "\n",
    "    y = np.zeros(n)\n",
    "    for i in range(n):\n",
    "        y[i] = (b[i, 0] - np.sum(L[i, :i] * y[:i])) / L[i, i]\n",
    "    y = y.reshape(-1, 1)\n",
    "    \n",
    "    Lt = np.transpose(L)\n",
    "    \n",
    "    x = np.zeros(n)\n",
    "    for i in range(n-1, -1, -1):\n",
    "        x[i] = (y[i, 0] - np.sum(Lt[i, i:] * x[i:])) / Lt[i, i]\n",
    "    x = x.reshape(-1, 1)\n",
    "\n",
    "    return x"
   ]
  },
  {
   "cell_type": "code",
   "execution_count": 12,
   "id": "efc1d9bb-3942-4bb6-a222-ae3749e0946e",
   "metadata": {},
   "outputs": [
    {
     "name": "stdout",
     "output_type": "stream",
     "text": [
      "[[-0.01]\n",
      " [0.00]\n",
      " [-0.02]\n",
      " [0.11]\n",
      " [0.12]\n",
      " [0.05]\n",
      " [-0.01]]\n",
      "[[-0.01]\n",
      " [0.00]\n",
      " [-0.02]\n",
      " [0.11]\n",
      " [0.12]\n",
      " [0.05]\n",
      " [-0.01]]\n"
     ]
    }
   ],
   "source": [
    "n = 7\n",
    "\n",
    "A = np.random.uniform(0, 1, size=(n, n))\n",
    "A = (A + np.transpose(A)) / 2  # ensure A is hermitian\n",
    "A += n*np.eye(n)  # ensure A is positively defined\n",
    "\n",
    "b = np.random.uniform(-1, 1, size=(n, 1))\n",
    "\n",
    "x = cholesky_solve(A, b)\n",
    "\n",
    "print(x)\n",
    "print(np.linalg.solve(A, b))"
   ]
  },
  {
   "cell_type": "code",
   "execution_count": null,
   "id": "72d59e09-ae2b-410c-ac0b-43c0f75e9a93",
   "metadata": {},
   "outputs": [],
   "source": []
  }
 ],
 "metadata": {
  "kernelspec": {
   "display_name": "Python 3",
   "language": "python",
   "name": "python3"
  },
  "language_info": {
   "codemirror_mode": {
    "name": "ipython",
    "version": 3
   },
   "file_extension": ".py",
   "mimetype": "text/x-python",
   "name": "python",
   "nbconvert_exporter": "python",
   "pygments_lexer": "ipython3",
   "version": "3.11.6"
  }
 },
 "nbformat": 4,
 "nbformat_minor": 5
}
