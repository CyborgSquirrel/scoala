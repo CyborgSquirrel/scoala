{
 "cells": [
  {
   "cell_type": "code",
   "execution_count": 1,
   "id": "8aed55ec-cf39-44c0-b36d-d70e13f235fe",
   "metadata": {},
   "outputs": [],
   "source": [
    "import numpy as np"
   ]
  },
  {
   "cell_type": "markdown",
   "id": "31349cf1-b33e-4e10-9ffc-d50411e32438",
   "metadata": {},
   "source": [
    "# Problema 1"
   ]
  },
  {
   "cell_type": "markdown",
   "id": "67bfa75c-e1c7-4e5b-88f0-a3a2d92eab10",
   "metadata": {},
   "source": [
    "Numarul de operatii care se efectueaza in eliminarea Gaussiana este:\n",
    "\n",
    "$$\n",
    "\\sum^{n-1}_{k=1}(n-k)(n-k+1)2\n",
    "$$"
   ]
  },
  {
   "cell_type": "code",
   "execution_count": 2,
   "id": "189e94e9-c499-4194-88fd-19e57486e912",
   "metadata": {},
   "outputs": [
    {
     "data": {
      "text/plain": [
       "40"
      ]
     },
     "execution_count": 2,
     "metadata": {},
     "output_type": "execute_result"
    }
   ],
   "source": [
    "def gauss_complexity(n):\n",
    "    c = 0\n",
    "    for k in range(1, n):\n",
    "        c += (n-k)*(n-k+1)*2\n",
    "    return c\n",
    "gauss_complexity(4)"
   ]
  },
  {
   "cell_type": "markdown",
   "id": "4edfb179-006c-44e6-a37e-3753f35361f2",
   "metadata": {},
   "source": [
    "Asadar complexitatea metodei lui Gauss pentru $n=4$ va fi $40$."
   ]
  },
  {
   "cell_type": "markdown",
   "id": "eead1e91-65f1-417d-bcca-f78f08157d13",
   "metadata": {},
   "source": [
    "# Problema 2"
   ]
  },
  {
   "cell_type": "code",
   "execution_count": 3,
   "id": "dcd52ca9-be17-4da8-b52d-14e6bf61a413",
   "metadata": {},
   "outputs": [
    {
     "data": {
      "text/plain": [
       "array([[ 3. , -1. ,  0. ,  0. ,  0. ,  0. ,  0. ,  0. ,  0. ,  0.5],\n",
       "       [-1. ,  3. , -1. ,  0. ,  0. ,  0. ,  0. ,  0. ,  0.5,  0. ],\n",
       "       [ 0. , -1. ,  3. , -1. ,  0. ,  0. ,  0. ,  0.5,  0. ,  0. ],\n",
       "       [ 0. ,  0. , -1. ,  3. , -1. ,  0. ,  0.5,  0. ,  0. ,  0. ],\n",
       "       [ 0. ,  0. ,  0. , -1. ,  3. , -1. ,  0. ,  0. ,  0. ,  0. ],\n",
       "       [ 0. ,  0. ,  0. ,  0. , -1. ,  3. , -1. ,  0. ,  0. ,  0. ],\n",
       "       [ 0. ,  0. ,  0. ,  0.5,  0. , -1. ,  3. , -1. ,  0. ,  0. ],\n",
       "       [ 0. ,  0. ,  0.5,  0. ,  0. ,  0. , -1. ,  3. , -1. ,  0. ],\n",
       "       [ 0. ,  0.5,  0. ,  0. ,  0. ,  0. ,  0. , -1. ,  3. , -1. ],\n",
       "       [ 0.5,  0. ,  0. ,  0. ,  0. ,  0. ,  0. ,  0. , -1. ,  3. ]])"
      ]
     },
     "execution_count": 3,
     "metadata": {},
     "output_type": "execute_result"
    }
   ],
   "source": [
    "def gen_A(n):\n",
    "    assert n > 0 and n % 2 == 0\n",
    "\n",
    "    sd = np.ones(n)\n",
    "    sd[[n//2-1, n//2]] = 0\n",
    "    \n",
    "    A = (\n",
    "        + np.diag(np.ones(n)*3, 0)\n",
    "        + np.diag(np.ones(n-1)*-1, 1)\n",
    "        + np.diag(np.ones(n-1)*-1, -1)\n",
    "        + np.fliplr(np.diag(sd*(1/2)))\n",
    "    )\n",
    "    return A\n",
    "\n",
    "gen_A(10)"
   ]
  },
  {
   "cell_type": "code",
   "execution_count": 4,
   "id": "d1af6a3b-6644-4f2d-a2e8-1ff5aaeea969",
   "metadata": {},
   "outputs": [
    {
     "data": {
      "text/plain": [
       "array([[2.5],\n",
       "       [1.5],\n",
       "       [1.5],\n",
       "       [1.5],\n",
       "       [1. ],\n",
       "       [1. ],\n",
       "       [1.5],\n",
       "       [1.5],\n",
       "       [1.5],\n",
       "       [2.5]])"
      ]
     },
     "execution_count": 4,
     "metadata": {},
     "output_type": "execute_result"
    }
   ],
   "source": [
    "def gen_b(n):\n",
    "    b = np.ones(n)*1.5\n",
    "    b[[0, -1]] = 2.5\n",
    "    b[[n//2-1, n//2]] = 1\n",
    "    b = b.reshape(-1, 1)\n",
    "    return b\n",
    "\n",
    "gen_b(10)"
   ]
  },
  {
   "cell_type": "code",
   "execution_count": 5,
   "id": "16fbdb34-ee34-4f26-b9a0-e638f3ced61d",
   "metadata": {},
   "outputs": [],
   "source": [
    "def lup_decomp(A):\n",
    "    assert len(A.shape) == 2\n",
    "    assert A.shape[0] == A.shape[1]\n",
    "    n = A.shape[0]\n",
    "    A = A.copy()\n",
    "    \n",
    "    P = np.eye(n)\n",
    "    \n",
    "    for k in range(n-1):\n",
    "        i = k + np.argmax(np.abs(A[k:, k]))\n",
    "        if i != k:\n",
    "            A[[i, k]] = A[[k, i]]\n",
    "            P[[i, k]] = P[[k, i]]\n",
    "        \n",
    "        lin = np.s_[k+1:n]\n",
    "        \n",
    "        A[lin, k] /= A[k, k]\n",
    "        A[lin, lin] -= np.matmul(A[lin, [k]], A[[k], lin])\n",
    "    \n",
    "    L = np.tril(A)\n",
    "    np.fill_diagonal(L, 1)\n",
    "    \n",
    "    U = np.triu(A)\n",
    "\n",
    "    return L, U, P\n",
    "\n",
    "\n",
    "def lup_solve(A, b):\n",
    "    assert len(A.shape) == 2\n",
    "    assert A.shape[0] == A.shape[1]\n",
    "    n = A.shape[0]\n",
    "    \n",
    "    L, U, P = lup_decomp(A)\n",
    "    \n",
    "    Pb = np.matmul(P, b)\n",
    "    \n",
    "    y = np.zeros(n)\n",
    "    for i in range(n):\n",
    "        y[i] = (Pb[i, 0] - np.sum(L[i, :i] * y[:i])) / L[i, i]\n",
    "    y = y.reshape(-1, 1)\n",
    "    \n",
    "    x = np.zeros(n)\n",
    "    for i in range(n-1, -1, -1):\n",
    "        x[i] = (y[i, 0] - np.sum(U[i, i:] * x[i:])) / U[i, i]\n",
    "    x = x.reshape(-1, 1)\n",
    "\n",
    "    return x"
   ]
  },
  {
   "cell_type": "code",
   "execution_count": 6,
   "id": "b3e29e89-b83d-47fd-bd66-ebf49a371b2f",
   "metadata": {},
   "outputs": [],
   "source": [
    "def cholesky_decomp(A):\n",
    "    assert len(A.shape) == 2\n",
    "    assert A.shape[0] == A.shape[1]\n",
    "    n = A.shape[0]\n",
    "    \n",
    "    # check A is positively defined just in case\n",
    "    for i in range(n):\n",
    "        a = A[:i+1, :i+1]\n",
    "        assert np.linalg.det(a) > 0\n",
    "\n",
    "    L = np.zeros_like(A)\n",
    "    for k in range(n):\n",
    "        L[k, k] = np.sqrt(A[k, k] - np.sum(L[k, :k]**2))\n",
    "        for i in range(k+1, n):\n",
    "            L[i, k] = (A[i, k] - np.sum(L[i, :k]*L[k, :k])) / L[k, k]\n",
    "    return L\n",
    "\n",
    "\n",
    "def cholesky_solve(A, b):\n",
    "    assert len(A.shape) == 2\n",
    "    assert A.shape[0] == A.shape[1]\n",
    "    n = A.shape[0]\n",
    "    \n",
    "    L = cholesky_decomp(A)\n",
    "\n",
    "    y = np.zeros(n)\n",
    "    for i in range(n):\n",
    "        y[i] = (b[i, 0] - np.sum(L[i, :i] * y[:i])) / L[i, i]\n",
    "    y = y.reshape(-1, 1)\n",
    "    \n",
    "    Lt = np.transpose(L)\n",
    "    \n",
    "    x = np.zeros(n)\n",
    "    for i in range(n-1, -1, -1):\n",
    "        x[i] = (y[i, 0] - np.sum(Lt[i, i:] * x[i:])) / Lt[i, i]\n",
    "    x = x.reshape(-1, 1)\n",
    "\n",
    "    return x"
   ]
  },
  {
   "cell_type": "markdown",
   "id": "f08af4bf-abaa-4207-b506-467ccfef6909",
   "metadata": {},
   "source": [
    "## (a)"
   ]
  },
  {
   "cell_type": "code",
   "execution_count": 7,
   "id": "eb17bca0-40f8-4872-9d7d-8a7036b7c531",
   "metadata": {},
   "outputs": [
    {
     "name": "stdout",
     "output_type": "stream",
     "text": [
      "A=array([[ 3. , -1. ,  0. ,  0. ,  0. ,  0. ,  0. ,  0. ,  0. ,  0.5],\n",
      "       [-1. ,  3. , -1. ,  0. ,  0. ,  0. ,  0. ,  0. ,  0.5,  0. ],\n",
      "       [ 0. , -1. ,  3. , -1. ,  0. ,  0. ,  0. ,  0.5,  0. ,  0. ],\n",
      "       [ 0. ,  0. , -1. ,  3. , -1. ,  0. ,  0.5,  0. ,  0. ,  0. ],\n",
      "       [ 0. ,  0. ,  0. , -1. ,  3. , -1. ,  0. ,  0. ,  0. ,  0. ],\n",
      "       [ 0. ,  0. ,  0. ,  0. , -1. ,  3. , -1. ,  0. ,  0. ,  0. ],\n",
      "       [ 0. ,  0. ,  0. ,  0.5,  0. , -1. ,  3. , -1. ,  0. ,  0. ],\n",
      "       [ 0. ,  0. ,  0.5,  0. ,  0. ,  0. , -1. ,  3. , -1. ,  0. ],\n",
      "       [ 0. ,  0.5,  0. ,  0. ,  0. ,  0. ,  0. , -1. ,  3. , -1. ],\n",
      "       [ 0.5,  0. ,  0. ,  0. ,  0. ,  0. ,  0. ,  0. , -1. ,  3. ]])\n"
     ]
    }
   ],
   "source": [
    "n = 10\n",
    "A = gen_A(n)\n",
    "print(f\"{A=}\")"
   ]
  },
  {
   "cell_type": "markdown",
   "id": "78e5c4dd-cfed-4ece-83ea-e396e8c20144",
   "metadata": {},
   "source": [
    "Descompunerea LUP"
   ]
  },
  {
   "cell_type": "code",
   "execution_count": 8,
   "id": "0170ad11-2124-497a-917e-7f3380cbe4ee",
   "metadata": {},
   "outputs": [
    {
     "name": "stdout",
     "output_type": "stream",
     "text": [
      "L=array([[ 1.        ,  0.        ,  0.        ,  0.        ,  0.        ,\n",
      "         0.        ,  0.        ,  0.        ,  0.        ,  0.        ],\n",
      "       [-0.33333333,  1.        ,  0.        ,  0.        ,  0.        ,\n",
      "         0.        ,  0.        ,  0.        ,  0.        ,  0.        ],\n",
      "       [ 0.        , -0.375     ,  1.        ,  0.        ,  0.        ,\n",
      "         0.        ,  0.        ,  0.        ,  0.        ,  0.        ],\n",
      "       [ 0.        ,  0.        , -0.38095238,  1.        ,  0.        ,\n",
      "         0.        ,  0.        ,  0.        ,  0.        ,  0.        ],\n",
      "       [ 0.        ,  0.        ,  0.        , -0.38181818,  1.        ,\n",
      "         0.        ,  0.        ,  0.        ,  0.        ,  0.        ],\n",
      "       [ 0.        ,  0.        ,  0.        ,  0.        , -0.38194444,\n",
      "         1.        ,  0.        ,  0.        ,  0.        ,  0.        ],\n",
      "       [ 0.        ,  0.        ,  0.        ,  0.19090909,  0.07291667,\n",
      "        -0.35411141,  1.        ,  0.        ,  0.        ,  0.        ],\n",
      "       [ 0.        ,  0.        ,  0.19047619,  0.07272727,  0.02777778,\n",
      "         0.01061008, -0.40269151,  1.        ,  0.        ,  0.        ],\n",
      "       [ 0.        ,  0.1875    ,  0.07142857,  0.02727273,  0.01041667,\n",
      "         0.00397878, -0.00465839, -0.42318962,  1.        ,  0.        ],\n",
      "       [ 0.16666667,  0.0625    ,  0.02380952,  0.00909091,  0.00347222,\n",
      "         0.00132626, -0.0015528 , -0.00627878, -0.42615276,  1.        ]])\n",
      "U=array([[ 3.        , -1.        ,  0.        ,  0.        ,  0.        ,\n",
      "         0.        ,  0.        ,  0.        ,  0.        ,  0.5       ],\n",
      "       [ 0.        ,  2.66666667, -1.        ,  0.        ,  0.        ,\n",
      "         0.        ,  0.        ,  0.        ,  0.5       ,  0.16666667],\n",
      "       [ 0.        ,  0.        ,  2.625     , -1.        ,  0.        ,\n",
      "         0.        ,  0.        ,  0.5       ,  0.1875    ,  0.0625    ],\n",
      "       [ 0.        ,  0.        ,  0.        ,  2.61904762, -1.        ,\n",
      "         0.        ,  0.5       ,  0.19047619,  0.07142857,  0.02380952],\n",
      "       [ 0.        ,  0.        ,  0.        ,  0.        ,  2.61818182,\n",
      "        -1.        ,  0.19090909,  0.07272727,  0.02727273,  0.00909091],\n",
      "       [ 0.        ,  0.        ,  0.        ,  0.        ,  0.        ,\n",
      "         2.61805556, -0.92708333,  0.02777778,  0.01041667,  0.00347222],\n",
      "       [ 0.        ,  0.        ,  0.        ,  0.        ,  0.        ,\n",
      "         0.        ,  2.56233422, -1.03183024, -0.01193634, -0.00397878],\n",
      "       [ 0.        ,  0.        ,  0.        ,  0.        ,  0.        ,\n",
      "         0.        ,  0.        ,  2.47308489, -1.04658385, -0.01552795],\n",
      "       [ 0.        ,  0.        ,  0.        ,  0.        ,  0.        ,\n",
      "         0.        ,  0.        ,  0.        ,  2.44762453, -1.04306195],\n",
      "       [ 0.        ,  0.        ,  0.        ,  0.        ,  0.        ,\n",
      "         0.        ,  0.        ,  0.        ,  0.        ,  2.45990188]])\n",
      "P=array([[1., 0., 0., 0., 0., 0., 0., 0., 0., 0.],\n",
      "       [0., 1., 0., 0., 0., 0., 0., 0., 0., 0.],\n",
      "       [0., 0., 1., 0., 0., 0., 0., 0., 0., 0.],\n",
      "       [0., 0., 0., 1., 0., 0., 0., 0., 0., 0.],\n",
      "       [0., 0., 0., 0., 1., 0., 0., 0., 0., 0.],\n",
      "       [0., 0., 0., 0., 0., 1., 0., 0., 0., 0.],\n",
      "       [0., 0., 0., 0., 0., 0., 1., 0., 0., 0.],\n",
      "       [0., 0., 0., 0., 0., 0., 0., 1., 0., 0.],\n",
      "       [0., 0., 0., 0., 0., 0., 0., 0., 1., 0.],\n",
      "       [0., 0., 0., 0., 0., 0., 0., 0., 0., 1.]])\n"
     ]
    }
   ],
   "source": [
    "L, U, P = lup_decomp(A)\n",
    "print(f\"{L=}\")\n",
    "print(f\"{U=}\")\n",
    "print(f\"{P=}\")"
   ]
  },
  {
   "cell_type": "markdown",
   "id": "a696c337-0f5e-4ee3-be2e-00e6c5685b17",
   "metadata": {},
   "source": [
    "Descompunerea Cholesky"
   ]
  },
  {
   "cell_type": "code",
   "execution_count": 9,
   "id": "fb8a36d7-79a2-43be-a6ce-31cb4d6a1a3d",
   "metadata": {},
   "outputs": [
    {
     "name": "stdout",
     "output_type": "stream",
     "text": [
      "L=array([[ 1.73205081,  0.        ,  0.        ,  0.        ,  0.        ,\n",
      "         0.        ,  0.        ,  0.        ,  0.        ,  0.        ],\n",
      "       [-0.57735027,  1.63299316,  0.        ,  0.        ,  0.        ,\n",
      "         0.        ,  0.        ,  0.        ,  0.        ,  0.        ],\n",
      "       [ 0.        , -0.61237244,  1.62018517,  0.        ,  0.        ,\n",
      "         0.        ,  0.        ,  0.        ,  0.        ,  0.        ],\n",
      "       [ 0.        ,  0.        , -0.6172134 ,  1.61834719,  0.        ,\n",
      "         0.        ,  0.        ,  0.        ,  0.        ,  0.        ],\n",
      "       [ 0.        ,  0.        ,  0.        , -0.61791438,  1.61807967,\n",
      "         0.        ,  0.        ,  0.        ,  0.        ,  0.        ],\n",
      "       [ 0.        ,  0.        ,  0.        ,  0.        , -0.61801654,\n",
      "         1.61804065,  0.        ,  0.        ,  0.        ,  0.        ],\n",
      "       [ 0.        ,  0.        ,  0.        ,  0.30895719,  0.11798498,\n",
      "        -0.57296665,  1.60072928,  0.        ,  0.        ,  0.        ],\n",
      "       [ 0.        ,  0.        ,  0.3086067 ,  0.11769798,  0.04494666,\n",
      "         0.01716754, -0.64460009,  1.57260449,  0.        ,  0.        ],\n",
      "       [ 0.        ,  0.30618622,  0.11572751,  0.04413674,  0.016855  ,\n",
      "         0.00643783, -0.00745681, -0.6655099 ,  1.56448858,  0.        ],\n",
      "       [ 0.28867513,  0.10206207,  0.03857584,  0.01471225,  0.00561833,\n",
      "         0.00214594, -0.0024856 , -0.00987403, -0.66671113,  1.56840743]])\n"
     ]
    }
   ],
   "source": [
    "L = cholesky_decomp(A)\n",
    "print(f\"{L=}\")"
   ]
  },
  {
   "cell_type": "markdown",
   "id": "35dd1023-ffcf-4042-b94f-e3639eee2c2c",
   "metadata": {},
   "source": [
    "## (b)"
   ]
  },
  {
   "cell_type": "code",
   "execution_count": 10,
   "id": "cb07262d-7ff8-4322-8dab-fdc830433d39",
   "metadata": {},
   "outputs": [],
   "source": [
    "n = 100\n",
    "A = gen_A(n)\n",
    "b = gen_b(n)"
   ]
  },
  {
   "cell_type": "markdown",
   "id": "7824a078-a162-4377-b6d5-4a03d9255a16",
   "metadata": {},
   "source": [
    "Rezolvare prin descompunerea LUP"
   ]
  },
  {
   "cell_type": "code",
   "execution_count": 11,
   "id": "ad2b9f67-ef99-4a1d-8973-c98dcbb6152a",
   "metadata": {},
   "outputs": [
    {
     "name": "stdout",
     "output_type": "stream",
     "text": [
      "[[1.]\n",
      " [1.]\n",
      " [1.]\n",
      " [1.]\n",
      " [1.]\n",
      " [1.]\n",
      " [1.]\n",
      " [1.]\n",
      " [1.]\n",
      " [1.]\n",
      " [1.]\n",
      " [1.]\n",
      " [1.]\n",
      " [1.]\n",
      " [1.]\n",
      " [1.]\n",
      " [1.]\n",
      " [1.]\n",
      " [1.]\n",
      " [1.]\n",
      " [1.]\n",
      " [1.]\n",
      " [1.]\n",
      " [1.]\n",
      " [1.]\n",
      " [1.]\n",
      " [1.]\n",
      " [1.]\n",
      " [1.]\n",
      " [1.]\n",
      " [1.]\n",
      " [1.]\n",
      " [1.]\n",
      " [1.]\n",
      " [1.]\n",
      " [1.]\n",
      " [1.]\n",
      " [1.]\n",
      " [1.]\n",
      " [1.]\n",
      " [1.]\n",
      " [1.]\n",
      " [1.]\n",
      " [1.]\n",
      " [1.]\n",
      " [1.]\n",
      " [1.]\n",
      " [1.]\n",
      " [1.]\n",
      " [1.]\n",
      " [1.]\n",
      " [1.]\n",
      " [1.]\n",
      " [1.]\n",
      " [1.]\n",
      " [1.]\n",
      " [1.]\n",
      " [1.]\n",
      " [1.]\n",
      " [1.]\n",
      " [1.]\n",
      " [1.]\n",
      " [1.]\n",
      " [1.]\n",
      " [1.]\n",
      " [1.]\n",
      " [1.]\n",
      " [1.]\n",
      " [1.]\n",
      " [1.]\n",
      " [1.]\n",
      " [1.]\n",
      " [1.]\n",
      " [1.]\n",
      " [1.]\n",
      " [1.]\n",
      " [1.]\n",
      " [1.]\n",
      " [1.]\n",
      " [1.]\n",
      " [1.]\n",
      " [1.]\n",
      " [1.]\n",
      " [1.]\n",
      " [1.]\n",
      " [1.]\n",
      " [1.]\n",
      " [1.]\n",
      " [1.]\n",
      " [1.]\n",
      " [1.]\n",
      " [1.]\n",
      " [1.]\n",
      " [1.]\n",
      " [1.]\n",
      " [1.]\n",
      " [1.]\n",
      " [1.]\n",
      " [1.]\n",
      " [1.]]\n"
     ]
    }
   ],
   "source": [
    "print(lup_solve(A, b))"
   ]
  },
  {
   "cell_type": "markdown",
   "id": "059fa6de-e74b-40db-9ce2-5c69b7687aed",
   "metadata": {},
   "source": [
    "Rezolvare prin descompunerea Cholesky"
   ]
  },
  {
   "cell_type": "code",
   "execution_count": 12,
   "id": "3644dba4-8abf-4e3d-b1d7-04981e274379",
   "metadata": {},
   "outputs": [
    {
     "name": "stdout",
     "output_type": "stream",
     "text": [
      "[[1.]\n",
      " [1.]\n",
      " [1.]\n",
      " [1.]\n",
      " [1.]\n",
      " [1.]\n",
      " [1.]\n",
      " [1.]\n",
      " [1.]\n",
      " [1.]\n",
      " [1.]\n",
      " [1.]\n",
      " [1.]\n",
      " [1.]\n",
      " [1.]\n",
      " [1.]\n",
      " [1.]\n",
      " [1.]\n",
      " [1.]\n",
      " [1.]\n",
      " [1.]\n",
      " [1.]\n",
      " [1.]\n",
      " [1.]\n",
      " [1.]\n",
      " [1.]\n",
      " [1.]\n",
      " [1.]\n",
      " [1.]\n",
      " [1.]\n",
      " [1.]\n",
      " [1.]\n",
      " [1.]\n",
      " [1.]\n",
      " [1.]\n",
      " [1.]\n",
      " [1.]\n",
      " [1.]\n",
      " [1.]\n",
      " [1.]\n",
      " [1.]\n",
      " [1.]\n",
      " [1.]\n",
      " [1.]\n",
      " [1.]\n",
      " [1.]\n",
      " [1.]\n",
      " [1.]\n",
      " [1.]\n",
      " [1.]\n",
      " [1.]\n",
      " [1.]\n",
      " [1.]\n",
      " [1.]\n",
      " [1.]\n",
      " [1.]\n",
      " [1.]\n",
      " [1.]\n",
      " [1.]\n",
      " [1.]\n",
      " [1.]\n",
      " [1.]\n",
      " [1.]\n",
      " [1.]\n",
      " [1.]\n",
      " [1.]\n",
      " [1.]\n",
      " [1.]\n",
      " [1.]\n",
      " [1.]\n",
      " [1.]\n",
      " [1.]\n",
      " [1.]\n",
      " [1.]\n",
      " [1.]\n",
      " [1.]\n",
      " [1.]\n",
      " [1.]\n",
      " [1.]\n",
      " [1.]\n",
      " [1.]\n",
      " [1.]\n",
      " [1.]\n",
      " [1.]\n",
      " [1.]\n",
      " [1.]\n",
      " [1.]\n",
      " [1.]\n",
      " [1.]\n",
      " [1.]\n",
      " [1.]\n",
      " [1.]\n",
      " [1.]\n",
      " [1.]\n",
      " [1.]\n",
      " [1.]\n",
      " [1.]\n",
      " [1.]\n",
      " [1.]\n",
      " [1.]]\n"
     ]
    }
   ],
   "source": [
    "print(cholesky_solve(A, b))"
   ]
  },
  {
   "cell_type": "code",
   "execution_count": null,
   "id": "212a9092-9e68-46c3-af7d-33176c2b44cf",
   "metadata": {},
   "outputs": [],
   "source": []
  }
 ],
 "metadata": {
  "kernelspec": {
   "display_name": "Python 3 (ipykernel)",
   "language": "python",
   "name": "python3"
  },
  "language_info": {
   "codemirror_mode": {
    "name": "ipython",
    "version": 3
   },
   "file_extension": ".py",
   "mimetype": "text/x-python",
   "name": "python",
   "nbconvert_exporter": "python",
   "pygments_lexer": "ipython3",
   "version": "3.11.6"
  }
 },
 "nbformat": 4,
 "nbformat_minor": 5
}
