{
 "cells": [
  {
   "cell_type": "code",
   "execution_count": 89,
   "id": "30b1de95-0e33-425f-8b9a-4af1647070f2",
   "metadata": {},
   "outputs": [],
   "source": [
    "import numpy as np\n",
    "import matplotlib.pyplot as plt\n",
    "import math\n",
    "import functools\n",
    "import scipy"
   ]
  },
  {
   "cell_type": "code",
   "execution_count": 2,
   "id": "c71d3662-a98b-4323-ad54-5314a7b6146a",
   "metadata": {},
   "outputs": [],
   "source": [
    "def same(*args):\n",
    "    for arg in args:\n",
    "        assert args[0] == arg\n",
    "    return args[0]"
   ]
  },
  {
   "cell_type": "markdown",
   "id": "c4ee482f-e87e-45d2-aff2-7fa171d99d1c",
   "metadata": {},
   "source": [
    "# Probleme"
   ]
  },
  {
   "cell_type": "markdown",
   "id": "fc3c50c9-184e-4c76-be03-65b9c6f488c5",
   "metadata": {},
   "source": [
    "## 1"
   ]
  },
  {
   "cell_type": "code",
   "execution_count": 88,
   "id": "760d06e1-d2f3-4686-b20d-48ae23ca4d01",
   "metadata": {},
   "outputs": [
    {
     "data": {
      "text/plain": [
       "0.999485905248533"
      ]
     },
     "execution_count": 88,
     "metadata": {},
     "output_type": "execute_result"
    }
   ],
   "source": [
    "def trapezoid_method(a, b, f, n):\n",
    "    h = (b-a)/n\n",
    "    res = (\n",
    "        (b - a) / (2*n)\n",
    "        * (\n",
    "            f(a) + f(b)\n",
    "            + 2*sum(\n",
    "                f(a + k*h)\n",
    "                for k in range(1, n)\n",
    "            )\n",
    "        )\n",
    "    )\n",
    "    return res\n",
    "trapezoid_method(0, math.pi/2, math.cos, 20)"
   ]
  },
  {
   "cell_type": "code",
   "execution_count": 80,
   "id": "ec7648c7-96bf-4362-9532-d3f258e80ead",
   "metadata": {},
   "outputs": [
    {
     "data": {
      "text/plain": [
       "0.999485905248533"
      ]
     },
     "execution_count": 80,
     "metadata": {},
     "output_type": "execute_result"
    }
   ],
   "source": [
    "def rectangle_method(a, b, f, n):\n",
    "    h = (b-a)/n\n",
    "    res = (\n",
    "        (b - a) / n\n",
    "        * sum(\n",
    "            (f(a + (k-1)*h) + f(a + k*h)) / 2\n",
    "            for k in range(1, n+1)\n",
    "        )\n",
    "    )\n",
    "    return res\n",
    "rectangle_method(0, math.pi/2, math.cos, 20)"
   ]
  },
  {
   "cell_type": "code",
   "execution_count": 81,
   "id": "f85a0d90-08bf-44b2-8d39-da4909c865a0",
   "metadata": {},
   "outputs": [
    {
     "data": {
      "text/plain": [
       "1.0000002115465914"
      ]
     },
     "execution_count": 81,
     "metadata": {},
     "output_type": "execute_result"
    }
   ],
   "source": [
    "def simpson_method(a, b, f, n):\n",
    "    assert n % 2 == 0\n",
    "    m = n//2\n",
    "    h = (b-a)/n\n",
    "    res = (\n",
    "        (b - a) / (6*m)\n",
    "        * (\n",
    "            f(a) + f(b)\n",
    "            + 2*sum(\n",
    "                f(a + 2*k*h)\n",
    "                for k in range(1, m)\n",
    "            )\n",
    "            + 4*sum(\n",
    "                f(a + (2*k-1)*h)\n",
    "                for k in range(1, m+1)\n",
    "            )\n",
    "        )\n",
    "    )\n",
    "    return res\n",
    "simpson_method(0, math.pi/2, math.cos, 20)"
   ]
  },
  {
   "cell_type": "markdown",
   "id": "a179bf64-a932-48d2-83cc-f473a252d56a",
   "metadata": {},
   "source": [
    "## 3"
   ]
  },
  {
   "cell_type": "code",
   "execution_count": 61,
   "id": "db4b3c7a-a8e1-48ee-bbec-b5c3bfcdc519",
   "metadata": {},
   "outputs": [],
   "source": [
    "def adaptive_quad(a, b, f, met, tol, *, m):\n",
    "    if abs(met(a, b, f, m) - met(a, b, f, 2*m)) < tol:\n",
    "        return met(a, b, f, 2*m)\n",
    "    else:\n",
    "        return (\n",
    "              adaptive_quad(a, (a+b)/2, f, met, tol, m=m)\n",
    "            + adaptive_quad((a+b)/2, b, f, met, tol, m=m)\n",
    "        )"
   ]
  },
  {
   "cell_type": "code",
   "execution_count": 82,
   "id": "5f092d5c-2f80-440a-8350-37de6c7670b4",
   "metadata": {},
   "outputs": [
    {
     "data": {
      "text/plain": [
       "0.999938335910324"
      ]
     },
     "execution_count": 82,
     "metadata": {},
     "output_type": "execute_result"
    }
   ],
   "source": [
    "adaptive_quad(0, math.pi/2, math.cos, trapezoid_method, 0.0001, m=4)"
   ]
  },
  {
   "cell_type": "code",
   "execution_count": 83,
   "id": "b588bede-0a67-4904-9e28-7643cea763bf",
   "metadata": {},
   "outputs": [
    {
     "data": {
      "text/plain": [
       "0.9999383359103238"
      ]
     },
     "execution_count": 83,
     "metadata": {},
     "output_type": "execute_result"
    }
   ],
   "source": [
    "adaptive_quad(0, math.pi/2, math.cos, rectangle_method, 0.0001, m=4)"
   ]
  },
  {
   "cell_type": "code",
   "execution_count": 84,
   "id": "a5e87e89-0016-4461-bda2-31feb92cc4cc",
   "metadata": {},
   "outputs": [
    {
     "data": {
      "text/plain": [
       "1.0000005166847064"
      ]
     },
     "execution_count": 84,
     "metadata": {},
     "output_type": "execute_result"
    }
   ],
   "source": [
    "adaptive_quad(0, math.pi/2, math.cos, simpson_method, 0.0001, m=4)"
   ]
  },
  {
   "cell_type": "markdown",
   "id": "f52ae2b4-1c1a-470b-8da1-05d8ca5c5c8f",
   "metadata": {},
   "source": [
    "## 4"
   ]
  },
  {
   "cell_type": "code",
   "execution_count": 85,
   "id": "21bf2eb7-9005-4999-a73f-dd88a6ff0599",
   "metadata": {},
   "outputs": [
    {
     "data": {
      "text/plain": [
       "1.0000000000000027"
      ]
     },
     "execution_count": 85,
     "metadata": {},
     "output_type": "execute_result"
    }
   ],
   "source": [
    "def romberg_method(a, b, f, n):\n",
    "    def h(k: int):\n",
    "        return (b - a) / (2**(k-1))\n",
    "    \n",
    "    @functools.cache\n",
    "    def R(i: int, j: int):\n",
    "        if i == 1 and j == 1:\n",
    "            return h(1)/2 * (f(a) + f(b))\n",
    "        elif j == 1:\n",
    "            return 1/2 * (\n",
    "                R(i-1, 1)\n",
    "                + h(i-1)*sum(\n",
    "                    f(a + (k - 1/2)*h(i-1))\n",
    "                    for k in range(1, 2**(i-2)+1)\n",
    "                )\n",
    "            )\n",
    "        else:\n",
    "            return (\n",
    "                (4**(j-1)*R(i, j-1) - R(i-1, j-1))\n",
    "                / (4**(j-1) - 1)\n",
    "            )\n",
    "\n",
    "    return R(n, n)\n",
    "\n",
    "romberg_method(0, math.pi/2, math.cos, 20)"
   ]
  },
  {
   "cell_type": "markdown",
   "id": "4e8ac225-a231-44cc-8834-8515e4ed7816",
   "metadata": {},
   "source": [
    "## 5"
   ]
  },
  {
   "cell_type": "code",
   "execution_count": 78,
   "id": "9bad2c1b-b917-4683-905e-062a73469efd",
   "metadata": {},
   "outputs": [
    {
     "data": {
      "text/plain": [
       "1.9999701192848807"
      ]
     },
     "execution_count": 78,
     "metadata": {},
     "output_type": "execute_result"
    }
   ],
   "source": [
    "def quadstep(f, a, b, eps, fa, fc, fb):\n",
    "    h = b-a\n",
    "    c = (a+b)/2\n",
    "    fd = f((a+c)/2)\n",
    "    fe = f((c+b)/2)\n",
    "    Q1 = h/6 * (fa + 4*fc + fb)\n",
    "    Q2 = h/12 * (fa + 4*fb + 2*fc + 4*fe + fb)\n",
    "    if abs(Q1 - Q2) < eps:\n",
    "        Q = Q2 + (Q2 - Q1) / 15\n",
    "    else:\n",
    "        Qa = quadstep(f, a, c, eps, fa, fd, fc)\n",
    "        Qb = quadstep(f, c, b, eps, fc, fe, fb)\n",
    "        Q = Qa + Qb\n",
    "    return Q\n",
    "    \n",
    "\n",
    "def adaquad(f, a, b, eps):\n",
    "    c = (a+b)/2\n",
    "    fa = f(a)\n",
    "    fb = f(b)\n",
    "    fc = f(c)\n",
    "    return quadstep(f, a, b, eps, fa, fc, fb)\n",
    "\n",
    "adaquad(math.sin, 0, math.pi, 0.001)"
   ]
  },
  {
   "cell_type": "markdown",
   "id": "f3a84b01-db90-4dc8-8e6e-9ae38bead063",
   "metadata": {},
   "source": [
    "# Probleme practice"
   ]
  },
  {
   "cell_type": "markdown",
   "id": "87f81ac5-ef10-4bf3-9c8c-3a94bb4e0f0e",
   "metadata": {},
   "source": [
    "## 2"
   ]
  },
  {
   "cell_type": "code",
   "execution_count": 92,
   "id": "24f13558-94ea-43f6-88ec-a2e368b6d1b6",
   "metadata": {},
   "outputs": [
    {
     "name": "stdout",
     "output_type": "stream",
     "text": [
      "15.166784148626101\n",
      "15.166784148626101\n",
      "14.99252700644484\n",
      "14.989976019600046\n"
     ]
    }
   ],
   "source": [
    "def f(x):\n",
    "    return math.e**(x**2)\n",
    "\n",
    "a = 1\n",
    "b = 2\n",
    "n = 10\n",
    "\n",
    "print(scipy.integrate.quad(f, a, b)[0])\n",
    "\n",
    "print(trapezoid_method(a, b, f, n))\n",
    "print(rectangle_method(a, b, f, n))\n",
    "print(simpson_method(a, b, f, n))"
   ]
  },
  {
   "cell_type": "code",
   "execution_count": null,
   "id": "c78d814b-b3ed-4074-affb-9cb41a2698e9",
   "metadata": {},
   "outputs": [],
   "source": []
  }
 ],
 "metadata": {
  "kernelspec": {
   "display_name": "Python 3 (ipykernel)",
   "language": "python",
   "name": "python3"
  },
  "language_info": {
   "codemirror_mode": {
    "name": "ipython",
    "version": 3
   },
   "file_extension": ".py",
   "mimetype": "text/x-python",
   "name": "python",
   "nbconvert_exporter": "python",
   "pygments_lexer": "ipython3",
   "version": "3.11.6"
  }
 },
 "nbformat": 4,
 "nbformat_minor": 5
}
