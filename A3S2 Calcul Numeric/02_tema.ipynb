{
 "cells": [
  {
   "cell_type": "code",
   "execution_count": 1,
   "id": "c4565eeb-5b81-4cd2-9652-fbba729945dc",
   "metadata": {},
   "outputs": [],
   "source": [
    "import math\n",
    "import numpy as np\n",
    "import mpmath"
   ]
  },
  {
   "cell_type": "markdown",
   "id": "ff86a77c-c05a-4769-b954-eafdb73bd287",
   "metadata": {},
   "source": [
    "# Problema 2"
   ]
  },
  {
   "cell_type": "markdown",
   "id": "73b0107b-5386-4d85-8f0b-0168cdc4a2f4",
   "metadata": {},
   "source": [
    "Pentru $x$ numar mare, eroarea creste foarte mult, si aproximarea nu mai este buna."
   ]
  },
  {
   "cell_type": "markdown",
   "id": "d218b312-7d81-45e9-b62e-673808de66d4",
   "metadata": {},
   "source": [
    "$$\n",
    "\\begin{aligned}\n",
    "\\sin{x}&=x-\\frac{x^3}{3!}+\\frac{x^5}{5!}-\\frac{x^7}{7!}-\\dots \\\\\n",
    "t_n&=(-1)^{n}\\frac{x^{2n+1}}{(2n+1)!} \\\\\n",
    "t_{n+1}&=(-1)\\frac{x^2}{(2n+2)(2n+3)}t_n \\\\\n",
    "\\end{aligned}\n",
    "$$"
   ]
  },
  {
   "cell_type": "code",
   "execution_count": 2,
   "id": "92dbd57f-4395-412e-a7b7-45c5f3e4d567",
   "metadata": {},
   "outputs": [
    {
     "name": "stdout",
     "output_type": "stream",
     "text": [
      "0.0\n",
      "0.0\n",
      "-1.2246467991473533e-15\n",
      "-0.0003048974510408005\n",
      "1.0\n",
      "1.0000000000000002\n"
     ]
    }
   ],
   "source": [
    "def taylor_sin_basic(x):\n",
    "    x = float(x)\n",
    "\n",
    "    r = 0\n",
    "    t = x\n",
    "    n = 1\n",
    "    while True:\n",
    "        r += t\n",
    "        \n",
    "        s = -1 * ((x*x) / ((2*n)*(2*n+1))) * t\n",
    "        if s == t:\n",
    "            break\n",
    "        t = s\n",
    "        n += 1\n",
    "    \n",
    "    return r\n",
    "\n",
    "\n",
    "def print_sin(x):\n",
    "    print(math.sin(x))\n",
    "    print(taylor_sin_basic(x))\n",
    "\n",
    "\n",
    "print_sin(0)\n",
    "print_sin(math.pi*10)\n",
    "print_sin(math.pi*(1/2))"
   ]
  },
  {
   "cell_type": "markdown",
   "id": "1f40d11d-74d9-424c-b5f8-9b704c289ed3",
   "metadata": {},
   "source": [
    "$$\n",
    "\\begin{aligned}\n",
    "\\cos{x}&=1-\\frac{x^2}{2!}+\\frac{x^4}{4!}-\\frac{x^6}{6!}+\\dots \\\\\n",
    "t_n&=(-1)^{n}\\frac{x^{2n}}{(2n)!} \\\\\n",
    "t_{n+1}&=(-1)\\frac{x^2}{(2n+1)(2n+2)}t_n \\\\\n",
    "\\end{aligned}\n",
    "$$"
   ]
  },
  {
   "cell_type": "code",
   "execution_count": 3,
   "id": "ffb74664-9f44-41e9-8948-d4fdf8940c65",
   "metadata": {},
   "outputs": [
    {
     "name": "stdout",
     "output_type": "stream",
     "text": [
      "1.0\n",
      "1.0\n",
      "1.0\n",
      "1.0001203373541816\n",
      "6.123233995736766e-17\n",
      "4.5907218229751464e-17\n"
     ]
    }
   ],
   "source": [
    "def taylor_cos_basic(x):\n",
    "    x = float(x)\n",
    "\n",
    "    r = 0\n",
    "    t = 1\n",
    "    n = 1\n",
    "    while True:\n",
    "        r += t\n",
    "        \n",
    "        s = -1 * ((x*x) / ((2*n-1)*(2*n))) * t\n",
    "        if s == t:\n",
    "            break\n",
    "        t = s\n",
    "        n += 1\n",
    "    \n",
    "    return r\n",
    "\n",
    "\n",
    "def print_cos(x):\n",
    "    print(math.cos(x))\n",
    "    print(taylor_cos_basic(x))\n",
    "\n",
    "\n",
    "print_cos(0)\n",
    "print_cos(math.pi*10)\n",
    "print_cos(math.pi*(1/2))"
   ]
  },
  {
   "cell_type": "markdown",
   "id": "1ca42813-59dc-4359-a0d2-74ff37436b58",
   "metadata": {},
   "source": [
    "---"
   ]
  },
  {
   "cell_type": "markdown",
   "id": "a4b8aa8e-b614-4821-a4f7-1403cfaf0559",
   "metadata": {},
   "source": [
    "Solutie propusa: facem ca $x$ sa fie intotdeauna in intervalul $[0,2\\pi)$.\n",
    "\n",
    "$$x'=x-\\left[\\frac{x}{2\\pi}\\right]\\cdot2\\pi$$"
   ]
  },
  {
   "cell_type": "code",
   "execution_count": 47,
   "id": "7d3c98bc-c11d-4f9f-a3ee-b6bc7f5baea1",
   "metadata": {},
   "outputs": [
    {
     "name": "stdout",
     "output_type": "stream",
     "text": [
      "0.0\n",
      "0.0\n",
      "-1.2246467991473533e-15\n",
      "0.0\n",
      "0.6900349619879262\n",
      "0.8414709848078965\n"
     ]
    }
   ],
   "source": [
    "def taylor_sin_better(x):\n",
    "    x = float(x)\n",
    "    x -= math.floor(x / math.tau) * math.tau\n",
    "    return taylor_sin_basic(x)\n",
    "\n",
    "\n",
    "def print_sin(x):\n",
    "    print(math.sin(x))\n",
    "    print(taylor_sin_better(x))\n",
    "\n",
    "\n",
    "print_sin(0)\n",
    "print_sin(math.pi*10)\n",
    "print_sin(math.pi*(10**15 + .25))"
   ]
  },
  {
   "cell_type": "code",
   "execution_count": 48,
   "id": "22d29f19-5fe6-4b7a-903f-9a065d04e5c5",
   "metadata": {},
   "outputs": [
    {
     "name": "stdout",
     "output_type": "stream",
     "text": [
      "1.0\n",
      "1.0\n",
      "1.0\n",
      "1.0\n"
     ]
    }
   ],
   "source": [
    "def taylor_cos_better(x):\n",
    "    x = float(x)\n",
    "    x -= math.floor(x / math.tau) * math.tau\n",
    "    return taylor_cos_basic(x)\n",
    "\n",
    "\n",
    "def print_cos(x):\n",
    "    print(math.cos(x))\n",
    "    print(taylor_cos_better(x))\n",
    "\n",
    "\n",
    "print_cos(0)\n",
    "print_cos(math.pi*10)"
   ]
  },
  {
   "cell_type": "markdown",
   "id": "e3520b3f-c47e-4f8c-b72c-f054463137e3",
   "metadata": {},
   "source": [
    "---"
   ]
  },
  {
   "cell_type": "markdown",
   "id": "f04ac16b-6b87-4501-8519-b527db9c4d34",
   "metadata": {},
   "source": [
    "Solutia cea mai buna: reducere la primul cadran cu 100% precizie."
   ]
  },
  {
   "cell_type": "code",
   "execution_count": 59,
   "id": "07ceb3cb-c967-4963-83e9-e924423215a4",
   "metadata": {},
   "outputs": [
    {
     "name": "stdout",
     "output_type": "stream",
     "text": [
      "0.7071067811865475\n",
      "0.7071083560724986\n",
      "0.7071067726056579\n"
     ]
    }
   ],
   "source": [
    "@mpmath.workprec(1144)\n",
    "def taylor_sin_best(x):\n",
    "    x = mpmath.mpf(x)\n",
    "    y = x * (2 / mpmath.pi)\n",
    "    k = mpmath.floor(y)\n",
    "    f = y - k\n",
    "    r = f * (mpmath.pi / 2)\n",
    "\n",
    "    r = float(r)\n",
    "    k = int(k) % 4\n",
    "    match k:\n",
    "        case 0:\n",
    "            return taylor_sin_basic(r)\n",
    "        case 1:\n",
    "            return taylor_cos_basic(r)\n",
    "        case 2:\n",
    "            return -taylor_sin_basic(r)\n",
    "        case 3:\n",
    "            return -taylor_cos_basic(r)\n",
    "        case _:\n",
    "            assert False\n",
    "\n",
    "\n",
    "print(math.sin(math.pi * .25))\n",
    "\n",
    "v = math.pi*(10**10 + .25)\n",
    "print(taylor_sin_better(v))\n",
    "print(taylor_sin_best(v))"
   ]
  },
  {
   "cell_type": "code",
   "execution_count": 61,
   "id": "873eac6b-fadd-4ed4-8037-d7b9fbf297ec",
   "metadata": {},
   "outputs": [
    {
     "name": "stdout",
     "output_type": "stream",
     "text": [
      "0.7071067811865476\n",
      "0.7071052062970886\n",
      "0.7071067897674369\n"
     ]
    }
   ],
   "source": [
    "@mpmath.workprec(1144)\n",
    "def taylor_cos_best(x):\n",
    "    x = mpmath.mpf(x)\n",
    "    y = x * (2 / mpmath.pi)\n",
    "    k = mpmath.floor(y)\n",
    "    f = y - k\n",
    "    r = f * (mpmath.pi / 2)\n",
    "\n",
    "    r = float(r)\n",
    "    k = int(k) % 4\n",
    "    match k:\n",
    "        case 0:\n",
    "            return taylor_cos_basic(r)\n",
    "        case 1:\n",
    "            return -taylor_sin_basic(r)\n",
    "        case 2:\n",
    "            return -taylor_cos_basic(r)\n",
    "        case 3:\n",
    "            return taylor_sin_basic(r)\n",
    "        case _:\n",
    "            assert False\n",
    "\n",
    "\n",
    "print(math.cos(math.pi * .25))\n",
    "\n",
    "v = math.pi*(10**10 + .25)\n",
    "print(taylor_cos_better(v))\n",
    "print(taylor_cos_best(v))"
   ]
  },
  {
   "cell_type": "markdown",
   "id": "f45db226-414f-42ed-a30c-994541313978",
   "metadata": {},
   "source": [
    "# Problema 3"
   ]
  },
  {
   "cell_type": "code",
   "execution_count": null,
   "id": "ca03d49d-ed9c-4845-8b85-59dc8cfb9c5c",
   "metadata": {},
   "outputs": [],
   "source": [
    "def make_pade(d_fn):\n",
    "    def fn(x, k, m):\n",
    "        def c(i):\n",
    "            if i < 0:\n",
    "                return 0\n",
    "            return d_fn(i) / math.factorial(i)\n",
    "    \n",
    "        mat = np.array([\n",
    "            [\n",
    "                c(m+i-j)\n",
    "                for j in range(k)\n",
    "            ]\n",
    "            for i in range(k)\n",
    "        ])\n",
    "        vec = np.array([\n",
    "            -c(m+i+1)\n",
    "            for i in range(k)\n",
    "        ])\n",
    "        b = np.linalg.solve(mat, vec)\n",
    "        b = np.concatenate([np.array([1]), b])\n",
    "        \n",
    "        a = []\n",
    "        for j in range(m+1):\n",
    "            ac = 0\n",
    "            for l in range(j+1):\n",
    "                ac += c(j-l)*b[l]\n",
    "            a.append(ac)\n",
    "        a = np.array(a)\n",
    "    \n",
    "        sol = (\n",
    "            np.sum(a * (x**np.arange(m+1)))\n",
    "            /\n",
    "            np.sum(b * (x**np.arange(k+1)))\n",
    "        )\n",
    "        return sol\n",
    "    return fn"
   ]
  },
  {
   "cell_type": "code",
   "execution_count": null,
   "id": "271ab8ff-89b5-4ca0-9f56-90c1ca685b19",
   "metadata": {},
   "outputs": [],
   "source": [
    "def sin_d_0(i):\n",
    "    match i%4:\n",
    "        case 0:\n",
    "            return 0\n",
    "        case 1:\n",
    "            return 1\n",
    "        case 2:\n",
    "            return 0\n",
    "        case 3:\n",
    "            return -1\n",
    "        case _:\n",
    "            assert False\n",
    "\n",
    "\n",
    "pade_sin = make_pade(sin_d_0)\n",
    "\n",
    "\n",
    "print(pade_sin(0, 2, 2))\n",
    "print(pade_sin(math.pi, 2, 2))\n",
    "print(pade_sin(math.pi, 10, 5))\n",
    "print(pade_sin(math.pi*10, 2, 2))\n",
    "print(pade_sin(math.pi*10, 10, 5))"
   ]
  },
  {
   "cell_type": "code",
   "execution_count": null,
   "id": "0ff4d6e4-f1ad-40b2-907c-c1ba567c0b7a",
   "metadata": {},
   "outputs": [],
   "source": [
    "def cos_d_0(i):\n",
    "    match i%4:\n",
    "        case 0:\n",
    "            return 1\n",
    "        case 1:\n",
    "            return 0\n",
    "        case 2:\n",
    "            return -1\n",
    "        case 3:\n",
    "            return 0\n",
    "        case _:\n",
    "            assert False\n",
    "\n",
    "\n",
    "pade_cos = make_pade(cos_d_0)\n",
    "\n",
    "\n",
    "print(pade_cos(0, 2, 2))\n",
    "print(pade_cos(math.pi, 2, 2))\n",
    "print(pade_cos(math.pi, 10, 5))\n",
    "print(pade_cos(math.pi*10, 2, 2))\n",
    "print(pade_cos(math.pi*10, 10, 5))"
   ]
  },
  {
   "cell_type": "code",
   "execution_count": null,
   "id": "0812223d-a2d7-4e53-8947-842bf6b24e71",
   "metadata": {},
   "outputs": [],
   "source": []
  }
 ],
 "metadata": {
  "kernelspec": {
   "display_name": "Python 3 (ipykernel)",
   "language": "python",
   "name": "python3"
  },
  "language_info": {
   "codemirror_mode": {
    "name": "ipython",
    "version": 3
   },
   "file_extension": ".py",
   "mimetype": "text/x-python",
   "name": "python",
   "nbconvert_exporter": "python",
   "pygments_lexer": "ipython3",
   "version": "3.11.6"
  }
 },
 "nbformat": 4,
 "nbformat_minor": 5
}
