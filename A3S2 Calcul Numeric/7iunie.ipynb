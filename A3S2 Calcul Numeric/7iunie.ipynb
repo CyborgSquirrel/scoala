{
 "cells": [
  {
   "cell_type": "code",
   "execution_count": 39,
   "id": "0dff8034",
   "metadata": {},
   "outputs": [],
   "source": [
    "%display latex"
   ]
  },
  {
   "cell_type": "code",
   "execution_count": 98,
   "id": "d24b57f4",
   "metadata": {},
   "outputs": [],
   "source": [
    "def newton_solve(f, p0, eps, max_iter=100, m=1):\n",
    "    fd = diff(f)\n",
    "    for i in range(max_iter):\n",
    "        p = p0 - m * f(p0) / fd(p0)\n",
    "        p = p.n()\n",
    "        if abs(p - p0) < eps:\n",
    "            print(f\"converged after {i} iterations\")\n",
    "            return p\n",
    "        p0 = p\n",
    "    raise RuntimeError(f\"could not find value with satisfactory precision after {max_iter} iterations\")"
   ]
  },
  {
   "cell_type": "code",
   "execution_count": 99,
   "id": "66e4b774",
   "metadata": {},
   "outputs": [],
   "source": [
    "def newton_solve_sys(f, v, eps, x0, max_iter=100, m=1):\n",
    "    J = jacobian(f, v)\n",
    "    for i in range(max_iter):\n",
    "        x = x0 - m * J(*x0) ** -1 * f(*x0)\n",
    "        x = x.n()\n",
    "        if abs(x - x0) < eps:\n",
    "            print(f\"converged after {i} iterations\")\n",
    "            return x\n",
    "        x0 = x\n",
    "    \n",
    "    raise RuntimeError(f\"could not find value with satisfactory precision after {max_iter} iterations\")"
   ]
  },
  {
   "cell_type": "code",
   "execution_count": 94,
   "id": "0d6baf03",
   "metadata": {},
   "outputs": [
    {
     "name": "stdout",
     "output_type": "stream",
     "text": [
      "converged after 30 iterations\n"
     ]
    },
    {
     "data": {
      "text/html": [
       "<html>\\(\\displaystyle 4.67982253441587 \\times 10^{-6}\\)</html>"
      ],
      "text/latex": [
       "$\\displaystyle 4.67982253441587 \\times 10^{-6}$"
      ],
      "text/plain": [
       "4.67982253441587e-6"
      ]
     },
     "execution_count": 94,
     "metadata": {},
     "output_type": "execute_result"
    }
   ],
   "source": [
    "x = var(\"x\")\n",
    "f = (x**2 / 2 + x + 1 - e**x).function(x)\n",
    "x0 = 1\n",
    "sol = newton_solve_sys(vector([f]), vector([x]), 10**-10, vector([x0]))[0]\n",
    "sol"
   ]
  },
  {
   "cell_type": "code",
   "execution_count": 95,
   "id": "b9330325",
   "metadata": {},
   "outputs": [
    {
     "data": {
      "text/html": [
       "<html>\\(\\displaystyle x \\ {\\mapsto}\\ x - \\frac{x^{2} + 2 \\, x - 2 \\, e^{x} + 2}{2 \\, {\\left(x - e^{x} + 1\\right)}}\\)</html>"
      ],
      "text/latex": [
       "$\\displaystyle x \\ {\\mapsto}\\ x - \\frac{x^{2} + 2 \\, x - 2 \\, e^{x} + 2}{2 \\, {\\left(x - e^{x} + 1\\right)}}$"
      ],
      "text/plain": [
       "x |--> x - 1/2*(x^2 + 2*x - 2*e^x + 2)/(x - e^x + 1)"
      ]
     },
     "metadata": {},
     "output_type": "display_data"
    },
    {
     "data": {
      "text/html": [
       "<html>\\(\\displaystyle -0.000000000000000\\)</html>"
      ],
      "text/latex": [
       "$\\displaystyle -0.000000000000000$"
      ],
      "text/plain": [
       "-0.000000000000000"
      ]
     },
     "metadata": {},
     "output_type": "display_data"
    }
   ],
   "source": [
    "alpha = var(\"alpha\")\n",
    "g = x - f / diff(f, x)\n",
    "# display(g)\n",
    "display(g)\n",
    "# display(ga.substitute(f(alpha) == 0))\n",
    "gd = diff(g, x)\n",
    "display(gd(sol))\n",
    "# display(fd)\n",
    "\n",
    "# plot(gd, (-100, 150))\n",
    "# plot(x**2 + 2*x - 2*e**x + 2, (-100, 100))\n",
    "\n",
    "# plot(x**2 + 2*x - 2*e**x + 2, (0, 100))"
   ]
  },
  {
   "cell_type": "markdown",
   "id": "67145790",
   "metadata": {},
   "source": [
    "inseamna ca probabil gradul de multiplicitate este >1 => convergenta liniara"
   ]
  },
  {
   "cell_type": "markdown",
   "id": "c7e3c8de",
   "metadata": {},
   "source": [
    "Algoritmul este mai rapid daca se cunoaste gradul de multiplicitate."
   ]
  },
  {
   "cell_type": "code",
   "execution_count": 97,
   "id": "23d06cea",
   "metadata": {},
   "outputs": [
    {
     "data": {
      "text/html": [
       "<html>\\(\\displaystyle x \\ {\\mapsto}\\ -\\frac{e^{x} - 1}{x - e^{x} + 1} - \\frac{{\\left(x^{2} + 2 \\, x - 2 \\, e^{x} + 2\\right)} {\\left(e^{x} - 1\\right)}^{2}}{{\\left(x - e^{x} + 1\\right)}^{3}} - \\frac{{\\left(x^{2} + 2 \\, x - 2 \\, e^{x} + 2\\right)} e^{x}}{2 \\, {\\left(x - e^{x} + 1\\right)}^{2}}\\)</html>"
      ],
      "text/latex": [
       "$\\displaystyle x \\ {\\mapsto}\\ -\\frac{e^{x} - 1}{x - e^{x} + 1} - \\frac{{\\left(x^{2} + 2 \\, x - 2 \\, e^{x} + 2\\right)} {\\left(e^{x} - 1\\right)}^{2}}{{\\left(x - e^{x} + 1\\right)}^{3}} - \\frac{{\\left(x^{2} + 2 \\, x - 2 \\, e^{x} + 2\\right)} e^{x}}{2 \\, {\\left(x - e^{x} + 1\\right)}^{2}}$"
      ],
      "text/plain": [
       "x |--> -(e^x - 1)/(x - e^x + 1) - (x^2 + 2*x - 2*e^x + 2)*(e^x - 1)^2/(x - e^x + 1)^3 - 1/2*(x^2 + 2*x - 2*e^x + 2)*e^x/(x - e^x + 1)^2"
      ]
     },
     "metadata": {},
     "output_type": "display_data"
    },
    {
     "data": {
      "text/html": [
       "<html>\\(\\displaystyle 427368.325452186\\)</html>"
      ],
      "text/latex": [
       "$\\displaystyle 427368.325452186$"
      ],
      "text/plain": [
       "427368.325452186"
      ]
     },
     "metadata": {},
     "output_type": "display_data"
    }
   ],
   "source": [
    "gdd = diff(gd, x)\n",
    "display(gdd)\n",
    "display(gdd(sol))"
   ]
  },
  {
   "cell_type": "markdown",
   "id": "1d7090d3",
   "metadata": {},
   "source": [
    "Presupunem ca gradul de multiplicitate m=2"
   ]
  },
  {
   "cell_type": "code",
   "execution_count": 100,
   "id": "c72beb34",
   "metadata": {},
   "outputs": [
    {
     "name": "stdout",
     "output_type": "stream",
     "text": [
      "converged after 19 iterations\n"
     ]
    },
    {
     "data": {
      "text/html": [
       "<html>\\(\\displaystyle 7.54896292367307 \\times 10^{-6}\\)</html>"
      ],
      "text/latex": [
       "$\\displaystyle 7.54896292367307 \\times 10^{-6}$"
      ],
      "text/plain": [
       "7.54896292367307e-6"
      ]
     },
     "execution_count": 100,
     "metadata": {},
     "output_type": "execute_result"
    }
   ],
   "source": [
    "sol = newton_solve_sys(vector([f]), vector([x]), 10**-10, vector([x0]), m=2)[0]\n",
    "sol"
   ]
  },
  {
   "cell_type": "markdown",
   "id": "50ec9dda",
   "metadata": {},
   "source": [
    "# Asta e gresit cred"
   ]
  },
  {
   "cell_type": "code",
   "execution_count": 60,
   "id": "5f04ee6e",
   "metadata": {},
   "outputs": [
    {
     "data": {
      "text/html": [
       "<html>\\(\\displaystyle \\left[x = 0\\right]\\)</html>"
      ],
      "text/latex": [
       "$\\displaystyle \\left[x = 0\\right]$"
      ],
      "text/plain": [
       "[x == 0]"
      ]
     },
     "execution_count": 60,
     "metadata": {},
     "output_type": "execute_result"
    }
   ],
   "source": [
    "solve(e**x-1 == 0, x)"
   ]
  },
  {
   "cell_type": "code",
   "execution_count": 73,
   "id": "1ffb2e6e",
   "metadata": {},
   "outputs": [
    {
     "data": {
      "text/html": [
       "<html>\\(\\displaystyle x \\ {\\mapsto}\\ x^{2} + 2 \\, x - 2 \\, e^{x} + 2\\)</html>"
      ],
      "text/latex": [
       "$\\displaystyle x \\ {\\mapsto}\\ x^{2} + 2 \\, x - 2 \\, e^{x} + 2$"
      ],
      "text/plain": [
       "x |--> x^2 + 2*x - 2*e^x + 2"
      ]
     },
     "execution_count": 73,
     "metadata": {},
     "output_type": "execute_result"
    }
   ],
   "source": [
    "q = (x**2 + 2*x + 2 - 2*e**x).function(x)\n",
    "q"
   ]
  },
  {
   "cell_type": "code",
   "execution_count": 88,
   "id": "6d2b5914",
   "metadata": {},
   "outputs": [
    {
     "data": {
      "text/html": [
       "<html>\\(\\displaystyle x \\ {\\mapsto}\\ x^{2} + 2 \\, x - 2 \\, e^{x} + 2\\)</html>"
      ],
      "text/latex": [
       "$\\displaystyle x \\ {\\mapsto}\\ x^{2} + 2 \\, x - 2 \\, e^{x} + 2$"
      ],
      "text/plain": [
       "x |--> x^2 + 2*x - 2*e^x + 2"
      ]
     },
     "metadata": {},
     "output_type": "display_data"
    },
    {
     "data": {
      "text/html": [
       "<html>\\(\\displaystyle x \\ {\\mapsto}\\ 2 \\, x - 2 \\, e^{x} + 2\\)</html>"
      ],
      "text/latex": [
       "$\\displaystyle x \\ {\\mapsto}\\ 2 \\, x - 2 \\, e^{x} + 2$"
      ],
      "text/plain": [
       "x |--> 2*x - 2*e^x + 2"
      ]
     },
     "metadata": {},
     "output_type": "display_data"
    },
    {
     "data": {
      "text/html": [
       "<html>\\(\\displaystyle x \\ {\\mapsto}\\ -2 \\, e^{x} + 2\\)</html>"
      ],
      "text/latex": [
       "$\\displaystyle x \\ {\\mapsto}\\ -2 \\, e^{x} + 2$"
      ],
      "text/plain": [
       "x |--> -2*e^x + 2"
      ]
     },
     "metadata": {},
     "output_type": "display_data"
    },
    {
     "data": {
      "text/html": [
       "<html>\\(\\displaystyle \\left[x = 0\\right]\\)</html>"
      ],
      "text/latex": [
       "$\\displaystyle \\left[x = 0\\right]$"
      ],
      "text/plain": [
       "[x == 0]"
      ]
     },
     "metadata": {},
     "output_type": "display_data"
    },
    {
     "data": {
      "image/png": "[encoded data removed]",
      "text/plain": [
       "Graphics object consisting of 1 graphics primitive"
      ]
     },
     "metadata": {},
     "output_type": "display_data"
    },
    {
     "data": {
      "image/png": "[encoded data removed]",
      "text/plain": [
       "Graphics object consisting of 1 graphics primitive"
      ]
     },
     "metadata": {},
     "output_type": "display_data"
    },
    {
     "data": {
      "image/png": "[encoded data removed]",
      "text/plain": [
       "Graphics object consisting of 1 graphics primitive"
      ]
     },
     "metadata": {},
     "output_type": "display_data"
    },
    {
     "data": {
      "text/html": [
       "<html>\\(\\displaystyle 0\\)</html>"
      ],
      "text/latex": [
       "$\\displaystyle 0$"
      ],
      "text/plain": [
       "0"
      ]
     },
     "metadata": {},
     "output_type": "display_data"
    }
   ],
   "source": [
    "display(q)\n",
    "qd = diff(q, x)\n",
    "display(qd)\n",
    "qdd = diff(qd, x)\n",
    "display(qdd)\n",
    "\n",
    "qdd0 = solve(qdd == 0, x)\n",
    "display(qdd0)\n",
    "plot(qdd, (-1, 1)).show()\n",
    "# x < 0 => qd desc\n",
    "# x > 0 => qd cresc\n",
    "\n",
    "\n",
    "plot(qd, (-1, 1)).show()\n",
    "\n",
    "# qd(x) = 0 => x=0\n",
    "# x < 0 => q cresc\n",
    "# x > 0 => q desc\n",
    "\n",
    "plot(q, (-1, 1)).show()\n",
    "display(q(0))\n",
    "\n",
    "# =>\n",
    "# x < 0 => q(x) > 0\n",
    "# x > 0 => q(x) < 0"
   ]
  },
  {
   "cell_type": "code",
   "execution_count": null,
   "id": "5f6ffefe",
   "metadata": {},
   "outputs": [],
   "source": []
  }
 ],
 "metadata": {
  "kernelspec": {
   "display_name": "SageMath 10.0",
   "language": "sagemath",
   "name": "sagemath"
  },
  "language_info": {
   "codemirror_mode": {
    "name": "ipython",
    "version": 3
   },
   "file_extension": ".py",
   "mimetype": "text/x-python",
   "name": "python",
   "nbconvert_exporter": "python",
   "pygments_lexer": "ipython3",
   "version": "3.11.6"
  }
 },
 "nbformat": 4,
 "nbformat_minor": 5
}
