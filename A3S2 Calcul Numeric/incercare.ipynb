{
 "cells": [
  {
   "cell_type": "code",
   "execution_count": 1,
   "id": "36591774",
   "metadata": {},
   "outputs": [],
   "source": [
    "import itertools\n",
    "import numpy as np\n",
    "import functools"
   ]
  },
  {
   "cell_type": "code",
   "execution_count": 2,
   "id": "565c0a18",
   "metadata": {},
   "outputs": [],
   "source": [
    "%display latex"
   ]
  },
  {
   "cell_type": "code",
   "execution_count": 3,
   "id": "01f8705c",
   "metadata": {},
   "outputs": [],
   "source": [
    "def same(*args):\n",
    "    for arg in args:\n",
    "        assert args[0] == arg\n",
    "    return args[0]"
   ]
  },
  {
   "cell_type": "code",
   "execution_count": 4,
   "id": "3a2d2e69",
   "metadata": {},
   "outputs": [],
   "source": [
    "class GaussQuad:\n",
    "    def __init__(self, alphas, betas, wf):\n",
    "        self.n = same(len(alphas), len(betas))\n",
    "        \n",
    "        self.wf = wf\n",
    "    \n",
    "        J = np.zeros((self.n, self.n))\n",
    "        for k, alpha, beta in zip(range(self.n), alphas, betas):\n",
    "            J[k, k] = alpha\n",
    "            if k-1 >= 0:\n",
    "                J[k-1, k] = sqrt(beta)\n",
    "                J[k, k-1] = sqrt(beta)\n",
    "\n",
    "        x = var(\"x\")\n",
    "        polys = [0, 1]\n",
    "        for k, alpha, beta in zip(itertools.count(2), alphas, betas):\n",
    "            poly = (x - alpha)*polys[k-1] - beta*polys[k-2]\n",
    "            polys.append(poly)\n",
    "        self.poly = polys[-1]\n",
    "        self.poly = self.poly.full_simplify()\n",
    "        \n",
    "        # Eigenvectors are returned in normalized form.\n",
    "        # eig.eigenvectors[vector_dimension,vector]\n",
    "        eig = np.linalg.eig(J)\n",
    "        eig_val = eig.eigenvalues\n",
    "        eig_vec = eig.eigenvectors.T\n",
    "\n",
    "        self.x = eig_val.tolist()\n",
    "        v = eig_vec.tolist()\n",
    "\n",
    "        self.w = []\n",
    "        for k in range(self.n):\n",
    "            self.w.append(betas[0]*v[k][0]**2)\n",
    "    \n",
    "    @property\n",
    "    def sx(self):\n",
    "        return var(\"x\")\n",
    "    \n",
    "    @property\n",
    "    def sf(self):\n",
    "        return function(\"f\")\n",
    "    \n",
    "    @functools.cached_property\n",
    "    def quad(self):\n",
    "        quad = 0\n",
    "        for xv, wv in zip(self.x, self.w):\n",
    "            quad += wv*(self.sf)(xv)\n",
    "        return quad\n",
    "    \n",
    "    @functools.cached_property\n",
    "    def poly_norm(self):\n",
    "        coef = max(self.poly.coefficients(), key=lambda a: a[1])[0]\n",
    "        poly = self.poly / coef\n",
    "        return poly\n",
    "        \n",
    "    @property\n",
    "    def rest(self):\n",
    "        a = var(\"a\")\n",
    "        b = var(\"b\")\n",
    "        \n",
    "        with assuming(a < b):\n",
    "            rest = (\n",
    "                diff((self.sf)(self.sx), self.sx, 2*self.n)\n",
    "                / factorial(2*self.n)\n",
    "                * integral(self.wf(self.sx)*self.poly_norm**2, self.sx, a, b)\n",
    "            )\n",
    "        return rest"
   ]
  },
  {
   "cell_type": "code",
   "execution_count": 5,
   "id": "4bad96b7",
   "metadata": {},
   "outputs": [],
   "source": [
    "def jacobi_values(n, alpha, beta):\n",
    "    alphas = []\n",
    "    betas = []\n",
    "    \n",
    "    for k in range(n):\n",
    "        alphas.append(\n",
    "            (beta**2 - alpha**2)\n",
    "            / ((2*k + alpha + beta) * (2*k + alpha + beta + 2))\n",
    "        )\n",
    "        \n",
    "        if k == 0:\n",
    "            betas.append(\n",
    "                2**(alpha + beta + 1)\n",
    "                * (\n",
    "                    (gamma(alpha + 1)*gamma(beta + 1))\n",
    "                    / (gamma(alpha + beta + 2))\n",
    "                )\n",
    "            )\n",
    "        elif k == 1:\n",
    "            betas.append(\n",
    "                (\n",
    "                    4\n",
    "                    * (1 + alpha)\n",
    "                    * (1 + beta)\n",
    "                )\n",
    "                / (\n",
    "                    (2 + alpha + beta)**2\n",
    "                    * (3 + alpha + beta)\n",
    "                )\n",
    "            )\n",
    "        else:\n",
    "            betas.append(\n",
    "                (\n",
    "                    4*k\n",
    "                    * (k + alpha)\n",
    "                    * (k + alpha + beta)\n",
    "                    * (k + beta)\n",
    "                )\n",
    "                / (\n",
    "                    (2*k + alpha + beta - 1)\n",
    "                    * (2*k + alpha + beta)**2\n",
    "                    * (2*k + alpha + beta + 1)\n",
    "                )\n",
    "            )\n",
    "    \n",
    "    w = function(\"w\")\n",
    "    x = var(\"x\")\n",
    "    w(x) = (1-x)**alpha * (1+x)**beta\n",
    "    \n",
    "    return alphas, betas, w"
   ]
  },
  {
   "cell_type": "code",
   "execution_count": 6,
   "id": "129d1590",
   "metadata": {},
   "outputs": [],
   "source": [
    "def secant_solve(f, p0, p1, eps, max_iter=100):\n",
    "    q0 = f(p0).n()\n",
    "    q1 = f(p1).n()\n",
    "    for i in range(max_iter):\n",
    "        p = p1 - (q1 * (p1 - p0)) / (q1 - q0)\n",
    "        p = p.n()\n",
    "        if abs(p - p1) < eps:\n",
    "            return p\n",
    "        p0, q0 = p1, q1\n",
    "        p1, q1 = p, f(p).n()\n",
    "    raise RuntimeError(f\"could not find value with satisfactory precision after {max_iter} iterations\")"
   ]
  },
  {
   "cell_type": "markdown",
   "id": "9864dc98",
   "metadata": {},
   "source": [
    "# Solution"
   ]
  },
  {
   "cell_type": "code",
   "execution_count": 35,
   "id": "94807f8a",
   "metadata": {},
   "outputs": [
    {
     "data": {
      "text/html": [
       "<html>\\(\\displaystyle 0.308443779789907\\)</html>"
      ],
      "text/latex": [
       "$\\displaystyle 0.308443779789907$"
      ],
      "text/plain": [
       "0.308443779789907"
      ]
     },
     "metadata": {},
     "output_type": "display_data"
    },
    {
     "data": {
      "text/html": [
       "<html>\\(\\displaystyle 8.12572498003206 \\times 10^{-10}\\)</html>"
      ],
      "text/latex": [
       "$\\displaystyle 8.12572498003206 \\times 10^{-10}$"
      ],
      "text/plain": [
       "8.12572498003206e-10"
      ]
     },
     "metadata": {},
     "output_type": "display_data"
    }
   ],
   "source": [
    "def the_f(alpha):\n",
    "    x = var(\"x\")\n",
    "    fv = function(\"f\")\n",
    "    fv(x) = (3*pi/4)**(1-alpha) * cos(3*pi/4 * x + 3*pi/4)\n",
    "\n",
    "    gq = GaussQuad(*jacobi_values(10, 0, -alpha))\n",
    "    return gq.quad.substitute_function(gq.sf, fv)\n",
    "\n",
    "alpha = secant_solve(the_f, 0.1, 0.9, 0.00001)\n",
    "display(alpha)\n",
    "display(the_f(alpha).n())"
   ]
  },
  {
   "cell_type": "code",
   "execution_count": 36,
   "id": "5d82d9f7",
   "metadata": {},
   "outputs": [],
   "source": [
    "def lup_decomp(A):\n",
    "    assert len(A.shape) == 2\n",
    "    assert A.shape[0] == A.shape[1]\n",
    "    n = A.shape[0]\n",
    "    A = A.copy()\n",
    "    \n",
    "    P = np.eye(n)\n",
    "    \n",
    "    for k in range(n-1):\n",
    "        i = k + np.argmax(np.abs(A[k:, k]))\n",
    "        if i != k:\n",
    "            A[[i, k]] = A[[k, i]]\n",
    "            P[[i, k]] = P[[k, i]]\n",
    "        \n",
    "        lin = np.s_[k+1:n]\n",
    "        \n",
    "        A[lin, k] /= A[k, k]\n",
    "        A[lin, lin] -= np.matmul(A[lin, [k]], A[[k], lin])\n",
    "    \n",
    "    L = np.tril(A)\n",
    "    np.fill_diagonal(L, 1)\n",
    "    \n",
    "    U = np.triu(A)\n",
    "\n",
    "    return L, U, P\n",
    "\n",
    "\n",
    "def lup_solve(A, b):\n",
    "    assert len(A.shape) == 2\n",
    "    assert A.shape[0] == A.shape[1]\n",
    "    n = A.shape[0]\n",
    "    \n",
    "    L, U, P = lup_decomp(A)\n",
    "    \n",
    "    Pb = np.matmul(P, b)\n",
    "    \n",
    "    y = np.zeros(n)\n",
    "    for i in range(n):\n",
    "        y[i] = (Pb[i, 0] - np.sum(L[i, :i] * y[:i])) / L[i, i]\n",
    "    y = y.reshape(-1, 1)\n",
    "    \n",
    "    x = np.zeros(n)\n",
    "    for i in range(n-1, -1, -1):\n",
    "        x[i] = (y[i, 0] - np.sum(U[i, i:] * x[i:])) / U[i, i]\n",
    "    x = x.reshape(-1, 1)\n",
    "\n",
    "    return x"
   ]
  },
  {
   "cell_type": "code",
   "execution_count": 61,
   "id": "ee461033",
   "metadata": {},
   "outputs": [
    {
     "data": {
      "text/html": [
       "<html>\\(\\displaystyle \\left[a_{0} = f\\left(0\\right), a_{1} = -\\mathrm{D}_{0}\\left(f\\right)\\left(2\\right) + 2 \\, \\mathrm{D}_{0}\\left(f\\right)\\left(1\\right), a_{2} = \\frac{1}{2} \\, \\mathrm{D}_{0}\\left(f\\right)\\left(2\\right) - \\frac{1}{2} \\, \\mathrm{D}_{0}\\left(f\\right)\\left(1\\right)\\right]\\)</html>"
      ],
      "text/latex": [
       "$\\displaystyle \\left[a_{0} = f\\left(0\\right), a_{1} = -\\mathrm{D}_{0}\\left(f\\right)\\left(2\\right) + 2 \\, \\mathrm{D}_{0}\\left(f\\right)\\left(1\\right), a_{2} = \\frac{1}{2} \\, \\mathrm{D}_{0}\\left(f\\right)\\left(2\\right) - \\frac{1}{2} \\, \\mathrm{D}_{0}\\left(f\\right)\\left(1\\right)\\right]$"
      ],
      "text/plain": [
       "[a_0 == f(0),\n",
       " a_1 == -D[0](f)(2) + 2*D[0](f)(1),\n",
       " a_2 == 1/2*D[0](f)(2) - 1/2*D[0](f)(1)]"
      ]
     },
     "metadata": {},
     "output_type": "display_data"
    },
    {
     "data": {
      "text/html": [
       "<html>\\(\\displaystyle a_{2} x^{2} + a_{1} x + a_{0}\\)</html>"
      ],
      "text/latex": [
       "$\\displaystyle a_{2} x^{2} + a_{1} x + a_{0}$"
      ],
      "text/plain": [
       "a_2*x^2 + a_1*x + a_0"
      ]
     },
     "metadata": {},
     "output_type": "display_data"
    },
    {
     "data": {
      "text/html": [
       "<html>\\(\\displaystyle \\frac{1}{2} \\, x^{2} {\\left(\\mathrm{D}_{0}\\left(f\\right)\\left(2\\right) - \\mathrm{D}_{0}\\left(f\\right)\\left(1\\right)\\right)} - x {\\left(\\mathrm{D}_{0}\\left(f\\right)\\left(2\\right) - 2 \\, \\mathrm{D}_{0}\\left(f\\right)\\left(1\\right)\\right)} + f\\left(0\\right)\\)</html>"
      ],
      "text/latex": [
       "$\\displaystyle \\frac{1}{2} \\, x^{2} {\\left(\\mathrm{D}_{0}\\left(f\\right)\\left(2\\right) - \\mathrm{D}_{0}\\left(f\\right)\\left(1\\right)\\right)} - x {\\left(\\mathrm{D}_{0}\\left(f\\right)\\left(2\\right) - 2 \\, \\mathrm{D}_{0}\\left(f\\right)\\left(1\\right)\\right)} + f\\left(0\\right)$"
      ],
      "text/plain": [
       "1/2*x^2*(D[0](f)(2) - D[0](f)(1)) - x*(D[0](f)(2) - 2*D[0](f)(1)) + f(0)"
      ]
     },
     "metadata": {},
     "output_type": "display_data"
    }
   ],
   "source": [
    "x0, x1, x2 = 0, 1, 2\n",
    "a0, a1, a2 = var(\"a_0 a_1 a_2\")\n",
    "f = function(\"f\")\n",
    "\n",
    "x = var(\"x\")\n",
    "poly = a0 + a1*x + a2*x**2\n",
    "\n",
    "sol = solve([\n",
    "    a0*x0**0 + a1*x0**1 + a2*x0**2 == f(x0),\n",
    "    a1 + a2*2*x1**1 == diff(f(x))(x=x1),\n",
    "    a1 + a2*2*x2**1 == diff(f(x))(x=x2),\n",
    "], [a0, a1, a2])[0]\n",
    "display(sol)\n",
    "\n",
    "display(poly)\n",
    "display(poly.substitute(sol))"
   ]
  },
  {
   "cell_type": "code",
   "execution_count": 62,
   "id": "d24115ac",
   "metadata": {},
   "outputs": [],
   "source": [
    "def newton_solve(f, p0, eps, max_iter=100):\n",
    "    fd = diff(f)\n",
    "    for _ in range(max_iter):\n",
    "        p = p0 - f(p0) / fd(p0)\n",
    "        p = p.n()\n",
    "        if abs(p - p0) < eps:\n",
    "            return p\n",
    "        p0 = p\n",
    "    raise RuntimeError(f\"could not find value with satisfactory precision after {max_iter} iterations\")"
   ]
  },
  {
   "cell_type": "markdown",
   "id": "4c8ea7af",
   "metadata": {},
   "source": [
    "---"
   ]
  },
  {
   "cell_type": "code",
   "execution_count": null,
   "id": "1adaddfb",
   "metadata": {},
   "outputs": [],
   "source": [
    "class SpecialGaussQuad:\n",
    "    def __init__(self, alphas, betas, wf):\n",
    "        self.n = same(len(alphas), len(betas))\n",
    "        \n",
    "        self.wf = wf\n",
    "    \n",
    "        J = np.zeros((self.n, self.n))\n",
    "        for k, alpha, beta in zip(range(self.n), alphas, betas):\n",
    "            J[k, k] = alpha\n",
    "            if k-1 >= 0:\n",
    "                J[k-1, k] = sqrt(beta)\n",
    "                J[k, k-1] = sqrt(beta)\n",
    "\n",
    "        x = var(\"x\")\n",
    "        polys = [0, 1]\n",
    "        for k, alpha, beta in zip(itertools.count(2), alphas, betas):\n",
    "            poly = (x - alpha)*polys[k-1] - beta*polys[k-2]\n",
    "            polys.append(poly)\n",
    "        self.poly = polys[-1]\n",
    "        self.poly = self.poly.full_simplify()\n",
    "        \n",
    "        # Eigenvectors are returned in normalized form.\n",
    "        # eig.eigenvectors[vector_dimension,vector]\n",
    "        eig = np.linalg.eig(J)\n",
    "        eig_val = eig.eigenvalues\n",
    "        eig_vec = eig.eigenvectors.T\n",
    "\n",
    "        self.x = eig_val.tolist()\n",
    "        v = eig_vec.tolist()\n",
    "\n",
    "        self.w = []\n",
    "        for k in range(self.n):\n",
    "            self.w.append(betas[0]*v[k][0]**2)\n",
    "    \n",
    "    @property\n",
    "    def sx(self):\n",
    "        return var(\"x\")\n",
    "    \n",
    "    @property\n",
    "    def sf(self):\n",
    "        return function(\"f\")\n",
    "    \n",
    "    @functools.cached_property\n",
    "    def quad(self):\n",
    "        quad = 0\n",
    "        for xv, wv in zip(self.x, self.w):\n",
    "            quad += wv*(self.sf)(xv)\n",
    "        return quad\n",
    "    \n",
    "    @functools.cached_property\n",
    "    def poly_norm(self):\n",
    "        coef = max(self.poly.coefficients(), key=lambda a: a[1])[0]\n",
    "        poly = self.poly / coef\n",
    "        return poly\n",
    "        \n",
    "    @property\n",
    "    def rest(self):\n",
    "        a = var(\"a\")\n",
    "        b = var(\"b\")\n",
    "        \n",
    "        with assuming(a < b):\n",
    "            rest = (\n",
    "                diff((self.sf)(self.sx), self.sx, 2*self.n)\n",
    "                / factorial(2*self.n)\n",
    "                * integral(self.wf(self.sx)*self.poly_norm**2, self.sx, a, b)\n",
    "            )\n",
    "        return rest"
   ]
  },
  {
   "cell_type": "markdown",
   "id": "9a82f286",
   "metadata": {},
   "source": [
    "---"
   ]
  },
  {
   "cell_type": "code",
   "execution_count": 84,
   "id": "96b3b5ee",
   "metadata": {},
   "outputs": [
    {
     "data": {
      "text/html": [
       "<html>\\(\\displaystyle x \\ {\\mapsto}\\ x - \\frac{{\\left(f\\left(x\\right) + 1\\right)} f\\left(x\\right)}{\\frac{\\partial}{\\partial x}f\\left(x\\right)}\\)</html>"
      ],
      "text/latex": [
       "$\\displaystyle x \\ {\\mapsto}\\ x - \\frac{{\\left(f\\left(x\\right) + 1\\right)} f\\left(x\\right)}{\\frac{\\partial}{\\partial x}f\\left(x\\right)}$"
      ],
      "text/plain": [
       "x |--> x - (f(x) + 1)*f(x)/diff(f(x), x)"
      ]
     },
     "metadata": {},
     "output_type": "display_data"
    }
   ],
   "source": [
    "x = var(\"x\")\n",
    "f = function(\"f\")\n",
    "phi = function(\"phi\")\n",
    "phi(x) = x - f(x) / diff(f(x), x) * (1 + f(x))\n",
    "display(phi)"
   ]
  },
  {
   "cell_type": "code",
   "execution_count": 66,
   "id": "844c8767",
   "metadata": {},
   "outputs": [
    {
     "data": {
      "text/html": [
       "<html>\\(\\displaystyle \\alpha\\)</html>"
      ],
      "text/latex": [
       "$\\displaystyle \\alpha$"
      ],
      "text/plain": [
       "alpha"
      ]
     },
     "execution_count": 66,
     "metadata": {},
     "output_type": "execute_result"
    }
   ],
   "source": [
    "alpha = var(\"alpha\")\n",
    "phi(alpha).substitute(f(alpha) == 0)"
   ]
  },
  {
   "cell_type": "code",
   "execution_count": 70,
   "id": "d2ca0835",
   "metadata": {},
   "outputs": [
    {
     "data": {
      "text/html": [
       "<html>\\(\\displaystyle 0\\)</html>"
      ],
      "text/latex": [
       "$\\displaystyle 0$"
      ],
      "text/plain": [
       "0"
      ]
     },
     "execution_count": 70,
     "metadata": {},
     "output_type": "execute_result"
    }
   ],
   "source": [
    "diff(phi(alpha), alpha).substitute(f(alpha) == 0)"
   ]
  },
  {
   "cell_type": "code",
   "execution_count": 76,
   "id": "95df5243",
   "metadata": {},
   "outputs": [
    {
     "data": {
      "text/html": [
       "<html>\\(\\displaystyle \\frac{\\frac{\\partial^{2}}{(\\partial \\alpha)^{2}}f\\left(\\alpha\\right)}{\\frac{\\partial}{\\partial \\alpha}f\\left(\\alpha\\right)} - 2 \\, \\frac{\\partial}{\\partial \\alpha}f\\left(\\alpha\\right)\\)</html>"
      ],
      "text/latex": [
       "$\\displaystyle \\frac{\\frac{\\partial^{2}}{(\\partial \\alpha)^{2}}f\\left(\\alpha\\right)}{\\frac{\\partial}{\\partial \\alpha}f\\left(\\alpha\\right)} - 2 \\, \\frac{\\partial}{\\partial \\alpha}f\\left(\\alpha\\right)$"
      ],
      "text/plain": [
       "diff(f(alpha), alpha, alpha)/diff(f(alpha), alpha) - 2*diff(f(alpha), alpha)"
      ]
     },
     "execution_count": 76,
     "metadata": {},
     "output_type": "execute_result"
    }
   ],
   "source": [
    "d2s = diff(phi(alpha), alpha, 2).substitute(f(alpha) == 0)\n",
    "d2s"
   ]
  },
  {
   "cell_type": "code",
   "execution_count": 78,
   "id": "56a8d2ad",
   "metadata": {},
   "outputs": [
    {
     "data": {
      "text/html": [
       "<html>\\(\\displaystyle \\frac{\\frac{\\partial^{2}}{(\\partial \\alpha)^{2}}f\\left(\\alpha\\right)}{2 \\, \\frac{\\partial}{\\partial \\alpha}f\\left(\\alpha\\right)} - \\frac{\\partial}{\\partial \\alpha}f\\left(\\alpha\\right)\\)</html>"
      ],
      "text/latex": [
       "$\\displaystyle \\frac{\\frac{\\partial^{2}}{(\\partial \\alpha)^{2}}f\\left(\\alpha\\right)}{2 \\, \\frac{\\partial}{\\partial \\alpha}f\\left(\\alpha\\right)} - \\frac{\\partial}{\\partial \\alpha}f\\left(\\alpha\\right)$"
      ],
      "text/plain": [
       "1/2*diff(f(alpha), alpha, alpha)/diff(f(alpha), alpha) - diff(f(alpha), alpha)"
      ]
     },
     "execution_count": 78,
     "metadata": {},
     "output_type": "execute_result"
    }
   ],
   "source": [
    "C = 1/factorial(2) * d2s\n",
    "C"
   ]
  },
  {
   "cell_type": "code",
   "execution_count": 85,
   "id": "91aa137e",
   "metadata": {},
   "outputs": [
    {
     "data": {
      "text/html": [
       "<html>\\(\\displaystyle x \\ {\\mapsto}\\ x^{2} - a\\)</html>"
      ],
      "text/latex": [
       "$\\displaystyle x \\ {\\mapsto}\\ x^{2} - a$"
      ],
      "text/plain": [
       "x |--> x^2 - a"
      ]
     },
     "execution_count": 85,
     "metadata": {},
     "output_type": "execute_result"
    }
   ],
   "source": [
    "a = var(\"a\")\n",
    "fv = function(\"f\")\n",
    "fv(x) = x**2-a\n",
    "fv"
   ]
  },
  {
   "cell_type": "code",
   "execution_count": 86,
   "id": "c114302d",
   "metadata": {},
   "outputs": [
    {
     "data": {
      "text/html": [
       "<html>\\(\\displaystyle -\\frac{{\\left(x^{2} - a + 1\\right)} {\\left(x^{2} - a\\right)}}{2 \\, x} + x\\)</html>"
      ],
      "text/latex": [
       "$\\displaystyle -\\frac{{\\left(x^{2} - a + 1\\right)} {\\left(x^{2} - a\\right)}}{2 \\, x} + x$"
      ],
      "text/plain": [
       "-1/2*(x^2 - a + 1)*(x^2 - a)/x + x"
      ]
     },
     "execution_count": 86,
     "metadata": {},
     "output_type": "execute_result"
    }
   ],
   "source": [
    "phi(x).substitute_function(f, fv)"
   ]
  },
  {
   "cell_type": "markdown",
   "id": "44508178",
   "metadata": {},
   "source": [
    "# Another"
   ]
  },
  {
   "cell_type": "code",
   "execution_count": null,
   "id": "09556259",
   "metadata": {},
   "outputs": [],
   "source": []
  }
 ],
 "metadata": {
  "kernelspec": {
   "display_name": "SageMath 10.0",
   "language": "sagemath",
   "name": "sagemath"
  },
  "language_info": {
   "codemirror_mode": {
    "name": "ipython",
    "version": 3
   },
   "file_extension": ".py",
   "mimetype": "text/x-python",
   "name": "python",
   "nbconvert_exporter": "python",
   "pygments_lexer": "ipython3",
   "version": "3.11.6"
  }
 },
 "nbformat": 4,
 "nbformat_minor": 5
}
