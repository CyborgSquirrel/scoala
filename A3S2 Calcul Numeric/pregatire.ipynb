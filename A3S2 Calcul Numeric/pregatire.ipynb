{
 "cells": [
  {
   "cell_type": "code",
   "execution_count": 1,
   "id": "d593ff7c",
   "metadata": {},
   "outputs": [],
   "source": [
    "%display latex"
   ]
  },
  {
   "cell_type": "code",
   "execution_count": 7,
   "id": "36254d36",
   "metadata": {},
   "outputs": [
    {
     "data": {
      "text/html": [
       "<html>\\(\\displaystyle a = -\\frac{\\mathrm{D}_{0}\\left(f\\right)\\left(-\\alpha\\right) - \\frac{\\partial}{\\partial \\alpha}f\\left(\\alpha\\right)}{4 \\, \\alpha}\\)</html>"
      ],
      "text/latex": [
       "$\\displaystyle a = -\\frac{\\mathrm{D}_{0}\\left(f\\right)\\left(-\\alpha\\right) - \\frac{\\partial}{\\partial \\alpha}f\\left(\\alpha\\right)}{4 \\, \\alpha}$"
      ],
      "text/plain": [
       "a == -1/4*(D[0](f)(-alpha) - diff(f(alpha), alpha))/alpha"
      ]
     },
     "metadata": {},
     "output_type": "display_data"
    },
    {
     "data": {
      "text/html": [
       "<html>\\(\\displaystyle b = \\frac{1}{2} \\, \\mathrm{D}_{0}\\left(f\\right)\\left(-\\alpha\\right) + \\frac{1}{2} \\, \\frac{\\partial}{\\partial \\alpha}f\\left(\\alpha\\right)\\)</html>"
      ],
      "text/latex": [
       "$\\displaystyle b = \\frac{1}{2} \\, \\mathrm{D}_{0}\\left(f\\right)\\left(-\\alpha\\right) + \\frac{1}{2} \\, \\frac{\\partial}{\\partial \\alpha}f\\left(\\alpha\\right)$"
      ],
      "text/plain": [
       "b == 1/2*D[0](f)(-alpha) + 1/2*diff(f(alpha), alpha)"
      ]
     },
     "metadata": {},
     "output_type": "display_data"
    },
    {
     "data": {
      "text/html": [
       "<html>\\(\\displaystyle c = f\\left(0\\right)\\)</html>"
      ],
      "text/latex": [
       "$\\displaystyle c = f\\left(0\\right)$"
      ],
      "text/plain": [
       "c == f(0)"
      ]
     },
     "metadata": {},
     "output_type": "display_data"
    },
    {
     "data": {
      "text/html": [
       "<html>\\(\\displaystyle x \\ {\\mapsto}\\ \\frac{1}{2} \\, x {\\left(\\mathrm{D}_{0}\\left(f\\right)\\left(-\\alpha\\right) + \\frac{\\partial}{\\partial \\alpha}f\\left(\\alpha\\right)\\right)} - \\frac{x^{2} {\\left(\\mathrm{D}_{0}\\left(f\\right)\\left(-\\alpha\\right) - \\frac{\\partial}{\\partial \\alpha}f\\left(\\alpha\\right)\\right)}}{4 \\, \\alpha} + f\\left(0\\right)\\)</html>"
      ],
      "text/latex": [
       "$\\displaystyle x \\ {\\mapsto}\\ \\frac{1}{2} \\, x {\\left(\\mathrm{D}_{0}\\left(f\\right)\\left(-\\alpha\\right) + \\frac{\\partial}{\\partial \\alpha}f\\left(\\alpha\\right)\\right)} - \\frac{x^{2} {\\left(\\mathrm{D}_{0}\\left(f\\right)\\left(-\\alpha\\right) - \\frac{\\partial}{\\partial \\alpha}f\\left(\\alpha\\right)\\right)}}{4 \\, \\alpha} + f\\left(0\\right)$"
      ],
      "text/plain": [
       "x |--> 1/2*x*(D[0](f)(-alpha) + diff(f(alpha), alpha)) - 1/4*x^2*(D[0](f)(-alpha) - diff(f(alpha), alpha))/alpha + f(0)"
      ]
     },
     "metadata": {},
     "output_type": "display_data"
    },
    {
     "data": {
      "text/html": [
       "<html>\\(\\displaystyle \\frac{3 \\, \\alpha {\\left(4 \\, f\\left(0\\right) + \\mathrm{D}_{0}\\left(f\\right)\\left(-\\alpha\\right)\\right)} + {\\left(3 \\, \\alpha + 1\\right)} \\frac{\\partial}{\\partial \\alpha}f\\left(\\alpha\\right) - \\mathrm{D}_{0}\\left(f\\right)\\left(-\\alpha\\right)}{12 \\, \\alpha} + \\frac{3 \\, \\alpha {\\left(4 \\, f\\left(0\\right) - \\mathrm{D}_{0}\\left(f\\right)\\left(-\\alpha\\right)\\right)} - {\\left(3 \\, \\alpha - 1\\right)} \\frac{\\partial}{\\partial \\alpha}f\\left(\\alpha\\right) - \\mathrm{D}_{0}\\left(f\\right)\\left(-\\alpha\\right)}{12 \\, \\alpha}\\)</html>"
      ],
      "text/latex": [
       "$\\displaystyle \\frac{3 \\, \\alpha {\\left(4 \\, f\\left(0\\right) + \\mathrm{D}_{0}\\left(f\\right)\\left(-\\alpha\\right)\\right)} + {\\left(3 \\, \\alpha + 1\\right)} \\frac{\\partial}{\\partial \\alpha}f\\left(\\alpha\\right) - \\mathrm{D}_{0}\\left(f\\right)\\left(-\\alpha\\right)}{12 \\, \\alpha} + \\frac{3 \\, \\alpha {\\left(4 \\, f\\left(0\\right) - \\mathrm{D}_{0}\\left(f\\right)\\left(-\\alpha\\right)\\right)} - {\\left(3 \\, \\alpha - 1\\right)} \\frac{\\partial}{\\partial \\alpha}f\\left(\\alpha\\right) - \\mathrm{D}_{0}\\left(f\\right)\\left(-\\alpha\\right)}{12 \\, \\alpha}$"
      ],
      "text/plain": [
       "1/12*(3*alpha*(4*f(0) + D[0](f)(-alpha)) + (3*alpha + 1)*diff(f(alpha), alpha) - D[0](f)(-alpha))/alpha + 1/12*(3*alpha*(4*f(0) - D[0](f)(-alpha)) - (3*alpha - 1)*diff(f(alpha), alpha) - D[0](f)(-alpha))/alpha"
      ]
     },
     "metadata": {},
     "output_type": "display_data"
    },
    {
     "data": {
      "text/html": [
       "<html>\\(\\displaystyle x \\ {\\mapsto}\\ -\\frac{3 \\, \\alpha {\\left(4 \\, f\\left(0\\right) + \\mathrm{D}_{0}\\left(f\\right)\\left(-\\alpha\\right)\\right)} + {\\left(3 \\, \\alpha + 1\\right)} \\frac{\\partial}{\\partial \\alpha}f\\left(\\alpha\\right) - \\mathrm{D}_{0}\\left(f\\right)\\left(-\\alpha\\right)}{12 \\, \\alpha} - \\frac{3 \\, \\alpha {\\left(4 \\, f\\left(0\\right) - \\mathrm{D}_{0}\\left(f\\right)\\left(-\\alpha\\right)\\right)} - {\\left(3 \\, \\alpha - 1\\right)} \\frac{\\partial}{\\partial \\alpha}f\\left(\\alpha\\right) - \\mathrm{D}_{0}\\left(f\\right)\\left(-\\alpha\\right)}{12 \\, \\alpha} + f\\left(x\\right)\\)</html>"
      ],
      "text/latex": [
       "$\\displaystyle x \\ {\\mapsto}\\ -\\frac{3 \\, \\alpha {\\left(4 \\, f\\left(0\\right) + \\mathrm{D}_{0}\\left(f\\right)\\left(-\\alpha\\right)\\right)} + {\\left(3 \\, \\alpha + 1\\right)} \\frac{\\partial}{\\partial \\alpha}f\\left(\\alpha\\right) - \\mathrm{D}_{0}\\left(f\\right)\\left(-\\alpha\\right)}{12 \\, \\alpha} - \\frac{3 \\, \\alpha {\\left(4 \\, f\\left(0\\right) - \\mathrm{D}_{0}\\left(f\\right)\\left(-\\alpha\\right)\\right)} - {\\left(3 \\, \\alpha - 1\\right)} \\frac{\\partial}{\\partial \\alpha}f\\left(\\alpha\\right) - \\mathrm{D}_{0}\\left(f\\right)\\left(-\\alpha\\right)}{12 \\, \\alpha} + f\\left(x\\right)$"
      ],
      "text/plain": [
       "x |--> -1/12*(3*alpha*(4*f(0) + D[0](f)(-alpha)) + (3*alpha + 1)*diff(f(alpha), alpha) - D[0](f)(-alpha))/alpha - 1/12*(3*alpha*(4*f(0) - D[0](f)(-alpha)) - (3*alpha - 1)*diff(f(alpha), alpha) - D[0](f)(-alpha))/alpha + f(x)"
      ]
     },
     "metadata": {},
     "output_type": "display_data"
    }
   ],
   "source": [
    "x = var(\"x\")\n",
    "a, b, c = var(\"a b c\")\n",
    "alpha = var(\"alpha\")\n",
    "\n",
    "f = function(\"f\")\n",
    "P = function(\"P\")\n",
    "\n",
    "P(x) = a*x**2 + b*x + c\n",
    "\n",
    "a, b, c = solve([\n",
    "    diff(P, x)(-alpha) == diff(f(x), x)(x=-alpha),\n",
    "    P(0) == f(0),\n",
    "    diff(P, x)(alpha) == diff(f(x), x)(x=alpha),\n",
    "], [a, b, c])[0]\n",
    "\n",
    "display(a, b, c)\n",
    "\n",
    "P = P.substitute(a, b, c)\n",
    "display(P)\n",
    "\n",
    "R = function(\"R\")\n",
    "Pi = integral(P, x, -1, 1)\n",
    "# Pi = Pi.substitute(a, b, c)\n",
    "display(Pi)\n",
    "\n",
    "R(x) = f(x) - Pi\n",
    "display(R)\n",
    "# pi.substitute_function(f, x.function())"
   ]
  },
  {
   "cell_type": "code",
   "execution_count": 18,
   "id": "0647bea7",
   "metadata": {},
   "outputs": [
    {
     "data": {
      "text/html": [
       "<html>\\(\\displaystyle \\frac{\\partial}{\\partial x}f\\left(x\\right)\\)</html>"
      ],
      "text/latex": [
       "$\\displaystyle \\frac{\\partial}{\\partial x}f\\left(x\\right)$"
      ],
      "text/plain": [
       "diff(f(x), x)"
      ]
     },
     "execution_count": 18,
     "metadata": {},
     "output_type": "execute_result"
    }
   ],
   "source": [
    "df = diff(f(x), x)\n",
    "df"
   ]
  },
  {
   "cell_type": "code",
   "execution_count": null,
   "id": "ad367cea",
   "metadata": {},
   "outputs": [],
   "source": []
  }
 ],
 "metadata": {
  "kernelspec": {
   "display_name": "SageMath 10.0",
   "language": "sagemath",
   "name": "sagemath"
  },
  "language_info": {
   "codemirror_mode": {
    "name": "ipython",
    "version": 3
   },
   "file_extension": ".py",
   "mimetype": "text/x-python",
   "name": "python",
   "nbconvert_exporter": "python",
   "pygments_lexer": "ipython3",
   "version": "3.11.6"
  }
 },
 "nbformat": 4,
 "nbformat_minor": 5
}
