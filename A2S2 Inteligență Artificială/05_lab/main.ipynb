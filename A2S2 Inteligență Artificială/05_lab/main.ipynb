{
 "cells": [
  {
   "cell_type": "markdown",
   "id": "659397fa-7997-4e53-98a2-f1d15966045d",
   "metadata": {},
   "source": [
    "# Imports"
   ]
  },
  {
   "cell_type": "code",
   "execution_count": 2,
   "id": "639f10bd-cd23-481a-824b-313e4bea2d45",
   "metadata": {},
   "outputs": [],
   "source": [
    "import csv\n",
    "import numpy\n",
    "import typing"
   ]
  },
  {
   "cell_type": "markdown",
   "id": "5bd15709-2746-48f2-be0e-61e0e020356c",
   "metadata": {},
   "source": [
    "# Data"
   ]
  },
  {
   "cell_type": "code",
   "execution_count": 3,
   "id": "e84066fe-2ef0-4532-a9e3-ea2037eeb097",
   "metadata": {},
   "outputs": [],
   "source": [
    "T = typing.TypeVar(\"T\")\n",
    "def read_data(\n",
    "    path: str,\n",
    "    converter: typing.Callable[[str], T],\n",
    ") -> numpy.ndarray:\n",
    "    with open(path) as f:\n",
    "        data = list(\n",
    "            list(converter(value) for value in line.split())\n",
    "            for line in f\n",
    "        )\n",
    "        return numpy.array(data, dtype=converter)\n",
    "        \n",
    "binary_predicted = read_data(\"./data/git/probabilities-binary.txt\", float)\n",
    "multi_class_predicted = read_data(\"./data/git/probabilities-multi-class.txt\", float)\n",
    "multi_target_predicted = read_data(\"./data/git/probabilities-multi-target.txt\", float)\n",
    "\n",
    "binary_true = read_data(\"./data/git/true-binary.txt\", int)\n",
    "multi_class_true = read_data(\"./data/git/true-multi-class.txt\", int)\n",
    "multi_target_true = read_data(\"./data/git/true-multi-target.txt\", int)\n",
    "\n",
    "with open(\"./data/lab/flowers.csv\") as f:\n",
    "    reader = csv.reader(f)\n",
    "    _ = next(reader)\n",
    "    flower_to_int = {\n",
    "        \"Daisy\": 0,\n",
    "        \"Tulip\": 1,\n",
    "        \"Rose\": 2,\n",
    "    }\n",
    "    flowers = list(reader)\n",
    "    flowers_true = numpy.array(list(flower_to_int[true] for true, _ in flowers))\n",
    "    flowers_predicted = numpy.array(list(flower_to_int[predicted] for _, predicted in flowers))\n",
    "\n",
    "with open(\"./data/lab/sport.csv\") as f:\n",
    "    reader = csv.reader(f)\n",
    "    _ = next(reader)\n",
    "    sport = list(reader)\n",
    "    sport_weight_true      = numpy.array(list(int(row[0]) for row in sport), dtype=int)\n",
    "    sport_waist_true       = numpy.array(list(int(row[1]) for row in sport), dtype=int)\n",
    "    sport_pulse_true       = numpy.array(list(int(row[2]) for row in sport), dtype=int)\n",
    "    sport_weight_predicted = numpy.array(list(int(row[3]) for row in sport), dtype=int)\n",
    "    sport_waist_predicted  = numpy.array(list(int(row[4]) for row in sport), dtype=int)\n",
    "    sport_pulse_predicted  = numpy.array(list(int(row[5]) for row in sport), dtype=int)"
   ]
  },
  {
   "cell_type": "markdown",
   "id": "5454f74d-b009-4157-8e2c-fc462ea4a649",
   "metadata": {},
   "source": [
    "# Solution"
   ]
  },
  {
   "cell_type": "markdown",
   "id": "da84e472-e634-4fd1-a7eb-9e28572cb9fd",
   "metadata": {},
   "source": [
    "## Determinarea erorii de predictie - regresie multi-target"
   ]
  },
  {
   "cell_type": "code",
   "execution_count": 4,
   "id": "ef47d229-a12c-407d-be80-6dbefdb0a6f6",
   "metadata": {},
   "outputs": [],
   "source": [
    "def mean_absolute_error(predicted: numpy.ndarray, true: numpy.ndarray):\n",
    "    return numpy.average(numpy.abs(predicted - true))\n",
    "\n",
    "def root_mean_square_error(predicted: numpy.ndarray, true: numpy.ndarray):\n",
    "    return numpy.sqrt(numpy.average((predicted - true)**2))"
   ]
  },
  {
   "cell_type": "code",
   "execution_count": 5,
   "id": "462a412d-7840-4af3-9a04-a7479a1dbd1f",
   "metadata": {},
   "outputs": [
    {
     "name": "stdout",
     "output_type": "stream",
     "text": [
      "5.953990258641679\n",
      "1.5652475842498528\n",
      "2.3345235059857505\n"
     ]
    }
   ],
   "source": [
    "print(\n",
    "    root_mean_square_error(\n",
    "        sport_weight_predicted,\n",
    "        sport_weight_true))\n",
    "\n",
    "print(\n",
    "    root_mean_square_error(\n",
    "        sport_waist_predicted,\n",
    "        sport_waist_true))\n",
    "\n",
    "print(\n",
    "    root_mean_square_error(\n",
    "        sport_pulse_predicted,\n",
    "        sport_pulse_true))"
   ]
  },
  {
   "cell_type": "markdown",
   "id": "6ee6abeb-2d1d-4849-9a4b-23b8408b67d2",
   "metadata": {},
   "source": [
    "## Determinarea acurateții, preciziei, rapelului - clasificare multi-class"
   ]
  },
  {
   "cell_type": "code",
   "execution_count": 6,
   "id": "f23fb660-c0a8-4f37-9518-40d02d7022da",
   "metadata": {},
   "outputs": [],
   "source": [
    "class ConfusionMatrix:\n",
    "    def __init__(self, tp: int, fp: int, tn: int, fn: int):\n",
    "        self.tp = tp\n",
    "        self.fp = fp\n",
    "        self.tn = tn\n",
    "        self.fn = fn\n",
    "    \n",
    "    @property\n",
    "    def accuracy(self) -> float:\n",
    "        return (self.tp+self.tn) / (self.tp+self.tn+self.fp+self.fn)\n",
    "    \n",
    "    @property\n",
    "    def precision(self) -> float:\n",
    "        return self.tp / (self.tp+self.fp)\n",
    "    \n",
    "    @property\n",
    "    def recall(self) -> float:\n",
    "        return self.tp / (self.tp+self.fn)\n",
    "\n",
    "def make_confusion_matrix(\n",
    "    predicted: numpy.ndarray,\n",
    "    true: numpy.ndarray,\n",
    "    is_positive: typing.Callable[[numpy.ndarray], numpy.ndarray],\n",
    ") -> ConfusionMatrix:\n",
    "    tp = numpy.sum( is_positive(true[ is_positive(predicted)]))\n",
    "    fp = numpy.sum(~is_positive(true[ is_positive(predicted)]))\n",
    "    tn = numpy.sum(~is_positive(true[~is_positive(predicted)]))\n",
    "    fn = numpy.sum( is_positive(true[~is_positive(predicted)]))\n",
    "    \n",
    "    return ConfusionMatrix(tp, fp, tn, fn)"
   ]
  },
  {
   "cell_type": "code",
   "execution_count": 7,
   "id": "07320610-ed82-42a0-9c55-1338b0dddd52",
   "metadata": {},
   "outputs": [
    {
     "name": "stdout",
     "output_type": "stream",
     "text": [
      "acuratețe =  0.46153846153846156\n",
      "precizie =  0.36363636363636365\n",
      "rapel =  0.36363636363636365\n",
      "acuratețe =  0.6153846153846154\n",
      "precizie =  0.2857142857142857\n",
      "rapel =  0.2857142857142857\n",
      "acuratețe =  0.5384615384615384\n",
      "precizie =  0.25\n",
      "rapel =  0.25\n"
     ]
    }
   ],
   "source": [
    "confusion_matrix = make_confusion_matrix(\n",
    "    flowers_predicted,\n",
    "    flowers_true,\n",
    "    lambda a: a == 0,\n",
    ")\n",
    "\n",
    "print(\"acuratețe = \", confusion_matrix.accuracy)\n",
    "print(\"precizie = \", confusion_matrix.precision)\n",
    "print(\"rapel = \", confusion_matrix.recall)\n",
    "\n",
    "confusion_matrix = make_confusion_matrix(\n",
    "    flowers_predicted,\n",
    "    flowers_true,\n",
    "    lambda a: a == 1,\n",
    ")\n",
    "\n",
    "print(\"acuratețe = \", confusion_matrix.accuracy)\n",
    "print(\"precizie = \", confusion_matrix.precision)\n",
    "print(\"rapel = \", confusion_matrix.recall)\n",
    "\n",
    "confusion_matrix = make_confusion_matrix(\n",
    "    flowers_predicted,\n",
    "    flowers_true,\n",
    "    lambda a: a == 2,\n",
    ")\n",
    "\n",
    "print(\"acuratețe = \", confusion_matrix.accuracy)\n",
    "print(\"precizie = \", confusion_matrix.precision)\n",
    "print(\"rapel = \", confusion_matrix.recall)"
   ]
  },
  {
   "cell_type": "markdown",
   "id": "22e62817-a053-4756-9a09-431db980eeff",
   "metadata": {},
   "source": [
    "## Determinarea loss-ului"
   ]
  },
  {
   "cell_type": "markdown",
   "id": "a2362dbb-6ec2-426f-86e6-ba15f7ac4da6",
   "metadata": {},
   "source": [
    "### Regresie"
   ]
  },
  {
   "cell_type": "markdown",
   "id": "b882e003-922d-4465-8ff3-b461b7609cfe",
   "metadata": {},
   "source": [
    "$$\n",
    "MSE=\\frac{1}{n}\\sum_{i=1}^n (\\text{predicted}_i-\\text{true}_i)^2\n",
    "$$"
   ]
  },
  {
   "cell_type": "code",
   "execution_count": null,
   "id": "705e1a20-2e13-4048-b073-c3af6f2c51c2",
   "metadata": {},
   "outputs": [],
   "source": [
    "def loss_mean_squared_error(\n",
    "    predicted: numpy.ndarray,\n",
    "    true: numpy.ndarray,\n",
    ") -> float:\n",
    "    return numpy.average((predicted - true) ** 2)\n",
    "\n",
    "# print(loss_mean_squared_error())"
   ]
  },
  {
   "cell_type": "markdown",
   "id": "cff0012c-cf3e-4a76-896d-a94bb777016b",
   "metadata": {},
   "source": [
    "### Clasificare binară"
   ]
  },
  {
   "cell_type": "markdown",
   "id": "ad8fd665-7092-45ea-a37b-0e52d9234117",
   "metadata": {},
   "source": [
    "$$\n",
    "BCE=-\\frac{1}{n}\\sum_{i=1}^n \\text{true}_{1,i}\\cdot\\log\\left(\\text{predicted}_{1,i}\\right)+\\text{true}_{2,i}\\cdot\\log\\left(\\text{predicted}_{2,i}\\right)\n",
    "$$"
   ]
  },
  {
   "cell_type": "code",
   "execution_count": 77,
   "id": "22fc7158-4bf8-45e2-8e49-1786de60758c",
   "metadata": {},
   "outputs": [
    {
     "name": "stdout",
     "output_type": "stream",
     "text": [
      "0.6966520452952675\n"
     ]
    }
   ],
   "source": [
    "def loss_binary_cross_entropy(\n",
    "    predicted: numpy.ndarray,\n",
    "    true: numpy.ndarray,\n",
    ") -> float:\n",
    "    return -numpy.average(\n",
    "        numpy.multiply(\n",
    "            true[:,0],\n",
    "            numpy.log(predicted[:,0]),\n",
    "        )\n",
    "        + numpy.multiply(\n",
    "            true[:,1],\n",
    "            numpy.log(predicted[:,1]),\n",
    "        ),\n",
    "    )\n",
    "\n",
    "print(loss_binary_cross_entropy(binary_predicted, binary_true))"
   ]
  },
  {
   "cell_type": "markdown",
   "id": "2598f711-008a-4088-85ee-e3c0a2b91ef7",
   "metadata": {},
   "source": [
    "### Clasficare multi-class și multi-label"
   ]
  },
  {
   "cell_type": "markdown",
   "id": "9f7345f7-8334-4da7-b988-de546c5da03c",
   "metadata": {},
   "source": [
    "$$\n",
    "CCE=-\\frac{1}{n}\\sum_{i=1}^n\\sum_k \\text{true}_{k,i}\\cdot\\log\\left(\\text{predicted}_{k,i}\\right)\n",
    "$$"
   ]
  },
  {
   "cell_type": "code",
   "execution_count": 82,
   "id": "af0e3c24-d1a6-432e-8f39-ac1ec3ef4777",
   "metadata": {},
   "outputs": [
    {
     "name": "stdout",
     "output_type": "stream",
     "text": [
      "0.8983100982579407\n",
      "1.3178916581432447\n"
     ]
    }
   ],
   "source": [
    "def loss_categorical_cross_entropy(\n",
    "    predicted: numpy.ndarray,\n",
    "    true: numpy.ndarray,\n",
    ") -> float:\n",
    "    accumulator = numpy.zeros(predicted.shape[0])\n",
    "    \n",
    "    for i in range(predicted.shape[1]):\n",
    "        accumulator += numpy.multiply(\n",
    "            true[:,i],\n",
    "            numpy.log(predicted[:,i]),\n",
    "        )\n",
    "    \n",
    "    return -numpy.average(accumulator)\n",
    "\n",
    "print(loss_categorical_cross_entropy(multi_class_predicted, multi_class_true))\n",
    "print(loss_categorical_cross_entropy(multi_target_predicted, multi_target_true))"
   ]
  }
 ],
 "metadata": {
  "kernelspec": {
   "display_name": "Python 3 (ipykernel)",
   "language": "python",
   "name": "python3"
  },
  "language_info": {
   "codemirror_mode": {
    "name": "ipython",
    "version": 3
   },
   "file_extension": ".py",
   "mimetype": "text/x-python",
   "name": "python",
   "nbconvert_exporter": "python",
   "pygments_lexer": "ipython3",
   "version": "3.10.8"
  }
 },
 "nbformat": 4,
 "nbformat_minor": 5
}
