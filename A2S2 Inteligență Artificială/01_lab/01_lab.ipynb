{
 "cells": [
  {
   "cell_type": "code",
   "execution_count": 1,
   "id": "af0b7d06-46c0-42d0-9765-6bf77761025e",
   "metadata": {},
   "outputs": [],
   "source": [
    "import math\n",
    "import functools\n",
    "import operator\n",
    "import heapq"
   ]
  },
  {
   "cell_type": "markdown",
   "id": "283dd675-666b-4938-8f3d-f2727e22ed4f",
   "metadata": {},
   "source": [
    "1. Să se determine ultimul (din punct de vedere alfabetic) cuvânt care poate apărea într-un text care conține mai multe cuvinte separate prin ” ” (spațiu). *De ex. ultimul (dpdv alfabetic) cuvânt din ”Ana are mere rosii si galbene” este cuvântul \"si\".*"
   ]
  },
  {
   "cell_type": "code",
   "execution_count": 2,
   "id": "6ee9debc-ec8c-499a-a020-a61dbb00b395",
   "metadata": {},
   "outputs": [],
   "source": [
    "def lab_01(text: str):\n",
    "    def key(a: str):\n",
    "        return a.lower()\n",
    "    \n",
    "    words = text.split(\" \")\n",
    "    return max(words, key=key)\n",
    "\n",
    "assert \"si\" == lab_01(\"Ana are mere rosii si galbene\")\n",
    "assert \"mers\" == lab_01(\"Eu am mers la magazin\")"
   ]
  },
  {
   "cell_type": "markdown",
   "id": "db89b779-63c7-451a-9c9f-edd0ef805343",
   "metadata": {},
   "source": [
    "2. Să se determine distanța Euclideană între două locații identificate prin perechi de numere. \n",
    "*De ex. distanța între (1,5) și (4,1) este 5.0*"
   ]
  },
  {
   "cell_type": "code",
   "execution_count": 3,
   "id": "958ccd8b-775c-459a-a83c-29d7dab5da01",
   "metadata": {},
   "outputs": [],
   "source": [
    "def lab_02(p1: (float, float), p2: (float, float)):\n",
    "    return math.sqrt((p1[0]-p2[0])**2 + (p1[1]-p2[1])**2)\n",
    "\n",
    "assert math.isclose(5.0, lab_02((1,5), (4,1)))\n",
    "assert math.isclose(2.0, lab_02((1,1), (3,1)))"
   ]
  },
  {
   "cell_type": "markdown",
   "id": "a67e1b8e-90e2-4acb-afc5-f771c1d36e39",
   "metadata": {},
   "source": [
    "3. Să se determine produsul scalar a doi vectori rari care conțin numere reale. Un vector este rar atunci când conține multe elemente nule. Vectorii pot avea oricâte dimensiuni.\n",
    "*De ex. produsul scalar a 2 vectori unisimensionali [1,0,2,0,3] și [1,2,0,3,1] este 4.*"
   ]
  },
  {
   "cell_type": "code",
   "execution_count": 4,
   "id": "ecd75f3f-80a1-4fcf-a734-10ef0226798c",
   "metadata": {},
   "outputs": [],
   "source": [
    "def lab_03(v1: list[float], v2: list[float]):\n",
    "    product = 0\n",
    "    for a1, a2 in zip(v1, v2):\n",
    "        product += a1*a2\n",
    "    return product\n",
    "\n",
    "assert math.isclose(4, lab_03([1,0,2,0,3], [1,2,0,3,1]))\n",
    "assert math.isclose(24, lab_03([1,2,0,4,5], [0,1,7,3,2]))"
   ]
  },
  {
   "cell_type": "markdown",
   "id": "38bc28fb-b0c2-4329-80e1-be90d343dea7",
   "metadata": {},
   "source": [
    "4. Să se determine cuvintele unui text care apar exact o singură dată în acel text. \n",
    "*De ex. cuvintele care apar o singură dată în ”ana are ana are mere rosii ana\" sunt: 'mere' și 'rosii'.*"
   ]
  },
  {
   "cell_type": "code",
   "execution_count": 5,
   "id": "43c2168c-a121-4650-b351-57135db16812",
   "metadata": {},
   "outputs": [],
   "source": [
    "def lab_04(text: str):\n",
    "    frequency = {}\n",
    "    words = text.split()\n",
    "    for word in words:\n",
    "        frequency[word] = frequency.setdefault(word, 0)\n",
    "        frequency[word] += 1\n",
    "    \n",
    "    words_appearing_once = {word for word,appearances in frequency.items() if appearances == 1}\n",
    "    return words_appearing_once\n",
    "\n",
    "assert {\"rosii\", \"mere\"} == lab_04(\"ana are ana are mere rosii ana\")\n",
    "assert {\"am\", \"facut\", \"o\"} == lab_04(\"eu am facut o eu problema eu problema\")"
   ]
  },
  {
   "cell_type": "markdown",
   "id": "10626379-6e5c-41ec-8191-710d5b55d113",
   "metadata": {},
   "source": [
    "5. Pentru un șir cu n elemente care conține valori din mulțimea {1, 2, ..., n - 1} astfel încât o singură valoare se repetă de două ori, să se identifice acea valoare care se repetă.\n",
    "*De ex. în șirul [1,2,3,4,2] valoarea 2 apare de două ori.*"
   ]
  },
  {
   "cell_type": "code",
   "execution_count": 6,
   "id": "34ddeb5d-207a-448f-8227-a6b801ebe328",
   "metadata": {},
   "outputs": [],
   "source": [
    "def lab_05(v: list[int]):\n",
    "    xor_everything = functools.reduce(operator.xor, range(1, max(v)+1))\n",
    "    xor_v = functools.reduce(operator.xor, v)\n",
    "    return xor_everything ^ xor_v\n",
    "\n",
    "assert 2 == lab_05([1,2,3,4,2])\n",
    "assert 3 == lab_05([5,3,4,6,1,3,2])"
   ]
  },
  {
   "cell_type": "markdown",
   "id": "0cfa7429-4c7b-4576-abf6-e2268ddde072",
   "metadata": {},
   "source": [
    "6. Pentru un șir cu n numere întregi care conține și duplicate, să se determine elementul majoritar (care apare de mai mult de n / 2 ori).\n",
    "*De ex. 2 este elementul majoritar în șirul [2,8,7,2,2,5,2,3,1,2,2].*"
   ]
  },
  {
   "cell_type": "code",
   "execution_count": 7,
   "id": "7aa6dc13-08ca-4cf5-9369-4014fceb4d83",
   "metadata": {},
   "outputs": [],
   "source": [
    "def lab_06(v: list[int]):\n",
    "    majoritar = None\n",
    "    frecventa = 0\n",
    "    \n",
    "    for a in v:\n",
    "        if frecventa == 0:\n",
    "            majoritar = a\n",
    "        \n",
    "        if majoritar == a:\n",
    "            frecventa += 1\n",
    "        else:\n",
    "            frecventa -= 1\n",
    "    \n",
    "    frecventa = 0\n",
    "    for a in v:\n",
    "        if a == majoritar:\n",
    "            frecventa += 1\n",
    "    \n",
    "    if frecventa <= len(v) // 2:\n",
    "        majoritar = None\n",
    "    \n",
    "    return majoritar\n",
    "\n",
    "assert 2 == lab_06([2,8,7,2,2,5,2,3,1,2,2])\n",
    "assert 1 == lab_06([1, 2, 1, 2, 1])\n",
    "assert None is lab_06([1, 2, 3, 4, 5])"
   ]
  },
  {
   "cell_type": "markdown",
   "id": "1f78bb4f-c755-4aec-8adf-77dd1c5cc2b7",
   "metadata": {},
   "source": [
    "7. Să se determine al k-lea cel mai mare element al unui șir de numere cu n elemente (k < n).\n",
    "*De ex. al 2-lea cel mai mare element din șirul [7,4,6,3,9,1] este 7.*"
   ]
  },
  {
   "cell_type": "code",
   "execution_count": 8,
   "id": "52f9dc55-1c3b-4951-80a8-5e7cdbff160a",
   "metadata": {},
   "outputs": [],
   "source": [
    "def lab_07(k: int, v: list[int]):\n",
    "    heap = []\n",
    "    for a in v:\n",
    "        if len(heap) < k:\n",
    "            heapq.heappush(heap, a)\n",
    "        else:\n",
    "            if a > heap[0]:\n",
    "                heapq.heappushpop(heap, a)\n",
    "    return heap[0]\n",
    "\n",
    "assert 7 == lab_07(2, [7,4,6,3,9,1])\n",
    "assert 6 == lab_07(3, [7,4,6,3,9,1])\n",
    "assert 9 == lab_07(1, [7,4,6,3,9,1])"
   ]
  },
  {
   "cell_type": "markdown",
   "id": "d5beaa48-3921-495d-a598-fd7e4d1c1411",
   "metadata": {},
   "source": [
    "8. Să se genereze toate numerele (în reprezentare binară) cuprinse între 1 și n. \n",
    "*De ex. dacă n = 4, numerele sunt: 1, 10, 11, 100.*"
   ]
  },
  {
   "cell_type": "code",
   "execution_count": 9,
   "id": "a37765e0-b8b4-4c5f-ab9b-73f2dd5f070f",
   "metadata": {},
   "outputs": [],
   "source": [
    "def lab_08(n: int):\n",
    "    binary = [\"0\"]\n",
    "    answer = []\n",
    "    for _ in range(n):\n",
    "        carry = True\n",
    "        for i in range(len(binary)):\n",
    "            if binary[i] == \"0\":\n",
    "                binary[i] = \"1\"\n",
    "                carry = False\n",
    "                break\n",
    "            else:\n",
    "                binary[i] = \"0\"\n",
    "        if carry:\n",
    "            binary.append(\"1\")\n",
    "        answer.append(\"\".join(reversed(binary)))\n",
    "    return answer\n",
    "\n",
    "assert [\"1\", \"10\", \"11\", \"100\"] == lab_08(4)\n",
    "assert [\"1\", \"10\", \"11\", \"100\", \"101\", \"110\", \"111\"] == lab_08(7)"
   ]
  },
  {
   "cell_type": "markdown",
   "id": "44a42ede-491d-4097-b662-29ac2b40aafb",
   "metadata": {},
   "source": [
    "9. Considerându-se o matrice cu n x m elemente întregi și o listă cu perechi formate din coordonatele a 2 căsuțe din matrice ((p,q) și (r,s)), să se calculeze suma elementelor din sub-matricile identificate de fiecare pereche. \n",
    "    > *De ex, pt matricea*\\\n",
    "    > [[0, 2, 5, 4, 1], \\\n",
    "    >  [4, 8, 2, 3, 7], \\\n",
    "    >  [6, 3, 4, 6, 2], \\\n",
    "    >  [7, 3, 1, 8, 3], \\\n",
    "    >  [1, 5, 7, 9, 4]] \\\n",
    "    > *și lista de perechi ((1, 1) și (3, 3)), ((2, 2) și (4, 4)), suma elementelor din prima sub-matrice este 38, iar suma elementelor din a 2-a sub-matrice este 44.*"
   ]
  },
  {
   "cell_type": "code",
   "execution_count": 10,
   "id": "798e19da-fe5b-494c-9f57-d2e82c2b286e",
   "metadata": {},
   "outputs": [],
   "source": [
    "def lab_09(matrix: list[list[int]], pairs: list[((int, int), (int, int))]):\n",
    "    partial = []\n",
    "    for i in range(len(matrix)):\n",
    "        partial.append([])\n",
    "        for j in range(len(matrix[i])):\n",
    "            a = matrix[i][j]\n",
    "            if i > 0:\n",
    "                a += partial[i-1][j]\n",
    "            if j > 0:\n",
    "                a += partial[i][j-1]\n",
    "            if i > 0 and j > 0:\n",
    "                a -= partial[i-1][j-1]\n",
    "            partial[i].append(a)\n",
    "    \n",
    "    def get_partial(p: (int, int)):\n",
    "        if p[0] >= 0 and p[1] >= 0:\n",
    "            return partial[p[0]][p[1]]\n",
    "        else:\n",
    "            return 0\n",
    "    \n",
    "    return [\n",
    "          get_partial(p2)\n",
    "        - get_partial((p1[0]-1, p2[1]  ))\n",
    "        - get_partial((p2[0]  , p1[1]-1))\n",
    "        + get_partial((p1[0]-1, p1[1]-1))\n",
    "        for p1,p2 in pairs\n",
    "    ]\n",
    "                \n",
    "\n",
    "matrix = [\n",
    "    [0, 2, 5, 4, 1],\n",
    "    [4, 8, 2, 3, 7],\n",
    "    [6, 3, 4, 6, 2],\n",
    "    [7, 3, 1, 8, 3],\n",
    "    [1, 5, 7, 9, 4],\n",
    "]\n",
    "\n",
    "pairs = [\n",
    "    ((1, 1), (3, 3)),\n",
    "    ((2, 2), (4, 4)),\n",
    "]\n",
    "\n",
    "assert [38, 44] == lab_09(matrix, pairs)"
   ]
  },
  {
   "cell_type": "markdown",
   "id": "bc35b996-32d2-434f-b4ef-16e9cac334de",
   "metadata": {},
   "source": [
    "10. \tConsiderându-se o matrice cu n x m elemente binare (0 sau 1) sortate crescător pe linii, să se identifice indexul liniei care conține cele mai multe elemente de 1. \n",
    "    > *De ex. în matricea* \\\n",
    "    > [[0,0,0,1,1], \\\n",
    "    > [0,1,1,1,1], \\\n",
    "    > [0,0,1,1,1]] \\\n",
    "    > *a doua linie conține cele mai multe elemente 1.*"
   ]
  },
  {
   "cell_type": "code",
   "execution_count": 11,
   "id": "8413c15f-25a4-442d-8988-950a10039472",
   "metadata": {},
   "outputs": [],
   "source": [
    "def lab_10(matrix):\n",
    "    best_row_index = 0\n",
    "    i = 0\n",
    "    for row_index,row in enumerate(matrix):\n",
    "        row_len = len(row)\n",
    "        while row_len-1 - i >= 0 and row[row_len-1 - i] == 1:\n",
    "            i += 1\n",
    "            best_row_index = row_index\n",
    "    return best_row_index+1\n",
    "\n",
    "matrix = [\n",
    "    [0,0,0,1,1],\n",
    "    [0,1,1,1,1],\n",
    "    [0,0,1,1,1],\n",
    "] \n",
    "assert 2 == lab_10(matrix)\n",
    "\n",
    "matrix = [\n",
    "    [0,0,0,0,0,1,1],\n",
    "    [0,0,0,0,0,0,1],\n",
    "    [0,0,0,0,0,0,0],\n",
    "    [0,0,0,1,1,1,1],\n",
    "]\n",
    "assert 4 == lab_10(matrix)"
   ]
  }
 ],
 "metadata": {
  "kernelspec": {
   "display_name": "Python 3 (ipykernel)",
   "language": "python",
   "name": "python3"
  },
  "language_info": {
   "codemirror_mode": {
    "name": "ipython",
    "version": 3
   },
   "file_extension": ".py",
   "mimetype": "text/x-python",
   "name": "python",
   "nbconvert_exporter": "python",
   "pygments_lexer": "ipython3",
   "version": "3.10.8"
  }
 },
 "nbformat": 4,
 "nbformat_minor": 5
}
