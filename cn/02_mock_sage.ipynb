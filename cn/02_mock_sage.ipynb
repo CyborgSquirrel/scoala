{
 "cells": [
  {
   "cell_type": "code",
   "execution_count": 1,
   "id": "2d4a7989",
   "metadata": {},
   "outputs": [],
   "source": [
    "import numpy as np\n",
    "import math"
   ]
  },
  {
   "cell_type": "markdown",
   "id": "95d9fc82",
   "metadata": {},
   "source": [
    "# 1"
   ]
  },
  {
   "cell_type": "markdown",
   "id": "c2efdc22",
   "metadata": {},
   "source": [
    "## (c)"
   ]
  },
  {
   "cell_type": "code",
   "execution_count": 2,
   "id": "633d6ca5",
   "metadata": {},
   "outputs": [],
   "source": [
    "print = pretty_print"
   ]
  },
  {
   "cell_type": "code",
   "execution_count": 3,
   "id": "8516e296",
   "metadata": {},
   "outputs": [],
   "source": [
    "def chebyshev_1(n):\n",
    "    return [\n",
    "        cos((k*2+1) / (2*n) * pi)\n",
    "        for k in range(n)\n",
    "    ]"
   ]
  },
  {
   "cell_type": "code",
   "execution_count": 4,
   "id": "8b44481f",
   "metadata": {},
   "outputs": [],
   "source": [
    "n = 10"
   ]
  },
  {
   "cell_type": "code",
   "execution_count": 5,
   "id": "b86a779c",
   "metadata": {},
   "outputs": [],
   "source": [
    "nodes = chebyshev_1(n)\n",
    "nodes = [node*2*pi for node in nodes]"
   ]
  },
  {
   "cell_type": "code",
   "execution_count": 6,
   "id": "fefde8fd",
   "metadata": {},
   "outputs": [
    {
     "data": {
      "text/html": [
       "<html>\\(\\displaystyle \\sin\\left(x\\right)^{2}\\)</html>"
      ],
      "text/latex": [
       "$\\displaystyle \\sin\\left(x\\right)^{2}$"
      ],
      "text/plain": [
       "sin(x)^2"
      ]
     },
     "metadata": {},
     "output_type": "display_data"
    }
   ],
   "source": [
    "x = var(\"x\")\n",
    "f = sin(x)**2\n",
    "print(f)"
   ]
  },
  {
   "cell_type": "markdown",
   "id": "8b42c82f",
   "metadata": {},
   "source": [
    "### eroarea teoretica"
   ]
  },
  {
   "cell_type": "markdown",
   "id": "84bcfcf3",
   "metadata": {},
   "source": [
    "#### lagrange"
   ]
  },
  {
   "cell_type": "markdown",
   "id": "75f883b1",
   "metadata": {},
   "source": [
    "Putem calcula eroarea cu:\n",
    "$$\n",
    "\\frac{f^{(n+1)}(\\xi(x))}{(n+1)!}(x-x_0)(x-x_1)\\dots(x-x_n)\n",
    "$$\n",
    "$$\n",
    "\\xi(x)\\in(\\min{\\{x_0,\\dots,x_n\\}},\\max{\\{x_0,\\dots,x_n\\}})\n",
    "$$"
   ]
  },
  {
   "cell_type": "markdown",
   "id": "71f3e417",
   "metadata": {},
   "source": [
    "Vrem sa aflam eroarea maxima posibila, asadar vom cauta valoarea maxima a lui $f^{(n+1)}(\\xi(x))$."
   ]
  },
  {
   "cell_type": "code",
   "execution_count": 7,
   "id": "5c79bf46",
   "metadata": {},
   "outputs": [
    {
     "data": {
      "text/html": [
       "<html>\\(\\displaystyle 512 \\, \\cos\\left(x\\right)^{2} - 512 \\, \\sin\\left(x\\right)^{2}\\)</html>"
      ],
      "text/latex": [
       "$\\displaystyle 512 \\, \\cos\\left(x\\right)^{2} - 512 \\, \\sin\\left(x\\right)^{2}$"
      ],
      "text/plain": [
       "512*cos(x)^2 - 512*sin(x)^2"
      ]
     },
     "metadata": {},
     "output_type": "display_data"
    }
   ],
   "source": [
    "fd = f.diff(n)\n",
    "print(fd)"
   ]
  },
  {
   "cell_type": "markdown",
   "id": "a5c2f764",
   "metadata": {},
   "source": [
    "Nodurile sunt intre $[-2\\pi, 2\\pi]$, asadar valoarea maxima a lui $f^{(n+1)}(\\xi(x))$ se va obtine pentru $\\xi(x)=0$."
   ]
  },
  {
   "cell_type": "code",
   "execution_count": 8,
   "id": "006b0d9d",
   "metadata": {},
   "outputs": [
    {
     "data": {
      "text/html": [
       "<html>\\(\\displaystyle 512\\)</html>"
      ],
      "text/latex": [
       "$\\displaystyle 512$"
      ],
      "text/plain": [
       "512"
      ]
     },
     "metadata": {},
     "output_type": "display_data"
    }
   ],
   "source": [
    "fv = fd.substitute(x=0)\n",
    "print(fv)"
   ]
  },
  {
   "cell_type": "code",
   "execution_count": 9,
   "id": "c9fce8d6",
   "metadata": {},
   "outputs": [
    {
     "data": {
      "text/html": [
       "<html>\\(\\displaystyle -14.2409181584873\\)</html>"
      ],
      "text/latex": [
       "$\\displaystyle -14.2409181584873$"
      ],
      "text/plain": [
       "-14.2409181584873"
      ]
     },
     "metadata": {},
     "output_type": "display_data"
    }
   ],
   "source": [
    "t = pi/5\n",
    "\n",
    "err = fv / factorial(n)\n",
    "for node in nodes:\n",
    "    err *= (t - node)\n",
    "print(err.n())"
   ]
  },
  {
   "cell_type": "markdown",
   "id": "170f3199",
   "metadata": {},
   "source": [
    "#### hermite"
   ]
  },
  {
   "cell_type": "markdown",
   "id": "793d735b",
   "metadata": {},
   "source": [
    "Putem calcula eroarea cu:\n",
    "$$\n",
    "\\begin{aligned}\n",
    "(R_nf)(x)&=\\frac{u(x)}{(n+1)!}f^{(n+1)}(\\xi) \\\\\n",
    "u(x)&=(x-x_0)^{r_0+1}(x-x_1)^{r_1+1}\\dots(x-x_m)^{r_m+1} \\\\\n",
    "\\xi&\\in(\\min{\\{x_0,\\dots,x_m\\}},\\max{\\{x_0,\\dots,x_m\\}}) \\\\\n",
    "\\end{aligned}\n",
    "$$\n",
    "$$\n",
    "n+1=m+1+r_0+\\dots+r_m\n",
    "$$"
   ]
  },
  {
   "cell_type": "markdown",
   "id": "bd4d5b68",
   "metadata": {},
   "source": [
    "Polinomul Hermite implementat de noi imita $f(x)$ si $f'(x)$, deci $r_k=1,\\forall k$."
   ]
  },
  {
   "cell_type": "code",
   "execution_count": 10,
   "id": "873db6de",
   "metadata": {},
   "outputs": [],
   "source": [
    "rm = n-1\n",
    "rn = (rm+1)*2"
   ]
  },
  {
   "cell_type": "markdown",
   "id": "1573b11d",
   "metadata": {},
   "source": [
    "Vrem sa aflam eroarea maxima posibila, asadar vom cauta valoarea maxima a lui $f^{(n+1)}(\\xi)$."
   ]
  },
  {
   "cell_type": "code",
   "execution_count": 11,
   "id": "4cf47bad",
   "metadata": {},
   "outputs": [
    {
     "data": {
      "text/html": [
       "<html>\\(\\displaystyle -524288 \\, \\cos\\left(x\\right)^{2} + 524288 \\, \\sin\\left(x\\right)^{2}\\)</html>"
      ],
      "text/latex": [
       "$\\displaystyle -524288 \\, \\cos\\left(x\\right)^{2} + 524288 \\, \\sin\\left(x\\right)^{2}$"
      ],
      "text/plain": [
       "-524288*cos(x)^2 + 524288*sin(x)^2"
      ]
     },
     "metadata": {},
     "output_type": "display_data"
    }
   ],
   "source": [
    "fd = f.diff(rn)\n",
    "print(fd)"
   ]
  },
  {
   "cell_type": "markdown",
   "id": "9fa0605c",
   "metadata": {},
   "source": [
    "Nodurile sunt intre $[-2\\pi, 2\\pi]$, asadar valoarea maxima a lui $f^{(n+1)}(\\xi)$ se va obtine pentru $\\xi=\\pi/2$."
   ]
  },
  {
   "cell_type": "code",
   "execution_count": 12,
   "id": "2953e8d2",
   "metadata": {},
   "outputs": [
    {
     "data": {
      "text/html": [
       "<html>\\(\\displaystyle 524288\\)</html>"
      ],
      "text/latex": [
       "$\\displaystyle 524288$"
      ],
      "text/plain": [
       "524288"
      ]
     },
     "metadata": {},
     "output_type": "display_data"
    }
   ],
   "source": [
    "fv = fd.substitute(x=pi/2)\n",
    "print(fv)"
   ]
  },
  {
   "cell_type": "code",
   "execution_count": 13,
   "id": "118d02f9",
   "metadata": {},
   "outputs": [],
   "source": [
    "u = 1\n",
    "for node in nodes:\n",
    "    u *= (t - node)**2"
   ]
  },
  {
   "cell_type": "code",
   "execution_count": 14,
   "id": "0968cf78",
   "metadata": {},
   "outputs": [
    {
     "data": {
      "text/html": [
       "<html>\\(\\displaystyle 0.00219536848596780\\)</html>"
      ],
      "text/latex": [
       "$\\displaystyle 0.00219536848596780$"
      ],
      "text/plain": [
       "0.00219536848596780"
      ]
     },
     "metadata": {},
     "output_type": "display_data"
    }
   ],
   "source": [
    "err = (u/factorial(rn)) * fv\n",
    "print(err.n())"
   ]
  },
  {
   "cell_type": "code",
   "execution_count": null,
   "id": "0f33377c",
   "metadata": {},
   "outputs": [],
   "source": []
  }
 ],
 "metadata": {
  "kernelspec": {
   "display_name": "Python 3 (ipykernel)",
   "language": "python",
   "name": "python3"
  },
  "language_info": {
   "codemirror_mode": {
    "name": "ipython",
    "version": 3
   },
   "file_extension": ".py",
   "mimetype": "text/x-python",
   "name": "python",
   "nbconvert_exporter": "python",
   "pygments_lexer": "ipython3",
   "version": "3.11.6"
  }
 },
 "nbformat": 4,
 "nbformat_minor": 5
}
