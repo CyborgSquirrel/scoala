{
 "cells": [
  {
   "cell_type": "code",
   "execution_count": 76,
   "id": "716af25e",
   "metadata": {},
   "outputs": [],
   "source": [
    "import itertools"
   ]
  },
  {
   "cell_type": "code",
   "execution_count": 36,
   "id": "a542c8ec",
   "metadata": {},
   "outputs": [],
   "source": [
    "%display latex"
   ]
  },
  {
   "cell_type": "markdown",
   "id": "f6f98eed",
   "metadata": {},
   "source": [
    "# Metoda lui Newton pentru ecuatii neliniare"
   ]
  },
  {
   "cell_type": "code",
   "execution_count": 83,
   "id": "bfd7335b",
   "metadata": {},
   "outputs": [],
   "source": [
    "def newton_solve(f, p0, eps, max_iter=100):\n",
    "    fd = diff(f)\n",
    "    for _ in range(max_iter):\n",
    "        p = p0 - f(p0) / fd(p0)\n",
    "        p = p.n()\n",
    "        if abs(p - p0) < eps:\n",
    "            return p\n",
    "        p0 = p\n",
    "    raise RuntimeError(f\"could not find value with satisfactory precision after {max_iter} iterations\")"
   ]
  },
  {
   "cell_type": "code",
   "execution_count": 84,
   "id": "2c789559",
   "metadata": {},
   "outputs": [
    {
     "data": {
      "text/html": [
       "<html>\\(\\displaystyle 0.739085133215161\\)</html>"
      ],
      "text/latex": [
       "$\\displaystyle 0.739085133215161$"
      ],
      "text/plain": [
       "0.739085133215161"
      ]
     },
     "execution_count": 84,
     "metadata": {},
     "output_type": "execute_result"
    }
   ],
   "source": [
    "x = var(\"x\")\n",
    "f = function(\"f\")\n",
    "f(x) = cos(x) - x\n",
    "newton_solve(f, pi/4, 10**-10)"
   ]
  },
  {
   "cell_type": "markdown",
   "id": "a92883a2",
   "metadata": {},
   "source": [
    "# Metoda secantei pentru ecuatii neliniare"
   ]
  },
  {
   "cell_type": "code",
   "execution_count": 8,
   "id": "e2cea8ed",
   "metadata": {},
   "outputs": [],
   "source": [
    "def secant_solve(f, p0, p1, eps, max_iter=100):\n",
    "    q0 = f(p0).n()\n",
    "    q1 = f(p1).n()\n",
    "    for i in range(max_iter):\n",
    "        p = p1 - (q1 * (p1 - p0)) / (q1 - q0)\n",
    "        p = p.n()\n",
    "        if abs(p - p1) < eps:\n",
    "            return p\n",
    "        p0, q0 = p1, q1\n",
    "        p1, q1 = p, f(p).n()\n",
    "    raise RuntimeError(f\"could not find value with satisfactory precision after {max_iter} iterations\")"
   ]
  },
  {
   "cell_type": "code",
   "execution_count": 9,
   "id": "a827aa88",
   "metadata": {},
   "outputs": [
    {
     "data": {
      "text/plain": [
       "0.739085133215161"
      ]
     },
     "execution_count": 9,
     "metadata": {},
     "output_type": "execute_result"
    }
   ],
   "source": [
    "x = var(\"x\")\n",
    "f = function(\"f\")\n",
    "f(x) = cos(x) - x\n",
    "secant_solve(f, 0.5, pi/4, 10**-10)"
   ]
  },
  {
   "cell_type": "markdown",
   "id": "077e8158",
   "metadata": {},
   "source": [
    "# Metoda lui Newton pentru sisteme de ecuatii neliniare"
   ]
  },
  {
   "cell_type": "code",
   "execution_count": 81,
   "id": "46654ef4",
   "metadata": {},
   "outputs": [],
   "source": [
    "def newton_solve_sys(f, v, eps, x0, max_iter=100):\n",
    "    J = jacobian(f, v)\n",
    "    for _ in range(max_iter):\n",
    "        x = x0 - J(*x0) ** -1 * f(*x0)\n",
    "        x = x.n()\n",
    "        if abs(x - x0) < eps:\n",
    "            return x\n",
    "        x0 = x\n",
    "    \n",
    "    raise RuntimeError(f\"could not find value with satisfactory precision after {max_iter} iterations\")"
   ]
  },
  {
   "cell_type": "code",
   "execution_count": 82,
   "id": "ea711113",
   "metadata": {},
   "outputs": [
    {
     "data": {
      "text/html": [
       "<html>\\(\\displaystyle \\left(0.826031357654187,\\,0.563624162161259\\right)\\)</html>"
      ],
      "text/latex": [
       "$\\displaystyle \\left(0.826031357654187,\\,0.563624162161259\\right)$"
      ],
      "text/plain": [
       "(0.826031357654187, 0.563624162161259)"
      ]
     },
     "metadata": {},
     "output_type": "display_data"
    },
    {
     "data": {
      "text/html": [
       "<html>\\(\\displaystyle \\left(5.55111512312578 \\times 10^{-17},\\,1.11022302462516 \\times 10^{-16}\\right)\\)</html>"
      ],
      "text/latex": [
       "$\\displaystyle \\left(5.55111512312578 \\times 10^{-17},\\,1.11022302462516 \\times 10^{-16}\\right)$"
      ],
      "text/plain": [
       "(5.55111512312578e-17, 1.11022302462516e-16)"
      ]
     },
     "metadata": {},
     "output_type": "display_data"
    }
   ],
   "source": [
    "x, y = var(\"x, y\")\n",
    "f0 = function(\"f_0\")\n",
    "f1 = function(\"f_1\")\n",
    "f0(x, y) = x**2 + y**2 - 1\n",
    "f1(x, y) = x**3 - y\n",
    "\n",
    "f = vector((f0, f1))\n",
    "v = vector((x, y))\n",
    "\n",
    "sol = newton_solve_sys(f, v, 10**-10, vector((1, 1)))\n",
    "display(sol)\n",
    "display(f(*sol))"
   ]
  },
  {
   "cell_type": "code",
   "execution_count": null,
   "id": "d87f88da",
   "metadata": {},
   "outputs": [],
   "source": []
  }
 ],
 "metadata": {
  "kernelspec": {
   "display_name": "SageMath 10.0",
   "language": "sagemath",
   "name": "sagemath"
  },
  "language_info": {
   "codemirror_mode": {
    "name": "ipython",
    "version": 3
   },
   "file_extension": ".py",
   "mimetype": "text/x-python",
   "name": "python",
   "nbconvert_exporter": "python",
   "pygments_lexer": "ipython3",
   "version": "3.11.6"
  }
 },
 "nbformat": 4,
 "nbformat_minor": 5
}
