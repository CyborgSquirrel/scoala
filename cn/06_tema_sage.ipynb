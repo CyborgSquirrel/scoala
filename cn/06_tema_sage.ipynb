{
 "cells": [
  {
   "cell_type": "markdown",
   "id": "19022731",
   "metadata": {},
   "source": [
    "# Probleme practice"
   ]
  },
  {
   "cell_type": "markdown",
   "id": "70f03840",
   "metadata": {},
   "source": [
    "## 3"
   ]
  },
  {
   "cell_type": "code",
   "execution_count": 2,
   "id": "61ce3e83",
   "metadata": {},
   "outputs": [
    {
     "data": {
      "text/plain": [
       "10.7238052947636"
      ]
     },
     "execution_count": 2,
     "metadata": {},
     "output_type": "execute_result"
    }
   ],
   "source": [
    "sqrt(115).n()"
   ]
  },
  {
   "cell_type": "code",
   "execution_count": 4,
   "id": "3e7a191e",
   "metadata": {},
   "outputs": [
    {
     "data": {
      "text/plain": [
       "-2431/262144*(x - 25)*(x - 36)*(x - 49)*(x - 64)*(x - 81)*(x - 100)*(x - 121)*(x - 144)*(x - 169)*(x - 196)/x^(19/2)"
      ]
     },
     "execution_count": 4,
     "metadata": {},
     "output_type": "execute_result"
    }
   ],
   "source": [
    "values = list(range(5, 15))\n",
    "nodes = list(map(lambda a: a**2, values))\n",
    "m = len(nodes)\n",
    "\n",
    "rest = 1\n",
    "x = var(\"x\")\n",
    "for node in nodes:\n",
    "    rest *= x - node\n",
    "rest /= factorial(m)\n",
    "rest *= diff(sqrt(x), m)\n",
    "rest"
   ]
  },
  {
   "cell_type": "code",
   "execution_count": 12,
   "id": "17bdb04c",
   "metadata": {},
   "outputs": [
    {
     "data": {
      "text/plain": [
       "True"
      ]
     },
     "execution_count": 12,
     "metadata": {},
     "output_type": "execute_result"
    }
   ],
   "source": [
    "bool(rest.substitute(x=115) < 10**-3)"
   ]
  }
 ],
 "metadata": {
  "kernelspec": {
   "display_name": "SageMath 10.0",
   "language": "sagemath",
   "name": "sagemath"
  },
  "language_info": {
   "codemirror_mode": {
    "name": "ipython",
    "version": 3
   },
   "file_extension": ".py",
   "mimetype": "text/x-python",
   "name": "python",
   "nbconvert_exporter": "python",
   "pygments_lexer": "ipython3",
   "version": "3.11.6"
  }
 },
 "nbformat": 4,
 "nbformat_minor": 5
}
