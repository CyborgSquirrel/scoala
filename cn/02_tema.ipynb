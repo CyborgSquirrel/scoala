{
 "cells": [
  {
   "cell_type": "code",
   "execution_count": 1,
   "id": "c4565eeb-5b81-4cd2-9652-fbba729945dc",
   "metadata": {},
   "outputs": [],
   "source": [
    "import math\n",
    "import numpy as np"
   ]
  },
  {
   "cell_type": "markdown",
   "id": "ff86a77c-c05a-4769-b954-eafdb73bd287",
   "metadata": {},
   "source": [
    "# Problema 2"
   ]
  },
  {
   "cell_type": "markdown",
   "id": "73b0107b-5386-4d85-8f0b-0168cdc4a2f4",
   "metadata": {},
   "source": [
    "Pentru $x$ numar mare, eroarea creste foarte mult, si aproximarea nu mai este buna."
   ]
  },
  {
   "cell_type": "code",
   "execution_count": 2,
   "id": "92dbd57f-4395-412e-a7b7-45c5f3e4d567",
   "metadata": {},
   "outputs": [
    {
     "name": "stdout",
     "output_type": "stream",
     "text": [
      "0.0\n",
      "0.0\n",
      "-1.2246467991473533e-15\n",
      "-1.5567031727040507e+302\n"
     ]
    }
   ],
   "source": [
    "def taylor_sin(x, n):\n",
    "    x = float(x)\n",
    "    \n",
    "    r = 0.0\n",
    "    xn = 1.0\n",
    "    factn = 1.0\n",
    "    for i in range(n+1):\n",
    "        if i % 2 != 0:\n",
    "            sign = 1.0\n",
    "            if (i // 2) % 2 != 0:\n",
    "                sign = -1.0\n",
    "\n",
    "            r += sign*xn*factn\n",
    "\n",
    "        xn *= x\n",
    "        if i >= 1:\n",
    "            factn *= i\n",
    "    return r\n",
    "\n",
    "\n",
    "def print_sin(x):\n",
    "    print(math.sin(x))\n",
    "    print(taylor_sin(x, 100))\n",
    "\n",
    "\n",
    "print_sin(0)\n",
    "print_sin(math.pi*10)"
   ]
  },
  {
   "cell_type": "code",
   "execution_count": 3,
   "id": "ffb74664-9f44-41e9-8948-d4fdf8940c65",
   "metadata": {},
   "outputs": [
    {
     "name": "stdout",
     "output_type": "stream",
     "text": [
      "1.0\n",
      "1.0\n",
      "1.0\n",
      "4.841621989100387e+305\n"
     ]
    }
   ],
   "source": [
    "def taylor_cos(x, n):\n",
    "    x = float(x)\n",
    "    \n",
    "    r = 0.0\n",
    "    xn = 1.0\n",
    "    factn = 1.0\n",
    "    for i in range(n+1):\n",
    "        if i % 2 == 0:\n",
    "            sign = 1.0\n",
    "            if (i // 2) % 2 != 0:\n",
    "                sign = -1.0\n",
    "\n",
    "            r += sign*xn*factn\n",
    "\n",
    "        xn *= x\n",
    "        if i >= 1:\n",
    "            factn *= i\n",
    "    return r\n",
    "\n",
    "\n",
    "def print_cos(x):\n",
    "    print(math.cos(x))\n",
    "    print(taylor_cos(x, 100))\n",
    "\n",
    "\n",
    "print_cos(0)\n",
    "print_cos(math.pi*10)"
   ]
  },
  {
   "cell_type": "markdown",
   "id": "1ca42813-59dc-4359-a0d2-74ff37436b58",
   "metadata": {},
   "source": [
    "---"
   ]
  },
  {
   "cell_type": "markdown",
   "id": "a4b8aa8e-b614-4821-a4f7-1403cfaf0559",
   "metadata": {},
   "source": [
    "Solutie propusa: facem ca $x$ sa fie intotdeauna in intervalul $[0,2\\pi)$.\n",
    "\n",
    "$$x'=x-\\left[\\frac{x}{2\\pi}\\right]\\cdot2\\pi$$"
   ]
  },
  {
   "cell_type": "code",
   "execution_count": 4,
   "id": "7d3c98bc-c11d-4f9f-a3ee-b6bc7f5baea1",
   "metadata": {},
   "outputs": [
    {
     "name": "stdout",
     "output_type": "stream",
     "text": [
      "0.0\n",
      "0.0\n",
      "-1.2246467991473533e-15\n",
      "0.0\n"
     ]
    }
   ],
   "source": [
    "def taylor_sin(x, n):\n",
    "    x = float(x)\n",
    "    x -= math.floor(x / math.tau) * math.tau\n",
    "    \n",
    "    r = 0.0\n",
    "    xn = 1.0\n",
    "    factn = 1.0\n",
    "    for i in range(n+1):\n",
    "        if i % 2 != 0:\n",
    "            sign = 1.0\n",
    "            if (i // 2) % 2 != 0:\n",
    "                sign = -1.0\n",
    "\n",
    "            r += sign*xn*factn\n",
    "\n",
    "        xn *= x\n",
    "        if i >= 1:\n",
    "            factn *= i\n",
    "    return r\n",
    "\n",
    "\n",
    "def print_sin(x):\n",
    "    print(math.sin(x))\n",
    "    print(taylor_sin(x, 100))\n",
    "\n",
    "\n",
    "print_sin(0)\n",
    "print_sin(math.pi*10)"
   ]
  },
  {
   "cell_type": "code",
   "execution_count": 5,
   "id": "22d29f19-5fe6-4b7a-903f-9a065d04e5c5",
   "metadata": {},
   "outputs": [
    {
     "name": "stdout",
     "output_type": "stream",
     "text": [
      "1.0\n",
      "1.0\n",
      "1.0\n",
      "1.0\n"
     ]
    }
   ],
   "source": [
    "def taylor_cos(x, n):\n",
    "    x = float(x)\n",
    "    x -= math.floor(x / math.tau) * math.tau\n",
    "    \n",
    "    r = 0.0\n",
    "    xn = 1.0\n",
    "    factn = 1.0\n",
    "    for i in range(n+1):\n",
    "        if i % 2 == 0:\n",
    "            sign = 1.0\n",
    "            if (i // 2) % 2 != 0:\n",
    "                sign = -1.0\n",
    "\n",
    "            r += sign*xn*factn\n",
    "\n",
    "        xn *= x\n",
    "        if i >= 1:\n",
    "            factn *= i\n",
    "    return r\n",
    "\n",
    "\n",
    "def print_cos(x):\n",
    "    print(math.cos(x))\n",
    "    print(taylor_cos(x, 100))\n",
    "\n",
    "\n",
    "print_cos(0)\n",
    "print_cos(math.pi*10)"
   ]
  },
  {
   "cell_type": "markdown",
   "id": "cd4993fe-af3c-48b4-87bb-62a266b88a0e",
   "metadata": {},
   "source": [
    "# Problema 3"
   ]
  },
  {
   "cell_type": "code",
   "execution_count": 6,
   "id": "ca03d49d-ed9c-4845-8b85-59dc8cfb9c5c",
   "metadata": {},
   "outputs": [],
   "source": [
    "def make_pade(d_fn):\n",
    "    def fn(x, k, m):\n",
    "        def c(i):\n",
    "            if i < 0:\n",
    "                return 0\n",
    "            return d_fn(i) / math.factorial(i)\n",
    "    \n",
    "        mat = np.array([\n",
    "            [\n",
    "                c(m+i-j)\n",
    "                for j in range(k)\n",
    "            ]\n",
    "            for i in range(k)\n",
    "        ])\n",
    "        vec = np.array([\n",
    "            -c(m+i+1)\n",
    "            for i in range(k)\n",
    "        ])\n",
    "        b = np.linalg.solve(mat, vec)\n",
    "        b = np.concatenate([np.array([1]), b])\n",
    "        \n",
    "        a = []\n",
    "        for j in range(m+1):\n",
    "            ac = 0\n",
    "            for l in range(j+1):\n",
    "                ac += c(j-l)*b[l]\n",
    "            a.append(ac)\n",
    "        a = np.array(a)\n",
    "    \n",
    "        sol = (\n",
    "            np.sum(a * (x**np.arange(m+1)))\n",
    "            /\n",
    "            np.sum(b * (x**np.arange(k+1)))\n",
    "        )\n",
    "        return sol\n",
    "    return fn"
   ]
  },
  {
   "cell_type": "code",
   "execution_count": 7,
   "id": "271ab8ff-89b5-4ca0-9f56-90c1ca685b19",
   "metadata": {},
   "outputs": [
    {
     "name": "stdout",
     "output_type": "stream",
     "text": [
      "0.0\n",
      "1.1877773033992483\n",
      "6.5190243173352054e-06\n",
      "0.189831892189691\n",
      "0.052664660910747924\n"
     ]
    }
   ],
   "source": [
    "def sin_d_0(i):\n",
    "    match i%4:\n",
    "        case 0:\n",
    "            return 0\n",
    "        case 1:\n",
    "            return 1\n",
    "        case 2:\n",
    "            return 0\n",
    "        case 3:\n",
    "            return -1\n",
    "        case _:\n",
    "            assert False\n",
    "\n",
    "\n",
    "pade_sin = make_pade(sin_d_0)\n",
    "\n",
    "\n",
    "print(pade_sin(0, 2, 2))\n",
    "print(pade_sin(math.pi, 2, 2))\n",
    "print(pade_sin(math.pi, 10, 5))\n",
    "print(pade_sin(math.pi*10, 2, 2))\n",
    "print(pade_sin(math.pi*10, 10, 5))"
   ]
  },
  {
   "cell_type": "code",
   "execution_count": 8,
   "id": "0ff4d6e4-f1ad-40b2-907c-c1ba567c0b7a",
   "metadata": {},
   "outputs": [
    {
     "name": "stdout",
     "output_type": "stream",
     "text": [
      "1.0\n",
      "-1.7077593778324784\n",
      "-0.9999190429216954\n",
      "-4.927925073797569\n",
      "0.0026250982199968144\n"
     ]
    }
   ],
   "source": [
    "def cos_d_0(i):\n",
    "    match i%4:\n",
    "        case 0:\n",
    "            return 1\n",
    "        case 1:\n",
    "            return 0\n",
    "        case 2:\n",
    "            return -1\n",
    "        case 3:\n",
    "            return 0\n",
    "        case _:\n",
    "            assert False\n",
    "\n",
    "\n",
    "pade_cos = make_pade(cos_d_0)\n",
    "\n",
    "\n",
    "print(pade_cos(0, 2, 2))\n",
    "print(pade_cos(math.pi, 2, 2))\n",
    "print(pade_cos(math.pi, 10, 5))\n",
    "print(pade_cos(math.pi*10, 2, 2))\n",
    "print(pade_cos(math.pi*10, 10, 5))"
   ]
  },
  {
   "cell_type": "code",
   "execution_count": null,
   "id": "0812223d-a2d7-4e53-8947-842bf6b24e71",
   "metadata": {},
   "outputs": [],
   "source": []
  }
 ],
 "metadata": {
  "kernelspec": {
   "display_name": "Python 3 (ipykernel)",
   "language": "python",
   "name": "python3"
  },
  "language_info": {
   "codemirror_mode": {
    "name": "ipython",
    "version": 3
   },
   "file_extension": ".py",
   "mimetype": "text/x-python",
   "name": "python",
   "nbconvert_exporter": "python",
   "pygments_lexer": "ipython3",
   "version": "3.11.6"
  }
 },
 "nbformat": 4,
 "nbformat_minor": 5
}
