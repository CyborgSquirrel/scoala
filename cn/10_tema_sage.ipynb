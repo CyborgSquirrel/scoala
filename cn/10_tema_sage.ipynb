{
 "cells": [
  {
   "cell_type": "code",
   "execution_count": 18,
   "id": "4028161e",
   "metadata": {},
   "outputs": [
    {
     "data": {
      "text/html": [
       "<html>\\(\\displaystyle -\\frac{1}{20} \\, a + \\frac{1}{20} \\, b + f\\left(a\\right) + f\\left(b\\right) + f\\left(x_{1}\\right) + f\\left(x_{2}\\right) + f\\left(x_{3}\\right) + f\\left(x_{4}\\right) + f\\left(x_{5}\\right) + f\\left(x_{6}\\right) + f\\left(x_{7}\\right) + f\\left(x_{8}\\right) + f\\left(x_{9}\\right)\\)</html>"
      ],
      "text/latex": [
       "$\\displaystyle -\\frac{1}{20} \\, a + \\frac{1}{20} \\, b + f\\left(a\\right) + f\\left(b\\right) + f\\left(x_{1}\\right) + f\\left(x_{2}\\right) + f\\left(x_{3}\\right) + f\\left(x_{4}\\right) + f\\left(x_{5}\\right) + f\\left(x_{6}\\right) + f\\left(x_{7}\\right) + f\\left(x_{8}\\right) + f\\left(x_{9}\\right)$"
      ],
      "text/plain": [
       "-1/20*a + 1/20*b + f(a) + f(b) + f(x_1) + f(x_2) + f(x_3) + f(x_4) + f(x_5) + f(x_6) + f(x_7) + f(x_8) + f(x_9)"
      ]
     },
     "metadata": {},
     "output_type": "display_data"
    }
   ],
   "source": [
    "def newton_cotes(n):\n",
    "    res = 0\n",
    "    f = function(\"f\")\n",
    "    a, b = var(\"a, b\")\n",
    "    res += (b-a) / (2*n)\n",
    "    res += f(a)\n",
    "    res += f(b)\n",
    "    for k in range(1, n):\n",
    "        x_k = var(f\"x_{k}\")\n",
    "        res += f(x_k)\n",
    "    \n",
    "    return res\n",
    "\n",
    "pretty_print(newton_cotes(10))"
   ]
  },
  {
   "cell_type": "code",
   "execution_count": null,
   "id": "16b339ba",
   "metadata": {},
   "outputs": [],
   "source": []
  }
 ],
 "metadata": {
  "kernelspec": {
   "display_name": "SageMath 10.0",
   "language": "sagemath",
   "name": "sagemath"
  },
  "language_info": {
   "codemirror_mode": {
    "name": "ipython",
    "version": 3
   },
   "file_extension": ".py",
   "mimetype": "text/x-python",
   "name": "python",
   "nbconvert_exporter": "python",
   "pygments_lexer": "ipython3",
   "version": "3.11.6"
  }
 },
 "nbformat": 4,
 "nbformat_minor": 5
}
