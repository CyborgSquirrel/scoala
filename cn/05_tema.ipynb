{
 "cells": [
  {
   "cell_type": "code",
   "execution_count": 1,
   "id": "70af2e39-3df4-4a29-ab40-bfa4ad8363bd",
   "metadata": {},
   "outputs": [],
   "source": [
    "import numpy as np"
   ]
  },
  {
   "cell_type": "code",
   "execution_count": 2,
   "id": "7129a1f2-7b03-443c-ba04-eaf57e7ba8e2",
   "metadata": {},
   "outputs": [],
   "source": [
    "np.set_printoptions(formatter={'float_kind':\"{:.2f}\".format})"
   ]
  },
  {
   "cell_type": "code",
   "execution_count": 3,
   "id": "5f1500e0-9005-4188-adac-99b91e6ffa55",
   "metadata": {},
   "outputs": [
    {
     "data": {
      "text/plain": [
       "(array([[5.00, -1.00, 0.00, 0.00, 0.00],\n",
       "        [-1.00, 5.00, -1.00, 0.00, 0.00],\n",
       "        [0.00, -1.00, 5.00, -1.00, 0.00],\n",
       "        [0.00, 0.00, -1.00, 5.00, -1.00],\n",
       "        [0.00, 0.00, 0.00, -1.00, 5.00]]),\n",
       " array([4.00, 3.00, 3.00, 3.00, 4.00]))"
      ]
     },
     "execution_count": 3,
     "metadata": {},
     "output_type": "execute_result"
    }
   ],
   "source": [
    "def s1(n):\n",
    "    A = (\n",
    "        + np.diag(np.ones(n)*5, 0)\n",
    "        + np.diag(np.ones(n-1)*-1, -1)\n",
    "        + np.diag(np.ones(n-1)*-1, 1)\n",
    "    )\n",
    "    b = np.ones(n)*3\n",
    "    b[[0, -1]] = 4\n",
    "    return A, b\n",
    "s1(5)"
   ]
  },
  {
   "cell_type": "code",
   "execution_count": 4,
   "id": "7fe4130a-6435-4f82-a452-9b4b3c0f6d60",
   "metadata": {},
   "outputs": [
    {
     "data": {
      "text/plain": [
       "(array([[5.00, -1.00, 0.00, -1.00, 0.00, 0.00, 0.00],\n",
       "        [-1.00, 5.00, -1.00, 0.00, -1.00, 0.00, 0.00],\n",
       "        [0.00, -1.00, 5.00, -1.00, 0.00, -1.00, 0.00],\n",
       "        [-1.00, 0.00, -1.00, 5.00, -1.00, 0.00, -1.00],\n",
       "        [0.00, -1.00, 0.00, -1.00, 5.00, -1.00, 0.00],\n",
       "        [0.00, 0.00, -1.00, 0.00, -1.00, 5.00, -1.00],\n",
       "        [0.00, 0.00, 0.00, -1.00, 0.00, -1.00, 5.00]]),\n",
       " array([3.00, 2.00, 2.00, 1.00, 2.00, 2.00, 3.00]))"
      ]
     },
     "execution_count": 4,
     "metadata": {},
     "output_type": "execute_result"
    }
   ],
   "source": [
    "def s2(n):\n",
    "    A = (\n",
    "        + np.diag(np.ones(n)*5, 0)\n",
    "        + np.diag(np.ones(n-1)*-1, -1)\n",
    "        + np.diag(np.ones(n-3)*-1, -3)\n",
    "        + np.diag(np.ones(n-1)*-1, 1)\n",
    "        + np.diag(np.ones(n-3)*-1, 3)\n",
    "    )\n",
    "    b = np.ones(n)\n",
    "    b[[1, 2, -2, -3]] = 2\n",
    "    b[[0, -1]] = 3\n",
    "    return A, b\n",
    "s2(7)"
   ]
  },
  {
   "cell_type": "code",
   "execution_count": 5,
   "id": "68d5b102-a432-4ac0-a5c3-8b33322e044e",
   "metadata": {},
   "outputs": [
    {
     "data": {
      "text/plain": [
       "(array([[11.74, 0.37, 0.21, 0.50, 0.87, 0.16, 0.32, 0.33, 0.16, 0.40],\n",
       "        [0.86, 11.65, 0.58, 0.29, 0.22, 0.24, 0.99, 0.13, 0.70, 0.07],\n",
       "        [0.69, 0.77, 11.92, 0.52, 0.53, 0.18, 0.61, 0.53, 0.20, 0.07],\n",
       "        [0.73, 0.17, 0.71, 11.81, 0.08, 0.43, 0.57, 0.57, 0.10, 0.34],\n",
       "        [0.05, 0.33, 0.14, 0.04, 11.54, 0.86, 0.28, 0.59, 0.93, 0.60],\n",
       "        [0.15, 0.77, 0.70, 0.29, 0.38, 11.44, 0.57, 0.84, 0.63, 0.17],\n",
       "        [0.04, 0.18, 0.11, 0.38, 0.65, 0.27, 11.70, 0.52, 0.05, 0.77],\n",
       "        [0.87, 0.65, 0.69, 0.92, 0.12, 0.99, 0.81, 11.83, 0.26, 0.06],\n",
       "        [0.67, 0.36, 0.82, 0.61, 0.58, 0.15, 0.86, 0.14, 11.35, 0.82],\n",
       "        [0.50, 0.98, 0.97, 0.63, 0.44, 0.83, 0.05, 0.52, 0.64, 11.75]]),\n",
       " array([ 1,  2,  3,  4,  5,  6,  7,  8,  9, 10]))"
      ]
     },
     "execution_count": 5,
     "metadata": {},
     "output_type": "execute_result"
    }
   ],
   "source": [
    "def s3(n):\n",
    "    A = np.random.uniform(0, 1, size=(n, n))\n",
    "    A += np.diag(np.ones(n))*(n+1)\n",
    "    b = np.arange(1, n+1)\n",
    "    return A, b\n",
    "s3(10)"
   ]
  },
  {
   "cell_type": "markdown",
   "id": "032ff33d-6959-421d-8bef-65ae49615609",
   "metadata": {},
   "source": [
    "# Metoda Jacobi"
   ]
  },
  {
   "cell_type": "code",
   "execution_count": 6,
   "id": "04e4686f-98b8-4c2a-bbf3-6d4ee6285fa1",
   "metadata": {},
   "outputs": [
    {
     "name": "stdout",
     "output_type": "stream",
     "text": [
      "s1\n",
      "a convers in 24 iteratii\n",
      "[1.00 1.00 1.00 1.00 1.00 1.00 1.00 1.00 1.00 1.00]\n",
      "[1.00 1.00 1.00 1.00 1.00 1.00 1.00 1.00 1.00 1.00]\n",
      "s2\n",
      "a convers in 56 iteratii\n",
      "[1.00 1.00 1.00 1.00 1.00 1.00 1.00 1.00 1.00 1.00]\n",
      "[1.00 1.00 1.00 1.00 1.00 1.00 1.00 1.00 1.00 1.00]\n"
     ]
    }
   ],
   "source": [
    "def jacobi(A, b, iter=100, thresh=10**-10):\n",
    "    assert len(A.shape) == 2\n",
    "    assert len(b.shape) == 1\n",
    "    assert A.shape[0] == A.shape[1] == b.shape[0]\n",
    "    n = A.shape[0]\n",
    "    \n",
    "    d = np.diag(A)\n",
    "    coef = np.concatenate([-b.reshape(-1, 1), A - np.diag(d)], 1) / -d.reshape(-1, 1)\n",
    "\n",
    "    converged = False\n",
    "    x = np.zeros(n)\n",
    "    for i in range(iter):\n",
    "        xp = x\n",
    "        xe = np.concatenate([np.ones(1), xp])\n",
    "        x = np.sum(coef * xe, 1)\n",
    "\n",
    "        err = np.abs(np.mean(xp - x))\n",
    "        if err < thresh:\n",
    "            print(f\"a convers in {i} iteratii\")\n",
    "            converged = True\n",
    "            break\n",
    "    if not converged:\n",
    "        print(\"nu a convers\")\n",
    "    return x\n",
    "\n",
    "\n",
    "n = 10\n",
    "\n",
    "print(\"s1\")\n",
    "A, b = s1(n)\n",
    "print(jacobi(A, b))\n",
    "print(np.linalg.solve(A, b))\n",
    "\n",
    "print(\"s2\")\n",
    "A, b = s2(n)\n",
    "print(jacobi(A, b))\n",
    "print(np.linalg.solve(A, b))"
   ]
  },
  {
   "cell_type": "markdown",
   "id": "5fcd4547-76be-4322-a118-7e7dbdfc233c",
   "metadata": {},
   "source": [
    "# Metoda Gauss-Seidel"
   ]
  },
  {
   "cell_type": "code",
   "execution_count": 7,
   "id": "b2c2d7a6-6c6a-4583-8059-4b0d6604c7e5",
   "metadata": {},
   "outputs": [
    {
     "name": "stdout",
     "output_type": "stream",
     "text": [
      "s1\n",
      "a convers in 15 iteratii\n",
      "[1.00 1.00 1.00 1.00 1.00 1.00 1.00 1.00 1.00 1.00]\n",
      "[1.00 1.00 1.00 1.00 1.00 1.00 1.00 1.00 1.00 1.00]\n",
      "s2\n",
      "a convers in 31 iteratii\n",
      "[1.00 1.00 1.00 1.00 1.00 1.00 1.00 1.00 1.00 1.00]\n",
      "[1.00 1.00 1.00 1.00 1.00 1.00 1.00 1.00 1.00 1.00]\n"
     ]
    }
   ],
   "source": [
    "def gauss_seidel(A, b, iter=100, thresh=10**-10):\n",
    "    assert len(A.shape) == 2\n",
    "    assert len(b.shape) == 1\n",
    "    assert A.shape[0] == A.shape[1] == b.shape[0]\n",
    "    n = A.shape[0]\n",
    "    \n",
    "    d = np.diag(A)\n",
    "    coef = np.concatenate([-b.reshape(-1, 1), A - np.diag(d)], 1) / -d.reshape(-1, 1)\n",
    "\n",
    "    converged = False\n",
    "    x = np.zeros(n)\n",
    "    for i in range(iter):\n",
    "        xp = x\n",
    "        xe = np.concatenate([np.ones(1), xp])\n",
    "        for j in range(n):\n",
    "            xe[j+1] = np.sum(coef[j] * xe)\n",
    "        x = xe[1:]\n",
    "\n",
    "        err = np.abs(np.mean(xp - x))\n",
    "        if err < thresh:\n",
    "            print(f\"a convers in {i} iteratii\")\n",
    "            converged = True\n",
    "            break\n",
    "    if not converged:\n",
    "        print(\"nu a convers\")\n",
    "    return x\n",
    "\n",
    "\n",
    "n = 10\n",
    "\n",
    "print(\"s1\")\n",
    "A, b = s1(n)\n",
    "print(gauss_seidel(A, b))\n",
    "print(np.linalg.solve(A, b))\n",
    "\n",
    "print(\"s2\")\n",
    "A, b = s2(n)\n",
    "print(gauss_seidel(A, b))\n",
    "print(np.linalg.solve(A, b))"
   ]
  },
  {
   "cell_type": "markdown",
   "id": "3d613a0a-a447-49f9-a2c1-47c5bbcb7828",
   "metadata": {},
   "source": [
    "# Metoda SOR"
   ]
  },
  {
   "cell_type": "code",
   "execution_count": 8,
   "id": "66454c10-c2be-4ae1-b420-fc4829f5bf82",
   "metadata": {},
   "outputs": [],
   "source": [
    "def get_omega(A):\n",
    "    D = np.diag(np.diag(A))\n",
    "    L = np.tril(A) - D\n",
    "    U = np.triu(A) - D\n",
    "    \n",
    "    T = np.matmul(np.linalg.inv(D), (L+U))\n",
    "    spectral = np.max(np.abs(np.linalg.eigvals(T)))\n",
    "    assert spectral < 1\n",
    "    omega = 2 / (1 + np.sqrt(1 - spectral**2))\n",
    "    return omega"
   ]
  },
  {
   "cell_type": "code",
   "execution_count": 9,
   "id": "49979912-cca4-4300-a1eb-d57b138936b4",
   "metadata": {},
   "outputs": [
    {
     "name": "stdout",
     "output_type": "stream",
     "text": [
      "s1\n",
      "0.3837971894457989\n",
      "a convers in 11 iteratii\n",
      "[1.00 1.00 1.00 1.00 1.00 1.00 1.00 1.00 1.00 1.00]\n",
      "[1.00 1.00 1.00 1.00 1.00 1.00 1.00 1.00 1.00 1.00]\n",
      "s2\n",
      "0.676138620597146\n",
      "a convers in 19 iteratii\n",
      "[1.00 1.00 1.00 1.00 1.00 1.00 1.00 1.00 1.00 1.00]\n",
      "[1.00 1.00 1.00 1.00 1.00 1.00 1.00 1.00 1.00 1.00]\n"
     ]
    }
   ],
   "source": [
    "def sor(A, b, iter=100, thresh=10**-10, omega=0.7):\n",
    "    assert len(A.shape) == 2\n",
    "    assert len(b.shape) == 1\n",
    "    assert A.shape[0] == A.shape[1] == b.shape[0]\n",
    "    n = A.shape[0]\n",
    "\n",
    "    x = np.zeros(n)\n",
    "    converged = False\n",
    "    for i in range(iter):\n",
    "        xp = x.copy()\n",
    "        for j in range(n):\n",
    "            x[j] = (\n",
    "                + (1 - omega)*xp[j]\n",
    "                + (omega / A[j, j]) * (\n",
    "                    b[j] - np.sum(A[j, :j]*x[:j]) - np.sum(A[j, j+1:]*xp[j+1:])\n",
    "                )\n",
    "            )\n",
    "\n",
    "        err = np.abs(np.mean(xp - x))\n",
    "        if err < thresh:\n",
    "            print(f\"a convers in {i} iteratii\")\n",
    "            converged = True\n",
    "            break\n",
    "    if not converged:\n",
    "        print(\"nu a convers\")\n",
    "    return x\n",
    "\n",
    "\n",
    "n = 10\n",
    "\n",
    "print(\"s1\")\n",
    "A, b = s1(n)\n",
    "print(sor(A, b, omega=get_omega(A)))\n",
    "print(np.linalg.solve(A, b))\n",
    "\n",
    "print(\"s2\")\n",
    "A, b = s2(n)\n",
    "print(sor(A, b, omega=get_omega(A)))\n",
    "print(np.linalg.solve(A, b))"
   ]
  },
  {
   "cell_type": "code",
   "execution_count": 10,
   "id": "26851f3c-e062-441b-a611-71047ffc9617",
   "metadata": {},
   "outputs": [
    {
     "name": "stdout",
     "output_type": "stream",
     "text": [
      "[-0.05 -0.01 0.15 0.22 0.31 0.35 0.43 0.62 0.66 0.76]\n",
      "a convers in 24 iteratii\n",
      "[-0.05 -0.01 0.15 0.22 0.31 0.35 0.43 0.62 0.66 0.76]\n",
      "a convers in 10 iteratii\n",
      "[-0.05 -0.01 0.15 0.22 0.31 0.35 0.43 0.62 0.66 0.76]\n",
      "0.387905297606404\n",
      "a convers in 10 iteratii\n",
      "[-0.05 -0.01 0.15 0.22 0.31 0.35 0.43 0.62 0.66 0.76]\n"
     ]
    }
   ],
   "source": [
    "A, b = s3(10)\n",
    "\n",
    "print(np.linalg.solve(A, b))\n",
    "print(jacobi(A, b))\n",
    "print(gauss_seidel(A, b))\n",
    "print(sor(A, b, omega=get_omega(A)))"
   ]
  },
  {
   "cell_type": "code",
   "execution_count": null,
   "id": "dc2607e9-7c62-4210-853a-b351154cdcce",
   "metadata": {},
   "outputs": [],
   "source": []
  }
 ],
 "metadata": {
  "kernelspec": {
   "display_name": "Python 3 (ipykernel)",
   "language": "python",
   "name": "python3"
  },
  "language_info": {
   "codemirror_mode": {
    "name": "ipython",
    "version": 3
   },
   "file_extension": ".py",
   "mimetype": "text/x-python",
   "name": "python",
   "nbconvert_exporter": "python",
   "pygments_lexer": "ipython3",
   "version": "3.11.6"
  }
 },
 "nbformat": 4,
 "nbformat_minor": 5
}
