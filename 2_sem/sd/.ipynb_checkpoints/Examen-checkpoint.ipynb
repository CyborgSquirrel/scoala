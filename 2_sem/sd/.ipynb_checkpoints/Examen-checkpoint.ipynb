{
 "cells": [
  {
   "cell_type": "markdown",
   "id": "0ed466a6",
   "metadata": {},
   "source": [
    "### 1"
   ]
  },
  {
   "cell_type": "code",
   "execution_count": 8,
   "id": "4358c83c",
   "metadata": {},
   "outputs": [
    {
     "data": {
      "text/html": [
       "<html>\\[\\newcommand{\\Bold}[1]{\\mathbf{#1}}t \\ {\\mapsto}\\ 1000 \\, e^{\\left(r t\\right)}\\]</html>"
      ],
      "text/latex": [
       "$$\\newcommand{\\Bold}[1]{\\mathbf{#1}}t \\ {\\mapsto}\\ 1000 \\, e^{\\left(r t\\right)}$$"
      ],
      "text/plain": [
       "t |--> 1000*e^(r*t)"
      ]
     },
     "metadata": {},
     "output_type": "display_data"
    },
    {
     "data": {
      "text/html": [
       "<html>\\[\\newcommand{\\Bold}[1]{\\mathbf{#1}}\\left[r = \\log\\left(5^{\\frac{1}{5}} 2^{\\frac{1}{10}}\\right)\\right]\\]</html>"
      ],
      "text/latex": [
       "$$\\newcommand{\\Bold}[1]{\\mathbf{#1}}\\left[r = \\log\\left(5^{\\frac{1}{5}} 2^{\\frac{1}{10}}\\right)\\right]$$"
      ],
      "text/plain": [
       "[r == log(5^(1/5)*2^(1/10))]"
      ]
     },
     "metadata": {},
     "output_type": "display_data"
    }
   ],
   "source": [
    "t,r=var('t,r')\n",
    "x=function('x')(t)\n",
    "sol(t)=desolve(diff(x)==r*x, x, ivar=t, ics=[0,1000])\n",
    "show(sol)\n",
    "\n",
    "with assuming(r, 'real'):\n",
    "    sol=solve(sol(10)==50000, r)\n",
    "    show(sol)"
   ]
  },
  {
   "cell_type": "markdown",
   "id": "9e174157",
   "metadata": {},
   "source": [
    "### 2"
   ]
  },
  {
   "cell_type": "markdown",
   "id": "e2168d3b",
   "metadata": {},
   "source": [
    "(a)"
   ]
  },
  {
   "cell_type": "code",
   "execution_count": 12,
   "id": "38811f9f",
   "metadata": {},
   "outputs": [
    {
     "data": {
      "text/html": [
       "<html>\\[\\newcommand{\\Bold}[1]{\\mathbf{#1}}\\left[y\\left(x\\right) = \\frac{x}{\\log\\left(\\frac{1}{C x}\\right)}\\right]\\]</html>"
      ],
      "text/latex": [
       "$$\\newcommand{\\Bold}[1]{\\mathbf{#1}}\\left[y\\left(x\\right) = \\frac{x}{\\log\\left(\\frac{1}{C x}\\right)}\\right]$$"
      ],
      "text/plain": [
       "[y(x) == x/log(1/(_C*x))]"
      ]
     },
     "metadata": {},
     "output_type": "display_data"
    }
   ],
   "source": [
    "x=var('x')\n",
    "y=function('y')(x)\n",
    "sol=desolve(x^2*diff(y) == x*y+y^2, y, ivar=x)\n",
    "sol=solve(sol, y)\n",
    "show(sol)"
   ]
  },
  {
   "cell_type": "markdown",
   "id": "c1f41c65",
   "metadata": {},
   "source": [
    "(b)"
   ]
  },
  {
   "cell_type": "code",
   "execution_count": 14,
   "id": "a4e3fa9b",
   "metadata": {},
   "outputs": [
    {
     "data": {
      "text/html": [
       "<html>\\[\\newcommand{\\Bold}[1]{\\mathbf{#1}}{\\left(K_{2} \\cos\\left(2 \\, x\\right) + K_{1} \\sin\\left(2 \\, x\\right)\\right)} e^{\\left(2 \\, x\\right)} + {\\left(5 \\, x + 1\\right)} e^{x}\\]</html>"
      ],
      "text/latex": [
       "$$\\newcommand{\\Bold}[1]{\\mathbf{#1}}{\\left(K_{2} \\cos\\left(2 \\, x\\right) + K_{1} \\sin\\left(2 \\, x\\right)\\right)} e^{\\left(2 \\, x\\right)} + {\\left(5 \\, x + 1\\right)} e^{x}$$"
      ],
      "text/plain": [
       "(_K2*cos(2*x) + _K1*sin(2*x))*e^(2*x) + (5*x + 1)*e^x"
      ]
     },
     "metadata": {},
     "output_type": "display_data"
    }
   ],
   "source": [
    "x=var('x')\n",
    "y=function('y')(x)\n",
    "sol=desolve(diff(y,x,2) - 4*diff(y,x,1) + 8*y == (25*x - 5)*e^x, y)\n",
    "show(sol)"
   ]
  },
  {
   "cell_type": "markdown",
   "id": "a31bde1a",
   "metadata": {},
   "source": [
    "### 3"
   ]
  },
  {
   "cell_type": "code",
   "execution_count": 2,
   "id": "1787b8ac",
   "metadata": {},
   "outputs": [
    {
     "data": {
      "text/html": [
       "<html>\\[\\newcommand{\\Bold}[1]{\\mathbf{#1}}x^{2} + 2 \\, \\log\\left(x\\right)\\]</html>"
      ],
      "text/latex": [
       "$$\\newcommand{\\Bold}[1]{\\mathbf{#1}}x^{2} + 2 \\, \\log\\left(x\\right)$$"
      ],
      "text/plain": [
       "x^2 + 2*log(x)"
      ]
     },
     "metadata": {},
     "output_type": "display_data"
    }
   ],
   "source": [
    "x=var('x')\n",
    "y=function('y')(x)\n",
    "sol=desolve(x*diff(y,x,2) + diff(y,x,1) == 4*x, y, ics=[1,1,4])\n",
    "show(sol)"
   ]
  },
  {
   "cell_type": "code",
   "execution_count": null,
   "id": "137b50fd",
   "metadata": {},
   "outputs": [],
   "source": []
  }
 ],
 "metadata": {
  "kernelspec": {
   "display_name": "SageMath 9.5",
   "language": "sage",
   "name": "sagemath"
  },
  "language_info": {
   "codemirror_mode": {
    "name": "ipython",
    "version": 3
   },
   "file_extension": ".py",
   "mimetype": "text/x-python",
   "name": "python",
   "nbconvert_exporter": "python",
   "pygments_lexer": "ipython3",
   "version": "3.10.4"
  }
 },
 "nbformat": 4,
 "nbformat_minor": 5
}
