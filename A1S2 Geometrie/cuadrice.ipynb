{
 "cells": [
  {
   "cell_type": "code",
   "execution_count": 3,
   "id": "91e6e810",
   "metadata": {
    "scrolled": false
   },
   "outputs": [
    {
     "data": {
      "text/html": [
       "<h1>Elipsoid</h1>"
      ],
      "text/plain": [
       "<h1>Elipsoid</h1>"
      ]
     },
     "metadata": {},
     "output_type": "display_data"
    },
    {
     "data": {
      "text/html": [
       "<html>\\[\\newcommand{\\Bold}[1]{\\mathbf{#1}}\\frac{x^{2}}{a^{2}} + \\frac{y^{2}}{b^{2}} + \\frac{z^{2}}{c^{2}} = 1\\]</html>"
      ],
      "text/latex": [
       "$$\\newcommand{\\Bold}[1]{\\mathbf{#1}}\\frac{x^{2}}{a^{2}} + \\frac{y^{2}}{b^{2}} + \\frac{z^{2}}{c^{2}} = 1$$"
      ],
      "text/plain": [
       "x^2/a^2 + y^2/b^2 + z^2/c^2 == 1"
      ]
     },
     "metadata": {},
     "output_type": "display_data"
    },
    {
     "data": {
      "application/vnd.jupyter.widget-view+json": {
       "model_id": "9671f35dc00a4644afbc2240bfda8bb0",
       "version_major": 2,
       "version_minor": 0
      },
      "text/plain": [
       "Interactive function <function <lambda> at 0x7f95cf2997e0> with 3 widgets\n",
       "  a: IntSlider(value=5, description=…"
      ]
     },
     "metadata": {},
     "output_type": "display_data"
    },
    {
     "data": {
      "text/html": [
       "<h1>Con</h1>"
      ],
      "text/plain": [
       "<h1>Con</h1>"
      ]
     },
     "metadata": {},
     "output_type": "display_data"
    },
    {
     "data": {
      "text/html": [
       "<html>\\[\\newcommand{\\Bold}[1]{\\mathbf{#1}}\\frac{x^{2}}{a^{2}} + \\frac{y^{2}}{b^{2}} - \\frac{z^{2}}{c^{2}} = 0\\]</html>"
      ],
      "text/latex": [
       "$$\\newcommand{\\Bold}[1]{\\mathbf{#1}}\\frac{x^{2}}{a^{2}} + \\frac{y^{2}}{b^{2}} - \\frac{z^{2}}{c^{2}} = 0$$"
      ],
      "text/plain": [
       "x^2/a^2 + y^2/b^2 - z^2/c^2 == 0"
      ]
     },
     "metadata": {},
     "output_type": "display_data"
    },
    {
     "data": {
      "application/vnd.jupyter.widget-view+json": {
       "model_id": "a7c81b943c5740a0b5c0007d95b8d8b8",
       "version_major": 2,
       "version_minor": 0
      },
      "text/plain": [
       "Interactive function <function <lambda> at 0x7f95cbd86200> with 3 widgets\n",
       "  a: IntSlider(value=5, description=…"
      ]
     },
     "metadata": {},
     "output_type": "display_data"
    },
    {
     "data": {
      "text/html": [
       "<h1>Hiperboloid cu o pânză</h1>"
      ],
      "text/plain": [
       "<h1>Hiperboloid cu o pânză</h1>"
      ]
     },
     "metadata": {},
     "output_type": "display_data"
    },
    {
     "data": {
      "text/html": [
       "<html>\\[\\newcommand{\\Bold}[1]{\\mathbf{#1}}\\frac{x^{2}}{a^{2}} + \\frac{y^{2}}{b^{2}} - \\frac{z^{2}}{c^{2}} = 1\\]</html>"
      ],
      "text/latex": [
       "$$\\newcommand{\\Bold}[1]{\\mathbf{#1}}\\frac{x^{2}}{a^{2}} + \\frac{y^{2}}{b^{2}} - \\frac{z^{2}}{c^{2}} = 1$$"
      ],
      "text/plain": [
       "x^2/a^2 + y^2/b^2 - z^2/c^2 == 1"
      ]
     },
     "metadata": {},
     "output_type": "display_data"
    },
    {
     "data": {
      "application/vnd.jupyter.widget-view+json": {
       "model_id": "43a2609596c44fd3bb975ac87f44e7c8",
       "version_major": 2,
       "version_minor": 0
      },
      "text/plain": [
       "Interactive function <function <lambda> at 0x7f95cbd86c20> with 3 widgets\n",
       "  a: IntSlider(value=5, description=…"
      ]
     },
     "metadata": {},
     "output_type": "display_data"
    },
    {
     "data": {
      "text/html": [
       "<h1>Hiperboloid cu două pânze</h1>"
      ],
      "text/plain": [
       "<h1>Hiperboloid cu două pânze</h1>"
      ]
     },
     "metadata": {},
     "output_type": "display_data"
    },
    {
     "data": {
      "text/html": [
       "<html>\\[\\newcommand{\\Bold}[1]{\\mathbf{#1}}\\frac{x^{2}}{a^{2}} + \\frac{y^{2}}{b^{2}} - \\frac{z^{2}}{c^{2}} = \\left(-1\\right)\\]</html>"
      ],
      "text/latex": [
       "$$\\newcommand{\\Bold}[1]{\\mathbf{#1}}\\frac{x^{2}}{a^{2}} + \\frac{y^{2}}{b^{2}} - \\frac{z^{2}}{c^{2}} = \\left(-1\\right)$$"
      ],
      "text/plain": [
       "x^2/a^2 + y^2/b^2 - z^2/c^2 == -1"
      ]
     },
     "metadata": {},
     "output_type": "display_data"
    },
    {
     "data": {
      "application/vnd.jupyter.widget-view+json": {
       "model_id": "349c6c6a0f47425f880b4ef16db19339",
       "version_major": 2,
       "version_minor": 0
      },
      "text/plain": [
       "Interactive function <function <lambda> at 0x7f95cbd84d30> with 3 widgets\n",
       "  a: IntSlider(value=5, description=…"
      ]
     },
     "metadata": {},
     "output_type": "display_data"
    },
    {
     "data": {
      "text/html": [
       "<h1>Paraboloid eliptic</h1>"
      ],
      "text/plain": [
       "<h1>Paraboloid eliptic</h1>"
      ]
     },
     "metadata": {},
     "output_type": "display_data"
    },
    {
     "data": {
      "text/html": [
       "<html>\\[\\newcommand{\\Bold}[1]{\\mathbf{#1}}\\frac{x^{2}}{p} + \\frac{y^{2}}{q} = 2 \\, z\\]</html>"
      ],
      "text/latex": [
       "$$\\newcommand{\\Bold}[1]{\\mathbf{#1}}\\frac{x^{2}}{p} + \\frac{y^{2}}{q} = 2 \\, z$$"
      ],
      "text/plain": [
       "x^2/p + y^2/q == 2*z"
      ]
     },
     "metadata": {},
     "output_type": "display_data"
    },
    {
     "data": {
      "application/vnd.jupyter.widget-view+json": {
       "model_id": "d686fd50ca2044b2a70191f41a7e25ec",
       "version_major": 2,
       "version_minor": 0
      },
      "text/plain": [
       "Interactive function <function <lambda> at 0x7f95cbd86d40> with 2 widgets\n",
       "  p: IntSlider(value=5, description=…"
      ]
     },
     "metadata": {},
     "output_type": "display_data"
    },
    {
     "data": {
      "text/html": [
       "<html>\\[\\newcommand{\\Bold}[1]{\\mathbf{#1}}\\frac{x x_{0}}{p} + \\frac{y y_{0}}{q} = z + z_{0}\\]</html>"
      ],
      "text/latex": [
       "$$\\newcommand{\\Bold}[1]{\\mathbf{#1}}\\frac{x x_{0}}{p} + \\frac{y y_{0}}{q} = z + z_{0}$$"
      ],
      "text/plain": [
       "x*x_0/p + y*y_0/q == z + z_0"
      ]
     },
     "metadata": {},
     "output_type": "display_data"
    },
    {
     "data": {
      "text/html": [
       "<h1>Paraboloid hiperbolic</h1>"
      ],
      "text/plain": [
       "<h1>Paraboloid hiperbolic</h1>"
      ]
     },
     "metadata": {},
     "output_type": "display_data"
    },
    {
     "data": {
      "text/html": [
       "<html>\\[\\newcommand{\\Bold}[1]{\\mathbf{#1}}\\frac{x^{2}}{p} - \\frac{y^{2}}{q} = 2 \\, z\\]</html>"
      ],
      "text/latex": [
       "$$\\newcommand{\\Bold}[1]{\\mathbf{#1}}\\frac{x^{2}}{p} - \\frac{y^{2}}{q} = 2 \\, z$$"
      ],
      "text/plain": [
       "x^2/p - y^2/q == 2*z"
      ]
     },
     "metadata": {},
     "output_type": "display_data"
    },
    {
     "data": {
      "application/vnd.jupyter.widget-view+json": {
       "model_id": "1037dcfde7854d048f1a216ea3c8dac6",
       "version_major": 2,
       "version_minor": 0
      },
      "text/plain": [
       "Interactive function <function <lambda> at 0x7f95cbd86a70> with 2 widgets\n",
       "  p: IntSlider(value=5, description=…"
      ]
     },
     "metadata": {},
     "output_type": "display_data"
    },
    {
     "data": {
      "text/html": [
       "<h1>Cilindru eliptic</h1>"
      ],
      "text/plain": [
       "<h1>Cilindru eliptic</h1>"
      ]
     },
     "metadata": {},
     "output_type": "display_data"
    },
    {
     "data": {
      "text/html": [
       "<html>\\[\\newcommand{\\Bold}[1]{\\mathbf{#1}}\\frac{x^{2}}{a^{2}} + \\frac{y^{2}}{b^{2}} = 1\\]</html>"
      ],
      "text/latex": [
       "$$\\newcommand{\\Bold}[1]{\\mathbf{#1}}\\frac{x^{2}}{a^{2}} + \\frac{y^{2}}{b^{2}} = 1$$"
      ],
      "text/plain": [
       "x^2/a^2 + y^2/b^2 == 1"
      ]
     },
     "metadata": {},
     "output_type": "display_data"
    },
    {
     "data": {
      "application/vnd.jupyter.widget-view+json": {
       "model_id": "4d71d4d9bd60440d9d6b10c18e4ec12b",
       "version_major": 2,
       "version_minor": 0
      },
      "text/plain": [
       "Interactive function <function <lambda> at 0x7f95cbd86b90> with 2 widgets\n",
       "  a: IntSlider(value=5, description=…"
      ]
     },
     "metadata": {},
     "output_type": "display_data"
    },
    {
     "data": {
      "text/html": [
       "<h1>Cilindru hiperbolic</h1>"
      ],
      "text/plain": [
       "<h1>Cilindru hiperbolic</h1>"
      ]
     },
     "metadata": {},
     "output_type": "display_data"
    },
    {
     "data": {
      "text/html": [
       "<html>\\[\\newcommand{\\Bold}[1]{\\mathbf{#1}}\\frac{x^{2}}{a^{2}} - \\frac{y^{2}}{b^{2}} = 1\\]</html>"
      ],
      "text/latex": [
       "$$\\newcommand{\\Bold}[1]{\\mathbf{#1}}\\frac{x^{2}}{a^{2}} - \\frac{y^{2}}{b^{2}} = 1$$"
      ],
      "text/plain": [
       "x^2/a^2 - y^2/b^2 == 1"
      ]
     },
     "metadata": {},
     "output_type": "display_data"
    },
    {
     "data": {
      "application/vnd.jupyter.widget-view+json": {
       "model_id": "54ee7eccc02b4a6e8de0681d0a82a6f3",
       "version_major": 2,
       "version_minor": 0
      },
      "text/plain": [
       "Interactive function <function <lambda> at 0x7f95cbd85090> with 2 widgets\n",
       "  a: IntSlider(value=5, description=…"
      ]
     },
     "metadata": {},
     "output_type": "display_data"
    },
    {
     "data": {
      "text/html": [
       "<h1>Cilindru parabolic</h1>"
      ],
      "text/plain": [
       "<h1>Cilindru parabolic</h1>"
      ]
     },
     "metadata": {},
     "output_type": "display_data"
    },
    {
     "data": {
      "text/html": [
       "<html>\\[\\newcommand{\\Bold}[1]{\\mathbf{#1}}y^{2} = 2 \\, p x\\]</html>"
      ],
      "text/latex": [
       "$$\\newcommand{\\Bold}[1]{\\mathbf{#1}}y^{2} = 2 \\, p x$$"
      ],
      "text/plain": [
       "y^2 == 2*p*x"
      ]
     },
     "metadata": {},
     "output_type": "display_data"
    },
    {
     "data": {
      "application/vnd.jupyter.widget-view+json": {
       "model_id": "9a2c1d4950f0433f9d8c7ebc403745f7",
       "version_major": 2,
       "version_minor": 0
      },
      "text/plain": [
       "Interactive function <function <lambda> at 0x7f95cbd869e0> with 1 widget\n",
       "  p: IntSlider(value=5, description='…"
      ]
     },
     "metadata": {},
     "output_type": "display_data"
    }
   ],
   "source": [
    "x,y,z = var(\"x,y,z\")\n",
    "x_0,y_0,z_0 = var(\"x_0,y_0,z_0\")\n",
    "a,b,c = var(\"a,b,c\")\n",
    "p,q = var(\"p,q\")\n",
    "\n",
    "def plot_shape(name, f, l):\n",
    "    show(name)\n",
    "    show(f)\n",
    "    interact(l)\n",
    "\n",
    "def h1(text): return html.eval(f\"<h1>{text}</h1>\")\n",
    "\n",
    "def pl(f, r): return implicit_plot3d(f, r, r, r)\n",
    "\n",
    "f_elipsoid = x^2/a^2+y^2/b^2+z^2/c^2 == 1\n",
    "plot_shape(\n",
    "    h1(\"Elipsoid\"), f_elipsoid,\n",
    "    lambda a=(1,10), b=(1,10), c=(1,10):\n",
    "        pl(f_elipsoid.substitute(a=a,b=b,c=c), (-5,5))\n",
    ")\n",
    "\n",
    "f_con = x^2/a^2+y^2/b^2-z^2/c^2 == 0\n",
    "plot_shape(\n",
    "    h1(\"Con\"), f_con,\n",
    "    lambda a=(1,10), b=(1,10), c=(1,10):\n",
    "        pl(f_con.substitute(a=a,b=b,c=c), (-5,5))\n",
    ")\n",
    "\n",
    "f_hiperboloid_o_panza = x^2/a^2+y^2/b^2-z^2/c^2 == 1\n",
    "plot_shape(\n",
    "    h1(\"Hiperboloid cu o pânză\"), f_hiperboloid_o_panza,\n",
    "    lambda a=(1,10), b=(1,10), c=(1,10):\n",
    "        pl(f_hiperboloid_o_panza.substitute(a=a,b=b,c=c), (-15,15))\n",
    ")\n",
    "\n",
    "f_hiperboloid_doua_panze = x^2/a^2+y^2/b^2-z^2/c^2 == -1\n",
    "plot_shape(\n",
    "    h1(\"Hiperboloid cu două pânze\"), f_hiperboloid_doua_panze,\n",
    "    lambda a=(1,10), b=(1,10), c=(1,10):\n",
    "        pl(f_hiperboloid_doua_panze.substitute(a=a,b=b,c=c), (-15,15))\n",
    ")\n",
    "\n",
    "f_paraboloid_eliptic = x^2/p+y^2/q == 2*z\n",
    "plot_shape(\n",
    "    h1(\"Paraboloid eliptic\"), f_paraboloid_eliptic,\n",
    "    lambda p=(1,10), q=(1,10):\n",
    "        pl(f_paraboloid_eliptic.substitute(p=p,q=q), (-15,15))\n",
    ")\n",
    "\n",
    "show(x*x_0/p+y*y_0/q == z+z_0)\n",
    "\n",
    "f_paraboloid_hiperbolic = x^2/p-y^2/q == 2*z\n",
    "plot_shape(\n",
    "    h1(\"Paraboloid hiperbolic\"), f_paraboloid_hiperbolic,\n",
    "    lambda p=(1,10), q=(1,10):\n",
    "        pl(f_paraboloid_hiperbolic.substitute(p=p,q=q), (-15,15))\n",
    ")\n",
    "\n",
    "f_cilindru_eliptic = x^2/a^2+y^2/b^2 == 1\n",
    "plot_shape(\n",
    "    h1(\"Cilindru eliptic\"), f_cilindru_eliptic,\n",
    "    lambda a=(1,10), b=(1,10):\n",
    "        pl(f_cilindru_eliptic.substitute(a=a,b=b), (-10,10))\n",
    ")\n",
    "\n",
    "f_cilindru_hiperbolic = x^2/a^2-y^2/b^2 == 1\n",
    "plot_shape(\n",
    "    h1(\"Cilindru hiperbolic\"), f_cilindru_hiperbolic,\n",
    "    lambda a=(1,10), b=(1,10):\n",
    "        pl(f_cilindru_hiperbolic.substitute(a=a,b=b), (-10,10))\n",
    ")\n",
    "\n",
    "f_cilindru_parabolic = y^2 == 2*p*x\n",
    "plot_shape(\n",
    "    h1(\"Cilindru parabolic\"), f_cilindru_parabolic,\n",
    "    lambda p=(1,10):\n",
    "        pl(f_cilindru_parabolic.substitute(p=p), (-10,10))\n",
    ")"
   ]
  },
  {
   "cell_type": "code",
   "execution_count": null,
   "id": "b88d8e60",
   "metadata": {},
   "outputs": [],
   "source": []
  }
 ],
 "metadata": {
  "kernelspec": {
   "display_name": "SageMath 9.5",
   "language": "sage",
   "name": "sagemath"
  },
  "language_info": {
   "codemirror_mode": {
    "name": "ipython",
    "version": 3
   },
   "file_extension": ".py",
   "mimetype": "text/x-python",
   "name": "python",
   "nbconvert_exporter": "python",
   "pygments_lexer": "ipython3",
   "version": "3.10.4"
  }
 },
 "nbformat": 4,
 "nbformat_minor": 5
}
