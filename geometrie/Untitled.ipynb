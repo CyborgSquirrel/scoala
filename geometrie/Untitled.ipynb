{
 "cells": [
  {
   "cell_type": "code",
   "execution_count": 19,
   "id": "b7d994ff",
   "metadata": {},
   "outputs": [
    {
     "data": {
      "text/html": [
       "<html>\\[\\newcommand{\\Bold}[1]{\\mathbf{#1}}\\left[x^{2} + y^{2} + z^{2} = {\\lambda}, x + y + z = {\\mu}, x^{2} + y^{2} - 2 \\, z = 0, x - 2 \\, y = 0\\right]\\]</html>"
      ],
      "text/latex": [
       "$$\\newcommand{\\Bold}[1]{\\mathbf{#1}}\\left[x^{2} + y^{2} + z^{2} = {\\lambda}, x + y + z = {\\mu}, x^{2} + y^{2} - 2 \\, z = 0, x - 2 \\, y = 0\\right]$$"
      ],
      "text/plain": [
       "[x^2 + y^2 + z^2 == l, x + y + z == m, x^2 + y^2 - 2*z == 0, x - 2*y == 0]"
      ]
     },
     "metadata": {},
     "output_type": "display_data"
    },
    {
     "data": {
      "text/html": [
       "<html>\\[\\newcommand{\\Bold}[1]{\\mathbf{#1}}\\left[\\right]\\]</html>"
      ],
      "text/latex": [
       "$$\\newcommand{\\Bold}[1]{\\mathbf{#1}}\\left[\\right]$$"
      ],
      "text/plain": [
       "[]"
      ]
     },
     "metadata": {},
     "output_type": "display_data"
    }
   ],
   "source": [
    "x,y,z = var('x,y,z')\n",
    "l = var('l', latex_name='\\\\lambda')\n",
    "m = var('m', latex_name='\\\\mu')\n",
    "\n",
    "eq = [\n",
    "    x^2+y^2+z^2 == l,\n",
    "    x+y+z == m,\n",
    "    x^2+y^2-2*z == 0,\n",
    "    x-2*y == 0,\n",
    "]\n",
    "show(eq)\n",
    "sol = solve(eq, x)\n",
    "show(sol)"
   ]
  },
  {
   "cell_type": "code",
   "execution_count": 23,
   "id": "f1341bba",
   "metadata": {},
   "outputs": [
    {
     "data": {
      "text/html": [
       "<html>\\[\\newcommand{\\Bold}[1]{\\mathbf{#1}}\\left[x = {\\lambda} y, z = {\\mu}, y^{2} + z^{2} = a^{2}, x = b\\right]\\]</html>"
      ],
      "text/latex": [
       "$$\\newcommand{\\Bold}[1]{\\mathbf{#1}}\\left[x = {\\lambda} y, z = {\\mu}, y^{2} + z^{2} = a^{2}, x = b\\right]$$"
      ],
      "text/plain": [
       "[x == l*y, z == m, y^2 + z^2 == a^2, x == b]"
      ]
     },
     "metadata": {},
     "output_type": "display_data"
    },
    {
     "ename": "TypeError",
     "evalue": "y^2 is not a valid variable.",
     "output_type": "error",
     "traceback": [
      "\u001b[0;31m---------------------------------------------------------------------------\u001b[0m",
      "\u001b[0;31mTypeError\u001b[0m                                 Traceback (most recent call last)",
      "Input \u001b[0;32mIn [23]\u001b[0m, in \u001b[0;36m<cell line: 13>\u001b[0;34m()\u001b[0m\n\u001b[1;32m      6\u001b[0m eq \u001b[38;5;241m=\u001b[39m [\n\u001b[1;32m      7\u001b[0m     x \u001b[38;5;241m==\u001b[39m l\u001b[38;5;241m*\u001b[39my,\n\u001b[1;32m      8\u001b[0m     z \u001b[38;5;241m==\u001b[39m m,\n\u001b[1;32m      9\u001b[0m     y\u001b[38;5;241m*\u001b[39m\u001b[38;5;241m*\u001b[39mInteger(\u001b[38;5;241m2\u001b[39m)\u001b[38;5;241m+\u001b[39mz\u001b[38;5;241m*\u001b[39m\u001b[38;5;241m*\u001b[39mInteger(\u001b[38;5;241m2\u001b[39m) \u001b[38;5;241m==\u001b[39m a\u001b[38;5;241m*\u001b[39m\u001b[38;5;241m*\u001b[39mInteger(\u001b[38;5;241m2\u001b[39m),\n\u001b[1;32m     10\u001b[0m     x \u001b[38;5;241m==\u001b[39m b,\n\u001b[1;32m     11\u001b[0m ]\n\u001b[1;32m     12\u001b[0m show(eq)\n\u001b[0;32m---> 13\u001b[0m sol \u001b[38;5;241m=\u001b[39m \u001b[43msolve\u001b[49m\u001b[43m(\u001b[49m\u001b[43meq\u001b[49m\u001b[43m,\u001b[49m\u001b[43m \u001b[49m\u001b[43m[\u001b[49m\u001b[43my\u001b[49m\u001b[38;5;241;43m*\u001b[39;49m\u001b[38;5;241;43m*\u001b[39;49m\u001b[43mInteger\u001b[49m\u001b[43m(\u001b[49m\u001b[38;5;241;43m2\u001b[39;49m\u001b[43m)\u001b[49m\u001b[43m]\u001b[49m\u001b[43m)\u001b[49m\n\u001b[1;32m     14\u001b[0m show(sol)\n",
      "File \u001b[0;32m/usr/lib/python3.10/site-packages/sage/symbolic/relation.py:1085\u001b[0m, in \u001b[0;36msolve\u001b[0;34m(f, *args, **kwds)\u001b[0m\n\u001b[1;32m   1083\u001b[0m \u001b[38;5;28;01mfor\u001b[39;00m v \u001b[38;5;129;01min\u001b[39;00m variables:\n\u001b[1;32m   1084\u001b[0m     \u001b[38;5;28;01mif\u001b[39;00m \u001b[38;5;129;01mnot\u001b[39;00m is_SymbolicVariable(v):\n\u001b[0;32m-> 1085\u001b[0m         \u001b[38;5;28;01mraise\u001b[39;00m \u001b[38;5;167;01mTypeError\u001b[39;00m(\u001b[38;5;124m\"\u001b[39m\u001b[38;5;132;01m%s\u001b[39;00m\u001b[38;5;124m is not a valid variable.\u001b[39m\u001b[38;5;124m\"\u001b[39m \u001b[38;5;241m%\u001b[39m \u001b[38;5;28mrepr\u001b[39m(v))\n\u001b[1;32m   1087\u001b[0m \u001b[38;5;28;01mtry\u001b[39;00m:\n\u001b[1;32m   1088\u001b[0m     f \u001b[38;5;241m=\u001b[39m [s \u001b[38;5;28;01mfor\u001b[39;00m s \u001b[38;5;129;01min\u001b[39;00m f \u001b[38;5;28;01mif\u001b[39;00m s \u001b[38;5;129;01mis\u001b[39;00m \u001b[38;5;129;01mnot\u001b[39;00m \u001b[38;5;28;01mTrue\u001b[39;00m]\n",
      "\u001b[0;31mTypeError\u001b[0m: y^2 is not a valid variable."
     ]
    }
   ],
   "source": [
    "a,b = var('a,b')\n",
    "x,y,z = var('x,y,z')\n",
    "l = var('l', latex_name='\\\\lambda')\n",
    "m = var('m', latex_name='\\\\mu')\n",
    "\n",
    "eq = [\n",
    "    x == l*y,\n",
    "    z == m,\n",
    "    y^2+z^2 == a^2,\n",
    "    x == b,\n",
    "]\n",
    "show(eq)\n",
    "sol = solve(eq, [y^2])\n",
    "show(sol)"
   ]
  },
  {
   "cell_type": "code",
   "execution_count": null,
   "id": "5d73607e",
   "metadata": {},
   "outputs": [],
   "source": []
  }
 ],
 "metadata": {
  "kernelspec": {
   "display_name": "SageMath 9.5",
   "language": "sage",
   "name": "sagemath"
  },
  "language_info": {
   "codemirror_mode": {
    "name": "ipython",
    "version": 3
   },
   "file_extension": ".py",
   "mimetype": "text/x-python",
   "name": "python",
   "nbconvert_exporter": "python",
   "pygments_lexer": "ipython3",
   "version": "3.10.4"
  }
 },
 "nbformat": 4,
 "nbformat_minor": 5
}
