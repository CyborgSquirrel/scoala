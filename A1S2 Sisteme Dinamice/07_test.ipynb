{
 "cells": [
  {
   "cell_type": "markdown",
   "id": "da97f431",
   "metadata": {},
   "source": [
    "# 1"
   ]
  },
  {
   "cell_type": "code",
   "execution_count": 23,
   "id": "4fe48670",
   "metadata": {},
   "outputs": [
    {
     "data": {
      "text/html": [
       "<html>\\[\\newcommand{\\Bold}[1]{\\mathbf{#1}}\\frac{\\frac{\\partial}{\\partial t}x\\left(t\\right)}{k} + x\\left(t\\right) = 0\\]</html>"
      ],
      "text/latex": [
       "$$\\newcommand{\\Bold}[1]{\\mathbf{#1}}\\frac{\\frac{\\partial}{\\partial t}x\\left(t\\right)}{k} + x\\left(t\\right) = 0$$"
      ],
      "text/plain": [
       "diff(x(t), t)/k + x(t) == 0"
      ]
     },
     "metadata": {},
     "output_type": "display_data"
    }
   ],
   "source": [
    "k=var('k')\n",
    "t=var('t')\n",
    "x=function('x')(t)\n",
    "assume(k, 'real')\n",
    "\n",
    "eqd = (1/k)*diff(x)+x == 0\n",
    "show(eqd)"
   ]
  },
  {
   "cell_type": "markdown",
   "id": "b87b5267",
   "metadata": {},
   "source": [
    "(a)"
   ]
  },
  {
   "cell_type": "code",
   "execution_count": 24,
   "id": "79dd2e2a",
   "metadata": {},
   "outputs": [
    {
     "data": {
      "text/html": [
       "<html>\\[\\newcommand{\\Bold}[1]{\\mathbf{#1}}t \\ {\\mapsto}\\ C e^{\\left(-k t\\right)}\\]</html>"
      ],
      "text/latex": [
       "$$\\newcommand{\\Bold}[1]{\\mathbf{#1}}t \\ {\\mapsto}\\ C e^{\\left(-k t\\right)}$$"
      ],
      "text/plain": [
       "t |--> _C*e^(-k*t)"
      ]
     },
     "metadata": {},
     "output_type": "display_data"
    }
   ],
   "source": [
    "sol(t)=desolve(eqd, x, ivar=t)\n",
    "show(sol)"
   ]
  },
  {
   "cell_type": "markdown",
   "id": "77f1d757",
   "metadata": {},
   "source": [
    "(b)"
   ]
  },
  {
   "cell_type": "code",
   "execution_count": 27,
   "id": "1a913f3f",
   "metadata": {},
   "outputs": [
    {
     "data": {
      "text/html": [
       "<html>\\[\\newcommand{\\Bold}[1]{\\mathbf{#1}}t \\ {\\mapsto}\\ 100 \\, e^{\\left(-k t\\right)}\\]</html>"
      ],
      "text/latex": [
       "$$\\newcommand{\\Bold}[1]{\\mathbf{#1}}t \\ {\\mapsto}\\ 100 \\, e^{\\left(-k t\\right)}$$"
      ],
      "text/plain": [
       "t |--> 100*e^(-k*t)"
      ]
     },
     "metadata": {},
     "output_type": "display_data"
    },
    {
     "data": {
      "text/html": [
       "<html>\\[\\newcommand{\\Bold}[1]{\\mathbf{#1}}k = -\\frac{1}{50} \\, \\log\\left(2\\right)\\]</html>"
      ],
      "text/latex": [
       "$$\\newcommand{\\Bold}[1]{\\mathbf{#1}}k = -\\frac{1}{50} \\, \\log\\left(2\\right)$$"
      ],
      "text/plain": [
       "k == -1/50*log(2)"
      ]
     },
     "metadata": {},
     "output_type": "display_data"
    },
    {
     "data": {
      "text/html": [
       "<html>\\[\\newcommand{\\Bold}[1]{\\mathbf{#1}}t \\ {\\mapsto}\\ 100 \\cdot 2^{\\frac{1}{50} \\, t}\\]</html>"
      ],
      "text/latex": [
       "$$\\newcommand{\\Bold}[1]{\\mathbf{#1}}t \\ {\\mapsto}\\ 100 \\cdot 2^{\\frac{1}{50} \\, t}$$"
      ],
      "text/plain": [
       "t |--> 100*2^(1/50*t)"
      ]
     },
     "metadata": {},
     "output_type": "display_data"
    }
   ],
   "source": [
    "with assuming(k, 'real'):\n",
    "    sol(t)=desolve(eqd, x, ivar=t, ics=[0,100])\n",
    "    show(sol)\n",
    "    solsk=solve(sol(50)==200, k)\n",
    "    for solk in solsk:\n",
    "        show(solk)\n",
    "        show(sol.substitute(solk))"
   ]
  },
  {
   "cell_type": "markdown",
   "id": "a0838ce5",
   "metadata": {},
   "source": [
    "# 2"
   ]
  },
  {
   "cell_type": "code",
   "execution_count": 34,
   "id": "d858c157",
   "metadata": {},
   "outputs": [
    {
     "data": {
      "text/html": [
       "<html>\\[\\newcommand{\\Bold}[1]{\\mathbf{#1}}5 \\, y\\left(x\\right) - 4 \\, \\frac{\\partial}{\\partial x}y\\left(x\\right) + \\frac{\\partial^{2}}{(\\partial x)^{2}}y\\left(x\\right) = 2 \\, x \\cos\\left(x\\right)\\]</html>"
      ],
      "text/latex": [
       "$$\\newcommand{\\Bold}[1]{\\mathbf{#1}}5 \\, y\\left(x\\right) - 4 \\, \\frac{\\partial}{\\partial x}y\\left(x\\right) + \\frac{\\partial^{2}}{(\\partial x)^{2}}y\\left(x\\right) = 2 \\, x \\cos\\left(x\\right)$$"
      ],
      "text/plain": [
       "5*y(x) - 4*diff(y(x), x) + diff(y(x), x, x) == 2*x*cos(x)"
      ]
     },
     "metadata": {},
     "output_type": "display_data"
    }
   ],
   "source": [
    "x=var('x')\n",
    "y=function('y')(x)\n",
    "eqd=diff(y,x,2) - 4*diff(y,x) + 5*y == 2*x*cos(x)\n",
    "show(eqd)"
   ]
  },
  {
   "cell_type": "markdown",
   "id": "89b52007",
   "metadata": {},
   "source": [
    "(a)"
   ]
  },
  {
   "cell_type": "code",
   "execution_count": 35,
   "id": "f5e1c1b2",
   "metadata": {},
   "outputs": [
    {
     "data": {
      "text/html": [
       "<html>\\[\\newcommand{\\Bold}[1]{\\mathbf{#1}}\\frac{1}{8} \\, {\\left(2 \\, x + 1\\right)} \\cos\\left(x\\right) + {\\left(K_{2} \\cos\\left(x\\right) + K_{1} \\sin\\left(x\\right)\\right)} e^{\\left(2 \\, x\\right)} - \\frac{1}{4} \\, {\\left(x + 1\\right)} \\sin\\left(x\\right)\\]</html>"
      ],
      "text/latex": [
       "$$\\newcommand{\\Bold}[1]{\\mathbf{#1}}\\frac{1}{8} \\, {\\left(2 \\, x + 1\\right)} \\cos\\left(x\\right) + {\\left(K_{2} \\cos\\left(x\\right) + K_{1} \\sin\\left(x\\right)\\right)} e^{\\left(2 \\, x\\right)} - \\frac{1}{4} \\, {\\left(x + 1\\right)} \\sin\\left(x\\right)$$"
      ],
      "text/plain": [
       "1/8*(2*x + 1)*cos(x) + (_K2*cos(x) + _K1*sin(x))*e^(2*x) - 1/4*(x + 1)*sin(x)"
      ]
     },
     "metadata": {},
     "output_type": "display_data"
    }
   ],
   "source": [
    "sol=desolve(eqd, y)\n",
    "show(sol)"
   ]
  },
  {
   "cell_type": "markdown",
   "id": "7d0a19da",
   "metadata": {},
   "source": [
    "(b)"
   ]
  },
  {
   "cell_type": "code",
   "execution_count": 36,
   "id": "0a4d5c09",
   "metadata": {},
   "outputs": [
    {
     "data": {
      "text/html": [
       "<html>\\[\\newcommand{\\Bold}[1]{\\mathbf{#1}}x \\ {\\mapsto}\\ \\frac{1}{8} \\, {\\left(2 \\, x + 1\\right)} \\cos\\left(x\\right) - \\frac{1}{8} \\, {\\left(\\cos\\left(x\\right) - 26 \\, \\sin\\left(x\\right)\\right)} e^{\\left(2 \\, x\\right)} - \\frac{1}{4} \\, {\\left(x + 1\\right)} \\sin\\left(x\\right)\\]</html>"
      ],
      "text/latex": [
       "$$\\newcommand{\\Bold}[1]{\\mathbf{#1}}x \\ {\\mapsto}\\ \\frac{1}{8} \\, {\\left(2 \\, x + 1\\right)} \\cos\\left(x\\right) - \\frac{1}{8} \\, {\\left(\\cos\\left(x\\right) - 26 \\, \\sin\\left(x\\right)\\right)} e^{\\left(2 \\, x\\right)} - \\frac{1}{4} \\, {\\left(x + 1\\right)} \\sin\\left(x\\right)$$"
      ],
      "text/plain": [
       "x |--> 1/8*(2*x + 1)*cos(x) - 1/8*(cos(x) - 26*sin(x))*e^(2*x) - 1/4*(x + 1)*sin(x)"
      ]
     },
     "metadata": {},
     "output_type": "display_data"
    },
    {
     "data": {
      "image/png": "[encoded data removed]",
      "text/plain": [
       "Graphics object consisting of 1 graphics primitive"
      ]
     },
     "execution_count": 36,
     "metadata": {},
     "output_type": "execute_result"
    }
   ],
   "source": [
    "sol(x)=desolve(eqd, y, ics=[0,0,3])\n",
    "show(sol)\n",
    "plot(sol(x), xmin=0, xmax=7)"
   ]
  },
  {
   "cell_type": "markdown",
   "id": "f0d6d16c",
   "metadata": {},
   "source": [
    "# 3"
   ]
  },
  {
   "cell_type": "markdown",
   "id": "21c0f2ee",
   "metadata": {},
   "source": [
    "(a)"
   ]
  },
  {
   "cell_type": "code",
   "execution_count": 42,
   "id": "1d503b09",
   "metadata": {},
   "outputs": [
    {
     "data": {
      "text/html": [
       "<html>\\[\\newcommand{\\Bold}[1]{\\mathbf{#1}}x \\ {\\mapsto}\\ -x^{3} + x\\]</html>"
      ],
      "text/latex": [
       "$$\\newcommand{\\Bold}[1]{\\mathbf{#1}}x \\ {\\mapsto}\\ -x^{3} + x$$"
      ],
      "text/plain": [
       "x |--> -x^3 + x"
      ]
     },
     "metadata": {},
     "output_type": "display_data"
    },
    {
     "data": {
      "text/html": [
       "<html>\\[\\newcommand{\\Bold}[1]{\\mathbf{#1}}x \\ {\\mapsto}\\ -3 \\, x^{2} + 1\\]</html>"
      ],
      "text/latex": [
       "$$\\newcommand{\\Bold}[1]{\\mathbf{#1}}x \\ {\\mapsto}\\ -3 \\, x^{2} + 1$$"
      ],
      "text/plain": [
       "x |--> -3*x^2 + 1"
      ]
     },
     "metadata": {},
     "output_type": "display_data"
    },
    {
     "data": {
      "text/html": [
       "<html>\\[\\newcommand{\\Bold}[1]{\\mathbf{#1}}x = \\left(-1\\right)\\]</html>"
      ],
      "text/latex": [
       "$$\\newcommand{\\Bold}[1]{\\mathbf{#1}}x = \\left(-1\\right)$$"
      ],
      "text/plain": [
       "x == -1"
      ]
     },
     "metadata": {},
     "output_type": "display_data"
    },
    {
     "data": {
      "text/html": [
       "<html>\\[\\newcommand{\\Bold}[1]{\\mathbf{#1}}-2\\]</html>"
      ],
      "text/latex": [
       "$$\\newcommand{\\Bold}[1]{\\mathbf{#1}}-2$$"
      ],
      "text/plain": [
       "-2"
      ]
     },
     "metadata": {},
     "output_type": "display_data"
    },
    {
     "data": {
      "text/html": [
       "<html>\\[\\newcommand{\\Bold}[1]{\\mathbf{#1}}x = 1\\]</html>"
      ],
      "text/latex": [
       "$$\\newcommand{\\Bold}[1]{\\mathbf{#1}}x = 1$$"
      ],
      "text/plain": [
       "x == 1"
      ]
     },
     "metadata": {},
     "output_type": "display_data"
    },
    {
     "data": {
      "text/html": [
       "<html>\\[\\newcommand{\\Bold}[1]{\\mathbf{#1}}-2\\]</html>"
      ],
      "text/latex": [
       "$$\\newcommand{\\Bold}[1]{\\mathbf{#1}}-2$$"
      ],
      "text/plain": [
       "-2"
      ]
     },
     "metadata": {},
     "output_type": "display_data"
    },
    {
     "data": {
      "text/html": [
       "<html>\\[\\newcommand{\\Bold}[1]{\\mathbf{#1}}x = 0\\]</html>"
      ],
      "text/latex": [
       "$$\\newcommand{\\Bold}[1]{\\mathbf{#1}}x = 0$$"
      ],
      "text/plain": [
       "x == 0"
      ]
     },
     "metadata": {},
     "output_type": "display_data"
    },
    {
     "data": {
      "text/html": [
       "<html>\\[\\newcommand{\\Bold}[1]{\\mathbf{#1}}1\\]</html>"
      ],
      "text/latex": [
       "$$\\newcommand{\\Bold}[1]{\\mathbf{#1}}1$$"
      ],
      "text/plain": [
       "1"
      ]
     },
     "metadata": {},
     "output_type": "display_data"
    }
   ],
   "source": [
    "x=var('x')\n",
    "f(x)=-x^3+x\n",
    "fd(x)=diff(f)\n",
    "show(f)\n",
    "show(fd)\n",
    "sols=solve(f(x) == 0, x)\n",
    "for sol in sols:\n",
    "    show(sol)\n",
    "    show(fd(sol.rhs()))"
   ]
  },
  {
   "cell_type": "markdown",
   "id": "9d69f01c",
   "metadata": {},
   "source": [
    "x=-1 este local asimptotic stabil \\\n",
    "x=1 este local asimptotic stabil \\\n",
    "x=0 este instabil"
   ]
  },
  {
   "cell_type": "markdown",
   "id": "27015ff8",
   "metadata": {},
   "source": [
    "(b)"
   ]
  },
  {
   "cell_type": "code",
   "execution_count": 52,
   "id": "c3899934",
   "metadata": {},
   "outputs": [
    {
     "data": {
      "image/png": "[encoded data removed]",
      "text/plain": [
       "Graphics object consisting of 8 graphics primitives"
      ]
     },
     "metadata": {},
     "output_type": "display_data"
    }
   ],
   "source": [
    "t=var('t')\n",
    "x=function('x')(t)\n",
    "eqd=diff(x) == -x^3+x\n",
    "g=plot([])\n",
    "for x0 in [ -2, -1, -1/2, 0, 1/2, 1, 3/2, 2 ]:\n",
    "    sol=desolve_rk4(eqd, x, ics=[0,x0], end_points=[0,2], step=0.01)\n",
    "    g+=list_plot(sol, plotjoined=True)\n",
    "show(g)"
   ]
  },
  {
   "cell_type": "markdown",
   "id": "9b2b89d7",
   "metadata": {},
   "source": [
    "# 4"
   ]
  },
  {
   "cell_type": "markdown",
   "id": "51d6aefe",
   "metadata": {},
   "source": [
    "(a)"
   ]
  },
  {
   "cell_type": "code",
   "execution_count": 138,
   "id": "0d0ae3c5",
   "metadata": {},
   "outputs": [
    {
     "data": {
      "text/html": [
       "<html>\\[\\newcommand{\\Bold}[1]{\\mathbf{#1}}\\left[x = 4, y = 2\\right]\\]</html>"
      ],
      "text/latex": [
       "$$\\newcommand{\\Bold}[1]{\\mathbf{#1}}\\left[x = 4, y = 2\\right]$$"
      ],
      "text/plain": [
       "[x == 4, y == 2]"
      ]
     },
     "metadata": {},
     "output_type": "display_data"
    },
    {
     "data": {
      "text/html": [
       "<html>\\[\\newcommand{\\Bold}[1]{\\mathbf{#1}}\\left[-2 \\, \\sqrt{3} + 6, 2 \\, \\sqrt{3} + 6\\right]\\]</html>"
      ],
      "text/latex": [
       "$$\\newcommand{\\Bold}[1]{\\mathbf{#1}}\\left[-2 \\, \\sqrt{3} + 6, 2 \\, \\sqrt{3} + 6\\right]$$"
      ],
      "text/plain": [
       "[-2*sqrt(3) + 6, 2*sqrt(3) + 6]"
      ]
     },
     "metadata": {},
     "output_type": "display_data"
    },
    {
     "data": {
      "text/html": [
       "<html>\\[\\newcommand{\\Bold}[1]{\\mathbf{#1}}\\left[x = -2 i \\, \\sqrt{3} - 2, y = i \\, \\sqrt{3} - 1\\right]\\]</html>"
      ],
      "text/latex": [
       "$$\\newcommand{\\Bold}[1]{\\mathbf{#1}}\\left[x = -2 i \\, \\sqrt{3} - 2, y = i \\, \\sqrt{3} - 1\\right]$$"
      ],
      "text/plain": [
       "[x == -2*I*sqrt(3) - 2, y == I*sqrt(3) - 1]"
      ]
     },
     "metadata": {},
     "output_type": "display_data"
    },
    {
     "data": {
      "text/html": [
       "<html>\\[\\newcommand{\\Bold}[1]{\\mathbf{#1}}\\left[-i \\, \\sqrt{3} - \\sqrt{6 i \\, \\sqrt{3} - 18} - 3, -i \\, \\sqrt{3} + \\sqrt{6 i \\, \\sqrt{3} - 18} - 3\\right]\\]</html>"
      ],
      "text/latex": [
       "$$\\newcommand{\\Bold}[1]{\\mathbf{#1}}\\left[-i \\, \\sqrt{3} - \\sqrt{6 i \\, \\sqrt{3} - 18} - 3, -i \\, \\sqrt{3} + \\sqrt{6 i \\, \\sqrt{3} - 18} - 3\\right]$$"
      ],
      "text/plain": [
       "[-I*sqrt(3) - sqrt(6*I*sqrt(3) - 18) - 3,\n",
       " -I*sqrt(3) + sqrt(6*I*sqrt(3) - 18) - 3]"
      ]
     },
     "metadata": {},
     "output_type": "display_data"
    },
    {
     "data": {
      "text/html": [
       "<html>\\[\\newcommand{\\Bold}[1]{\\mathbf{#1}}\\left[x = 2 i \\, \\sqrt{3} - 2, y = -i \\, \\sqrt{3} - 1\\right]\\]</html>"
      ],
      "text/latex": [
       "$$\\newcommand{\\Bold}[1]{\\mathbf{#1}}\\left[x = 2 i \\, \\sqrt{3} - 2, y = -i \\, \\sqrt{3} - 1\\right]$$"
      ],
      "text/plain": [
       "[x == 2*I*sqrt(3) - 2, y == -I*sqrt(3) - 1]"
      ]
     },
     "metadata": {},
     "output_type": "display_data"
    },
    {
     "data": {
      "text/html": [
       "<html>\\[\\newcommand{\\Bold}[1]{\\mathbf{#1}}\\left[i \\, \\sqrt{3} - \\sqrt{-6 i \\, \\sqrt{3} - 18} - 3, i \\, \\sqrt{3} + \\sqrt{-6 i \\, \\sqrt{3} - 18} - 3\\right]\\]</html>"
      ],
      "text/latex": [
       "$$\\newcommand{\\Bold}[1]{\\mathbf{#1}}\\left[i \\, \\sqrt{3} - \\sqrt{-6 i \\, \\sqrt{3} - 18} - 3, i \\, \\sqrt{3} + \\sqrt{-6 i \\, \\sqrt{3} - 18} - 3\\right]$$"
      ],
      "text/plain": [
       "[I*sqrt(3) - sqrt(-6*I*sqrt(3) - 18) - 3,\n",
       " I*sqrt(3) + sqrt(-6*I*sqrt(3) - 18) - 3]"
      ]
     },
     "metadata": {},
     "output_type": "display_data"
    },
    {
     "data": {
      "text/html": [
       "<html>\\[\\newcommand{\\Bold}[1]{\\mathbf{#1}}\\left[x = 0, y = 0\\right]\\]</html>"
      ],
      "text/latex": [
       "$$\\newcommand{\\Bold}[1]{\\mathbf{#1}}\\left[x = 0, y = 0\\right]$$"
      ],
      "text/plain": [
       "[x == 0, y == 0]"
      ]
     },
     "metadata": {},
     "output_type": "display_data"
    },
    {
     "data": {
      "text/html": [
       "<html>\\[\\newcommand{\\Bold}[1]{\\mathbf{#1}}\\left[-2 \\, \\sqrt{2}, 2 \\, \\sqrt{2}\\right]\\]</html>"
      ],
      "text/latex": [
       "$$\\newcommand{\\Bold}[1]{\\mathbf{#1}}\\left[-2 \\, \\sqrt{2}, 2 \\, \\sqrt{2}\\right]$$"
      ],
      "text/plain": [
       "[-2*sqrt(2), 2*sqrt(2)]"
      ]
     },
     "metadata": {},
     "output_type": "display_data"
    }
   ],
   "source": [
    "x,y=var(\"x,y\")\n",
    "f1(x,y)=x^2-8*y\n",
    "f2(x,y)=y^2-x\n",
    "sols=solve([f1(x,y)==0, f2(x,y)==0], [x,y])\n",
    "J=jacobian((f1(x,y), f2(x,y)), (x,y))\n",
    "for sol in sols:\n",
    "#     if sol[0].rhs().is_real() and sol[1].rhs().is_real():\n",
    "    A=J(x=sol[0].rhs(), y=sol[1].rhs())\n",
    "    show(sol)\n",
    "    show(A.eigenvalues())"
   ]
  },
  {
   "cell_type": "markdown",
   "id": "40a997d3",
   "metadata": {},
   "source": [
    "(b)"
   ]
  },
  {
   "cell_type": "markdown",
   "id": "16e9f453",
   "metadata": {},
   "source": [
    "(4, 2) este instabil, de tip nod \\\n",
    "(0, 0) este instabil, de tip sa"
   ]
  },
  {
   "cell_type": "code",
   "execution_count": 137,
   "id": "ac1bc7eb",
   "metadata": {},
   "outputs": [
    {
     "ename": "SyntaxError",
     "evalue": "invalid syntax (645289177.py, line 13)",
     "output_type": "error",
     "traceback": [
      "\u001b[0;36m  Input \u001b[0;32mIn [137]\u001b[0;36m\u001b[0m\n\u001b[0;31m    g+=list_plot([[j,k] for i,j,k in P], plotjoined=True, color=)\u001b[0m\n\u001b[0m                                                                ^\u001b[0m\n\u001b[0;31mSyntaxError\u001b[0m\u001b[0;31m:\u001b[0m invalid syntax\n"
     ]
    }
   ],
   "source": [
    "xmin=-5\n",
    "xmax=5\n",
    "ymin=-5\n",
    "ymax=5\n",
    "\n",
    "n=sqrt(f1*f1+f2*f2)\n",
    "g=plot_vector_field([f1(x,y)/n, f2(x,y)/n], [xmin,xmax], [ymin,ymax], plot_points=20, aspect_ratio=1)\n",
    "\n",
    "\n",
    "# for x0,y0 in [ (1,1), (-1,1), (1,-1), (-1,-1), (25,0), (0,15), (4,2), (-15, 0), (0,-5) ]:\n",
    "for x0,y0 in [ [Integer(randint(-10,10)), Integer(randint(-10,10))] for i in range(0,75) ]:\n",
    "    P=desolve_system_rk4([f1(x,y),f2(x,y)], [x,y], ics=[0,x0,y0], ivar=t, end_points=[xmin,xmax], step=0.05)\n",
    "    g+=list_plot([[j,k] for i,j,k in P], plotjoined=True, color=)\n",
    "g+=point([4,2], color='red')\n",
    "g+=point([0,0], color='red')\n",
    "g.show(xmin=xmin, xmax=xmax, ymin=ymin, ymax=ymax)"
   ]
  },
  {
   "cell_type": "code",
   "execution_count": null,
   "id": "9f880def",
   "metadata": {},
   "outputs": [],
   "source": []
  },
  {
   "cell_type": "code",
   "execution_count": null,
   "id": "312af4e8",
   "metadata": {},
   "outputs": [],
   "source": []
  }
 ],
 "metadata": {
  "kernelspec": {
   "display_name": "SageMath 9.5",
   "language": "sage",
   "name": "sagemath"
  },
  "language_info": {
   "codemirror_mode": {
    "name": "ipython",
    "version": 3
   },
   "file_extension": ".py",
   "mimetype": "text/x-python",
   "name": "python",
   "nbconvert_exporter": "python",
   "pygments_lexer": "ipython3",
   "version": "3.10.4"
  }
 },
 "nbformat": 4,
 "nbformat_minor": 5
}
