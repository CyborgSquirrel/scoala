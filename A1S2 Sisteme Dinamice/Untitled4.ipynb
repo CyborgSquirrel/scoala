{
 "cells": [
  {
   "cell_type": "markdown",
   "id": "200d6bf6",
   "metadata": {},
   "source": [
    "# 1"
   ]
  },
  {
   "cell_type": "markdown",
   "id": "cfc22cd7",
   "metadata": {},
   "source": [
    "(a)"
   ]
  },
  {
   "cell_type": "code",
   "execution_count": 4,
   "id": "89056d05",
   "metadata": {},
   "outputs": [
    {
     "data": {
      "text/html": [
       "<html>\\[\\newcommand{\\Bold}[1]{\\mathbf{#1}}{\\left(m x + C\\right)} x\\]</html>"
      ],
      "text/latex": [
       "$$\\newcommand{\\Bold}[1]{\\mathbf{#1}}{\\left(m x + C\\right)} x$$"
      ],
      "text/plain": [
       "(m*x + _C)*x"
      ]
     },
     "metadata": {},
     "output_type": "display_data"
    }
   ],
   "source": [
    "m=var('m')\n",
    "x=var('x')\n",
    "y=function('y')(x)\n",
    "eqd=diff(y)-y/x == m*x\n",
    "sol=desolve(eqd, y, ivar=x)\n",
    "show(sol)"
   ]
  },
  {
   "cell_type": "markdown",
   "id": "d7bdc3d7",
   "metadata": {},
   "source": [
    "(b)"
   ]
  },
  {
   "cell_type": "code",
   "execution_count": 8,
   "id": "c074f8d1",
   "metadata": {},
   "outputs": [
    {
     "data": {
      "text/html": [
       "<html>\\[\\newcommand{\\Bold}[1]{\\mathbf{#1}}x \\ {\\mapsto}\\ m x^{2} - {\\left(m - 1\\right)} x\\]</html>"
      ],
      "text/latex": [
       "$$\\newcommand{\\Bold}[1]{\\mathbf{#1}}x \\ {\\mapsto}\\ m x^{2} - {\\left(m - 1\\right)} x$$"
      ],
      "text/plain": [
       "x |--> m*x^2 - (m - 1)*x"
      ]
     },
     "metadata": {},
     "output_type": "display_data"
    },
    {
     "data": {
      "text/html": [
       "<html>\\[\\newcommand{\\Bold}[1]{\\mathbf{#1}}\\left[m = \\left(-1\\right)\\right]\\]</html>"
      ],
      "text/latex": [
       "$$\\newcommand{\\Bold}[1]{\\mathbf{#1}}\\left[m = \\left(-1\\right)\\right]$$"
      ],
      "text/plain": [
       "[m == -1]"
      ]
     },
     "metadata": {},
     "output_type": "display_data"
    },
    {
     "data": {
      "text/html": [
       "<html>\\[\\newcommand{\\Bold}[1]{\\mathbf{#1}}x \\ {\\mapsto}\\ -x^{2} + 2 \\, x\\]</html>"
      ],
      "text/latex": [
       "$$\\newcommand{\\Bold}[1]{\\mathbf{#1}}x \\ {\\mapsto}\\ -x^{2} + 2 \\, x$$"
      ],
      "text/plain": [
       "x |--> -x^2 + 2*x"
      ]
     },
     "metadata": {},
     "output_type": "display_data"
    }
   ],
   "source": [
    "sol(x)=desolve(eqd, y, ivar=x, ics=[1,1])\n",
    "show(sol)\n",
    "sol_m=solve(sol(2) == 0, m)\n",
    "show(sol_m)\n",
    "show(sol.substitute(sol_m[0]))"
   ]
  },
  {
   "cell_type": "markdown",
   "id": "a0edbd5d",
   "metadata": {},
   "source": [
    "# 2"
   ]
  },
  {
   "cell_type": "markdown",
   "id": "5c1dcaca",
   "metadata": {},
   "source": [
    "(a)"
   ]
  },
  {
   "cell_type": "code",
   "execution_count": 10,
   "id": "24280c32",
   "metadata": {},
   "outputs": [
    {
     "data": {
      "text/html": [
       "<html>\\[\\newcommand{\\Bold}[1]{\\mathbf{#1}}\\frac{K_{1} \\log\\left(x\\right)}{x} + \\frac{K_{2}}{x}\\]</html>"
      ],
      "text/latex": [
       "$$\\newcommand{\\Bold}[1]{\\mathbf{#1}}\\frac{K_{1} \\log\\left(x\\right)}{x} + \\frac{K_{2}}{x}$$"
      ],
      "text/plain": [
       "_K1*log(x)/x + _K2/x"
      ]
     },
     "metadata": {},
     "output_type": "display_data"
    }
   ],
   "source": [
    "x=var('x')\n",
    "y=function('y')(x)\n",
    "eqd=x^2*diff(y,x,2) + 3*x*diff(y,x,1) + y == 0\n",
    "\n",
    "sol=desolve(eqd, y)\n",
    "show(sol)"
   ]
  },
  {
   "cell_type": "markdown",
   "id": "f6069deb",
   "metadata": {},
   "source": [
    "(b)"
   ]
  },
  {
   "cell_type": "code",
   "execution_count": 19,
   "id": "41a5eeba",
   "metadata": {},
   "outputs": [
    {
     "data": {
      "text/html": [
       "<html>\\[\\newcommand{\\Bold}[1]{\\mathbf{#1}}x \\ {\\mapsto}\\ \\frac{2 \\, \\log\\left(x\\right)}{x} + \\frac{1}{x}\\]</html>"
      ],
      "text/latex": [
       "$$\\newcommand{\\Bold}[1]{\\mathbf{#1}}x \\ {\\mapsto}\\ \\frac{2 \\, \\log\\left(x\\right)}{x} + \\frac{1}{x}$$"
      ],
      "text/plain": [
       "x |--> 2*log(x)/x + 1/x"
      ]
     },
     "metadata": {},
     "output_type": "display_data"
    },
    {
     "data": {
      "image/png": "[encoded data removed]",
      "text/plain": [
       "Graphics object consisting of 1 graphics primitive"
      ]
     },
     "execution_count": 19,
     "metadata": {},
     "output_type": "execute_result"
    }
   ],
   "source": [
    "sol(x)=desolve(eqd, y, ics=[1,1,1])\n",
    "show(sol)\n",
    "plot(sol(x), xmin=1, xmax=10)"
   ]
  },
  {
   "cell_type": "markdown",
   "id": "51c46489",
   "metadata": {},
   "source": [
    "# 3"
   ]
  },
  {
   "cell_type": "markdown",
   "id": "59bcb43b",
   "metadata": {},
   "source": [
    "(a)"
   ]
  },
  {
   "cell_type": "code",
   "execution_count": 22,
   "id": "7a8b084d",
   "metadata": {},
   "outputs": [
    {
     "data": {
      "text/html": [
       "<html>\\[\\newcommand{\\Bold}[1]{\\mathbf{#1}}x = \\left(-1\\right)\\]</html>"
      ],
      "text/latex": [
       "$$\\newcommand{\\Bold}[1]{\\mathbf{#1}}x = \\left(-1\\right)$$"
      ],
      "text/plain": [
       "x == -1"
      ]
     },
     "metadata": {},
     "output_type": "display_data"
    },
    {
     "data": {
      "text/html": [
       "<html>\\[\\newcommand{\\Bold}[1]{\\mathbf{#1}}-3\\]</html>"
      ],
      "text/latex": [
       "$$\\newcommand{\\Bold}[1]{\\mathbf{#1}}-3$$"
      ],
      "text/plain": [
       "-3"
      ]
     },
     "metadata": {},
     "output_type": "display_data"
    },
    {
     "data": {
      "text/html": [
       "<html>\\[\\newcommand{\\Bold}[1]{\\mathbf{#1}}x = 0\\]</html>"
      ],
      "text/latex": [
       "$$\\newcommand{\\Bold}[1]{\\mathbf{#1}}x = 0$$"
      ],
      "text/plain": [
       "x == 0"
      ]
     },
     "metadata": {},
     "output_type": "display_data"
    },
    {
     "data": {
      "text/html": [
       "<html>\\[\\newcommand{\\Bold}[1]{\\mathbf{#1}}2\\]</html>"
      ],
      "text/latex": [
       "$$\\newcommand{\\Bold}[1]{\\mathbf{#1}}2$$"
      ],
      "text/plain": [
       "2"
      ]
     },
     "metadata": {},
     "output_type": "display_data"
    },
    {
     "data": {
      "text/html": [
       "<html>\\[\\newcommand{\\Bold}[1]{\\mathbf{#1}}x = 2\\]</html>"
      ],
      "text/latex": [
       "$$\\newcommand{\\Bold}[1]{\\mathbf{#1}}x = 2$$"
      ],
      "text/plain": [
       "x == 2"
      ]
     },
     "metadata": {},
     "output_type": "display_data"
    },
    {
     "data": {
      "text/html": [
       "<html>\\[\\newcommand{\\Bold}[1]{\\mathbf{#1}}-6\\]</html>"
      ],
      "text/latex": [
       "$$\\newcommand{\\Bold}[1]{\\mathbf{#1}}-6$$"
      ],
      "text/plain": [
       "-6"
      ]
     },
     "metadata": {},
     "output_type": "display_data"
    }
   ],
   "source": [
    "x,t=var('x,t')\n",
    "f(x)=x*(x+1)*(2-x)\n",
    "fd(x)=diff(f)\n",
    "sols=solve(f(x)==0,x)\n",
    "for sol in sols:\n",
    "    show(sol)\n",
    "    show(fd(sol.rhs()))"
   ]
  },
  {
   "cell_type": "markdown",
   "id": "36163256",
   "metadata": {},
   "source": [
    "$x^*_1=-1$ local asimptotic stabil \\\n",
    "$x^*_2=0$ instabil \\\n",
    "$x^*_3=2$ local asimptotic stabil"
   ]
  },
  {
   "cell_type": "code",
   "execution_count": 25,
   "id": "6620bc0f",
   "metadata": {},
   "outputs": [
    {
     "data": {
      "image/png": "[encoded data removed]",
      "text/plain": [
       "Graphics object consisting of 4 graphics primitives"
      ]
     },
     "metadata": {},
     "output_type": "display_data"
    }
   ],
   "source": [
    "g=plot(f(x), xmin=-3, xmax=3)\n",
    "g+=point([-1,0])\n",
    "g+=point([0,0])\n",
    "g+=point([2,0])\n",
    "show(g)"
   ]
  },
  {
   "cell_type": "markdown",
   "id": "ea944f45",
   "metadata": {},
   "source": [
    "(b)"
   ]
  },
  {
   "cell_type": "code",
   "execution_count": 54,
   "id": "c5e4b1a5",
   "metadata": {},
   "outputs": [
    {
     "data": {
      "image/png": "[encoded data removed]",
      "text/plain": [
       "Graphics object consisting of 8 graphics primitives"
      ]
     },
     "metadata": {},
     "output_type": "display_data"
    }
   ],
   "source": [
    "t=var('t')\n",
    "x=function('x')(t)\n",
    "eqd=diff(x) == x*(x+1)*(2-x)\n",
    "p=plot([])\n",
    "for x0 in [ -2, -1, -1/2, 0, 1/2, 1, 3/2, 2 ]:\n",
    "    sol=desolve_rk4(eqd, x, ics=[0,x0], end_points=[0,2], step=0.01)\n",
    "    p+=list_plot(sol, plotjoined=True)\n",
    "show(p)"
   ]
  },
  {
   "cell_type": "markdown",
   "id": "5e50b04d",
   "metadata": {},
   "source": [
    "# 4"
   ]
  },
  {
   "cell_type": "markdown",
   "id": "cc9d1af7",
   "metadata": {},
   "source": [
    "(a)"
   ]
  },
  {
   "cell_type": "code",
   "execution_count": 56,
   "id": "5ca007fc",
   "metadata": {},
   "outputs": [
    {
     "data": {
      "text/html": [
       "<html>\\[\\newcommand{\\Bold}[1]{\\mathbf{#1}}\\left[y_{1}\\left(x\\right) = -2 \\, {\\left(4 \\, y_{1}\\left(0\\right) + 3 \\, y_{2}\\left(0\\right)\\right)} e^{\\left(2 \\, x\\right)} + 3 \\, {\\left(3 \\, y_{1}\\left(0\\right) + 2 \\, y_{2}\\left(0\\right)\\right)} e^{x}, y_{2}\\left(x\\right) = 3 \\, {\\left(4 \\, y_{1}\\left(0\\right) + 3 \\, y_{2}\\left(0\\right)\\right)} e^{\\left(2 \\, x\\right)} - 4 \\, {\\left(3 \\, y_{1}\\left(0\\right) + 2 \\, y_{2}\\left(0\\right)\\right)} e^{x}\\right]\\]</html>"
      ],
      "text/latex": [
       "$$\\newcommand{\\Bold}[1]{\\mathbf{#1}}\\left[y_{1}\\left(x\\right) = -2 \\, {\\left(4 \\, y_{1}\\left(0\\right) + 3 \\, y_{2}\\left(0\\right)\\right)} e^{\\left(2 \\, x\\right)} + 3 \\, {\\left(3 \\, y_{1}\\left(0\\right) + 2 \\, y_{2}\\left(0\\right)\\right)} e^{x}, y_{2}\\left(x\\right) = 3 \\, {\\left(4 \\, y_{1}\\left(0\\right) + 3 \\, y_{2}\\left(0\\right)\\right)} e^{\\left(2 \\, x\\right)} - 4 \\, {\\left(3 \\, y_{1}\\left(0\\right) + 2 \\, y_{2}\\left(0\\right)\\right)} e^{x}\\right]$$"
      ],
      "text/plain": [
       "[y1(x) == -2*(4*y1(0) + 3*y2(0))*e^(2*x) + 3*(3*y1(0) + 2*y2(0))*e^x,\n",
       " y2(x) == 3*(4*y1(0) + 3*y2(0))*e^(2*x) - 4*(3*y1(0) + 2*y2(0))*e^x]"
      ]
     },
     "metadata": {},
     "output_type": "display_data"
    }
   ],
   "source": [
    "x=var('x')\n",
    "y1=function('y1')(x)\n",
    "y2=function('y2')(x)\n",
    "\n",
    "eqd=[diff(y1)==-7*y1-6*y2, diff(y2)==12*y1+10*y2]\n",
    "sol=desolve_system(eqd, [y1,y2])\n",
    "show(sol)"
   ]
  },
  {
   "cell_type": "markdown",
   "id": "6d53c9e3",
   "metadata": {},
   "source": [
    "(b)"
   ]
  },
  {
   "cell_type": "code",
   "execution_count": 57,
   "id": "b9d3fee1",
   "metadata": {},
   "outputs": [
    {
     "data": {
      "text/html": [
       "<html>\\[\\newcommand{\\Bold}[1]{\\mathbf{#1}}\\left[y_{1}\\left(x\\right) = -40 \\, e^{\\left(2 \\, x\\right)} + 42 \\, e^{x}, y_{2}\\left(x\\right) = 60 \\, e^{\\left(2 \\, x\\right)} - 56 \\, e^{x}\\right]\\]</html>"
      ],
      "text/latex": [
       "$$\\newcommand{\\Bold}[1]{\\mathbf{#1}}\\left[y_{1}\\left(x\\right) = -40 \\, e^{\\left(2 \\, x\\right)} + 42 \\, e^{x}, y_{2}\\left(x\\right) = 60 \\, e^{\\left(2 \\, x\\right)} - 56 \\, e^{x}\\right]$$"
      ],
      "text/plain": [
       "[y1(x) == -40*e^(2*x) + 42*e^x, y2(x) == 60*e^(2*x) - 56*e^x]"
      ]
     },
     "metadata": {},
     "output_type": "display_data"
    }
   ],
   "source": [
    "sol=desolve_system(eqd, [y1,y2], ics=[0,2,4])\n",
    "show(sol)"
   ]
  },
  {
   "cell_type": "code",
   "execution_count": null,
   "id": "4e215541",
   "metadata": {},
   "outputs": [],
   "source": []
  }
 ],
 "metadata": {
  "kernelspec": {
   "display_name": "SageMath 9.5",
   "language": "sage",
   "name": "sagemath"
  },
  "language_info": {
   "codemirror_mode": {
    "name": "ipython",
    "version": 3
   },
   "file_extension": ".py",
   "mimetype": "text/x-python",
   "name": "python",
   "nbconvert_exporter": "python",
   "pygments_lexer": "ipython3",
   "version": "3.10.4"
  }
 },
 "nbformat": 4,
 "nbformat_minor": 5
}
