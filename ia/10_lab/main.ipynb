{
 "cells": [
  {
   "cell_type": "markdown",
   "id": "a8d0add1-27b3-475d-bedc-23e3f248b417",
   "metadata": {},
   "source": [
    "1. Latent Dirichlet Allocation (LDA): This is a topic modeling method that represents each document as a mixture of latent topics, where each topic is represented as a probability distribution over words. LDA can be used to discover the underlying topics that are present in a corpus of documents, as well as to represent documents in a low-dimensional topic space.\n",
    "\n",
    "2. Convolutional Neural Networks (CNNs): This is a deep learning method that can be used to extract features from texts. CNNs can be trained to learn filters that can identify specific features in texts, such as n-grams or parts of speech. The resulting feature vectors can be used for various downstream tasks, such as classification or sentiment analysis."
   ]
  },
  {
   "cell_type": "markdown",
   "id": "fc9b347b-2ab9-48c1-9b6e-6b9c46086a17",
   "metadata": {},
   "source": [
    "# Imports"
   ]
  },
  {
   "cell_type": "code",
   "execution_count": 4,
   "id": "b5ee3b8c-27af-4e6d-8464-72c3d8a7f5d9",
   "metadata": {},
   "outputs": [],
   "source": [
    "import re\n",
    "import typing\n",
    "import random\n",
    "import math\n",
    "import sklearn.datasets\n",
    "import sklearn.preprocessing\n",
    "import sklearn.metrics\n",
    "import sklearn.linear_model\n",
    "import numpy as np\n",
    "import matplotlib.pyplot as plt\n",
    "import ipywidgets\n",
    "import os\n",
    "import os.path\n",
    "from tensorflow import keras\n",
    "import dataclasses\n",
    "import csv\n",
    "import gensim\n",
    "import gensim.corpora\n",
    "import gensim.downloader\n",
    "import gensim.test.utils\n",
    "import itertools\n",
    "from pprint import pprint"
   ]
  },
  {
   "cell_type": "markdown",
   "id": "4c5add44-7c6a-44f8-b938-96006713a23c",
   "metadata": {},
   "source": [
    "# Data"
   ]
  },
  {
   "cell_type": "markdown",
   "id": "fa4e1605-9d30-4924-97c8-bd9270f91f24",
   "metadata": {},
   "source": [
    "## Iris"
   ]
  },
  {
   "cell_type": "code",
   "execution_count": 5,
   "id": "6f873214-ae93-4d7d-8824-6c9c2e8acd29",
   "metadata": {},
   "outputs": [],
   "source": [
    "iris = sklearn.datasets.load_iris()\n",
    "iris_data = iris[\"data\"]\n",
    "scaler = sklearn.preprocessing.StandardScaler()\n",
    "scaler.fit(iris_data)\n",
    "iris_data = scaler.transform(iris_data)"
   ]
  },
  {
   "cell_type": "markdown",
   "id": "29d1138a-246b-4741-bda2-7a00396afa62",
   "metadata": {},
   "source": [
    "## Reviews"
   ]
  },
  {
   "cell_type": "code",
   "execution_count": 9,
   "id": "40188e8f-2146-4d45-b960-7356d5bbcdfe",
   "metadata": {},
   "outputs": [],
   "source": [
    "reviews_data = {\n",
    "    \"text\": [],\n",
    "    \"sentiment\": [],\n",
    "}\n",
    "with open(\"./data/reviews_mixed.csv\") as f:\n",
    "    f = csv.reader(f)\n",
    "    header = next(f)\n",
    "    for text in f:\n",
    "        idk = text[0]\n",
    "        idk = idk.lower()\n",
    "        idk = re.sub(\"[.,!:;\\\\(\\\\)\\\"?\\\\-+]\", \" \", idk)\n",
    "        idk = idk.split()\n",
    "        \n",
    "        reviews_data[\"text\"].append(idk)\n",
    "        \n",
    "        sentiment = None\n",
    "        if text[1] == \"negative\":\n",
    "            sentiment = 0\n",
    "        else:\n",
    "            sentiment = 1\n",
    "        if sentiment is None:\n",
    "            assert False\n",
    "        reviews_data[\"sentiment\"].append(sentiment)\n",
    "    \n",
    "    reviews_data[\"sentiment\"] = np.array(reviews_data[\"sentiment\"])"
   ]
  },
  {
   "cell_type": "markdown",
   "id": "975174d6-6459-4551-b959-59617a755e5d",
   "metadata": {},
   "source": [
    "# Solution"
   ]
  },
  {
   "cell_type": "code",
   "execution_count": 10,
   "id": "4e69a96f-b06f-4c9c-99a0-40e0e73b5521",
   "metadata": {},
   "outputs": [],
   "source": [
    "def nearest_neighbor(centroids: np.ndarray, data: np.ndarray) -> np.ndarray:\n",
    "    closest_centroid_index = np.zeros(data.shape[0], dtype=int)\n",
    "    for row_index in range(data.shape[0]):\n",
    "        row = data[row_index]\n",
    "        distances = [\n",
    "            (centroid_index, np.sum((row - centroids[centroid_index]) ** 2))\n",
    "            for centroid_index in range(centroids.shape[0])\n",
    "        ]\n",
    "        # print(distances)\n",
    "        min_distance = min(distances, key=lambda a: a[1])\n",
    "        closest_centroid_index[row_index] = min_distance[0]\n",
    "    return closest_centroid_index\n",
    "\n",
    "def kmeans(k: int, data: np.ndarray, *, centroids_init: np.ndarray = None):\n",
    "    assert len(data.shape) == 2\n",
    "    \n",
    "    if centroids_init is not None:\n",
    "        centroids = centroids_init\n",
    "    else:\n",
    "        centroid_indices = np.random.choice(data.shape[0], k, False)\n",
    "        centroids = data[centroid_indices]\n",
    "    centroid_distances = None\n",
    "    loops = 0\n",
    "    \n",
    "    while (\n",
    "        loops < 1000\n",
    "        and\n",
    "        (\n",
    "            centroid_distances is None\n",
    "            or\n",
    "            np.any(centroid_distances > 0.1)\n",
    "        )\n",
    "    ):\n",
    "        closest_centroid_index = nearest_neighbor(centroids, data)\n",
    "        \n",
    "        centroid_distances = np.zeros(centroids.shape[0])\n",
    "        for centroid_index in range(centroids.shape[0]):\n",
    "            mask = (closest_centroid_index == centroid_index)\n",
    "            \n",
    "            neighbors_count = np.sum(mask)\n",
    "            # print(centroid_index, neighbors_count)\n",
    "            if neighbors_count == 0:\n",
    "                continue\n",
    "            neighbors_sum = np.sum(data[mask], axis=0)\n",
    "            # print(neighbors_sum)\n",
    "            \n",
    "            centroid = neighbors_sum / neighbors_count\n",
    "            centroid_distances[centroid_index] = np.sqrt(np.sum((centroid - centroids[centroid_index]) ** 2))\n",
    "            centroids[centroid_index] = centroid\n",
    "        \n",
    "        \n",
    "        loops += 1\n",
    "    \n",
    "    # print(centroid_distances)\n",
    "    # print(loops)\n",
    "        \n",
    "    return centroids"
   ]
  },
  {
   "cell_type": "markdown",
   "id": "320cd81b-ea21-4e73-939d-6a7480979afc",
   "metadata": {},
   "source": [
    "## Simple KMeans (Iris)"
   ]
  },
  {
   "cell_type": "code",
   "execution_count": 11,
   "id": "75d01e5c-e7c8-4cfa-b398-cd74c99b1ed4",
   "metadata": {},
   "outputs": [
    {
     "data": {
      "image/png": "[encoded data removed]",
      "text/plain": [
       "<Figure size 640x480 with 1 Axes>"
      ]
     },
     "metadata": {},
     "output_type": "display_data"
    }
   ],
   "source": [
    "centroids = kmeans(3, iris_data)\n",
    "centroid_indices = nearest_neighbor(centroids, iris_data)\n",
    "\n",
    "fig = plt.figure()\n",
    "ax = fig.add_subplot(projection=\"3d\")\n",
    "\n",
    "for centroid_index, marker in [(0, \"o\"), (1, \"^\"), (2, \"s\")]:\n",
    "    mask = centroid_indices == centroid_index\n",
    "    ax.scatter(\n",
    "        iris_data[mask,0],\n",
    "        iris_data[mask,1],\n",
    "        iris_data[mask,2],\n",
    "        c = iris_data[mask,3] / np.max(iris_data[mask,3]),\n",
    "        marker = marker,\n",
    ")"
   ]
  },
  {
   "cell_type": "markdown",
   "id": "2c5ee859-069e-469e-a66a-e6e48b6cdefb",
   "metadata": {},
   "source": [
    "## Extragere caracteristici"
   ]
  },
  {
   "cell_type": "markdown",
   "id": "fdf0473c-b6cb-45af-bf5f-4e8695bd254a",
   "metadata": {},
   "source": [
    "### Wrd2Vec (Reviews)"
   ]
  },
  {
   "cell_type": "code",
   "execution_count": 16,
   "id": "b08d08b8-ea9f-48aa-9705-591409e68dd7",
   "metadata": {},
   "outputs": [
    {
     "name": "stdout",
     "output_type": "stream",
     "text": [
      "[ 0.0026725  -0.09403419 -0.08155295  0.03036398 -0.07941239 -0.09365191\n",
      " -0.01349265 -0.0713892  -0.08145922 -0.09113636]\n"
     ]
    }
   ],
   "source": [
    "model = gensim.models.Word2Vec(\n",
    "    sentences=reviews_data[\"text\"],\n",
    "    vector_size=10,\n",
    "    window=5,\n",
    "    min_count=1,\n",
    "    workers=4,\n",
    ")\n",
    "print(model.wv[\"door\"])"
   ]
  },
  {
   "cell_type": "markdown",
   "id": "cc4dc515-e316-453c-b0f2-b310965a3476",
   "metadata": {},
   "source": [
    "### Latent Dirichlet Allocation (Reviews)"
   ]
  },
  {
   "cell_type": "code",
   "execution_count": 13,
   "id": "866d6cce-4b55-44aa-8e6c-d241d1a2d10a",
   "metadata": {},
   "outputs": [
    {
     "name": "stdout",
     "output_type": "stream",
     "text": [
      "[(0,\n",
      "  '0.028*\"the\" + 0.023*\"and\" + 0.019*\"room\" + 0.018*\"was\" + 0.015*\"no\" + '\n",
      "  '0.014*\"for\" + 0.013*\"very\" + 0.013*\"some\" + 0.012*\"were\" + 0.012*\"a\"'),\n",
      " (1,\n",
      "  '0.057*\"the\" + 0.040*\"was\" + 0.029*\"to\" + 0.022*\"it\" + 0.018*\"and\" + '\n",
      "  '0.011*\"in\" + 0.011*\"room\" + 0.009*\"be\" + 0.009*\"had\" + 0.008*\"shower\"'),\n",
      " (2,\n",
      "  '0.054*\"the\" + 0.039*\"was\" + 0.035*\"room\" + 0.026*\"and\" + 0.021*\"very\" + '\n",
      "  '0.017*\"in\" + 0.017*\"clean\" + 0.014*\"a\" + 0.013*\"of\" + 0.013*\"to\"'),\n",
      " (3,\n",
      "  '0.044*\"the\" + 0.030*\"room\" + 0.028*\"was\" + 0.025*\"and\" + 0.020*\"bed\" + '\n",
      "  '0.018*\"very\" + 0.015*\"comfortable\" + 0.015*\"a\" + 0.015*\"to\" + '\n",
      "  '0.014*\"small\"'),\n",
      " (4,\n",
      "  '0.052*\"the\" + 0.027*\"a\" + 0.023*\"and\" + 0.019*\"was\" + 0.018*\"not\" + '\n",
      "  '0.013*\"only\" + 0.013*\"rooms\" + 0.012*\"are\" + 0.010*\"which\" + 0.010*\"for\"')]\n"
     ]
    }
   ],
   "source": [
    "dictionary = gensim.corpora.Dictionary(reviews_data[\"text\"])\n",
    "\n",
    "model = gensim.models.LdaMulticore(\n",
    "    [dictionary.doc2bow(row) for row in reviews_data[\"text\"]],\n",
    "    id2word=dictionary,\n",
    "    num_topics=5,\n",
    ")\n",
    "\n",
    "pprint(model.print_topics())"
   ]
  },
  {
   "cell_type": "markdown",
   "id": "9228abe1-63c0-4400-a0cf-9d8df006beaf",
   "metadata": {},
   "source": [
    "### Bi-Grams (Reviews)"
   ]
  },
  {
   "cell_type": "code",
   "execution_count": 14,
   "id": "85309656-48d9-4270-ba97-3681ad2c539b",
   "metadata": {},
   "outputs": [],
   "source": [
    "bigrams = dict()\n",
    "for text in reviews_data[\"text\"]:\n",
    "    for word_1, word_2 in zip(text, text[1:]):\n",
    "        bigram = word_1 + \" \" + word_2\n",
    "        bigrams.setdefault(bigram, 0)\n",
    "        bigrams[bigram] += 1\n",
    "\n",
    "# print(bigrams)"
   ]
  },
  {
   "cell_type": "markdown",
   "id": "7240856b-8b95-4d6d-92b6-bd80dcd144a5",
   "metadata": {},
   "source": [
    "## Etichetare emotii"
   ]
  },
  {
   "cell_type": "markdown",
   "id": "26e5b9a5-3e7f-405f-918f-22c3d435a1a1",
   "metadata": {},
   "source": [
    "### Supervizat"
   ]
  },
  {
   "cell_type": "code",
   "execution_count": null,
   "id": "8d3b7560-a4f9-492e-a3c2-39583ef25082",
   "metadata": {},
   "outputs": [],
   "source": [
    "vector_size = 20\n",
    "train_percentage = 0.80\n",
    "length = len(reviews_data[\"text\"])\n",
    "\n",
    "# split data into train and test\n",
    "data_indices = np.arange(length)\n",
    "np.random.shuffle(data_indices)\n",
    "\n",
    "split_index = int(length * train_percentage)\n",
    "train_indices = data_indices[:split_index]\n",
    "test_indices = data_indices[split_index:]\n",
    "\n",
    "# train word2vec\n",
    "model = gensim.models.Word2Vec(\n",
    "    sentences=[reviews_data[\"text\"][i] for i in train_indices],\n",
    "    vector_size=vector_size,\n",
    "    window=5,\n",
    "    min_count=1,\n",
    "    workers=4,\n",
    ")\n",
    "wv = model.wv\n",
    "\n",
    "# wv = gensim.downloader.load(\"glove-wiki-gigaword-50\")\n",
    "\n",
    "# convert text to feature vectors\n",
    "data_vectors = np.array([\n",
    "    wv.get_mean_vector(\n",
    "        text,\n",
    "        ignore_missing=True,\n",
    "    )\n",
    "    for text in reviews_data[\"text\"]\n",
    "])\n",
    "\n",
    "# train regressor\n",
    "regressor = sklearn.linear_model.SGDClassifier()\n",
    "regressor.fit(\n",
    "    data_vectors[train_indices],\n",
    "    reviews_data[\"sentiment\"][train_indices],\n",
    ")\n",
    "\n",
    "# test regressor\n",
    "predicted = regressor.predict(data_vectors[test_indices])\n",
    "\n",
    "sklearn.metrics.accuracy_score(\n",
    "    reviews_data[\"sentiment\"][test_indices],\n",
    "    predicted,\n",
    ")"
   ]
  },
  {
   "cell_type": "markdown",
   "id": "026b7c58-7c10-4cae-b545-b6d1db4a2c4b",
   "metadata": {},
   "source": [
    "### Nesupervizat"
   ]
  },
  {
   "cell_type": "code",
   "execution_count": null,
   "id": "461a13bf-db7e-4750-80dd-be063efa4ecc",
   "metadata": {},
   "outputs": [],
   "source": [
    "vector_size = 20\n",
    "train_percentage = 0.80\n",
    "length = len(reviews_data[\"text\"])\n",
    "\n",
    "data_indices = list(range(length))\n",
    "random.shuffle(data_indices)\n",
    "\n",
    "split_index = int(length * train_percentage)\n",
    "train_indices = data_indices[:split_index]\n",
    "test_indices = data_indices[split_index:]\n",
    "\n",
    "model = gensim.models.Word2Vec(\n",
    "    sentences=[reviews_data[\"text\"][i] for i in train_indices],\n",
    "    vector_size=vector_size,\n",
    "    window=5,\n",
    "    min_count=1,\n",
    "    workers=4,\n",
    ")\n",
    "wv = model.wv\n",
    "\n",
    "# wv = gensim.downloader.load(\"glove-wiki-gigaword-50\")\n",
    "\n",
    "test_vectors = np.zeros((len(test_indices), vector_size))\n",
    "\n",
    "for i in range(len(test_indices)):\n",
    "    test_index = test_indices[i]\n",
    "    text = reviews_data[\"text\"][test_index]\n",
    "    \n",
    "    vector = wv.get_mean_vector(text, ignore_missing=True)\n",
    "    test_vectors[i] = vector\n",
    "\n",
    "# print(wv[\"large\"], wv[\"small\"])\n",
    "    \n",
    "centroids = kmeans(2, test_vectors)\n",
    "# centroids = kmeans(2, test_vectors, centroids_init=np.array([wv[\"small\"], wv[\"large\"]]))\n",
    "centroid_indices = nearest_neighbor(centroids, test_vectors)\n",
    "\n",
    "sklearn.metrics.accuracy_score(reviews_data[\"sentiment\"][test_indices], centroid_indices)"
   ]
  },
  {
   "cell_type": "markdown",
   "id": "b153f6ca-2b15-44e3-bd5c-61a251a668fd",
   "metadata": {},
   "source": [
    "### Hibrid"
   ]
  },
  {
   "cell_type": "code",
   "execution_count": 18,
   "id": "7293262e-6d10-4388-80ac-0c6319eadbec",
   "metadata": {},
   "outputs": [],
   "source": [
    "positive_words = {\n",
    "    \"good\", \"comfy\", \"comfortable\", \"large\", \"awesome\", \"excellent\",\n",
    "    \"clean\", \"fast\", \"quiet\",\n",
    "}\n",
    "negative_words = {\n",
    "    \"poor\", \"terrible\", \"small\", \"uncomfortable\", \"tiny\", \"slow\",\n",
    "    \"noisy\",\n",
    "}\n",
    "\n",
    "def get_extra_feature(word: str) -> float:\n",
    "    if word in positive_words:\n",
    "        return 1\n",
    "    elif word in negative_words:\n",
    "        return -1\n",
    "    else:\n",
    "        return 0\n",
    "\n",
    "def get_extra_feature_mean(sentence: list[str]) -> float:\n",
    "    extra_feature = [\n",
    "        get_extra_feature(word) for word in sentence\n",
    "    ]\n",
    "    return sum(extra_feature) / len(extra_feature)"
   ]
  },
  {
   "cell_type": "code",
   "execution_count": 68,
   "id": "9f784b6a-c37a-4548-b726-7f7620f540f0",
   "metadata": {},
   "outputs": [
    {
     "data": {
      "text/plain": [
       "0.35714285714285715"
      ]
     },
     "execution_count": 68,
     "metadata": {},
     "output_type": "execute_result"
    }
   ],
   "source": [
    "vector_size = 20\n",
    "train_percentage = 0.80\n",
    "length = len(reviews_data[\"text\"])\n",
    "\n",
    "data_indices = list(range(length))\n",
    "random.shuffle(data_indices)\n",
    "\n",
    "split_index = int(length * train_percentage)\n",
    "train_indices = data_indices[:split_index]\n",
    "test_indices = data_indices[split_index:]\n",
    "\n",
    "model = gensim.models.Word2Vec(\n",
    "    sentences=[reviews_data[\"text\"][i] for i in train_indices],\n",
    "    vector_size=vector_size,\n",
    "    window=5,\n",
    "    min_count=1,\n",
    "    workers=4,\n",
    ")\n",
    "wv = model.wv\n",
    "\n",
    "# wv = gensim.downloader.load(\"glove-wiki-gigaword-50\")\n",
    "\n",
    "test_vectors = np.zeros((len(test_indices), vector_size+1))\n",
    "\n",
    "for i in range(len(test_indices)):\n",
    "    test_index = test_indices[i]\n",
    "    text = reviews_data[\"text\"][test_index]\n",
    "    \n",
    "    vector = wv.get_mean_vector(text, ignore_missing=True)\n",
    "    extra_feature = get_extra_feature_mean(text)\n",
    "    vector = np.append(vector, extra_feature)\n",
    "    test_vectors[i] = vector\n",
    "\n",
    "# print(wv[\"large\"], wv[\"small\"])\n",
    "    \n",
    "centroids = kmeans(2, test_vectors)\n",
    "# centroids = kmeans(2, test_vectors, centroids_init=np.array([wv[\"small\"], wv[\"large\"]]))\n",
    "centroid_indices = nearest_neighbor(centroids, test_vectors)\n",
    "\n",
    "sklearn.metrics.accuracy_score(reviews_data[\"sentiment\"][test_indices], centroid_indices)"
   ]
  },
  {
   "cell_type": "code",
   "execution_count": null,
   "id": "473ecd63-8998-4dff-8861-749ac6b243ec",
   "metadata": {},
   "outputs": [],
   "source": []
  }
 ],
 "metadata": {
  "kernelspec": {
   "display_name": "Python 3 (ipykernel)",
   "language": "python",
   "name": "python3"
  },
  "language_info": {
   "codemirror_mode": {
    "name": "ipython",
    "version": 3
   },
   "file_extension": ".py",
   "mimetype": "text/x-python",
   "name": "python",
   "nbconvert_exporter": "python",
   "pygments_lexer": "ipython3",
   "version": "3.10.8"
  }
 },
 "nbformat": 4,
 "nbformat_minor": 5
}
