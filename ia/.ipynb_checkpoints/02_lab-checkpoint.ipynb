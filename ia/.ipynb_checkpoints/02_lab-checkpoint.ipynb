{
 "cells": [
  {
   "cell_type": "markdown",
   "id": "e5f6431d-c9fd-4667-bd32-d0911b2c86c8",
   "metadata": {},
   "source": [
    "$a_i=\\text{percentage of edges which have one ending in module i}$ \\\n",
    "$e_{ij}=\\text{percentage of edges between modules i and j}$"
   ]
  },
  {
   "cell_type": "markdown",
   "id": "da96b88e-b834-4ad7-bde7-2924b5d17fd3",
   "metadata": {},
   "source": [
    "all nodes start in their own community \\\n",
    "calculate $\\Delta Q=e_{ij}+e_{ji}-2a_ia_j$ for all communities between which there are edges \\\n",
    "choose the maximum and join the communities \\\n",
    "update $e_{ij}$ and $a_i$ for joined communities"
   ]
  },
  {
   "cell_type": "code",
   "execution_count": 22,
   "id": "bfd54e21-29d8-4270-86f0-c1a7850f9f00",
   "metadata": {},
   "outputs": [
    {
     "ename": "SyntaxError",
     "evalue": "closing parenthesis '}' does not match opening parenthesis '[' (1973149806.py, line 42)",
     "output_type": "error",
     "traceback": [
      "\u001b[0;36m  Input \u001b[0;32mIn [22]\u001b[0;36m\u001b[0m\n\u001b[0;31m    delta_modularity = e[(a_root,b_root)] + e[(b_root,a_root)] + 2*a[a_root]*a[b_root}\u001b[0m\n\u001b[0m                                                                                     ^\u001b[0m\n\u001b[0;31mSyntaxError\u001b[0m\u001b[0;31m:\u001b[0m closing parenthesis '}' does not match opening parenthesis '['\n"
     ]
    }
   ],
   "source": [
    "import networkx\n",
    "\n",
    "class DisjointSet:\n",
    "    def __init__(self):\n",
    "        self.__inner = {}\n",
    "    \n",
    "    def root(self, a):\n",
    "        if not a in self.__inner:\n",
    "            self.__inner[a] = a\n",
    "        \n",
    "        if a != self.__inner[a]:\n",
    "            self.__inner[a] = self.root(self.__inner[a])\n",
    "        \n",
    "        return self.__inner[a]\n",
    "    \n",
    "    def union(self, a, b):\n",
    "        a = self.root(a)\n",
    "        b = self.root(b)\n",
    "        self.__inner[b] = a\n",
    "    \n",
    "    def find(self, a, b):\n",
    "        return self.root(a) == self.root(b)\n",
    "\n",
    "a = networkx.read_gml(\"./02_lab/dolphins/dolphins.gml\")\n",
    "networkx.draw(a)\n",
    "# print(a.edges)\n",
    "\n",
    "def solve(graph: networkx.classes.graph.Graph):\n",
    "    ds = DisjointSet()\n",
    "    e = { edge:1/len(graph.edges) for edge in graph.edges }\n",
    "    a = { node:0 for node in graph.nodes }\n",
    "    for edge_a, edge_b in graph.edges:\n",
    "        a[edge_a] += 1\n",
    "        a[edge_b] += 1\n",
    "    a = { key:value/len(graph.edges) for key,value in a.items() }\n",
    "    \n",
    "    remaining_edges = list(graph.edges)\n",
    "    while True:\n",
    "        for edge_a, edge_b in remaining_edges:\n",
    "            a_root = ds.root(edge_a)\n",
    "            b_root = ds.root(edge_b)\n",
    "            delta_modularity = e[(a_root,b_root)] + e[(b_root,a_root)] + 2*a[a_root]*a[b_root]\n",
    "            print(delta_modularity)\n",
    "        break\n",
    "    print(e)\n",
    "    pass\n",
    "\n",
    "solve(a)"
   ]
  }
 ],
 "metadata": {
  "kernelspec": {
   "display_name": "Python 3 (ipykernel)",
   "language": "python",
   "name": "python3"
  },
  "language_info": {
   "codemirror_mode": {
    "name": "ipython",
    "version": 3
   },
   "file_extension": ".py",
   "mimetype": "text/x-python",
   "name": "python",
   "nbconvert_exporter": "python",
   "pygments_lexer": "ipython3",
   "version": "3.10.8"
  }
 },
 "nbformat": 4,
 "nbformat_minor": 5
}
