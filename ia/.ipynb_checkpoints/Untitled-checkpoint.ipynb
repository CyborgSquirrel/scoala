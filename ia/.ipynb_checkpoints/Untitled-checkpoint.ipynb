{
 "cells": [
  {
   "cell_type": "markdown",
   "id": "1d65fdf2-1dfb-41e9-80b7-3be09a197c0a",
   "metadata": {},
   "source": [
    "GGGGG_WWWWW\n",
    "GGGG_GWWWWW\n",
    "GGG_GGWWWWW"
   ]
  },
  {
   "cell_type": "code",
   "execution_count": 7,
   "id": "381764b2-458c-4b7f-8122-1a4af807d486",
   "metadata": {},
   "outputs": [
    {
     "name": "stdout",
     "output_type": "stream",
     "text": [
      "WWWWW_GGGGG\n",
      "WWWWWG_GGGG\n",
      "WWWW_GWGGGG\n",
      "WWW_WGWGGGG\n",
      "WWWGW_WGGGG\n",
      "WWWGWGW_GGG\n",
      "WWWGWGWG_GG\n",
      "WWWGWG_GWGG\n",
      "WWWG_GWGWGG\n",
      "WW_GWGWGWGG\n",
      "W_WGWGWGWGG\n",
      "WGW_WGWGWGG\n",
      "WGWGW_WGWGG\n",
      "WGWGWGW_WGG\n",
      "WGWGWGWGW_G\n",
      "WGWGWGWGWG_\n",
      "WGWGWGWG_GW\n",
      "WGWGWG_GWGW\n",
      "WGWG_GWGWGW\n",
      "WG_GWGWGWGW\n",
      "_GWGWGWGWGW\n",
      "G_WGWGWGWGW\n",
      "GGW_WGWGWGW\n",
      "GGWGW_WGWGW\n",
      "GGWGWGW_WGW\n",
      "GGWGWGWGW_W\n",
      "GGWGWGWG_WW\n",
      "GGWGWG_GWWW\n",
      "GGWG_GWGWWW\n",
      "GG_GWGWGWWW\n",
      "GGG_WGWGWWW\n",
      "GGGGW_WGWWW\n",
      "GGGGWGW_WWW\n",
      "GGGGWG_WWWW\n",
      "GGGG_GWWWWW\n",
      "GGGGG_WWWWW\n"
     ]
    },
    {
     "ename": "KeyError",
     "evalue": "None",
     "output_type": "error",
     "traceback": [
      "\u001b[0;31m---------------------------------------------------------------------------\u001b[0m",
      "\u001b[0;31mKeyError\u001b[0m                                  Traceback (most recent call last)",
      "Input \u001b[0;32mIn [7]\u001b[0m, in \u001b[0;36m<cell line: 47>\u001b[0;34m()\u001b[0m\n\u001b[1;32m     47\u001b[0m \u001b[38;5;28;01mwhile\u001b[39;00m state \u001b[38;5;241m!=\u001b[39m \u001b[38;5;28;01mNone\u001b[39;00m:\n\u001b[1;32m     48\u001b[0m     \u001b[38;5;28mprint\u001b[39m(state\u001b[38;5;241m.\u001b[39mvalue)\n\u001b[0;32m---> 49\u001b[0m     state \u001b[38;5;241m=\u001b[39m states[state\u001b[38;5;241m.\u001b[39mprevious]\n",
      "\u001b[0;31mKeyError\u001b[0m: None"
     ]
    }
   ],
   "source": [
    "import dataclasses\n",
    "import typing\n",
    "\n",
    "state = \"GGGGG_WWWWW\"\n",
    "@dataclasses.dataclass\n",
    "class State:\n",
    "    value: str\n",
    "    previous: typing.Optional[str]\n",
    "\n",
    "def key(state: State):\n",
    "    return state.value\n",
    "    \n",
    "states = {}\n",
    "def bt(state: State):\n",
    "    if not key(state) in states:\n",
    "        states[key(state)] = state\n",
    "        value = list(state.value)\n",
    "        space_index = value.index(\"_\")\n",
    "        new_values = []\n",
    "        if space_index-1>=0 and value[space_index-1] == \"G\":\n",
    "            new_value = value.copy()\n",
    "            new_value[space_index-1] = \"_\"\n",
    "            new_value[space_index] = \"G\"\n",
    "            new_values.append(\"\".join(new_value))\n",
    "        if space_index-2>=0 and value[space_index-2] == \"G\":\n",
    "            new_value = value.copy()\n",
    "            new_value[space_index-2] = \"_\"\n",
    "            new_value[space_index] = \"G\"\n",
    "            new_values.append(\"\".join(new_value))\n",
    "        if space_index+1<len(value) and value[space_index+1] == \"W\":\n",
    "            new_value = value.copy()\n",
    "            new_value[space_index+1] = \"_\"\n",
    "            new_value[space_index] = \"W\"\n",
    "            new_values.append(\"\".join(new_value))\n",
    "        if space_index+2<len(value) and value[space_index+2] == \"W\":\n",
    "            new_value = value.copy()\n",
    "            new_value[space_index+2] = \"_\"\n",
    "            new_value[space_index] = \"W\"\n",
    "            new_values.append(\"\".join(new_value))\n",
    "        \n",
    "        for new_value in new_values:\n",
    "            bt(State(new_value, \"\".join(value)))\n",
    "\n",
    "bt(State(state, None))\n",
    "\n",
    "state = states[\"WWWWW_GGGGG\"]\n",
    "while state != None:\n",
    "    print(state.value)\n",
    "    state = states[state.previous]"
   ]
  }
 ],
 "metadata": {
  "kernelspec": {
   "display_name": "Python 3 (ipykernel)",
   "language": "python",
   "name": "python3"
  },
  "language_info": {
   "codemirror_mode": {
    "name": "ipython",
    "version": 3
   },
   "file_extension": ".py",
   "mimetype": "text/x-python",
   "name": "python",
   "nbconvert_exporter": "python",
   "pygments_lexer": "ipython3",
   "version": "3.10.8"
  }
 },
 "nbformat": 4,
 "nbformat_minor": 5
}
