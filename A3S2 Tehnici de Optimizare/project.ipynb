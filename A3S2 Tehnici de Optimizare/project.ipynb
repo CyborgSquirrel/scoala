{
 "cells": [
  {
   "cell_type": "code",
   "execution_count": 1,
   "id": "b0fcb2fa-84dc-429e-a830-aa71224f1726",
   "metadata": {},
   "outputs": [],
   "source": [
    "import numpy as np\n",
    "import matplotlib.pyplot as plt\n",
    "from IPython.display import Markdown, display\n",
    "import ipywidgets"
   ]
  },
  {
   "cell_type": "code",
   "execution_count": 2,
   "id": "983df43f-94cb-4a89-b57c-5de813c3b779",
   "metadata": {},
   "outputs": [],
   "source": [
    "def same(*args):\n",
    "    for arg in args:\n",
    "        assert args[0] == arg\n",
    "    return args[0]"
   ]
  },
  {
   "cell_type": "markdown",
   "id": "721d15cf-4abc-4edb-b8b2-ec92eb6c543d",
   "metadata": {},
   "source": [
    "> **Note:**\n",
    "> In cod, am folosit tabele indexate de la 0, insa in formule am folosit indexare de la 1. Deci $A^1$ se regaseste in `A[:,0]`, iar $\\alpha_{0,0}$ se regaseste in `alpha[(-1,-1)]`"
   ]
  },
  {
   "cell_type": "markdown",
   "id": "f8ab9b9b-19bd-40e9-931c-a2df336bf92f",
   "metadata": {},
   "source": [
    "Rezolvam urmatoarea problema de optimizare, prin algoritmul simplex primal:"
   ]
  },
  {
   "cell_type": "markdown",
   "id": "71dd575a-a04a-4752-954c-ac1b452e9898",
   "metadata": {},
   "source": [
    "$$\n",
    "(P)\n",
    "\\begin{cases}\n",
    "f(x)=x_1+2x_2+2x_3-3x_4 \\rightarrow \\text{min} \\\\\n",
    "x_1-2x_2-4x_3=6 \\\\\n",
    "x_2+3x_3+x_4=8 \\\\\n",
    "x_1,x_2,x_3,x_4\\ge0 \\\\\n",
    "\\end{cases}\n",
    "$$"
   ]
  },
  {
   "cell_type": "markdown",
   "id": "3780a479-4cfd-42b5-b5a1-1412712ded3f",
   "metadata": {},
   "source": [
    "Mai intai, extragem $c$, $b$, si $A$."
   ]
  },
  {
   "cell_type": "code",
   "execution_count": 3,
   "id": "bc61dc0c-9b2e-417a-bf24-6f4dfb0fa2ce",
   "metadata": {},
   "outputs": [
    {
     "data": {
      "text/plain": [
       "array([ 1,  2,  2, -3])"
      ]
     },
     "execution_count": 3,
     "metadata": {},
     "output_type": "execute_result"
    }
   ],
   "source": [
    "c = np.array([1, 2, 2, -3])\n",
    "c"
   ]
  },
  {
   "cell_type": "code",
   "execution_count": 4,
   "id": "23d61c77-e071-4497-adc5-876b0ec2703c",
   "metadata": {},
   "outputs": [
    {
     "data": {
      "text/plain": [
       "array([[6],\n",
       "       [8]])"
      ]
     },
     "execution_count": 4,
     "metadata": {},
     "output_type": "execute_result"
    }
   ],
   "source": [
    "b = np.array([[6], [8]])\n",
    "b"
   ]
  },
  {
   "cell_type": "code",
   "execution_count": 5,
   "id": "e818f49d-1aba-4137-b207-f950b7ebadbe",
   "metadata": {},
   "outputs": [
    {
     "data": {
      "text/plain": [
       "array([[ 1, -2, -4,  0],\n",
       "       [ 0,  1,  3,  1]])"
      ]
     },
     "execution_count": 5,
     "metadata": {},
     "output_type": "execute_result"
    }
   ],
   "source": [
    "A = np.array([\n",
    "    [1, -2, -4, 0],\n",
    "    [0, 1, 3, 1],\n",
    "])\n",
    "A"
   ]
  },
  {
   "cell_type": "code",
   "execution_count": null,
   "id": "06b15959-4d6c-45b3-ac1f-94e672541bdf",
   "metadata": {},
   "outputs": [],
   "source": [
    "Js = [0, 3]"
   ]
  },
  {
   "cell_type": "markdown",
   "id": "cfc1d7e1-a2d2-442f-95db-9aa260d88eed",
   "metadata": {},
   "source": [
    "$A^1$ este prima baza, iar $A^4$ este cea de-a doua."
   ]
  },
  {
   "cell_type": "code",
   "execution_count": 17,
   "id": "f27ee4a4-f43b-41d2-8a79-7dfbc8b5142e",
   "metadata": {},
   "outputs": [],
   "source": [
    "c = np.array([-4, -2, 0, 0, 0])\n",
    "A = np.array([\n",
    "    [1, 2, 1, 0, 0],\n",
    "    [3, 0, 0, 1, 0],\n",
    "    [0, 1, 0, 0, 1],\n",
    "])\n",
    "b = np.array([[6], [8], [4]])\n",
    "Js = [2, 3, 4]"
   ]
  },
  {
   "cell_type": "code",
   "execution_count": 26,
   "id": "4fa99e57-635e-498f-b7df-0d3d727c5783",
   "metadata": {},
   "outputs": [],
   "source": [
    "def generate_table(Is, Js, alpha):\n",
    "    Is = list(Is)\n",
    "    Js = list(Js)\n",
    "    \n",
    "    table = []\n",
    "    for i in [\"head\"] + Is + [-1]:\n",
    "        table.append(\"|\")\n",
    "        for j in [\"head\"] + Js + [-1]:\n",
    "            match (i, j):\n",
    "                case (\"head\", \"head\"):\n",
    "                    table.append(\" 1 \")\n",
    "                case (\"head\", -1):\n",
    "                    table.append(\" X \")\n",
    "                case (-1, \"head\"):\n",
    "                    table.append(\" b \")\n",
    "                case (\"head\", val):\n",
    "                    table.append(f\" $A^{val+1}$ \")\n",
    "                case (val, \"head\"):\n",
    "                    table.append(f\" $A^{val+1}$ \")\n",
    "                case _:\n",
    "                    table.append(f\" $\\\\alpha_{{{i+1},{j+1}}}={alpha[(i,j)]}$ \")\n",
    "            table.append(\"|\")\n",
    "    \n",
    "        if i == \"head\":\n",
    "            table.append(\"\\n\")\n",
    "            table.append(\"|\")\n",
    "            for i in [\"head\"] + Js + [-1]:\n",
    "                table.append(\"---|\")\n",
    "        \n",
    "        table.append(\"\\n\")\n",
    "    table = \"\".join(table)\n",
    "    table = Markdown(table)\n",
    "    return table"
   ]
  },
  {
   "cell_type": "code",
   "execution_count": 28,
   "id": "58c44b98-1f61-44c5-aeff-f323c0d17a68",
   "metadata": {},
   "outputs": [
    {
     "data": {
      "text/markdown": [
       "| 1 | $A^3$ | $A^4$ | $A^5$ | X |\n",
       "|---|---|---|---|---|\n",
       "| $A^1$ | $\\alpha_{1,3}=1$ | $\\alpha_{1,4}=3$ | $\\alpha_{1,5}=0$ | $\\alpha_{1,0}=4$ |\n",
       "| $A^2$ | $\\alpha_{2,3}=2$ | $\\alpha_{2,4}=0$ | $\\alpha_{2,5}=1$ | $\\alpha_{2,0}=2$ |\n",
       "| b | $\\alpha_{0,3}=6$ | $\\alpha_{0,4}=8$ | $\\alpha_{0,5}=4$ | $\\alpha_{0,0}=0$ |\n"
      ],
      "text/plain": [
       "<IPython.core.display.Markdown object>"
      ]
     },
     "metadata": {},
     "output_type": "display_data"
    },
    {
     "data": {
      "text/markdown": [
       "| 1 | $A^1$ | $A^3$ | $A^5$ | X |\n",
       "|---|---|---|---|---|\n",
       "| $A^2$ | $\\alpha_{2,1}=0.0$ | $\\alpha_{2,3}=2.0$ | $\\alpha_{2,5}=1.0$ | $\\alpha_{2,0}=2.0$ |\n",
       "| $A^4$ | $\\alpha_{4,1}=0.3333333333333333$ | $\\alpha_{4,3}=-0.3333333333333333$ | $\\alpha_{4,5}=-0.0$ | $\\alpha_{4,0}=-1.3333333333333333$ |\n",
       "| b | $\\alpha_{0,1}=2.6666666666666665$ | $\\alpha_{0,3}=3.3333333333333335$ | $\\alpha_{0,5}=4.0$ | $\\alpha_{0,0}=-10.666666666666666$ |\n"
      ],
      "text/plain": [
       "<IPython.core.display.Markdown object>"
      ]
     },
     "metadata": {},
     "output_type": "display_data"
    },
    {
     "data": {
      "text/markdown": [
       "| 1 | $A^1$ | $A^2$ | $A^5$ | X |\n",
       "|---|---|---|---|---|\n",
       "| $A^3$ | $\\alpha_{3,1}=-0.0$ | $\\alpha_{3,2}=0.5$ | $\\alpha_{3,5}=-0.5$ | $\\alpha_{3,0}=-1.0$ |\n",
       "| $A^4$ | $\\alpha_{4,1}=0.3333333333333333$ | $\\alpha_{4,2}=-0.16666666666666666$ | $\\alpha_{4,5}=0.16666666666666666$ | $\\alpha_{4,0}=-1.0$ |\n",
       "| b | $\\alpha_{0,1}=2.6666666666666665$ | $\\alpha_{0,2}=1.6666666666666667$ | $\\alpha_{0,5}=2.333333333333333$ | $\\alpha_{0,0}=-14.0$ |\n"
      ],
      "text/plain": [
       "<IPython.core.display.Markdown object>"
      ]
     },
     "metadata": {},
     "output_type": "display_data"
    },
    {
     "data": {
      "text/plain": [
       "-14.0"
      ]
     },
     "execution_count": 28,
     "metadata": {},
     "output_type": "execute_result"
    }
   ],
   "source": [
    "def simplex_primal(A, b, c, Js):\n",
    "    same(2, len(A.shape), len(b.shape))\n",
    "    same(1, len(c.shape))\n",
    "\n",
    "    n = same(A.shape[1], c.shape[0])\n",
    "    m = same(A.shape[0], b.shape[0])\n",
    "\n",
    "    Js = set(Js)\n",
    "    Is = set(range(n)) - Js\n",
    "\n",
    "    # compute alpha\n",
    "    alpha = dict()\n",
    "\n",
    "    for i in Is:\n",
    "        for j, val in zip(Js, A[:, i]):\n",
    "            alpha[(i, j)] = val\n",
    "    \n",
    "    for j, val in zip(Js, b[:, 0]):\n",
    "        alpha[(-1, j)] = val\n",
    "        \n",
    "    for i in Is:\n",
    "        alpha[(i, -1)] = sum(\n",
    "            alpha[(i, j)]*c[j]\n",
    "            for j in Js\n",
    "        ) - c[i]\n",
    "        \n",
    "    alpha[(-1, -1)] = sum(alpha[(-1, j)]*c[j] for j in Js)\n",
    "        \n",
    "    while True:\n",
    "        display(generate_table(Is, Js, alpha))\n",
    "        \n",
    "        Isp = []\n",
    "        for i in Is:\n",
    "            if alpha[(i, -1)] > 0:\n",
    "                Isp.append(i)\n",
    "\n",
    "        # found optimal solution\n",
    "        if len(Isp) == 0:\n",
    "            return alpha[(-1, -1)]\n",
    "\n",
    "        for i in Isp:\n",
    "            fail = all(alpha[(i, k)] <= 0 for k in Js)\n",
    "            if fail:\n",
    "                raise RuntimeError(\"Function does not have lower bound, hence the problem has no solutions.\")\n",
    "\n",
    "        h = Isp[0]\n",
    "\n",
    "        k = min(\n",
    "            (j for j in Js if alpha[(h, j)] > 0),\n",
    "            key=lambda j: alpha[(-1, j)] / alpha[(h, j)],\n",
    "        )\n",
    "\n",
    "        p = alpha[(h, k)]\n",
    "\n",
    "        new_alpha = dict()\n",
    "        for i in Is.union({-1}):\n",
    "            for j in Js.union({-1}):\n",
    "                match (i == h, j == k):\n",
    "                    case (True, True):\n",
    "                        new_alpha[(k, h)] = 1 / p\n",
    "                    case (True, False):\n",
    "                        new_alpha[(k, j)] = -(alpha[(i, j)] / p)\n",
    "                    case (False, True):\n",
    "                        new_alpha[(i, h)] = alpha[(i, j)] / p\n",
    "                    case _:\n",
    "                        new_alpha[(i, j)] = alpha[(i, j)] - alpha[(h, j)] * alpha[(i, k)] / p\n",
    "        alpha = new_alpha\n",
    "        \n",
    "        Is.remove(h)\n",
    "        Is.add(k)\n",
    "        \n",
    "        Js.remove(k)\n",
    "        Js.add(h)\n",
    "\n",
    "\n",
    "simplex_primal(A, b, c, Js)"
   ]
  },
  {
   "cell_type": "markdown",
   "id": "5c20dca6-04db-4e8e-a0f6-78a15e2a9c98",
   "metadata": {},
   "source": [
    "$\\alpha_{0,1}=6\\ge0$ si $\\alpha_{0,4}=8\\ge0$ $\\Rightarrow$ baza primal admisibila \\\n",
    "$\\alpha_{2,0}=-1\\le0$ si $\\alpha_{3,0}=-15\\le0$ $\\Rightarrow$ baza primal admisibila \\\n",
    "$\\Rightarrow$ $B$ este baza optima pentru problema $(P)$ \\\n",
    "$\\Rightarrow$ valoarea minima a lui $f$ este $\\alpha_{0,0}=-18$ \\\n",
    "obtinuta prin $x=(x_1,x_2,x_3,x_4)=(6,0,0,8)$"
   ]
  },
  {
   "cell_type": "markdown",
   "id": "c545ba7b-3fd2-4cae-ad54-e03654d55db0",
   "metadata": {},
   "source": [
    "verificare:"
   ]
  },
  {
   "cell_type": "code",
   "execution_count": 10,
   "id": "0feb61e2-139a-413b-ba50-fb4797e30817",
   "metadata": {},
   "outputs": [],
   "source": [
    "def f(x):\n",
    "    return np.sum(x * c)"
   ]
  },
  {
   "cell_type": "code",
   "execution_count": 11,
   "id": "32cd1bac-cce7-4438-ac45-699d63085977",
   "metadata": {},
   "outputs": [
    {
     "ename": "ValueError",
     "evalue": "operands could not be broadcast together with shapes (4,) (5,) ",
     "output_type": "error",
     "traceback": [
      "\u001b[0;31m---------------------------------------------------------------------------\u001b[0m",
      "\u001b[0;31mValueError\u001b[0m                                Traceback (most recent call last)",
      "Cell \u001b[0;32mIn[11], line 1\u001b[0m\n\u001b[0;32m----> 1\u001b[0m \u001b[43mf\u001b[49m\u001b[43m(\u001b[49m\u001b[43mnp\u001b[49m\u001b[38;5;241;43m.\u001b[39;49m\u001b[43marray\u001b[49m\u001b[43m(\u001b[49m\u001b[43m[\u001b[49m\u001b[38;5;241;43m6\u001b[39;49m\u001b[43m,\u001b[49m\u001b[43m \u001b[49m\u001b[38;5;241;43m0\u001b[39;49m\u001b[43m,\u001b[49m\u001b[43m \u001b[49m\u001b[38;5;241;43m0\u001b[39;49m\u001b[43m,\u001b[49m\u001b[43m \u001b[49m\u001b[38;5;241;43m8\u001b[39;49m\u001b[43m]\u001b[49m\u001b[43m)\u001b[49m\u001b[43m)\u001b[49m\n",
      "Cell \u001b[0;32mIn[10], line 2\u001b[0m, in \u001b[0;36mf\u001b[0;34m(x)\u001b[0m\n\u001b[1;32m      1\u001b[0m \u001b[38;5;28;01mdef\u001b[39;00m \u001b[38;5;21mf\u001b[39m(x):\n\u001b[0;32m----> 2\u001b[0m     \u001b[38;5;28;01mreturn\u001b[39;00m np\u001b[38;5;241m.\u001b[39msum(\u001b[43mx\u001b[49m\u001b[43m \u001b[49m\u001b[38;5;241;43m*\u001b[39;49m\u001b[43m \u001b[49m\u001b[43mc\u001b[49m)\n",
      "\u001b[0;31mValueError\u001b[0m: operands could not be broadcast together with shapes (4,) (5,) "
     ]
    }
   ],
   "source": [
    "f(np.array([6, 0, 0, 8]))"
   ]
  }
 ],
 "metadata": {
  "kernelspec": {
   "display_name": "Python 3 (ipykernel)",
   "language": "python",
   "name": "python3"
  },
  "language_info": {
   "codemirror_mode": {
    "name": "ipython",
    "version": 3
   },
   "file_extension": ".py",
   "mimetype": "text/x-python",
   "name": "python",
   "nbconvert_exporter": "python",
   "pygments_lexer": "ipython3",
   "version": "3.11.6"
  }
 },
 "nbformat": 4,
 "nbformat_minor": 5
}
